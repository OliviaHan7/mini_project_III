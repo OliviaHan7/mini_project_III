{
 "cells": [
  {
   "cell_type": "markdown",
   "metadata": {},
   "source": [
    "## Mini Project III"
   ]
  },
  {
   "cell_type": "markdown",
   "metadata": {},
   "source": [
    "***Task I***:\n",
    "* create two separate customer segmentations (using clustering) to split them into 3-5 clusters:\n",
    "    * based on demographics (only on the information from twm_customer)\n",
    "    * based on their banking behavior. \n",
    "        do they have savings account? How much do they save?\n",
    "        do they have credit account? How much do they live in debt?\n",
    "        are they making lot of small transactions or few huge ones?"
   ]
  },
  {
   "cell_type": "code",
   "execution_count": 577,
   "metadata": {},
   "outputs": [],
   "source": [
    "import numpy as np\n",
    "import pandas as pd\n",
    "import matplotlib.pyplot as plt\n",
    "import plotly.express as px\n",
    "from sklearn.cluster import KMeans\n",
    "import plotly.graph_objects as go\n",
    "from sklearn.decomposition import PCA\n",
    "import seaborn as sns"
   ]
  },
  {
   "cell_type": "markdown",
   "metadata": {},
   "source": [
    "### Demographics Cluster"
   ]
  },
  {
   "cell_type": "code",
   "execution_count": null,
   "metadata": {},
   "outputs": [],
   "source": [
    "df_customers = pd.read_csv(\"C:\\Users\\bevli\\Downloads\\mini-project-III\\twm_customer.csv\", sep = ';')\n",
    "df_customers.head()"
   ]
  },
  {
   "cell_type": "code",
   "execution_count": null,
   "metadata": {},
   "outputs": [],
   "source": [
    "df_customers.describe()\n"
   ]
  },
  {
   "cell_type": "code",
   "execution_count": null,
   "metadata": {},
   "outputs": [
    {
     "ename": "",
     "evalue": "",
     "output_type": "error",
     "traceback": [
      "\u001b[1;31mRunning cells with 'Python 3.8.9 64-bit' requires ipykernel package.\n",
      "Run the following command to install 'ipykernel' into the Python environment. \n",
      "Command: '/usr/bin/python3 -m pip install ipykernel -U --user --force-reinstall'"
     ]
    }
   ],
   "source": [
    "#check for null values\n",
    "df_customers.isna().sum()"
   ]
  },
  {
   "cell_type": "code",
   "execution_count": null,
   "metadata": {},
   "outputs": [],
   "source": [
    "#Convert marital status to categorical variable\n",
    "df_customers['marital_status']=df_customers['marital_status'].astype('category')\n",
    "df_customers"
   ]
  },
  {
   "cell_type": "code",
   "execution_count": null,
   "metadata": {},
   "outputs": [],
   "source": [
    "#columns for creating dummy variable\n",
    "encode = pd.get_dummies(df_customers[['income','age','years_with_bank','nbr_children','gender','marital_status']])\n",
    "encode"
   ]
  },
  {
   "cell_type": "code",
   "execution_count": null,
   "metadata": {},
   "outputs": [],
   "source": [
    "from sklearn.preprocessing import MinMaxScaler\n",
    "\n",
    "#perform scaling on datafram\n",
    "encode_scaled = MinMaxScaler().fit_transform(encode)\n",
    "encode_scaled = pd.DataFrame(encode_scaled, columns = encode.columns)\n",
    "encode_scaled"
   ]
  },
  {
   "cell_type": "code",
   "execution_count": null,
   "metadata": {},
   "outputs": [],
   "source": [
    "from sklearn.cluster import KMeans\n",
    "import matplotlib.pyplot as plt\n",
    "\n",
    "#elbow rule\n",
    "def plot_distortion(X,max_clusters = 10):\n",
    "    distortions = []\n",
    "    for i in range(1, max_clusters +1):\n",
    "        km = KMeans(n_clusters=i,\n",
    "                    n_init=10,\n",
    "                    randomstate=0)\n",
    "        km.fit(X)\n",
    "        distortions.append(km.inertia)\n",
    "\n",
    "    plt.plot(range(1,max_clusters +1), distortions, marker='o')\n",
    "    plt.xlabel('Number of clusters')\n",
    "    plt.ylabel('Distortion')\n",
    "    plt.show()"
   ]
  },
  {
   "cell_type": "code",
   "execution_count": null,
   "metadata": {},
   "outputs": [],
   "source": [
    "plot_distortion(encode_scaled)\n"
   ]
  },
  {
   "cell_type": "code",
   "execution_count": null,
   "metadata": {},
   "outputs": [],
   "source": [
    "#number of clusters to be taken as 4\n",
    "\n",
    "encode_scaled['clusters']= KMeans(n_clusters=4,\n",
    "            init = 'k-means++' # how many clusters we expected \n",
    "            n_init=10, # how many initial runs\n",
    "            random_state=0).fit_predict(encode_scaled)\n",
    "\n",
    "encode_scaled"
   ]
  },
  {
   "cell_type": "code",
   "execution_count": null,
   "metadata": {},
   "outputs": [],
   "source": [
    "#radar chart data\n",
    "df_radar = encode_scaled.groupby('clusters').mean().divide(encode_scaled.drop('clusters',axis=1).mean())*100\n",
    "df_radar"
   ]
  },
  {
   "cell_type": "code",
   "execution_count": null,
   "metadata": {},
   "outputs": [],
   "source": [
    "#Radar Chart\n",
    "# function that plots radar chart\n",
    "def plot_radarchart(df):\n",
    "    data = []\n",
    "    for i in range(0,len(df)):\n",
    "        data.append(go.Scatterpolar(r = df.iloc[i].values,\n",
    "                                    theta = df.iloc[i].index,\n",
    "                                    name = f'cluster{df.index[i]}',\n",
    "                                    fill = 'toself'))\n",
    "\n",
    "\n",
    "    layout = go.Layout(polar = dict(radialaxis = dict(visible = True)),\n",
    "                       showlegend = True)\n",
    "    fig = go.Figure(data = data, layout = layout)\n",
    "    fig.show()"
   ]
  },
  {
   "cell_type": "code",
   "execution_count": null,
   "metadata": {},
   "outputs": [],
   "source": [
    "plot_radar_chart(df_radar)\n"
   ]
  },
  {
   "cell_type": "code",
   "execution_count": null,
   "metadata": {},
   "outputs": [],
   "source": [
    "#Principal Component Analysis\n",
    "from sklearn.decomposition import PCA\n",
    "pca = PCA(n_components = 2)\n",
    "\n",
    "#fit pca model to dataframe\n",
    "principalcomponents = pca.fit_transform(encode_scaled)\n",
    "\n",
    "#transfrom data onto first two principal components\n",
    "principalDf = pd.DataFrame(data = principalcomponents, columns = ['principal components 1','principal component 2'])\n",
    "\n",
    "#assign clusters\n",
    "principalDf['clusters']=encode_scaled['clusters']\n",
    "\n",
    "principalDf"
   ]
  },
  {
   "cell_type": "code",
   "execution_count": null,
   "metadata": {},
   "outputs": [],
   "source": [
    "total_var = pca.explained_varianceratio.sum() * 100\n",
    "\n",
    "#plot principal components and clusters\n",
    "import plotly.express as px\n",
    "\n",
    "fig = px.scatter(principalcomponents,x=0, y=1,color = principalDf.clusters ,\n",
    "                        title = f'Total Explained Variance: {total_var:.2f}%')\n",
    "fig.show()"
   ]
  },
  {
   "cell_type": "code",
   "execution_count": null,
   "metadata": {},
   "outputs": [],
   "source": []
  },
  {
   "cell_type": "markdown",
   "metadata": {},
   "source": [
    "### A.Banking Behavior Cluster"
   ]
  },
  {
   "cell_type": "code",
   "execution_count": 578,
   "metadata": {},
   "outputs": [],
   "source": [
    "from sklearn.preprocessing import StandardScaler, MinMaxScaler\n",
    "from sklearn.cluster import KMeans\n",
    "from sklearn.decomposition import PCA"
   ]
  },
  {
   "cell_type": "markdown",
   "metadata": {},
   "source": [
    "### Account- Saving Account"
   ]
  },
  {
   "cell_type": "code",
   "execution_count": 579,
   "metadata": {},
   "outputs": [
    {
     "data": {
      "text/html": [
       "<div>\n",
       "<style scoped>\n",
       "    .dataframe tbody tr th:only-of-type {\n",
       "        vertical-align: middle;\n",
       "    }\n",
       "\n",
       "    .dataframe tbody tr th {\n",
       "        vertical-align: top;\n",
       "    }\n",
       "\n",
       "    .dataframe thead th {\n",
       "        text-align: right;\n",
       "    }\n",
       "</style>\n",
       "<table border=\"1\" class=\"dataframe\">\n",
       "  <thead>\n",
       "    <tr style=\"text-align: right;\">\n",
       "      <th></th>\n",
       "      <th>cust_id</th>\n",
       "      <th>acct_nbr</th>\n",
       "      <th>minimum_balance</th>\n",
       "      <th>acct_type</th>\n",
       "      <th>account_active</th>\n",
       "      <th>acct_start_date</th>\n",
       "      <th>acct_end_date</th>\n",
       "      <th>starting_balance</th>\n",
       "      <th>ending_balance</th>\n",
       "    </tr>\n",
       "  </thead>\n",
       "  <tbody>\n",
       "    <tr>\n",
       "      <th>0</th>\n",
       "      <td>1363160</td>\n",
       "      <td>13631603</td>\n",
       "      <td>100</td>\n",
       "      <td>BS</td>\n",
       "      <td>Y</td>\n",
       "      <td>9.5.1988</td>\n",
       "      <td>NaN</td>\n",
       "      <td>113.04</td>\n",
       "      <td>122.54</td>\n",
       "    </tr>\n",
       "    <tr>\n",
       "      <th>1</th>\n",
       "      <td>1362487</td>\n",
       "      <td>13624873</td>\n",
       "      <td>500</td>\n",
       "      <td>MM</td>\n",
       "      <td>N</td>\n",
       "      <td>27.6.1994</td>\n",
       "      <td>25.8.1995</td>\n",
       "      <td>651.73</td>\n",
       "      <td>12.89</td>\n",
       "    </tr>\n",
       "    <tr>\n",
       "      <th>2</th>\n",
       "      <td>1362548</td>\n",
       "      <td>13625483</td>\n",
       "      <td>100</td>\n",
       "      <td>BS</td>\n",
       "      <td>Y</td>\n",
       "      <td>11.11.1986</td>\n",
       "      <td>NaN</td>\n",
       "      <td>250.24</td>\n",
       "      <td>254.02</td>\n",
       "    </tr>\n",
       "    <tr>\n",
       "      <th>3</th>\n",
       "      <td>1362752</td>\n",
       "      <td>13627523</td>\n",
       "      <td>100</td>\n",
       "      <td>BS</td>\n",
       "      <td>Y</td>\n",
       "      <td>20.2.1995</td>\n",
       "      <td>NaN</td>\n",
       "      <td>600.26</td>\n",
       "      <td>609.33</td>\n",
       "    </tr>\n",
       "    <tr>\n",
       "      <th>4</th>\n",
       "      <td>1363017</td>\n",
       "      <td>13630173</td>\n",
       "      <td>100</td>\n",
       "      <td>BS</td>\n",
       "      <td>N</td>\n",
       "      <td>27.4.1994</td>\n",
       "      <td>31.10.1995</td>\n",
       "      <td>2011.02</td>\n",
       "      <td>2901.35</td>\n",
       "    </tr>\n",
       "  </tbody>\n",
       "</table>\n",
       "</div>"
      ],
      "text/plain": [
       "   cust_id  acct_nbr  minimum_balance acct_type account_active  \\\n",
       "0  1363160  13631603              100      BS               Y    \n",
       "1  1362487  13624873              500      MM               N    \n",
       "2  1362548  13625483              100      BS               Y    \n",
       "3  1362752  13627523              100      BS               Y    \n",
       "4  1363017  13630173              100      BS               N    \n",
       "\n",
       "  acct_start_date acct_end_date  starting_balance  ending_balance  \n",
       "0        9.5.1988           NaN            113.04          122.54  \n",
       "1       27.6.1994     25.8.1995            651.73           12.89  \n",
       "2      11.11.1986           NaN            250.24          254.02  \n",
       "3       20.2.1995           NaN            600.26          609.33  \n",
       "4       27.4.1994    31.10.1995           2011.02         2901.35  "
      ]
     },
     "execution_count": 579,
     "metadata": {},
     "output_type": "execute_result"
    }
   ],
   "source": [
    "df_saving=pd.read_csv('data/twm_savings_acct.csv',sep=';')\n",
    "df_saving.head()"
   ]
  },
  {
   "cell_type": "code",
   "execution_count": 580,
   "metadata": {},
   "outputs": [],
   "source": [
    "#saving amount\n",
    "df_saving['saving_amount']=df_saving['ending_balance']-df_saving['starting_balance']"
   ]
  },
  {
   "cell_type": "code",
   "execution_count": 581,
   "metadata": {},
   "outputs": [
    {
     "data": {
      "text/html": [
       "<div>\n",
       "<style scoped>\n",
       "    .dataframe tbody tr th:only-of-type {\n",
       "        vertical-align: middle;\n",
       "    }\n",
       "\n",
       "    .dataframe tbody tr th {\n",
       "        vertical-align: top;\n",
       "    }\n",
       "\n",
       "    .dataframe thead th {\n",
       "        text-align: right;\n",
       "    }\n",
       "</style>\n",
       "<table border=\"1\" class=\"dataframe\">\n",
       "  <thead>\n",
       "    <tr style=\"text-align: right;\">\n",
       "      <th></th>\n",
       "      <th>cust_id</th>\n",
       "      <th>acct_nbr</th>\n",
       "      <th>minimum_balance</th>\n",
       "      <th>acct_type</th>\n",
       "      <th>account_active</th>\n",
       "      <th>acct_start_date</th>\n",
       "      <th>acct_end_date</th>\n",
       "      <th>starting_balance</th>\n",
       "      <th>ending_balance</th>\n",
       "      <th>saving_amount</th>\n",
       "    </tr>\n",
       "  </thead>\n",
       "  <tbody>\n",
       "    <tr>\n",
       "      <th>0</th>\n",
       "      <td>1363160</td>\n",
       "      <td>13631603</td>\n",
       "      <td>100</td>\n",
       "      <td>BS</td>\n",
       "      <td>Y</td>\n",
       "      <td>9.5.1988</td>\n",
       "      <td>NaN</td>\n",
       "      <td>113.04</td>\n",
       "      <td>122.54</td>\n",
       "      <td>9.50</td>\n",
       "    </tr>\n",
       "    <tr>\n",
       "      <th>1</th>\n",
       "      <td>1362487</td>\n",
       "      <td>13624873</td>\n",
       "      <td>500</td>\n",
       "      <td>MM</td>\n",
       "      <td>N</td>\n",
       "      <td>27.6.1994</td>\n",
       "      <td>25.8.1995</td>\n",
       "      <td>651.73</td>\n",
       "      <td>12.89</td>\n",
       "      <td>-638.84</td>\n",
       "    </tr>\n",
       "    <tr>\n",
       "      <th>2</th>\n",
       "      <td>1362548</td>\n",
       "      <td>13625483</td>\n",
       "      <td>100</td>\n",
       "      <td>BS</td>\n",
       "      <td>Y</td>\n",
       "      <td>11.11.1986</td>\n",
       "      <td>NaN</td>\n",
       "      <td>250.24</td>\n",
       "      <td>254.02</td>\n",
       "      <td>3.78</td>\n",
       "    </tr>\n",
       "    <tr>\n",
       "      <th>3</th>\n",
       "      <td>1362752</td>\n",
       "      <td>13627523</td>\n",
       "      <td>100</td>\n",
       "      <td>BS</td>\n",
       "      <td>Y</td>\n",
       "      <td>20.2.1995</td>\n",
       "      <td>NaN</td>\n",
       "      <td>600.26</td>\n",
       "      <td>609.33</td>\n",
       "      <td>9.07</td>\n",
       "    </tr>\n",
       "    <tr>\n",
       "      <th>4</th>\n",
       "      <td>1363017</td>\n",
       "      <td>13630173</td>\n",
       "      <td>100</td>\n",
       "      <td>BS</td>\n",
       "      <td>N</td>\n",
       "      <td>27.4.1994</td>\n",
       "      <td>31.10.1995</td>\n",
       "      <td>2011.02</td>\n",
       "      <td>2901.35</td>\n",
       "      <td>890.33</td>\n",
       "    </tr>\n",
       "  </tbody>\n",
       "</table>\n",
       "</div>"
      ],
      "text/plain": [
       "   cust_id  acct_nbr  minimum_balance acct_type account_active  \\\n",
       "0  1363160  13631603              100      BS               Y    \n",
       "1  1362487  13624873              500      MM               N    \n",
       "2  1362548  13625483              100      BS               Y    \n",
       "3  1362752  13627523              100      BS               Y    \n",
       "4  1363017  13630173              100      BS               N    \n",
       "\n",
       "  acct_start_date acct_end_date  starting_balance  ending_balance  \\\n",
       "0        9.5.1988           NaN            113.04          122.54   \n",
       "1       27.6.1994     25.8.1995            651.73           12.89   \n",
       "2      11.11.1986           NaN            250.24          254.02   \n",
       "3       20.2.1995           NaN            600.26          609.33   \n",
       "4       27.4.1994    31.10.1995           2011.02         2901.35   \n",
       "\n",
       "   saving_amount  \n",
       "0           9.50  \n",
       "1        -638.84  \n",
       "2           3.78  \n",
       "3           9.07  \n",
       "4         890.33  "
      ]
     },
     "execution_count": 581,
     "metadata": {},
     "output_type": "execute_result"
    }
   ],
   "source": [
    "df_saving.head()"
   ]
  },
  {
   "cell_type": "code",
   "execution_count": 584,
   "metadata": {},
   "outputs": [
    {
     "data": {
      "text/html": [
       "<div>\n",
       "<style scoped>\n",
       "    .dataframe tbody tr th:only-of-type {\n",
       "        vertical-align: middle;\n",
       "    }\n",
       "\n",
       "    .dataframe tbody tr th {\n",
       "        vertical-align: top;\n",
       "    }\n",
       "\n",
       "    .dataframe thead th {\n",
       "        text-align: right;\n",
       "    }\n",
       "</style>\n",
       "<table border=\"1\" class=\"dataframe\">\n",
       "  <thead>\n",
       "    <tr style=\"text-align: right;\">\n",
       "      <th></th>\n",
       "      <th>cust_id</th>\n",
       "      <th>account_active</th>\n",
       "      <th>saving_amount</th>\n",
       "    </tr>\n",
       "  </thead>\n",
       "  <tbody>\n",
       "    <tr>\n",
       "      <th>0</th>\n",
       "      <td>1363160</td>\n",
       "      <td>Y</td>\n",
       "      <td>9.50</td>\n",
       "    </tr>\n",
       "    <tr>\n",
       "      <th>1</th>\n",
       "      <td>1362487</td>\n",
       "      <td>N</td>\n",
       "      <td>-638.84</td>\n",
       "    </tr>\n",
       "    <tr>\n",
       "      <th>2</th>\n",
       "      <td>1362548</td>\n",
       "      <td>Y</td>\n",
       "      <td>3.78</td>\n",
       "    </tr>\n",
       "    <tr>\n",
       "      <th>3</th>\n",
       "      <td>1362752</td>\n",
       "      <td>Y</td>\n",
       "      <td>9.07</td>\n",
       "    </tr>\n",
       "    <tr>\n",
       "      <th>4</th>\n",
       "      <td>1363017</td>\n",
       "      <td>N</td>\n",
       "      <td>890.33</td>\n",
       "    </tr>\n",
       "    <tr>\n",
       "      <th>...</th>\n",
       "      <td>...</td>\n",
       "      <td>...</td>\n",
       "      <td>...</td>\n",
       "    </tr>\n",
       "    <tr>\n",
       "      <th>416</th>\n",
       "      <td>1363141</td>\n",
       "      <td>Y</td>\n",
       "      <td>351.24</td>\n",
       "    </tr>\n",
       "    <tr>\n",
       "      <th>417</th>\n",
       "      <td>1363038</td>\n",
       "      <td>Y</td>\n",
       "      <td>174.73</td>\n",
       "    </tr>\n",
       "    <tr>\n",
       "      <th>418</th>\n",
       "      <td>1362529</td>\n",
       "      <td>Y</td>\n",
       "      <td>211.08</td>\n",
       "    </tr>\n",
       "    <tr>\n",
       "      <th>419</th>\n",
       "      <td>1362895</td>\n",
       "      <td>Y</td>\n",
       "      <td>-73.71</td>\n",
       "    </tr>\n",
       "    <tr>\n",
       "      <th>420</th>\n",
       "      <td>1362855</td>\n",
       "      <td>Y</td>\n",
       "      <td>-6.67</td>\n",
       "    </tr>\n",
       "  </tbody>\n",
       "</table>\n",
       "<p>421 rows × 3 columns</p>\n",
       "</div>"
      ],
      "text/plain": [
       "     cust_id account_active  saving_amount\n",
       "0    1363160             Y            9.50\n",
       "1    1362487             N         -638.84\n",
       "2    1362548             Y            3.78\n",
       "3    1362752             Y            9.07\n",
       "4    1363017             N          890.33\n",
       "..       ...            ...            ...\n",
       "416  1363141             Y          351.24\n",
       "417  1363038             Y          174.73\n",
       "418  1362529             Y          211.08\n",
       "419  1362895             Y          -73.71\n",
       "420  1362855             Y           -6.67\n",
       "\n",
       "[421 rows x 3 columns]"
      ]
     },
     "execution_count": 584,
     "metadata": {},
     "output_type": "execute_result"
    }
   ],
   "source": [
    "#extracting useful features\n",
    "selected_cols=['cust_id', 'account_active','saving_amount']\n",
    "saving_account=pd.DataFrame(df_saving[selected_cols])\n",
    "saving_account.fillna(0)"
   ]
  },
  {
   "cell_type": "code",
   "execution_count": 587,
   "metadata": {
    "scrolled": true
   },
   "outputs": [
    {
     "data": {
      "text/html": [
       "<div>\n",
       "<style scoped>\n",
       "    .dataframe tbody tr th:only-of-type {\n",
       "        vertical-align: middle;\n",
       "    }\n",
       "\n",
       "    .dataframe tbody tr th {\n",
       "        vertical-align: top;\n",
       "    }\n",
       "\n",
       "    .dataframe thead th {\n",
       "        text-align: right;\n",
       "    }\n",
       "</style>\n",
       "<table border=\"1\" class=\"dataframe\">\n",
       "  <thead>\n",
       "    <tr style=\"text-align: right;\">\n",
       "      <th></th>\n",
       "      <th>cust_id</th>\n",
       "      <th>account_active</th>\n",
       "      <th>saving_amount</th>\n",
       "    </tr>\n",
       "  </thead>\n",
       "  <tbody>\n",
       "    <tr>\n",
       "      <th>0</th>\n",
       "      <td>1363160</td>\n",
       "      <td>Y</td>\n",
       "      <td>9.50</td>\n",
       "    </tr>\n",
       "    <tr>\n",
       "      <th>1</th>\n",
       "      <td>1362487</td>\n",
       "      <td>N</td>\n",
       "      <td>-638.84</td>\n",
       "    </tr>\n",
       "    <tr>\n",
       "      <th>2</th>\n",
       "      <td>1362548</td>\n",
       "      <td>Y</td>\n",
       "      <td>3.78</td>\n",
       "    </tr>\n",
       "    <tr>\n",
       "      <th>3</th>\n",
       "      <td>1362752</td>\n",
       "      <td>Y</td>\n",
       "      <td>9.07</td>\n",
       "    </tr>\n",
       "    <tr>\n",
       "      <th>4</th>\n",
       "      <td>1363017</td>\n",
       "      <td>N</td>\n",
       "      <td>890.33</td>\n",
       "    </tr>\n",
       "  </tbody>\n",
       "</table>\n",
       "</div>"
      ],
      "text/plain": [
       "   cust_id account_active  saving_amount\n",
       "0  1363160             Y            9.50\n",
       "1  1362487             N         -638.84\n",
       "2  1362548             Y            3.78\n",
       "3  1362752             Y            9.07\n",
       "4  1363017             N          890.33"
      ]
     },
     "execution_count": 587,
     "metadata": {},
     "output_type": "execute_result"
    }
   ],
   "source": [
    "saving_account.head()"
   ]
  },
  {
   "cell_type": "code",
   "execution_count": 588,
   "metadata": {},
   "outputs": [
    {
     "data": {
      "text/plain": [
       "cust_id           0\n",
       "account_active    0\n",
       "saving_amount     0\n",
       "dtype: int64"
      ]
     },
     "execution_count": 588,
     "metadata": {},
     "output_type": "execute_result"
    }
   ],
   "source": [
    "saving_account.isnull().sum()"
   ]
  },
  {
   "cell_type": "markdown",
   "metadata": {},
   "source": [
    "### Account- Credit Account"
   ]
  },
  {
   "cell_type": "code",
   "execution_count": 589,
   "metadata": {},
   "outputs": [
    {
     "data": {
      "text/html": [
       "<div>\n",
       "<style scoped>\n",
       "    .dataframe tbody tr th:only-of-type {\n",
       "        vertical-align: middle;\n",
       "    }\n",
       "\n",
       "    .dataframe tbody tr th {\n",
       "        vertical-align: top;\n",
       "    }\n",
       "\n",
       "    .dataframe thead th {\n",
       "        text-align: right;\n",
       "    }\n",
       "</style>\n",
       "<table border=\"1\" class=\"dataframe\">\n",
       "  <thead>\n",
       "    <tr style=\"text-align: right;\">\n",
       "      <th></th>\n",
       "      <th>cust_id</th>\n",
       "      <th>acct_nbr</th>\n",
       "      <th>credit_limit</th>\n",
       "      <th>credit_rating</th>\n",
       "      <th>account_active</th>\n",
       "      <th>acct_start_date</th>\n",
       "      <th>acct_end_date</th>\n",
       "      <th>starting_balance</th>\n",
       "      <th>ending_balance</th>\n",
       "    </tr>\n",
       "  </thead>\n",
       "  <tbody>\n",
       "    <tr>\n",
       "      <th>0</th>\n",
       "      <td>1363160</td>\n",
       "      <td>4561143213631600</td>\n",
       "      <td>1000</td>\n",
       "      <td>0</td>\n",
       "      <td>Y</td>\n",
       "      <td>12.10.1988</td>\n",
       "      <td>NaN</td>\n",
       "      <td>657.46</td>\n",
       "      <td>286.69</td>\n",
       "    </tr>\n",
       "    <tr>\n",
       "      <th>1</th>\n",
       "      <td>1362487</td>\n",
       "      <td>4561143213624870</td>\n",
       "      <td>3000</td>\n",
       "      <td>0</td>\n",
       "      <td>Y</td>\n",
       "      <td>8.8.1995</td>\n",
       "      <td>NaN</td>\n",
       "      <td>0.00</td>\n",
       "      <td>1548.23</td>\n",
       "    </tr>\n",
       "    <tr>\n",
       "      <th>2</th>\n",
       "      <td>1362548</td>\n",
       "      <td>4561143213625480</td>\n",
       "      <td>6700</td>\n",
       "      <td>0</td>\n",
       "      <td>Y</td>\n",
       "      <td>11.11.1986</td>\n",
       "      <td>NaN</td>\n",
       "      <td>6965.25</td>\n",
       "      <td>68.68</td>\n",
       "    </tr>\n",
       "    <tr>\n",
       "      <th>3</th>\n",
       "      <td>1362752</td>\n",
       "      <td>4561143213627520</td>\n",
       "      <td>2400</td>\n",
       "      <td>0</td>\n",
       "      <td>N</td>\n",
       "      <td>9.10.1994</td>\n",
       "      <td>2.4.1995</td>\n",
       "      <td>2302.14</td>\n",
       "      <td>0.00</td>\n",
       "    </tr>\n",
       "    <tr>\n",
       "      <th>4</th>\n",
       "      <td>1363017</td>\n",
       "      <td>4561143213630170</td>\n",
       "      <td>1000</td>\n",
       "      <td>0</td>\n",
       "      <td>Y</td>\n",
       "      <td>8.2.1995</td>\n",
       "      <td>NaN</td>\n",
       "      <td>0.00</td>\n",
       "      <td>1000.00</td>\n",
       "    </tr>\n",
       "  </tbody>\n",
       "</table>\n",
       "</div>"
      ],
      "text/plain": [
       "   cust_id          acct_nbr  credit_limit  credit_rating account_active  \\\n",
       "0  1363160  4561143213631600          1000              0             Y    \n",
       "1  1362487  4561143213624870          3000              0             Y    \n",
       "2  1362548  4561143213625480          6700              0             Y    \n",
       "3  1362752  4561143213627520          2400              0             N    \n",
       "4  1363017  4561143213630170          1000              0             Y    \n",
       "\n",
       "  acct_start_date acct_end_date  starting_balance  ending_balance  \n",
       "0      12.10.1988           NaN            657.46          286.69  \n",
       "1        8.8.1995           NaN              0.00         1548.23  \n",
       "2      11.11.1986           NaN           6965.25           68.68  \n",
       "3       9.10.1994      2.4.1995           2302.14            0.00  \n",
       "4        8.2.1995           NaN              0.00         1000.00  "
      ]
     },
     "execution_count": 589,
     "metadata": {},
     "output_type": "execute_result"
    }
   ],
   "source": [
    "df=pd.read_csv('data/twm_credit_acct.csv',sep=';')\n",
    "df.head()"
   ]
  },
  {
   "cell_type": "code",
   "execution_count": 590,
   "metadata": {
    "scrolled": false
   },
   "outputs": [
    {
     "data": {
      "text/html": [
       "<div>\n",
       "<style scoped>\n",
       "    .dataframe tbody tr th:only-of-type {\n",
       "        vertical-align: middle;\n",
       "    }\n",
       "\n",
       "    .dataframe tbody tr th {\n",
       "        vertical-align: top;\n",
       "    }\n",
       "\n",
       "    .dataframe thead th {\n",
       "        text-align: right;\n",
       "    }\n",
       "</style>\n",
       "<table border=\"1\" class=\"dataframe\">\n",
       "  <thead>\n",
       "    <tr style=\"text-align: right;\">\n",
       "      <th></th>\n",
       "      <th>cust_id</th>\n",
       "      <th>account_active</th>\n",
       "      <th>debt_owned</th>\n",
       "    </tr>\n",
       "  </thead>\n",
       "  <tbody>\n",
       "    <tr>\n",
       "      <th>0</th>\n",
       "      <td>1363160</td>\n",
       "      <td>Y</td>\n",
       "      <td>-370.77</td>\n",
       "    </tr>\n",
       "    <tr>\n",
       "      <th>1</th>\n",
       "      <td>1362487</td>\n",
       "      <td>Y</td>\n",
       "      <td>1548.23</td>\n",
       "    </tr>\n",
       "    <tr>\n",
       "      <th>2</th>\n",
       "      <td>1362548</td>\n",
       "      <td>Y</td>\n",
       "      <td>-6896.57</td>\n",
       "    </tr>\n",
       "    <tr>\n",
       "      <th>3</th>\n",
       "      <td>1362752</td>\n",
       "      <td>N</td>\n",
       "      <td>-2302.14</td>\n",
       "    </tr>\n",
       "    <tr>\n",
       "      <th>4</th>\n",
       "      <td>1363017</td>\n",
       "      <td>Y</td>\n",
       "      <td>1000.00</td>\n",
       "    </tr>\n",
       "  </tbody>\n",
       "</table>\n",
       "</div>"
      ],
      "text/plain": [
       "   cust_id account_active  debt_owned\n",
       "0  1363160             Y      -370.77\n",
       "1  1362487             Y      1548.23\n",
       "2  1362548             Y     -6896.57\n",
       "3  1362752             N     -2302.14\n",
       "4  1363017             Y      1000.00"
      ]
     },
     "execution_count": 590,
     "metadata": {},
     "output_type": "execute_result"
    }
   ],
   "source": [
    "df['debt_owned']=df['ending_balance'] - df['starting_balance']\n",
    "selected_cols=['cust_id', 'account_active','debt_owned']\n",
    "credit_account=pd.DataFrame(df[selected_cols])\n",
    "credit_account.head()"
   ]
  },
  {
   "cell_type": "markdown",
   "metadata": {},
   "source": [
    "### Account- Merge"
   ]
  },
  {
   "cell_type": "code",
   "execution_count": 591,
   "metadata": {},
   "outputs": [],
   "source": [
    "banking_account=pd.merge(saving_account,credit_account, on='cust_id', how='left').fillna(0)\n"
   ]
  },
  {
   "cell_type": "code",
   "execution_count": 328,
   "metadata": {},
   "outputs": [
    {
     "data": {
      "text/html": [
       "<div>\n",
       "<style scoped>\n",
       "    .dataframe tbody tr th:only-of-type {\n",
       "        vertical-align: middle;\n",
       "    }\n",
       "\n",
       "    .dataframe tbody tr th {\n",
       "        vertical-align: top;\n",
       "    }\n",
       "\n",
       "    .dataframe thead th {\n",
       "        text-align: right;\n",
       "    }\n",
       "</style>\n",
       "<table border=\"1\" class=\"dataframe\">\n",
       "  <thead>\n",
       "    <tr style=\"text-align: right;\">\n",
       "      <th></th>\n",
       "      <th>cust_id</th>\n",
       "      <th>saving active</th>\n",
       "      <th>saving_amount</th>\n",
       "      <th>creditcard Active</th>\n",
       "      <th>debt_owned</th>\n",
       "    </tr>\n",
       "  </thead>\n",
       "  <tbody>\n",
       "    <tr>\n",
       "      <th>0</th>\n",
       "      <td>1363160</td>\n",
       "      <td>Y</td>\n",
       "      <td>9.50</td>\n",
       "      <td>Y</td>\n",
       "      <td>-370.77</td>\n",
       "    </tr>\n",
       "    <tr>\n",
       "      <th>1</th>\n",
       "      <td>1362487</td>\n",
       "      <td>N</td>\n",
       "      <td>-638.84</td>\n",
       "      <td>Y</td>\n",
       "      <td>1548.23</td>\n",
       "    </tr>\n",
       "    <tr>\n",
       "      <th>2</th>\n",
       "      <td>1362548</td>\n",
       "      <td>Y</td>\n",
       "      <td>3.78</td>\n",
       "      <td>Y</td>\n",
       "      <td>-6896.57</td>\n",
       "    </tr>\n",
       "    <tr>\n",
       "      <th>3</th>\n",
       "      <td>1362752</td>\n",
       "      <td>Y</td>\n",
       "      <td>9.07</td>\n",
       "      <td>N</td>\n",
       "      <td>-2302.14</td>\n",
       "    </tr>\n",
       "    <tr>\n",
       "      <th>4</th>\n",
       "      <td>1363017</td>\n",
       "      <td>N</td>\n",
       "      <td>890.33</td>\n",
       "      <td>Y</td>\n",
       "      <td>1000.00</td>\n",
       "    </tr>\n",
       "    <tr>\n",
       "      <th>...</th>\n",
       "      <td>...</td>\n",
       "      <td>...</td>\n",
       "      <td>...</td>\n",
       "      <td>...</td>\n",
       "      <td>...</td>\n",
       "    </tr>\n",
       "    <tr>\n",
       "      <th>416</th>\n",
       "      <td>1363141</td>\n",
       "      <td>Y</td>\n",
       "      <td>351.24</td>\n",
       "      <td>0</td>\n",
       "      <td>0.00</td>\n",
       "    </tr>\n",
       "    <tr>\n",
       "      <th>417</th>\n",
       "      <td>1363038</td>\n",
       "      <td>Y</td>\n",
       "      <td>174.73</td>\n",
       "      <td>Y</td>\n",
       "      <td>1800.00</td>\n",
       "    </tr>\n",
       "    <tr>\n",
       "      <th>418</th>\n",
       "      <td>1362529</td>\n",
       "      <td>Y</td>\n",
       "      <td>211.08</td>\n",
       "      <td>N</td>\n",
       "      <td>-1048.21</td>\n",
       "    </tr>\n",
       "    <tr>\n",
       "      <th>419</th>\n",
       "      <td>1362895</td>\n",
       "      <td>Y</td>\n",
       "      <td>-73.71</td>\n",
       "      <td>Y</td>\n",
       "      <td>1300.00</td>\n",
       "    </tr>\n",
       "    <tr>\n",
       "      <th>420</th>\n",
       "      <td>1362855</td>\n",
       "      <td>Y</td>\n",
       "      <td>-6.67</td>\n",
       "      <td>0</td>\n",
       "      <td>0.00</td>\n",
       "    </tr>\n",
       "  </tbody>\n",
       "</table>\n",
       "<p>421 rows × 5 columns</p>\n",
       "</div>"
      ],
      "text/plain": [
       "     cust_id saving active  saving_amount creditcard Active  debt_owned\n",
       "0    1363160            Y            9.50                Y      -370.77\n",
       "1    1362487            N         -638.84                Y      1548.23\n",
       "2    1362548            Y            3.78                Y     -6896.57\n",
       "3    1362752            Y            9.07                N     -2302.14\n",
       "4    1363017            N          890.33                Y      1000.00\n",
       "..       ...           ...            ...               ...         ...\n",
       "416  1363141            Y          351.24                 0        0.00\n",
       "417  1363038            Y          174.73                Y      1800.00\n",
       "418  1362529            Y          211.08                N     -1048.21\n",
       "419  1362895            Y          -73.71                Y      1300.00\n",
       "420  1362855            Y           -6.67                 0        0.00\n",
       "\n",
       "[421 rows x 5 columns]"
      ]
     },
     "execution_count": 328,
     "metadata": {},
     "output_type": "execute_result"
    }
   ],
   "source": [
    "banking_account.rename(columns={'account_active_x':'saving active',\n",
    "                                'account_active_y':'creditcard Active'\n",
    "    \n",
    "    \n",
    "    \n",
    "})"
   ]
  },
  {
   "cell_type": "code",
   "execution_count": 593,
   "metadata": {},
   "outputs": [
    {
     "data": {
      "text/plain": [
       "cust_id             0\n",
       "account_active_x    0\n",
       "saving_amount       0\n",
       "account_active_y    0\n",
       "debt_owned          0\n",
       "dtype: int64"
      ]
     },
     "execution_count": 593,
     "metadata": {},
     "output_type": "execute_result"
    }
   ],
   "source": [
    "banking_account.isnull().sum()"
   ]
  },
  {
   "cell_type": "markdown",
   "metadata": {},
   "source": [
    "##  Account Transaction- saving account"
   ]
  },
  {
   "cell_type": "code",
   "execution_count": 594,
   "metadata": {
    "scrolled": true
   },
   "outputs": [
    {
     "data": {
      "text/html": [
       "<div>\n",
       "<style scoped>\n",
       "    .dataframe tbody tr th:only-of-type {\n",
       "        vertical-align: middle;\n",
       "    }\n",
       "\n",
       "    .dataframe tbody tr th {\n",
       "        vertical-align: top;\n",
       "    }\n",
       "\n",
       "    .dataframe thead th {\n",
       "        text-align: right;\n",
       "    }\n",
       "</style>\n",
       "<table border=\"1\" class=\"dataframe\">\n",
       "  <thead>\n",
       "    <tr style=\"text-align: right;\">\n",
       "      <th></th>\n",
       "      <th>cust_id</th>\n",
       "      <th>tran_id</th>\n",
       "      <th>tran_amt</th>\n",
       "      <th>principal_amt</th>\n",
       "      <th>interest_amt</th>\n",
       "      <th>new_balance</th>\n",
       "      <th>tran_date</th>\n",
       "      <th>tran_time</th>\n",
       "      <th>channel</th>\n",
       "      <th>tran_code</th>\n",
       "    </tr>\n",
       "  </thead>\n",
       "  <tbody>\n",
       "    <tr>\n",
       "      <th>0</th>\n",
       "      <td>1363481</td>\n",
       "      <td>26</td>\n",
       "      <td>136.03</td>\n",
       "      <td>136.03</td>\n",
       "      <td>0.00</td>\n",
       "      <td>1521.57</td>\n",
       "      <td>26.10.1995</td>\n",
       "      <td>84111</td>\n",
       "      <td>A</td>\n",
       "      <td>DP</td>\n",
       "    </tr>\n",
       "    <tr>\n",
       "      <th>1</th>\n",
       "      <td>1362746</td>\n",
       "      <td>1</td>\n",
       "      <td>2.83</td>\n",
       "      <td>0.00</td>\n",
       "      <td>2.83</td>\n",
       "      <td>2265.90</td>\n",
       "      <td>31.1.1995</td>\n",
       "      <td>235959</td>\n",
       "      <td></td>\n",
       "      <td>IN</td>\n",
       "    </tr>\n",
       "    <tr>\n",
       "      <th>2</th>\n",
       "      <td>1363251</td>\n",
       "      <td>11</td>\n",
       "      <td>13.56</td>\n",
       "      <td>0.00</td>\n",
       "      <td>13.56</td>\n",
       "      <td>5438.90</td>\n",
       "      <td>30.4.1995</td>\n",
       "      <td>235959</td>\n",
       "      <td></td>\n",
       "      <td>IN</td>\n",
       "    </tr>\n",
       "    <tr>\n",
       "      <th>3</th>\n",
       "      <td>1362542</td>\n",
       "      <td>4</td>\n",
       "      <td>0.76</td>\n",
       "      <td>0.00</td>\n",
       "      <td>0.76</td>\n",
       "      <td>610.92</td>\n",
       "      <td>30.4.1995</td>\n",
       "      <td>235959</td>\n",
       "      <td></td>\n",
       "      <td>IN</td>\n",
       "    </tr>\n",
       "    <tr>\n",
       "      <th>4</th>\n",
       "      <td>1363387</td>\n",
       "      <td>11</td>\n",
       "      <td>148.69</td>\n",
       "      <td>148.69</td>\n",
       "      <td>0.00</td>\n",
       "      <td>470.05</td>\n",
       "      <td>21.5.1995</td>\n",
       "      <td>144736</td>\n",
       "      <td>E</td>\n",
       "      <td>DP</td>\n",
       "    </tr>\n",
       "  </tbody>\n",
       "</table>\n",
       "</div>"
      ],
      "text/plain": [
       "   cust_id  tran_id  tran_amt  principal_amt  interest_amt  new_balance  \\\n",
       "0  1363481       26    136.03         136.03          0.00      1521.57   \n",
       "1  1362746        1      2.83           0.00          2.83      2265.90   \n",
       "2  1363251       11     13.56           0.00         13.56      5438.90   \n",
       "3  1362542        4      0.76           0.00          0.76       610.92   \n",
       "4  1363387       11    148.69         148.69          0.00       470.05   \n",
       "\n",
       "    tran_date tran_time channel tran_code  \n",
       "0  26.10.1995     84111      A       DP    \n",
       "1   31.1.1995    235959              IN    \n",
       "2   30.4.1995    235959              IN    \n",
       "3   30.4.1995    235959              IN    \n",
       "4   21.5.1995    144736      E       DP    "
      ]
     },
     "execution_count": 594,
     "metadata": {},
     "output_type": "execute_result"
    }
   ],
   "source": [
    "#saving account\n",
    "df=pd.read_csv('data/twm_savings_tran.csv',sep=';')\n",
    "df.head()"
   ]
  },
  {
   "cell_type": "code",
   "execution_count": 596,
   "metadata": {},
   "outputs": [
    {
     "data": {
      "text/html": [
       "<div>\n",
       "<style scoped>\n",
       "    .dataframe tbody tr th:only-of-type {\n",
       "        vertical-align: middle;\n",
       "    }\n",
       "\n",
       "    .dataframe tbody tr th {\n",
       "        vertical-align: top;\n",
       "    }\n",
       "\n",
       "    .dataframe thead th {\n",
       "        text-align: right;\n",
       "    }\n",
       "</style>\n",
       "<table border=\"1\" class=\"dataframe\">\n",
       "  <thead>\n",
       "    <tr style=\"text-align: right;\">\n",
       "      <th></th>\n",
       "      <th>cust_id</th>\n",
       "      <th>tran_id</th>\n",
       "      <th>tran_amt</th>\n",
       "      <th>principal_amt</th>\n",
       "      <th>interest_amt</th>\n",
       "      <th>new_balance</th>\n",
       "    </tr>\n",
       "  </thead>\n",
       "  <tbody>\n",
       "    <tr>\n",
       "      <th>count</th>\n",
       "      <td>1.118900e+04</td>\n",
       "      <td>11189.000000</td>\n",
       "      <td>11189.000000</td>\n",
       "      <td>11189.000000</td>\n",
       "      <td>11189.000000</td>\n",
       "      <td>11189.000000</td>\n",
       "    </tr>\n",
       "    <tr>\n",
       "      <th>mean</th>\n",
       "      <td>1.362988e+06</td>\n",
       "      <td>16.113504</td>\n",
       "      <td>14.458362</td>\n",
       "      <td>13.628621</td>\n",
       "      <td>0.829741</td>\n",
       "      <td>1229.467968</td>\n",
       "    </tr>\n",
       "    <tr>\n",
       "      <th>std</th>\n",
       "      <td>2.979129e+02</td>\n",
       "      <td>11.024730</td>\n",
       "      <td>221.971173</td>\n",
       "      <td>222.003741</td>\n",
       "      <td>2.856393</td>\n",
       "      <td>2256.670395</td>\n",
       "    </tr>\n",
       "    <tr>\n",
       "      <th>min</th>\n",
       "      <td>1.362480e+06</td>\n",
       "      <td>1.000000</td>\n",
       "      <td>-2495.880000</td>\n",
       "      <td>-2495.880000</td>\n",
       "      <td>0.000000</td>\n",
       "      <td>0.070000</td>\n",
       "    </tr>\n",
       "    <tr>\n",
       "      <th>25%</th>\n",
       "      <td>1.362720e+06</td>\n",
       "      <td>7.000000</td>\n",
       "      <td>-0.750000</td>\n",
       "      <td>-0.750000</td>\n",
       "      <td>0.000000</td>\n",
       "      <td>238.480000</td>\n",
       "    </tr>\n",
       "    <tr>\n",
       "      <th>50%</th>\n",
       "      <td>1.362978e+06</td>\n",
       "      <td>14.000000</td>\n",
       "      <td>0.390000</td>\n",
       "      <td>0.000000</td>\n",
       "      <td>0.000000</td>\n",
       "      <td>562.040000</td>\n",
       "    </tr>\n",
       "    <tr>\n",
       "      <th>75%</th>\n",
       "      <td>1.363262e+06</td>\n",
       "      <td>23.000000</td>\n",
       "      <td>7.340000</td>\n",
       "      <td>0.000000</td>\n",
       "      <td>0.480000</td>\n",
       "      <td>1247.300000</td>\n",
       "    </tr>\n",
       "    <tr>\n",
       "      <th>max</th>\n",
       "      <td>1.363495e+06</td>\n",
       "      <td>62.000000</td>\n",
       "      <td>4478.610000</td>\n",
       "      <td>4478.610000</td>\n",
       "      <td>44.680000</td>\n",
       "      <td>26016.690000</td>\n",
       "    </tr>\n",
       "  </tbody>\n",
       "</table>\n",
       "</div>"
      ],
      "text/plain": [
       "            cust_id       tran_id      tran_amt  principal_amt  interest_amt  \\\n",
       "count  1.118900e+04  11189.000000  11189.000000   11189.000000  11189.000000   \n",
       "mean   1.362988e+06     16.113504     14.458362      13.628621      0.829741   \n",
       "std    2.979129e+02     11.024730    221.971173     222.003741      2.856393   \n",
       "min    1.362480e+06      1.000000  -2495.880000   -2495.880000      0.000000   \n",
       "25%    1.362720e+06      7.000000     -0.750000      -0.750000      0.000000   \n",
       "50%    1.362978e+06     14.000000      0.390000       0.000000      0.000000   \n",
       "75%    1.363262e+06     23.000000      7.340000       0.000000      0.480000   \n",
       "max    1.363495e+06     62.000000   4478.610000    4478.610000     44.680000   \n",
       "\n",
       "        new_balance  \n",
       "count  11189.000000  \n",
       "mean    1229.467968  \n",
       "std     2256.670395  \n",
       "min        0.070000  \n",
       "25%      238.480000  \n",
       "50%      562.040000  \n",
       "75%     1247.300000  \n",
       "max    26016.690000  "
      ]
     },
     "execution_count": 596,
     "metadata": {},
     "output_type": "execute_result"
    }
   ],
   "source": [
    "df.describe()"
   ]
  },
  {
   "cell_type": "code",
   "execution_count": 595,
   "metadata": {
    "scrolled": true
   },
   "outputs": [
    {
     "data": {
      "text/plain": [
       "(11189, 6)"
      ]
     },
     "execution_count": 595,
     "metadata": {},
     "output_type": "execute_result"
    }
   ],
   "source": [
    "selected_cols=['cust_id','tran_amt','principal_amt','interest_amt','new_balance','tran_id']\n",
    "saving=pd.DataFrame(df[selected_cols])\n",
    "saving.shape"
   ]
  },
  {
   "cell_type": "markdown",
   "metadata": {},
   "source": []
  },
  {
   "cell_type": "code",
   "execution_count": 344,
   "metadata": {
    "scrolled": true
   },
   "outputs": [
    {
     "data": {
      "text/html": [
       "<div>\n",
       "<style scoped>\n",
       "    .dataframe tbody tr th:only-of-type {\n",
       "        vertical-align: middle;\n",
       "    }\n",
       "\n",
       "    .dataframe tbody tr th {\n",
       "        vertical-align: top;\n",
       "    }\n",
       "\n",
       "    .dataframe thead th {\n",
       "        text-align: right;\n",
       "    }\n",
       "</style>\n",
       "<table border=\"1\" class=\"dataframe\">\n",
       "  <thead>\n",
       "    <tr style=\"text-align: right;\">\n",
       "      <th></th>\n",
       "      <th>cust_id</th>\n",
       "      <th>tran_amt</th>\n",
       "      <th>tran_id</th>\n",
       "    </tr>\n",
       "  </thead>\n",
       "  <tbody>\n",
       "    <tr>\n",
       "      <th>0</th>\n",
       "      <td>1362480</td>\n",
       "      <td>482.32</td>\n",
       "      <td>26</td>\n",
       "    </tr>\n",
       "    <tr>\n",
       "      <th>1</th>\n",
       "      <td>1362484</td>\n",
       "      <td>1929.66</td>\n",
       "      <td>33</td>\n",
       "    </tr>\n",
       "    <tr>\n",
       "      <th>2</th>\n",
       "      <td>1362486</td>\n",
       "      <td>-168.24</td>\n",
       "      <td>25</td>\n",
       "    </tr>\n",
       "    <tr>\n",
       "      <th>3</th>\n",
       "      <td>1362487</td>\n",
       "      <td>-638.84</td>\n",
       "      <td>19</td>\n",
       "    </tr>\n",
       "    <tr>\n",
       "      <th>4</th>\n",
       "      <td>1362489</td>\n",
       "      <td>-386.59</td>\n",
       "      <td>22</td>\n",
       "    </tr>\n",
       "    <tr>\n",
       "      <th>...</th>\n",
       "      <td>...</td>\n",
       "      <td>...</td>\n",
       "      <td>...</td>\n",
       "    </tr>\n",
       "    <tr>\n",
       "      <th>415</th>\n",
       "      <td>1363490</td>\n",
       "      <td>34.24</td>\n",
       "      <td>12</td>\n",
       "    </tr>\n",
       "    <tr>\n",
       "      <th>416</th>\n",
       "      <td>1363491</td>\n",
       "      <td>-187.63</td>\n",
       "      <td>18</td>\n",
       "    </tr>\n",
       "    <tr>\n",
       "      <th>417</th>\n",
       "      <td>1363492</td>\n",
       "      <td>164.08</td>\n",
       "      <td>25</td>\n",
       "    </tr>\n",
       "    <tr>\n",
       "      <th>418</th>\n",
       "      <td>1363493</td>\n",
       "      <td>222.43</td>\n",
       "      <td>19</td>\n",
       "    </tr>\n",
       "    <tr>\n",
       "      <th>419</th>\n",
       "      <td>1363495</td>\n",
       "      <td>461.80</td>\n",
       "      <td>36</td>\n",
       "    </tr>\n",
       "  </tbody>\n",
       "</table>\n",
       "<p>420 rows × 3 columns</p>\n",
       "</div>"
      ],
      "text/plain": [
       "     cust_id  tran_amt  tran_id\n",
       "0    1362480    482.32       26\n",
       "1    1362484   1929.66       33\n",
       "2    1362486   -168.24       25\n",
       "3    1362487   -638.84       19\n",
       "4    1362489   -386.59       22\n",
       "..       ...       ...      ...\n",
       "415  1363490     34.24       12\n",
       "416  1363491   -187.63       18\n",
       "417  1363492    164.08       25\n",
       "418  1363493    222.43       19\n",
       "419  1363495    461.80       36\n",
       "\n",
       "[420 rows x 3 columns]"
      ]
     },
     "execution_count": 344,
     "metadata": {},
     "output_type": "execute_result"
    }
   ],
   "source": [
    "saving.groupby('cust_id').agg({'tran_amt':'sum','tran_id':'count'}).reset_index()"
   ]
  },
  {
   "cell_type": "markdown",
   "metadata": {},
   "source": [
    "##  Account Transaction- credit card\n"
   ]
  },
  {
   "cell_type": "code",
   "execution_count": 597,
   "metadata": {
    "scrolled": false
   },
   "outputs": [
    {
     "data": {
      "text/html": [
       "<div>\n",
       "<style scoped>\n",
       "    .dataframe tbody tr th:only-of-type {\n",
       "        vertical-align: middle;\n",
       "    }\n",
       "\n",
       "    .dataframe tbody tr th {\n",
       "        vertical-align: top;\n",
       "    }\n",
       "\n",
       "    .dataframe thead th {\n",
       "        text-align: right;\n",
       "    }\n",
       "</style>\n",
       "<table border=\"1\" class=\"dataframe\">\n",
       "  <thead>\n",
       "    <tr style=\"text-align: right;\">\n",
       "      <th></th>\n",
       "      <th>cust_id</th>\n",
       "      <th>tran_id</th>\n",
       "      <th>tran_amt</th>\n",
       "      <th>principal_amt</th>\n",
       "      <th>interest_amt</th>\n",
       "      <th>new_balance</th>\n",
       "      <th>tran_date</th>\n",
       "      <th>tran_time</th>\n",
       "      <th>channel</th>\n",
       "      <th>tran_code</th>\n",
       "    </tr>\n",
       "  </thead>\n",
       "  <tbody>\n",
       "    <tr>\n",
       "      <th>0</th>\n",
       "      <td>1363088</td>\n",
       "      <td>46</td>\n",
       "      <td>-121.49</td>\n",
       "      <td>-121.49</td>\n",
       "      <td>0.0</td>\n",
       "      <td>-141.00</td>\n",
       "      <td>20.10.1995</td>\n",
       "      <td>101144</td>\n",
       "      <td>E</td>\n",
       "      <td>CG</td>\n",
       "    </tr>\n",
       "    <tr>\n",
       "      <th>1</th>\n",
       "      <td>1363306</td>\n",
       "      <td>32</td>\n",
       "      <td>-220.64</td>\n",
       "      <td>-220.64</td>\n",
       "      <td>0.0</td>\n",
       "      <td>-520.13</td>\n",
       "      <td>13.10.1995</td>\n",
       "      <td>83115</td>\n",
       "      <td>E</td>\n",
       "      <td>CG</td>\n",
       "    </tr>\n",
       "    <tr>\n",
       "      <th>2</th>\n",
       "      <td>1362959</td>\n",
       "      <td>10</td>\n",
       "      <td>0.00</td>\n",
       "      <td>0.00</td>\n",
       "      <td>0.0</td>\n",
       "      <td>-3900.00</td>\n",
       "      <td>26.2.1995</td>\n",
       "      <td>84129</td>\n",
       "      <td>K</td>\n",
       "      <td>IQ</td>\n",
       "    </tr>\n",
       "    <tr>\n",
       "      <th>3</th>\n",
       "      <td>1363429</td>\n",
       "      <td>13</td>\n",
       "      <td>-195.27</td>\n",
       "      <td>-195.27</td>\n",
       "      <td>0.0</td>\n",
       "      <td>-1739.74</td>\n",
       "      <td>3.1.1995</td>\n",
       "      <td>191815</td>\n",
       "      <td>E</td>\n",
       "      <td>CG</td>\n",
       "    </tr>\n",
       "    <tr>\n",
       "      <th>4</th>\n",
       "      <td>1363393</td>\n",
       "      <td>14</td>\n",
       "      <td>-37.32</td>\n",
       "      <td>-37.32</td>\n",
       "      <td>0.0</td>\n",
       "      <td>-198.98</td>\n",
       "      <td>4.7.1995</td>\n",
       "      <td>100811</td>\n",
       "      <td>E</td>\n",
       "      <td>CG</td>\n",
       "    </tr>\n",
       "  </tbody>\n",
       "</table>\n",
       "</div>"
      ],
      "text/plain": [
       "   cust_id  tran_id  tran_amt  principal_amt  interest_amt  new_balance  \\\n",
       "0  1363088       46   -121.49        -121.49           0.0      -141.00   \n",
       "1  1363306       32   -220.64        -220.64           0.0      -520.13   \n",
       "2  1362959       10      0.00           0.00           0.0     -3900.00   \n",
       "3  1363429       13   -195.27        -195.27           0.0     -1739.74   \n",
       "4  1363393       14    -37.32         -37.32           0.0      -198.98   \n",
       "\n",
       "    tran_date tran_time channel tran_code  \n",
       "0  20.10.1995    101144      E       CG    \n",
       "1  13.10.1995     83115      E       CG    \n",
       "2   26.2.1995     84129      K       IQ    \n",
       "3    3.1.1995    191815      E       CG    \n",
       "4    4.7.1995    100811      E       CG    "
      ]
     },
     "execution_count": 597,
     "metadata": {},
     "output_type": "execute_result"
    }
   ],
   "source": [
    "#credit card\n",
    "df=pd.read_csv('data/twm_credit_tran.csv',sep=';')\n",
    "df.head()"
   ]
  },
  {
   "cell_type": "code",
   "execution_count": 598,
   "metadata": {},
   "outputs": [],
   "source": [
    "selected_cols=['cust_id','tran_amt','principal_amt','interest_amt','new_balance','tran_id']\n",
    "credit=pd.DataFrame(df[selected_cols])\n"
   ]
  },
  {
   "cell_type": "code",
   "execution_count": 599,
   "metadata": {
    "scrolled": true
   },
   "outputs": [],
   "source": [
    "credit_transaction=credit.groupby('cust_id').agg({'tran_amt':'sum','tran_id':'count'}).reset_index()"
   ]
  },
  {
   "cell_type": "code",
   "execution_count": 601,
   "metadata": {},
   "outputs": [
    {
     "data": {
      "text/plain": [
       "cust_id     0\n",
       "tran_amt    0\n",
       "tran_id     0\n",
       "dtype: int64"
      ]
     },
     "execution_count": 601,
     "metadata": {},
     "output_type": "execute_result"
    }
   ],
   "source": [
    "credit_transaction.isnull().sum()"
   ]
  },
  {
   "cell_type": "markdown",
   "metadata": {},
   "source": [
    "##  Account Transaction- Merge"
   ]
  },
  {
   "cell_type": "code",
   "execution_count": null,
   "metadata": {},
   "outputs": [],
   "source": []
  },
  {
   "cell_type": "code",
   "execution_count": 602,
   "metadata": {},
   "outputs": [],
   "source": [
    "#merge transaction\n",
    "merged_transaction=pd.merge(saving_transactions,credit_transaction,on='cust_id')"
   ]
  },
  {
   "cell_type": "code",
   "execution_count": 603,
   "metadata": {},
   "outputs": [],
   "source": [
    "transaction=merged_transaction.rename(columns={\n",
    "                    'tran_amt_x_x':'saving transaction',\n",
    "                    'tran_amt_x_y': 'credit transaction',\n",
    "                    'tran_amt_y_x':'saving transaction number',\n",
    "                    'tran_amt_y_y':'credit card transaction number'}\n",
    "                         )\n"
   ]
  },
  {
   "cell_type": "code",
   "execution_count": 604,
   "metadata": {},
   "outputs": [
    {
     "data": {
      "text/html": [
       "<div>\n",
       "<style scoped>\n",
       "    .dataframe tbody tr th:only-of-type {\n",
       "        vertical-align: middle;\n",
       "    }\n",
       "\n",
       "    .dataframe tbody tr th {\n",
       "        vertical-align: top;\n",
       "    }\n",
       "\n",
       "    .dataframe thead th {\n",
       "        text-align: right;\n",
       "    }\n",
       "</style>\n",
       "<table border=\"1\" class=\"dataframe\">\n",
       "  <thead>\n",
       "    <tr style=\"text-align: right;\">\n",
       "      <th></th>\n",
       "      <th>cust_id</th>\n",
       "      <th>tran_amt_x</th>\n",
       "      <th>tran_amt_y</th>\n",
       "      <th>tran_amt</th>\n",
       "      <th>tran_id</th>\n",
       "    </tr>\n",
       "  </thead>\n",
       "  <tbody>\n",
       "    <tr>\n",
       "      <th>0</th>\n",
       "      <td>1362480</td>\n",
       "      <td>482.32</td>\n",
       "      <td>17</td>\n",
       "      <td>1948.66</td>\n",
       "      <td>32</td>\n",
       "    </tr>\n",
       "    <tr>\n",
       "      <th>1</th>\n",
       "      <td>1362484</td>\n",
       "      <td>1929.66</td>\n",
       "      <td>31</td>\n",
       "      <td>923.87</td>\n",
       "      <td>55</td>\n",
       "    </tr>\n",
       "    <tr>\n",
       "      <th>2</th>\n",
       "      <td>1362487</td>\n",
       "      <td>-638.84</td>\n",
       "      <td>14</td>\n",
       "      <td>-1535.59</td>\n",
       "      <td>32</td>\n",
       "    </tr>\n",
       "    <tr>\n",
       "      <th>3</th>\n",
       "      <td>1362489</td>\n",
       "      <td>-386.59</td>\n",
       "      <td>14</td>\n",
       "      <td>1694.18</td>\n",
       "      <td>35</td>\n",
       "    </tr>\n",
       "    <tr>\n",
       "      <th>4</th>\n",
       "      <td>1362508</td>\n",
       "      <td>133.47</td>\n",
       "      <td>28</td>\n",
       "      <td>-179.90</td>\n",
       "      <td>87</td>\n",
       "    </tr>\n",
       "  </tbody>\n",
       "</table>\n",
       "</div>"
      ],
      "text/plain": [
       "   cust_id  tran_amt_x  tran_amt_y  tran_amt  tran_id\n",
       "0  1362480      482.32          17   1948.66       32\n",
       "1  1362484     1929.66          31    923.87       55\n",
       "2  1362487     -638.84          14  -1535.59       32\n",
       "3  1362489     -386.59          14   1694.18       35\n",
       "4  1362508      133.47          28   -179.90       87"
      ]
     },
     "execution_count": 604,
     "metadata": {},
     "output_type": "execute_result"
    }
   ],
   "source": [
    "transaction.head()"
   ]
  },
  {
   "cell_type": "code",
   "execution_count": 606,
   "metadata": {},
   "outputs": [
    {
     "data": {
      "text/plain": [
       "cust_id       0\n",
       "tran_amt_x    0\n",
       "tran_amt_y    0\n",
       "tran_amt      0\n",
       "tran_id       0\n",
       "dtype: int64"
      ]
     },
     "execution_count": 606,
     "metadata": {},
     "output_type": "execute_result"
    }
   ],
   "source": [
    "transaction.isnull().sum()"
   ]
  },
  {
   "cell_type": "code",
   "execution_count": 607,
   "metadata": {
    "scrolled": true
   },
   "outputs": [],
   "source": [
    "final=pd.merge(banking_account,transaction, on='cust_id',how='left')\n",
    "banking_beh=final.rename(columns={'account_active_x':'saving account_active',\n",
    "                     'account_active_y':'credit card activate'})\n"
   ]
  },
  {
   "cell_type": "code",
   "execution_count": 608,
   "metadata": {
    "scrolled": true
   },
   "outputs": [
    {
     "data": {
      "text/plain": [
       "cust_id                  0\n",
       "saving account_active    0\n",
       "saving_amount            0\n",
       "credit card activate     0\n",
       "debt_owned               0\n",
       "tran_amt_x               0\n",
       "tran_amt_y               0\n",
       "tran_amt                 0\n",
       "tran_id                  0\n",
       "dtype: int64"
      ]
     },
     "execution_count": 608,
     "metadata": {},
     "output_type": "execute_result"
    }
   ],
   "source": [
    "#delete nan value\n",
    "banking_beh.dropna(how='any',inplace= True)\n",
    "# banking_beh[banking_beh.isna().any(axis=1)]\n",
    "banking_beh.isnull().sum()"
   ]
  },
  {
   "cell_type": "code",
   "execution_count": 609,
   "metadata": {
    "scrolled": true
   },
   "outputs": [],
   "source": [
    "banking_beh['saving account_active']=banking_beh['saving account_active'].replace({'Y ':1, 'N ':0})\n",
    "banking_beh['credit card activate']=banking_beh['credit card activate'].replace({'Y ':1, 'N ':0})"
   ]
  },
  {
   "cell_type": "code",
   "execution_count": 610,
   "metadata": {
    "scrolled": false
   },
   "outputs": [
    {
     "data": {
      "text/html": [
       "<div>\n",
       "<style scoped>\n",
       "    .dataframe tbody tr th:only-of-type {\n",
       "        vertical-align: middle;\n",
       "    }\n",
       "\n",
       "    .dataframe tbody tr th {\n",
       "        vertical-align: top;\n",
       "    }\n",
       "\n",
       "    .dataframe thead th {\n",
       "        text-align: right;\n",
       "    }\n",
       "</style>\n",
       "<table border=\"1\" class=\"dataframe\">\n",
       "  <thead>\n",
       "    <tr style=\"text-align: right;\">\n",
       "      <th></th>\n",
       "      <th>cust_id</th>\n",
       "      <th>saving account_active</th>\n",
       "      <th>saving_amount</th>\n",
       "      <th>credit card activate</th>\n",
       "      <th>debt_owned</th>\n",
       "      <th>tran_amt_x</th>\n",
       "      <th>tran_amt_y</th>\n",
       "      <th>tran_amt</th>\n",
       "      <th>tran_id</th>\n",
       "    </tr>\n",
       "  </thead>\n",
       "  <tbody>\n",
       "    <tr>\n",
       "      <th>0</th>\n",
       "      <td>1363160</td>\n",
       "      <td>1</td>\n",
       "      <td>9.50</td>\n",
       "      <td>1</td>\n",
       "      <td>-370.77</td>\n",
       "      <td>9.50</td>\n",
       "      <td>33.0</td>\n",
       "      <td>380.03</td>\n",
       "      <td>68.0</td>\n",
       "    </tr>\n",
       "    <tr>\n",
       "      <th>1</th>\n",
       "      <td>1362487</td>\n",
       "      <td>0</td>\n",
       "      <td>-638.84</td>\n",
       "      <td>1</td>\n",
       "      <td>1548.23</td>\n",
       "      <td>-638.84</td>\n",
       "      <td>14.0</td>\n",
       "      <td>-1535.59</td>\n",
       "      <td>32.0</td>\n",
       "    </tr>\n",
       "    <tr>\n",
       "      <th>2</th>\n",
       "      <td>1362548</td>\n",
       "      <td>1</td>\n",
       "      <td>3.78</td>\n",
       "      <td>1</td>\n",
       "      <td>-6896.57</td>\n",
       "      <td>3.78</td>\n",
       "      <td>2.0</td>\n",
       "      <td>6977.25</td>\n",
       "      <td>22.0</td>\n",
       "    </tr>\n",
       "    <tr>\n",
       "      <th>3</th>\n",
       "      <td>1362752</td>\n",
       "      <td>1</td>\n",
       "      <td>9.07</td>\n",
       "      <td>0</td>\n",
       "      <td>-2302.14</td>\n",
       "      <td>9.07</td>\n",
       "      <td>2.0</td>\n",
       "      <td>2406.65</td>\n",
       "      <td>15.0</td>\n",
       "    </tr>\n",
       "    <tr>\n",
       "      <th>4</th>\n",
       "      <td>1363017</td>\n",
       "      <td>0</td>\n",
       "      <td>890.33</td>\n",
       "      <td>1</td>\n",
       "      <td>1000.00</td>\n",
       "      <td>890.33</td>\n",
       "      <td>16.0</td>\n",
       "      <td>-956.10</td>\n",
       "      <td>63.0</td>\n",
       "    </tr>\n",
       "    <tr>\n",
       "      <th>...</th>\n",
       "      <td>...</td>\n",
       "      <td>...</td>\n",
       "      <td>...</td>\n",
       "      <td>...</td>\n",
       "      <td>...</td>\n",
       "      <td>...</td>\n",
       "      <td>...</td>\n",
       "      <td>...</td>\n",
       "      <td>...</td>\n",
       "    </tr>\n",
       "    <tr>\n",
       "      <th>414</th>\n",
       "      <td>1363284</td>\n",
       "      <td>1</td>\n",
       "      <td>-593.23</td>\n",
       "      <td>1</td>\n",
       "      <td>132.98</td>\n",
       "      <td>-592.60</td>\n",
       "      <td>23.0</td>\n",
       "      <td>-121.25</td>\n",
       "      <td>37.0</td>\n",
       "    </tr>\n",
       "    <tr>\n",
       "      <th>415</th>\n",
       "      <td>1362508</td>\n",
       "      <td>1</td>\n",
       "      <td>133.47</td>\n",
       "      <td>1</td>\n",
       "      <td>260.21</td>\n",
       "      <td>133.47</td>\n",
       "      <td>28.0</td>\n",
       "      <td>-179.90</td>\n",
       "      <td>87.0</td>\n",
       "    </tr>\n",
       "    <tr>\n",
       "      <th>417</th>\n",
       "      <td>1363038</td>\n",
       "      <td>1</td>\n",
       "      <td>174.73</td>\n",
       "      <td>1</td>\n",
       "      <td>1800.00</td>\n",
       "      <td>174.91</td>\n",
       "      <td>27.0</td>\n",
       "      <td>-1741.27</td>\n",
       "      <td>24.0</td>\n",
       "    </tr>\n",
       "    <tr>\n",
       "      <th>418</th>\n",
       "      <td>1362529</td>\n",
       "      <td>1</td>\n",
       "      <td>211.08</td>\n",
       "      <td>0</td>\n",
       "      <td>-1048.21</td>\n",
       "      <td>212.70</td>\n",
       "      <td>15.0</td>\n",
       "      <td>1361.31</td>\n",
       "      <td>39.0</td>\n",
       "    </tr>\n",
       "    <tr>\n",
       "      <th>419</th>\n",
       "      <td>1362895</td>\n",
       "      <td>1</td>\n",
       "      <td>-73.71</td>\n",
       "      <td>1</td>\n",
       "      <td>1300.00</td>\n",
       "      <td>-73.71</td>\n",
       "      <td>18.0</td>\n",
       "      <td>-1287.37</td>\n",
       "      <td>27.0</td>\n",
       "    </tr>\n",
       "  </tbody>\n",
       "</table>\n",
       "<p>287 rows × 9 columns</p>\n",
       "</div>"
      ],
      "text/plain": [
       "     cust_id  saving account_active  saving_amount  credit card activate  \\\n",
       "0    1363160                      1           9.50                     1   \n",
       "1    1362487                      0        -638.84                     1   \n",
       "2    1362548                      1           3.78                     1   \n",
       "3    1362752                      1           9.07                     0   \n",
       "4    1363017                      0         890.33                     1   \n",
       "..       ...                    ...            ...                   ...   \n",
       "414  1363284                      1        -593.23                     1   \n",
       "415  1362508                      1         133.47                     1   \n",
       "417  1363038                      1         174.73                     1   \n",
       "418  1362529                      1         211.08                     0   \n",
       "419  1362895                      1         -73.71                     1   \n",
       "\n",
       "     debt_owned  tran_amt_x  tran_amt_y  tran_amt  tran_id  \n",
       "0       -370.77        9.50        33.0    380.03     68.0  \n",
       "1       1548.23     -638.84        14.0  -1535.59     32.0  \n",
       "2      -6896.57        3.78         2.0   6977.25     22.0  \n",
       "3      -2302.14        9.07         2.0   2406.65     15.0  \n",
       "4       1000.00      890.33        16.0   -956.10     63.0  \n",
       "..          ...         ...         ...       ...      ...  \n",
       "414      132.98     -592.60        23.0   -121.25     37.0  \n",
       "415      260.21      133.47        28.0   -179.90     87.0  \n",
       "417     1800.00      174.91        27.0  -1741.27     24.0  \n",
       "418    -1048.21      212.70        15.0   1361.31     39.0  \n",
       "419     1300.00      -73.71        18.0  -1287.37     27.0  \n",
       "\n",
       "[287 rows x 9 columns]"
      ]
     },
     "execution_count": 610,
     "metadata": {},
     "output_type": "execute_result"
    }
   ],
   "source": [
    "banking_beh"
   ]
  },
  {
   "cell_type": "code",
   "execution_count": 613,
   "metadata": {},
   "outputs": [],
   "source": [
    "# #get rid of non features\n",
    "banking_beh.drop(columns=['cust_id'], inplace=True)\n"
   ]
  },
  {
   "cell_type": "code",
   "execution_count": 611,
   "metadata": {},
   "outputs": [],
   "source": [
    "# new=banking_beh[(banking_beh['saving account_active']==1)&(banking_beh['credit card activate']==1)]\n",
    "banking_beh.drop(columns=['saving account_active','credit card activate'], inplace=True)\n",
    "\n"
   ]
  },
  {
   "cell_type": "code",
   "execution_count": 614,
   "metadata": {},
   "outputs": [
    {
     "data": {
      "text/html": [
       "<div>\n",
       "<style scoped>\n",
       "    .dataframe tbody tr th:only-of-type {\n",
       "        vertical-align: middle;\n",
       "    }\n",
       "\n",
       "    .dataframe tbody tr th {\n",
       "        vertical-align: top;\n",
       "    }\n",
       "\n",
       "    .dataframe thead th {\n",
       "        text-align: right;\n",
       "    }\n",
       "</style>\n",
       "<table border=\"1\" class=\"dataframe\">\n",
       "  <thead>\n",
       "    <tr style=\"text-align: right;\">\n",
       "      <th></th>\n",
       "      <th>saving_amount</th>\n",
       "      <th>debt_owned</th>\n",
       "      <th>tran_amt_x</th>\n",
       "      <th>tran_amt_y</th>\n",
       "      <th>tran_amt</th>\n",
       "      <th>tran_id</th>\n",
       "    </tr>\n",
       "  </thead>\n",
       "  <tbody>\n",
       "    <tr>\n",
       "      <th>0</th>\n",
       "      <td>9.50</td>\n",
       "      <td>-370.77</td>\n",
       "      <td>9.50</td>\n",
       "      <td>33.0</td>\n",
       "      <td>380.03</td>\n",
       "      <td>68.0</td>\n",
       "    </tr>\n",
       "    <tr>\n",
       "      <th>1</th>\n",
       "      <td>-638.84</td>\n",
       "      <td>1548.23</td>\n",
       "      <td>-638.84</td>\n",
       "      <td>14.0</td>\n",
       "      <td>-1535.59</td>\n",
       "      <td>32.0</td>\n",
       "    </tr>\n",
       "    <tr>\n",
       "      <th>2</th>\n",
       "      <td>3.78</td>\n",
       "      <td>-6896.57</td>\n",
       "      <td>3.78</td>\n",
       "      <td>2.0</td>\n",
       "      <td>6977.25</td>\n",
       "      <td>22.0</td>\n",
       "    </tr>\n",
       "    <tr>\n",
       "      <th>3</th>\n",
       "      <td>9.07</td>\n",
       "      <td>-2302.14</td>\n",
       "      <td>9.07</td>\n",
       "      <td>2.0</td>\n",
       "      <td>2406.65</td>\n",
       "      <td>15.0</td>\n",
       "    </tr>\n",
       "    <tr>\n",
       "      <th>4</th>\n",
       "      <td>890.33</td>\n",
       "      <td>1000.00</td>\n",
       "      <td>890.33</td>\n",
       "      <td>16.0</td>\n",
       "      <td>-956.10</td>\n",
       "      <td>63.0</td>\n",
       "    </tr>\n",
       "  </tbody>\n",
       "</table>\n",
       "</div>"
      ],
      "text/plain": [
       "   saving_amount  debt_owned  tran_amt_x  tran_amt_y  tran_amt  tran_id\n",
       "0           9.50     -370.77        9.50        33.0    380.03     68.0\n",
       "1        -638.84     1548.23     -638.84        14.0  -1535.59     32.0\n",
       "2           3.78    -6896.57        3.78         2.0   6977.25     22.0\n",
       "3           9.07    -2302.14        9.07         2.0   2406.65     15.0\n",
       "4         890.33     1000.00      890.33        16.0   -956.10     63.0"
      ]
     },
     "execution_count": 614,
     "metadata": {},
     "output_type": "execute_result"
    }
   ],
   "source": [
    "banking_beh.head()"
   ]
  },
  {
   "cell_type": "markdown",
   "metadata": {},
   "source": [
    "***Task II***:\n",
    "* visualize the created clusters using radar charts and compare them agains each other\n"
   ]
  },
  {
   "cell_type": "markdown",
   "metadata": {},
   "source": [
    "##  Account Behavioral Clustering"
   ]
  },
  {
   "cell_type": "code",
   "execution_count": null,
   "metadata": {},
   "outputs": [],
   "source": []
  },
  {
   "cell_type": "code",
   "execution_count": 615,
   "metadata": {},
   "outputs": [],
   "source": [
    "#SCALE:\n",
    "scaler = StandardScaler()\n",
    "banking=scaler.fit_transform(banking_beh)\n",
    "#Mean=0;std=1\n"
   ]
  },
  {
   "cell_type": "code",
   "execution_count": 616,
   "metadata": {},
   "outputs": [],
   "source": [
    "#elbow row"
   ]
  },
  {
   "cell_type": "code",
   "execution_count": 617,
   "metadata": {},
   "outputs": [
    {
     "data": {
      "image/png": "[encoded data removed]",
      "text/plain": [
       "<Figure size 576x504 with 1 Axes>"
      ]
     },
     "metadata": {
      "needs_background": "light"
     },
     "output_type": "display_data"
    }
   ],
   "source": [
    "def plot_distortion(X, max_clusters=10):\n",
    "    distortion=[]\n",
    "    for i in range(1, max_clusters+1):\n",
    "        km=KMeans(n_clusters=i, init='k-means++', n_init=10, random_state=0)\n",
    "\n",
    "        km.fit(X)\n",
    "        distortion.append(km.inertia_)\n",
    "\n",
    "    plt.plot(range(1,max_clusters+1), distortion, marker='o')\n",
    "    plt.xlabel('Number of clusters')\n",
    "    plt.ylabel('Distortion')\n",
    "    plt.show()\n",
    "\n",
    "plot_distortion(banking,max_clusters=10)\n"
   ]
  },
  {
   "cell_type": "code",
   "execution_count": 635,
   "metadata": {
    "scrolled": false
   },
   "outputs": [
    {
     "data": {
      "text/plain": [
       "Index(['saving_amount', 'debt_owned', 'saving transaction',\n",
       "       'saving transaction number', 'credit transaction',\n",
       "       'credit card transaction number'],\n",
       "      dtype='object')"
      ]
     },
     "execution_count": 635,
     "metadata": {},
     "output_type": "execute_result"
    }
   ],
   "source": [
    "#instandtiate KMeans class\n",
    "km=KMeans(n_clusters=3, init = 'k-means++', n_init=10,random_state=0)\n",
    "y_km=km.fit_predict(banking)\n",
    "#reconstruct dataFrame\n",
    "banking_km=pd.DataFrame(banking, columns=list(new.columns))\n",
    "banking_km['cluster']\n",
    "banking_km.columns"
   ]
  },
  {
   "cell_type": "code",
   "execution_count": null,
   "metadata": {
    "scrolled": true
   },
   "outputs": [],
   "source": []
  },
  {
   "cell_type": "code",
   "execution_count": 619,
   "metadata": {},
   "outputs": [],
   "source": [
    "#Plot a Radar Chart:https://plotly.com/python/radar-chart/ \n",
    "def plot_radar(df):\n",
    "    fig = go.Figure()\n",
    "    \n",
    "    for i in range(len(df)):\n",
    "        fig.add_trace(go.Scatterpolar(r = df.iloc[i].values,\n",
    "                                    theta = df.iloc[i].index,\n",
    "                                    name = f'Cluster {df.index[i]}',\n",
    "                                    fill = 'toself'))    \n",
    "    layout = go.Layout(polar = dict(radialaxis = dict(visible = True)),showlegend = True)\n",
    "    \n",
    "    fig.show()\n",
    "\n",
    "\n"
   ]
  },
  {
   "cell_type": "code",
   "execution_count": 620,
   "metadata": {},
   "outputs": [],
   "source": [
    "data=banking_km.groupby('cluster').mean()"
   ]
  },
  {
   "cell_type": "code",
   "execution_count": 621,
   "metadata": {},
   "outputs": [
    {
     "data": {
      "application/vnd.plotly.v1+json": {
       "config": {
        "plotlyServerURL": "https://plot.ly"
       },
       "data": [
        {
         "fill": "toself",
         "name": "Cluster 0",
         "r": [
          0.19953432035320232,
          0.19688749876418704,
          0.19958523481275148,
          0.7438191832046265,
          -0.1978793747760201,
          0.7623989414697444
         ],
         "theta": [
          "saving_amount",
          "debt_owned",
          "saving transaction",
          "saving transaction number",
          "credit transaction",
          "credit card transaction number"
         ],
         "type": "scatterpolar"
        },
        {
         "fill": "toself",
         "name": "Cluster 1",
         "r": [
          -0.2939867102056045,
          -0.10595419470798025,
          -0.29402420961354936,
          -0.615294441730955,
          0.10259138026470167,
          -0.602107378527222
         ],
         "theta": [
          "saving_amount",
          "debt_owned",
          "saving transaction",
          "saving transaction number",
          "credit transaction",
          "credit card transaction number"
         ],
         "type": "scatterpolar"
        },
        {
         "fill": "toself",
         "name": "Cluster 2",
         "r": [
          5.50040779972351,
          -1.8918332220475842,
          5.500320052943292,
          1.3995593794620458,
          2.0562532525347326,
          0.29940111089500065
         ],
         "theta": [
          "saving_amount",
          "debt_owned",
          "saving transaction",
          "saving transaction number",
          "credit transaction",
          "credit card transaction number"
         ],
         "type": "scatterpolar"
        }
       ],
       "layout": {
        "template": {
         "data": {
          "bar": [
           {
            "error_x": {
             "color": "#2a3f5f"
            },
            "error_y": {
             "color": "#2a3f5f"
            },
            "marker": {
             "line": {
              "color": "#E5ECF6",
              "width": 0.5
             },
             "pattern": {
              "fillmode": "overlay",
              "size": 10,
              "solidity": 0.2
             }
            },
            "type": "bar"
           }
          ],
          "barpolar": [
           {
            "marker": {
             "line": {
              "color": "#E5ECF6",
              "width": 0.5
             },
             "pattern": {
              "fillmode": "overlay",
              "size": 10,
              "solidity": 0.2
             }
            },
            "type": "barpolar"
           }
          ],
          "carpet": [
           {
            "aaxis": {
             "endlinecolor": "#2a3f5f",
             "gridcolor": "white",
             "linecolor": "white",
             "minorgridcolor": "white",
             "startlinecolor": "#2a3f5f"
            },
            "baxis": {
             "endlinecolor": "#2a3f5f",
             "gridcolor": "white",
             "linecolor": "white",
             "minorgridcolor": "white",
             "startlinecolor": "#2a3f5f"
            },
            "type": "carpet"
           }
          ],
          "choropleth": [
           {
            "colorbar": {
             "outlinewidth": 0,
             "ticks": ""
            },
            "type": "choropleth"
           }
          ],
          "contour": [
           {
            "colorbar": {
             "outlinewidth": 0,
             "ticks": ""
            },
            "colorscale": [
             [
              0,
              "#0d0887"
             ],
             [
              0.1111111111111111,
              "#46039f"
             ],
             [
              0.2222222222222222,
              "#7201a8"
             ],
             [
              0.3333333333333333,
              "#9c179e"
             ],
             [
              0.4444444444444444,
              "#bd3786"
             ],
             [
              0.5555555555555556,
              "#d8576b"
             ],
             [
              0.6666666666666666,
              "#ed7953"
             ],
             [
              0.7777777777777778,
              "#fb9f3a"
             ],
             [
              0.8888888888888888,
              "#fdca26"
             ],
             [
              1,
              "#f0f921"
             ]
            ],
            "type": "contour"
           }
          ],
          "contourcarpet": [
           {
            "colorbar": {
             "outlinewidth": 0,
             "ticks": ""
            },
            "type": "contourcarpet"
           }
          ],
          "heatmap": [
           {
            "colorbar": {
             "outlinewidth": 0,
             "ticks": ""
            },
            "colorscale": [
             [
              0,
              "#0d0887"
             ],
             [
              0.1111111111111111,
              "#46039f"
             ],
             [
              0.2222222222222222,
              "#7201a8"
             ],
             [
              0.3333333333333333,
              "#9c179e"
             ],
             [
              0.4444444444444444,
              "#bd3786"
             ],
             [
              0.5555555555555556,
              "#d8576b"
             ],
             [
              0.6666666666666666,
              "#ed7953"
             ],
             [
              0.7777777777777778,
              "#fb9f3a"
             ],
             [
              0.8888888888888888,
              "#fdca26"
             ],
             [
              1,
              "#f0f921"
             ]
            ],
            "type": "heatmap"
           }
          ],
          "heatmapgl": [
           {
            "colorbar": {
             "outlinewidth": 0,
             "ticks": ""
            },
            "colorscale": [
             [
              0,
              "#0d0887"
             ],
             [
              0.1111111111111111,
              "#46039f"
             ],
             [
              0.2222222222222222,
              "#7201a8"
             ],
             [
              0.3333333333333333,
              "#9c179e"
             ],
             [
              0.4444444444444444,
              "#bd3786"
             ],
             [
              0.5555555555555556,
              "#d8576b"
             ],
             [
              0.6666666666666666,
              "#ed7953"
             ],
             [
              0.7777777777777778,
              "#fb9f3a"
             ],
             [
              0.8888888888888888,
              "#fdca26"
             ],
             [
              1,
              "#f0f921"
             ]
            ],
            "type": "heatmapgl"
           }
          ],
          "histogram": [
           {
            "marker": {
             "pattern": {
              "fillmode": "overlay",
              "size": 10,
              "solidity": 0.2
             }
            },
            "type": "histogram"
           }
          ],
          "histogram2d": [
           {
            "colorbar": {
             "outlinewidth": 0,
             "ticks": ""
            },
            "colorscale": [
             [
              0,
              "#0d0887"
             ],
             [
              0.1111111111111111,
              "#46039f"
             ],
             [
              0.2222222222222222,
              "#7201a8"
             ],
             [
              0.3333333333333333,
              "#9c179e"
             ],
             [
              0.4444444444444444,
              "#bd3786"
             ],
             [
              0.5555555555555556,
              "#d8576b"
             ],
             [
              0.6666666666666666,
              "#ed7953"
             ],
             [
              0.7777777777777778,
              "#fb9f3a"
             ],
             [
              0.8888888888888888,
              "#fdca26"
             ],
             [
              1,
              "#f0f921"
             ]
            ],
            "type": "histogram2d"
           }
          ],
          "histogram2dcontour": [
           {
            "colorbar": {
             "outlinewidth": 0,
             "ticks": ""
            },
            "colorscale": [
             [
              0,
              "#0d0887"
             ],
             [
              0.1111111111111111,
              "#46039f"
             ],
             [
              0.2222222222222222,
              "#7201a8"
             ],
             [
              0.3333333333333333,
              "#9c179e"
             ],
             [
              0.4444444444444444,
              "#bd3786"
             ],
             [
              0.5555555555555556,
              "#d8576b"
             ],
             [
              0.6666666666666666,
              "#ed7953"
             ],
             [
              0.7777777777777778,
              "#fb9f3a"
             ],
             [
              0.8888888888888888,
              "#fdca26"
             ],
             [
              1,
              "#f0f921"
             ]
            ],
            "type": "histogram2dcontour"
           }
          ],
          "mesh3d": [
           {
            "colorbar": {
             "outlinewidth": 0,
             "ticks": ""
            },
            "type": "mesh3d"
           }
          ],
          "parcoords": [
           {
            "line": {
             "colorbar": {
              "outlinewidth": 0,
              "ticks": ""
             }
            },
            "type": "parcoords"
           }
          ],
          "pie": [
           {
            "automargin": true,
            "type": "pie"
           }
          ],
          "scatter": [
           {
            "fillpattern": {
             "fillmode": "overlay",
             "size": 10,
             "solidity": 0.2
            },
            "type": "scatter"
           }
          ],
          "scatter3d": [
           {
            "line": {
             "colorbar": {
              "outlinewidth": 0,
              "ticks": ""
             }
            },
            "marker": {
             "colorbar": {
              "outlinewidth": 0,
              "ticks": ""
             }
            },
            "type": "scatter3d"
           }
          ],
          "scattercarpet": [
           {
            "marker": {
             "colorbar": {
              "outlinewidth": 0,
              "ticks": ""
             }
            },
            "type": "scattercarpet"
           }
          ],
          "scattergeo": [
           {
            "marker": {
             "colorbar": {
              "outlinewidth": 0,
              "ticks": ""
             }
            },
            "type": "scattergeo"
           }
          ],
          "scattergl": [
           {
            "marker": {
             "colorbar": {
              "outlinewidth": 0,
              "ticks": ""
             }
            },
            "type": "scattergl"
           }
          ],
          "scattermapbox": [
           {
            "marker": {
             "colorbar": {
              "outlinewidth": 0,
              "ticks": ""
             }
            },
            "type": "scattermapbox"
           }
          ],
          "scatterpolar": [
           {
            "marker": {
             "colorbar": {
              "outlinewidth": 0,
              "ticks": ""
             }
            },
            "type": "scatterpolar"
           }
          ],
          "scatterpolargl": [
           {
            "marker": {
             "colorbar": {
              "outlinewidth": 0,
              "ticks": ""
             }
            },
            "type": "scatterpolargl"
           }
          ],
          "scatterternary": [
           {
            "marker": {
             "colorbar": {
              "outlinewidth": 0,
              "ticks": ""
             }
            },
            "type": "scatterternary"
           }
          ],
          "surface": [
           {
            "colorbar": {
             "outlinewidth": 0,
             "ticks": ""
            },
            "colorscale": [
             [
              0,
              "#0d0887"
             ],
             [
              0.1111111111111111,
              "#46039f"
             ],
             [
              0.2222222222222222,
              "#7201a8"
             ],
             [
              0.3333333333333333,
              "#9c179e"
             ],
             [
              0.4444444444444444,
              "#bd3786"
             ],
             [
              0.5555555555555556,
              "#d8576b"
             ],
             [
              0.6666666666666666,
              "#ed7953"
             ],
             [
              0.7777777777777778,
              "#fb9f3a"
             ],
             [
              0.8888888888888888,
              "#fdca26"
             ],
             [
              1,
              "#f0f921"
             ]
            ],
            "type": "surface"
           }
          ],
          "table": [
           {
            "cells": {
             "fill": {
              "color": "#EBF0F8"
             },
             "line": {
              "color": "white"
             }
            },
            "header": {
             "fill": {
              "color": "#C8D4E3"
             },
             "line": {
              "color": "white"
             }
            },
            "type": "table"
           }
          ]
         },
         "layout": {
          "annotationdefaults": {
           "arrowcolor": "#2a3f5f",
           "arrowhead": 0,
           "arrowwidth": 1
          },
          "autotypenumbers": "strict",
          "coloraxis": {
           "colorbar": {
            "outlinewidth": 0,
            "ticks": ""
           }
          },
          "colorscale": {
           "diverging": [
            [
             0,
             "#8e0152"
            ],
            [
             0.1,
             "#c51b7d"
            ],
            [
             0.2,
             "#de77ae"
            ],
            [
             0.3,
             "#f1b6da"
            ],
            [
             0.4,
             "#fde0ef"
            ],
            [
             0.5,
             "#f7f7f7"
            ],
            [
             0.6,
             "#e6f5d0"
            ],
            [
             0.7,
             "#b8e186"
            ],
            [
             0.8,
             "#7fbc41"
            ],
            [
             0.9,
             "#4d9221"
            ],
            [
             1,
             "#276419"
            ]
           ],
           "sequential": [
            [
             0,
             "#0d0887"
            ],
            [
             0.1111111111111111,
             "#46039f"
            ],
            [
             0.2222222222222222,
             "#7201a8"
            ],
            [
             0.3333333333333333,
             "#9c179e"
            ],
            [
             0.4444444444444444,
             "#bd3786"
            ],
            [
             0.5555555555555556,
             "#d8576b"
            ],
            [
             0.6666666666666666,
             "#ed7953"
            ],
            [
             0.7777777777777778,
             "#fb9f3a"
            ],
            [
             0.8888888888888888,
             "#fdca26"
            ],
            [
             1,
             "#f0f921"
            ]
           ],
           "sequentialminus": [
            [
             0,
             "#0d0887"
            ],
            [
             0.1111111111111111,
             "#46039f"
            ],
            [
             0.2222222222222222,
             "#7201a8"
            ],
            [
             0.3333333333333333,
             "#9c179e"
            ],
            [
             0.4444444444444444,
             "#bd3786"
            ],
            [
             0.5555555555555556,
             "#d8576b"
            ],
            [
             0.6666666666666666,
             "#ed7953"
            ],
            [
             0.7777777777777778,
             "#fb9f3a"
            ],
            [
             0.8888888888888888,
             "#fdca26"
            ],
            [
             1,
             "#f0f921"
            ]
           ]
          },
          "colorway": [
           "#636efa",
           "#EF553B",
           "#00cc96",
           "#ab63fa",
           "#FFA15A",
           "#19d3f3",
           "#FF6692",
           "#B6E880",
           "#FF97FF",
           "#FECB52"
          ],
          "font": {
           "color": "#2a3f5f"
          },
          "geo": {
           "bgcolor": "white",
           "lakecolor": "white",
           "landcolor": "#E5ECF6",
           "showlakes": true,
           "showland": true,
           "subunitcolor": "white"
          },
          "hoverlabel": {
           "align": "left"
          },
          "hovermode": "closest",
          "mapbox": {
           "style": "light"
          },
          "paper_bgcolor": "white",
          "plot_bgcolor": "#E5ECF6",
          "polar": {
           "angularaxis": {
            "gridcolor": "white",
            "linecolor": "white",
            "ticks": ""
           },
           "bgcolor": "#E5ECF6",
           "radialaxis": {
            "gridcolor": "white",
            "linecolor": "white",
            "ticks": ""
           }
          },
          "scene": {
           "xaxis": {
            "backgroundcolor": "#E5ECF6",
            "gridcolor": "white",
            "gridwidth": 2,
            "linecolor": "white",
            "showbackground": true,
            "ticks": "",
            "zerolinecolor": "white"
           },
           "yaxis": {
            "backgroundcolor": "#E5ECF6",
            "gridcolor": "white",
            "gridwidth": 2,
            "linecolor": "white",
            "showbackground": true,
            "ticks": "",
            "zerolinecolor": "white"
           },
           "zaxis": {
            "backgroundcolor": "#E5ECF6",
            "gridcolor": "white",
            "gridwidth": 2,
            "linecolor": "white",
            "showbackground": true,
            "ticks": "",
            "zerolinecolor": "white"
           }
          },
          "shapedefaults": {
           "line": {
            "color": "#2a3f5f"
           }
          },
          "ternary": {
           "aaxis": {
            "gridcolor": "white",
            "linecolor": "white",
            "ticks": ""
           },
           "baxis": {
            "gridcolor": "white",
            "linecolor": "white",
            "ticks": ""
           },
           "bgcolor": "#E5ECF6",
           "caxis": {
            "gridcolor": "white",
            "linecolor": "white",
            "ticks": ""
           }
          },
          "title": {
           "x": 0.05
          },
          "xaxis": {
           "automargin": true,
           "gridcolor": "white",
           "linecolor": "white",
           "ticks": "",
           "title": {
            "standoff": 15
           },
           "zerolinecolor": "white",
           "zerolinewidth": 2
          },
          "yaxis": {
           "automargin": true,
           "gridcolor": "white",
           "linecolor": "white",
           "ticks": "",
           "title": {
            "standoff": 15
           },
           "zerolinecolor": "white",
           "zerolinewidth": 2
          }
         }
        }
       }
      },
      "text/html": [
       "<div>                            <div id=\"eb25d5be-e7f9-49fe-a77e-9edb14d95dc1\" class=\"plotly-graph-div\" style=\"height:525px; width:100%;\"></div>            <script type=\"text/javascript\">                require([\"plotly\"], function(Plotly) {                    window.PLOTLYENV=window.PLOTLYENV || {};                                    if (document.getElementById(\"eb25d5be-e7f9-49fe-a77e-9edb14d95dc1\")) {                    Plotly.newPlot(                        \"eb25d5be-e7f9-49fe-a77e-9edb14d95dc1\",                        [{\"fill\":\"toself\",\"name\":\"Cluster 0\",\"r\":[0.19953432035320232,0.19688749876418704,0.19958523481275148,0.7438191832046265,-0.1978793747760201,0.7623989414697444],\"theta\":[\"saving_amount\",\"debt_owned\",\"saving transaction\",\"saving transaction number\",\"credit transaction\",\"credit card transaction number\"],\"type\":\"scatterpolar\"},{\"fill\":\"toself\",\"name\":\"Cluster 1\",\"r\":[-0.2939867102056045,-0.10595419470798025,-0.29402420961354936,-0.615294441730955,0.10259138026470167,-0.602107378527222],\"theta\":[\"saving_amount\",\"debt_owned\",\"saving transaction\",\"saving transaction number\",\"credit transaction\",\"credit card transaction number\"],\"type\":\"scatterpolar\"},{\"fill\":\"toself\",\"name\":\"Cluster 2\",\"r\":[5.50040779972351,-1.8918332220475842,5.500320052943292,1.3995593794620458,2.0562532525347326,0.29940111089500065],\"theta\":[\"saving_amount\",\"debt_owned\",\"saving transaction\",\"saving transaction number\",\"credit transaction\",\"credit card transaction number\"],\"type\":\"scatterpolar\"}],                        {\"template\":{\"data\":{\"histogram2dcontour\":[{\"type\":\"histogram2dcontour\",\"colorbar\":{\"outlinewidth\":0,\"ticks\":\"\"},\"colorscale\":[[0.0,\"#0d0887\"],[0.1111111111111111,\"#46039f\"],[0.2222222222222222,\"#7201a8\"],[0.3333333333333333,\"#9c179e\"],[0.4444444444444444,\"#bd3786\"],[0.5555555555555556,\"#d8576b\"],[0.6666666666666666,\"#ed7953\"],[0.7777777777777778,\"#fb9f3a\"],[0.8888888888888888,\"#fdca26\"],[1.0,\"#f0f921\"]]}],\"choropleth\":[{\"type\":\"choropleth\",\"colorbar\":{\"outlinewidth\":0,\"ticks\":\"\"}}],\"histogram2d\":[{\"type\":\"histogram2d\",\"colorbar\":{\"outlinewidth\":0,\"ticks\":\"\"},\"colorscale\":[[0.0,\"#0d0887\"],[0.1111111111111111,\"#46039f\"],[0.2222222222222222,\"#7201a8\"],[0.3333333333333333,\"#9c179e\"],[0.4444444444444444,\"#bd3786\"],[0.5555555555555556,\"#d8576b\"],[0.6666666666666666,\"#ed7953\"],[0.7777777777777778,\"#fb9f3a\"],[0.8888888888888888,\"#fdca26\"],[1.0,\"#f0f921\"]]}],\"heatmap\":[{\"type\":\"heatmap\",\"colorbar\":{\"outlinewidth\":0,\"ticks\":\"\"},\"colorscale\":[[0.0,\"#0d0887\"],[0.1111111111111111,\"#46039f\"],[0.2222222222222222,\"#7201a8\"],[0.3333333333333333,\"#9c179e\"],[0.4444444444444444,\"#bd3786\"],[0.5555555555555556,\"#d8576b\"],[0.6666666666666666,\"#ed7953\"],[0.7777777777777778,\"#fb9f3a\"],[0.8888888888888888,\"#fdca26\"],[1.0,\"#f0f921\"]]}],\"heatmapgl\":[{\"type\":\"heatmapgl\",\"colorbar\":{\"outlinewidth\":0,\"ticks\":\"\"},\"colorscale\":[[0.0,\"#0d0887\"],[0.1111111111111111,\"#46039f\"],[0.2222222222222222,\"#7201a8\"],[0.3333333333333333,\"#9c179e\"],[0.4444444444444444,\"#bd3786\"],[0.5555555555555556,\"#d8576b\"],[0.6666666666666666,\"#ed7953\"],[0.7777777777777778,\"#fb9f3a\"],[0.8888888888888888,\"#fdca26\"],[1.0,\"#f0f921\"]]}],\"contourcarpet\":[{\"type\":\"contourcarpet\",\"colorbar\":{\"outlinewidth\":0,\"ticks\":\"\"}}],\"contour\":[{\"type\":\"contour\",\"colorbar\":{\"outlinewidth\":0,\"ticks\":\"\"},\"colorscale\":[[0.0,\"#0d0887\"],[0.1111111111111111,\"#46039f\"],[0.2222222222222222,\"#7201a8\"],[0.3333333333333333,\"#9c179e\"],[0.4444444444444444,\"#bd3786\"],[0.5555555555555556,\"#d8576b\"],[0.6666666666666666,\"#ed7953\"],[0.7777777777777778,\"#fb9f3a\"],[0.8888888888888888,\"#fdca26\"],[1.0,\"#f0f921\"]]}],\"surface\":[{\"type\":\"surface\",\"colorbar\":{\"outlinewidth\":0,\"ticks\":\"\"},\"colorscale\":[[0.0,\"#0d0887\"],[0.1111111111111111,\"#46039f\"],[0.2222222222222222,\"#7201a8\"],[0.3333333333333333,\"#9c179e\"],[0.4444444444444444,\"#bd3786\"],[0.5555555555555556,\"#d8576b\"],[0.6666666666666666,\"#ed7953\"],[0.7777777777777778,\"#fb9f3a\"],[0.8888888888888888,\"#fdca26\"],[1.0,\"#f0f921\"]]}],\"mesh3d\":[{\"type\":\"mesh3d\",\"colorbar\":{\"outlinewidth\":0,\"ticks\":\"\"}}],\"scatter\":[{\"fillpattern\":{\"fillmode\":\"overlay\",\"size\":10,\"solidity\":0.2},\"type\":\"scatter\"}],\"parcoords\":[{\"type\":\"parcoords\",\"line\":{\"colorbar\":{\"outlinewidth\":0,\"ticks\":\"\"}}}],\"scatterpolargl\":[{\"type\":\"scatterpolargl\",\"marker\":{\"colorbar\":{\"outlinewidth\":0,\"ticks\":\"\"}}}],\"bar\":[{\"error_x\":{\"color\":\"#2a3f5f\"},\"error_y\":{\"color\":\"#2a3f5f\"},\"marker\":{\"line\":{\"color\":\"#E5ECF6\",\"width\":0.5},\"pattern\":{\"fillmode\":\"overlay\",\"size\":10,\"solidity\":0.2}},\"type\":\"bar\"}],\"scattergeo\":[{\"type\":\"scattergeo\",\"marker\":{\"colorbar\":{\"outlinewidth\":0,\"ticks\":\"\"}}}],\"scatterpolar\":[{\"type\":\"scatterpolar\",\"marker\":{\"colorbar\":{\"outlinewidth\":0,\"ticks\":\"\"}}}],\"histogram\":[{\"marker\":{\"pattern\":{\"fillmode\":\"overlay\",\"size\":10,\"solidity\":0.2}},\"type\":\"histogram\"}],\"scattergl\":[{\"type\":\"scattergl\",\"marker\":{\"colorbar\":{\"outlinewidth\":0,\"ticks\":\"\"}}}],\"scatter3d\":[{\"type\":\"scatter3d\",\"line\":{\"colorbar\":{\"outlinewidth\":0,\"ticks\":\"\"}},\"marker\":{\"colorbar\":{\"outlinewidth\":0,\"ticks\":\"\"}}}],\"scattermapbox\":[{\"type\":\"scattermapbox\",\"marker\":{\"colorbar\":{\"outlinewidth\":0,\"ticks\":\"\"}}}],\"scatterternary\":[{\"type\":\"scatterternary\",\"marker\":{\"colorbar\":{\"outlinewidth\":0,\"ticks\":\"\"}}}],\"scattercarpet\":[{\"type\":\"scattercarpet\",\"marker\":{\"colorbar\":{\"outlinewidth\":0,\"ticks\":\"\"}}}],\"carpet\":[{\"aaxis\":{\"endlinecolor\":\"#2a3f5f\",\"gridcolor\":\"white\",\"linecolor\":\"white\",\"minorgridcolor\":\"white\",\"startlinecolor\":\"#2a3f5f\"},\"baxis\":{\"endlinecolor\":\"#2a3f5f\",\"gridcolor\":\"white\",\"linecolor\":\"white\",\"minorgridcolor\":\"white\",\"startlinecolor\":\"#2a3f5f\"},\"type\":\"carpet\"}],\"table\":[{\"cells\":{\"fill\":{\"color\":\"#EBF0F8\"},\"line\":{\"color\":\"white\"}},\"header\":{\"fill\":{\"color\":\"#C8D4E3\"},\"line\":{\"color\":\"white\"}},\"type\":\"table\"}],\"barpolar\":[{\"marker\":{\"line\":{\"color\":\"#E5ECF6\",\"width\":0.5},\"pattern\":{\"fillmode\":\"overlay\",\"size\":10,\"solidity\":0.2}},\"type\":\"barpolar\"}],\"pie\":[{\"automargin\":true,\"type\":\"pie\"}]},\"layout\":{\"autotypenumbers\":\"strict\",\"colorway\":[\"#636efa\",\"#EF553B\",\"#00cc96\",\"#ab63fa\",\"#FFA15A\",\"#19d3f3\",\"#FF6692\",\"#B6E880\",\"#FF97FF\",\"#FECB52\"],\"font\":{\"color\":\"#2a3f5f\"},\"hovermode\":\"closest\",\"hoverlabel\":{\"align\":\"left\"},\"paper_bgcolor\":\"white\",\"plot_bgcolor\":\"#E5ECF6\",\"polar\":{\"bgcolor\":\"#E5ECF6\",\"angularaxis\":{\"gridcolor\":\"white\",\"linecolor\":\"white\",\"ticks\":\"\"},\"radialaxis\":{\"gridcolor\":\"white\",\"linecolor\":\"white\",\"ticks\":\"\"}},\"ternary\":{\"bgcolor\":\"#E5ECF6\",\"aaxis\":{\"gridcolor\":\"white\",\"linecolor\":\"white\",\"ticks\":\"\"},\"baxis\":{\"gridcolor\":\"white\",\"linecolor\":\"white\",\"ticks\":\"\"},\"caxis\":{\"gridcolor\":\"white\",\"linecolor\":\"white\",\"ticks\":\"\"}},\"coloraxis\":{\"colorbar\":{\"outlinewidth\":0,\"ticks\":\"\"}},\"colorscale\":{\"sequential\":[[0.0,\"#0d0887\"],[0.1111111111111111,\"#46039f\"],[0.2222222222222222,\"#7201a8\"],[0.3333333333333333,\"#9c179e\"],[0.4444444444444444,\"#bd3786\"],[0.5555555555555556,\"#d8576b\"],[0.6666666666666666,\"#ed7953\"],[0.7777777777777778,\"#fb9f3a\"],[0.8888888888888888,\"#fdca26\"],[1.0,\"#f0f921\"]],\"sequentialminus\":[[0.0,\"#0d0887\"],[0.1111111111111111,\"#46039f\"],[0.2222222222222222,\"#7201a8\"],[0.3333333333333333,\"#9c179e\"],[0.4444444444444444,\"#bd3786\"],[0.5555555555555556,\"#d8576b\"],[0.6666666666666666,\"#ed7953\"],[0.7777777777777778,\"#fb9f3a\"],[0.8888888888888888,\"#fdca26\"],[1.0,\"#f0f921\"]],\"diverging\":[[0,\"#8e0152\"],[0.1,\"#c51b7d\"],[0.2,\"#de77ae\"],[0.3,\"#f1b6da\"],[0.4,\"#fde0ef\"],[0.5,\"#f7f7f7\"],[0.6,\"#e6f5d0\"],[0.7,\"#b8e186\"],[0.8,\"#7fbc41\"],[0.9,\"#4d9221\"],[1,\"#276419\"]]},\"xaxis\":{\"gridcolor\":\"white\",\"linecolor\":\"white\",\"ticks\":\"\",\"title\":{\"standoff\":15},\"zerolinecolor\":\"white\",\"automargin\":true,\"zerolinewidth\":2},\"yaxis\":{\"gridcolor\":\"white\",\"linecolor\":\"white\",\"ticks\":\"\",\"title\":{\"standoff\":15},\"zerolinecolor\":\"white\",\"automargin\":true,\"zerolinewidth\":2},\"scene\":{\"xaxis\":{\"backgroundcolor\":\"#E5ECF6\",\"gridcolor\":\"white\",\"linecolor\":\"white\",\"showbackground\":true,\"ticks\":\"\",\"zerolinecolor\":\"white\",\"gridwidth\":2},\"yaxis\":{\"backgroundcolor\":\"#E5ECF6\",\"gridcolor\":\"white\",\"linecolor\":\"white\",\"showbackground\":true,\"ticks\":\"\",\"zerolinecolor\":\"white\",\"gridwidth\":2},\"zaxis\":{\"backgroundcolor\":\"#E5ECF6\",\"gridcolor\":\"white\",\"linecolor\":\"white\",\"showbackground\":true,\"ticks\":\"\",\"zerolinecolor\":\"white\",\"gridwidth\":2}},\"shapedefaults\":{\"line\":{\"color\":\"#2a3f5f\"}},\"annotationdefaults\":{\"arrowcolor\":\"#2a3f5f\",\"arrowhead\":0,\"arrowwidth\":1},\"geo\":{\"bgcolor\":\"white\",\"landcolor\":\"#E5ECF6\",\"subunitcolor\":\"white\",\"showland\":true,\"showlakes\":true,\"lakecolor\":\"white\"},\"title\":{\"x\":0.05},\"mapbox\":{\"style\":\"light\"}}}},                        {\"responsive\": true}                    ).then(function(){\n",
       "                            \n",
       "var gd = document.getElementById('eb25d5be-e7f9-49fe-a77e-9edb14d95dc1');\n",
       "var x = new MutationObserver(function (mutations, observer) {{\n",
       "        var display = window.getComputedStyle(gd).display;\n",
       "        if (!display || display === 'none') {{\n",
       "            console.log([gd, 'removed!']);\n",
       "            Plotly.purge(gd);\n",
       "            observer.disconnect();\n",
       "        }}\n",
       "}});\n",
       "\n",
       "// Listen for the removal of the full notebook cells\n",
       "var notebookContainer = gd.closest('#notebook-container');\n",
       "if (notebookContainer) {{\n",
       "    x.observe(notebookContainer, {childList: true});\n",
       "}}\n",
       "\n",
       "// Listen for the clearing of the current output cell\n",
       "var outputEl = gd.closest('.output');\n",
       "if (outputEl) {{\n",
       "    x.observe(outputEl, {childList: true});\n",
       "}}\n",
       "\n",
       "                        })                };                });            </script>        </div>"
      ]
     },
     "metadata": {},
     "output_type": "display_data"
    }
   ],
   "source": [
    "plot_radar(data)\n"
   ]
  },
  {
   "cell_type": "code",
   "execution_count": null,
   "metadata": {},
   "outputs": [],
   "source": []
  },
  {
   "cell_type": "markdown",
   "metadata": {},
   "source": [
    "***Task III***:\n",
    "* visualize segmentations using scatter plot. We will have to use PCA to be able to plot our observations in 2D.\n"
   ]
  },
  {
   "cell_type": "code",
   "execution_count": 622,
   "metadata": {},
   "outputs": [
    {
     "name": "stdout",
     "output_type": "stream",
     "text": [
      "Low-dimensional dataset shape: (287, 2)\n"
     ]
    }
   ],
   "source": [
    "#implementing PCA\n",
    "pca=PCA(n_components=2)\n",
    "pca_banking=pca.fit_transform(banking)\n",
    "print('Low-dimensional dataset shape: {}'.format(pca_banking.shape))"
   ]
  },
  {
   "cell_type": "code",
   "execution_count": 628,
   "metadata": {},
   "outputs": [
    {
     "data": {
      "text/plain": [
       "array([[ 0.53253204, -0.44889437,  0.53253754,  0.13774546,  0.45662476,\n",
       "         0.06186483],\n",
       "       [ 0.31863271,  0.47521177,  0.3186515 ,  0.47202095, -0.46728925,\n",
       "         0.3604791 ]])"
      ]
     },
     "execution_count": 628,
     "metadata": {},
     "output_type": "execute_result"
    }
   ],
   "source": [
    "pca.components_"
   ]
  },
  {
   "cell_type": "code",
   "execution_count": 636,
   "metadata": {},
   "outputs": [
    {
     "data": {
      "image/png": "[encoded data removed]",
      "text/plain": [
       "<Figure size 576x576 with 1 Axes>"
      ]
     },
     "metadata": {
      "needs_background": "light"
     },
     "output_type": "display_data"
    }
   ],
   "source": [
    "loading=pca.components_\n",
    "x=loading[0]\n",
    "y=loading[1]\n",
    "\n",
    "# separations of the various wine classes\n",
    "plt.figure(figsize=(8,8))\n",
    "plt.scatter(x, y)\n",
    "plt.xlabel(\"PC1\")\n",
    "plt.ylabel(\"PC2\")\n",
    "features=list(banking_km.columns)\n",
    "for i, label in enumerate(features):\n",
    "    plt.annotate(label, (x[i],y[i]))\n",
    "    plt.plot([0,x[i]], [0, y[i]], color='black', ls='--')\n",
    "\n",
    "plt.show()"
   ]
  },
  {
   "cell_type": "code",
   "execution_count": 623,
   "metadata": {
    "scrolled": false
   },
   "outputs": [
    {
     "data": {
      "image/png": "[encoded data removed]",
      "text/plain": [
       "<Figure size 576x504 with 1 Axes>"
      ]
     },
     "metadata": {
      "needs_background": "light"
     },
     "output_type": "display_data"
    }
   ],
   "source": [
    "fig= sns.scatterplot(x=pca_banking[:,0], y=pca_banking[:,1])\n",
    "plt.xlabel(\"PC1\")\n",
    "plt.ylabel(\"PC2\")\n",
    "plt.show()"
   ]
  },
  {
   "cell_type": "code",
   "execution_count": 624,
   "metadata": {},
   "outputs": [
    {
     "data": {
      "text/html": [
       "<div>\n",
       "<style scoped>\n",
       "    .dataframe tbody tr th:only-of-type {\n",
       "        vertical-align: middle;\n",
       "    }\n",
       "\n",
       "    .dataframe tbody tr th {\n",
       "        vertical-align: top;\n",
       "    }\n",
       "\n",
       "    .dataframe thead th {\n",
       "        text-align: right;\n",
       "    }\n",
       "</style>\n",
       "<table border=\"1\" class=\"dataframe\">\n",
       "  <thead>\n",
       "    <tr style=\"text-align: right;\">\n",
       "      <th></th>\n",
       "      <th>PC1</th>\n",
       "      <th>PC2</th>\n",
       "      <th>cluster</th>\n",
       "    </tr>\n",
       "  </thead>\n",
       "  <tbody>\n",
       "    <tr>\n",
       "      <th>0</th>\n",
       "      <td>0.033265</td>\n",
       "      <td>0.663934</td>\n",
       "      <td>0</td>\n",
       "    </tr>\n",
       "    <tr>\n",
       "      <th>1</th>\n",
       "      <td>-1.836446</td>\n",
       "      <td>-0.305002</td>\n",
       "      <td>1</td>\n",
       "    </tr>\n",
       "    <tr>\n",
       "      <th>2</th>\n",
       "      <td>2.422969</td>\n",
       "      <td>-4.577249</td>\n",
       "      <td>1</td>\n",
       "    </tr>\n",
       "    <tr>\n",
       "      <th>3</th>\n",
       "      <td>0.356415</td>\n",
       "      <td>-2.558051</td>\n",
       "      <td>1</td>\n",
       "    </tr>\n",
       "    <tr>\n",
       "      <th>4</th>\n",
       "      <td>0.081346</td>\n",
       "      <td>0.978089</td>\n",
       "      <td>0</td>\n",
       "    </tr>\n",
       "  </tbody>\n",
       "</table>\n",
       "</div>"
      ],
      "text/plain": [
       "        PC1       PC2  cluster\n",
       "0  0.033265  0.663934        0\n",
       "1 -1.836446 -0.305002        1\n",
       "2  2.422969 -4.577249        1\n",
       "3  0.356415 -2.558051        1\n",
       "4  0.081346  0.978089        0"
      ]
     },
     "execution_count": 624,
     "metadata": {},
     "output_type": "execute_result"
    }
   ],
   "source": [
    "#reconstruct pca_banking\n",
    "df_banking_km=pd.DataFrame(pca_banking,columns=['PC1', 'PC2'])\n",
    "df_banking_km['cluster']=y_km\n",
    "df_banking_km.head()"
   ]
  },
  {
   "cell_type": "code",
   "execution_count": 625,
   "metadata": {},
   "outputs": [
    {
     "data": {
      "image/png": "[encoded data removed]",
      "text/plain": [
       "<Figure size 576x504 with 1 Axes>"
      ]
     },
     "metadata": {
      "needs_background": "light"
     },
     "output_type": "display_data"
    }
   ],
   "source": [
    "#plot clusters\n",
    "def plot_clusters(X,y_res,plt_cluster_centers=False):\n",
    "    Y_centroids=[]\n",
    "    X_centroids=[]\n",
    "    \n",
    "    for cluster in set(y_res):\n",
    "        x = X[y_res == cluster, 0]\n",
    "        y = X[y_res == cluster, 1]\n",
    "        #calculating the mean value of each cluster\n",
    "        X_centroids.append(np.mean(x))\n",
    "        Y_centroids.append(np.mean(y))\n",
    "\n",
    "        plt.scatter(x,y, s=50,marker='*', label=f'cluster {cluster}')\n",
    "\n",
    "\n",
    "    if plt_cluster_centers:\n",
    "        plt.scatter(X_centroids,Y_centroids,marker='*',c='red',s=250,label='centroids')\n",
    "\n",
    "\n",
    "    plt.grid()\n",
    "    plt.legend()\n",
    "    plt.show()\n",
    "plt.rcParams[\"figure.figsize\"] = (8,7)\n",
    " # plot clustering result\n",
    "plot_clusters(pca_banking, y_km, plt_cluster_centers= True)"
   ]
  },
  {
   "cell_type": "markdown",
   "metadata": {},
   "source": [
    "***Task IV***:\n",
    "* (stretch) visualize in 2D how our clusters are evolving in each iteration of KMeans (for at least 20 iterations).we will need to create own implementation of kmeans so we can see what is happening with the clusters during the iterations.\n"
   ]
  },
  {
   "cell_type": "code",
   "execution_count": null,
   "metadata": {},
   "outputs": [],
   "source": []
  }
 ],
 "metadata": {
  "kernelspec": {
   "display_name": "Python 3.8.9 64-bit",
   "language": "python",
   "name": "python3"
  },
  "language_info": {
   "codemirror_mode": {
    "name": "ipython",
    "version": 3
   },
   "file_extension": ".py",
   "mimetype": "text/x-python",
   "name": "python",
   "nbconvert_exporter": "python",
   "pygments_lexer": "ipython3",
   "version": "3.8.9"
  },
  "vscode": {
   "interpreter": {
    "hash": "31f2aee4e71d21fbe5cf8b01ff0e069b9275f58929596ceb00d14d90e3e16cd6"
   }
  }
 },
 "nbformat": 4,
 "nbformat_minor": 4
}
