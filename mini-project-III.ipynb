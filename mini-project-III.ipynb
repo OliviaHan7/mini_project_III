{
 "cells": [
  {
   "cell_type": "markdown",
   "metadata": {},
   "source": [
    "## Mini Project III"
   ]
  },
  {
   "cell_type": "markdown",
   "metadata": {},
   "source": [
    "***Task I***:\n",
    "* create two separate customer segmentations (using clustering) to split them into 3-5 clusters:\n",
    "    * based on demographics (only on the information from twm_customer)\n",
    "    * based on their banking behavior. \n",
    "        do they have savings account? How much do they save?\n",
    "        do they have credit account? How much do they live in debt?\n",
    "        are they making lot of small transactions or few huge ones?"
   ]
  },
  {
   "cell_type": "code",
<<<<<<< HEAD
   "execution_count": 577,
=======
   "execution_count": 1,
>>>>>>> b78a54aa83a1728a790e2f265e9408b0489072e4
   "metadata": {},
   "outputs": [],
   "source": [
    "import numpy as np\n",
    "import pandas as pd\n",
    "import matplotlib.pyplot as plt\n",
    "import plotly.express as px\n",
    "from sklearn.cluster import KMeans\n",
    "import plotly.graph_objects as go\n",
    "from sklearn.decomposition import PCA\n",
    "import seaborn as sns"
   ]
  },
  {
   "cell_type": "markdown",
   "metadata": {},
   "source": [
    "### Demographics Cluster"
   ]
  },
  {
   "cell_type": "code",
   "execution_count": 5,
   "metadata": {},
   "outputs": [
    {
     "data": {
      "text/html": [
       "<div>\n",
       "<style scoped>\n",
       "    .dataframe tbody tr th:only-of-type {\n",
       "        vertical-align: middle;\n",
       "    }\n",
       "\n",
       "    .dataframe tbody tr th {\n",
       "        vertical-align: top;\n",
       "    }\n",
       "\n",
       "    .dataframe thead th {\n",
       "        text-align: right;\n",
       "    }\n",
       "</style>\n",
       "<table border=\"1\" class=\"dataframe\">\n",
       "  <thead>\n",
       "    <tr style=\"text-align: right;\">\n",
       "      <th></th>\n",
       "      <th>cust_id</th>\n",
       "      <th>income</th>\n",
       "      <th>age</th>\n",
       "      <th>years_with_bank</th>\n",
       "      <th>nbr_children</th>\n",
       "      <th>gender</th>\n",
       "      <th>marital_status</th>\n",
       "      <th>name_prefix</th>\n",
       "      <th>first_name</th>\n",
       "      <th>last_name</th>\n",
       "      <th>street_nbr</th>\n",
       "      <th>street_name</th>\n",
       "      <th>postal_code</th>\n",
       "      <th>city_name</th>\n",
       "      <th>state_code</th>\n",
       "    </tr>\n",
       "  </thead>\n",
       "  <tbody>\n",
       "    <tr>\n",
       "      <th>0</th>\n",
       "      <td>1362691</td>\n",
       "      <td>26150</td>\n",
       "      <td>46</td>\n",
       "      <td>5</td>\n",
       "      <td>1</td>\n",
       "      <td>M</td>\n",
       "      <td>2</td>\n",
       "      <td></td>\n",
       "      <td>Donald                                        ...</td>\n",
       "      <td>Marek                                         ...</td>\n",
       "      <td>8298</td>\n",
       "      <td>Second                                        ...</td>\n",
       "      <td>89194</td>\n",
       "      <td>Las Vegas</td>\n",
       "      <td>NV</td>\n",
       "    </tr>\n",
       "    <tr>\n",
       "      <th>1</th>\n",
       "      <td>1362487</td>\n",
       "      <td>6605</td>\n",
       "      <td>71</td>\n",
       "      <td>1</td>\n",
       "      <td>0</td>\n",
       "      <td>M</td>\n",
       "      <td>2</td>\n",
       "      <td></td>\n",
       "      <td>ChingDyi                                      ...</td>\n",
       "      <td>Moussavi                                      ...</td>\n",
       "      <td>10603</td>\n",
       "      <td>Daffodil                                      ...</td>\n",
       "      <td>90159</td>\n",
       "      <td>Los Angeles</td>\n",
       "      <td>CA</td>\n",
       "    </tr>\n",
       "    <tr>\n",
       "      <th>2</th>\n",
       "      <td>1363160</td>\n",
       "      <td>18548</td>\n",
       "      <td>38</td>\n",
       "      <td>8</td>\n",
       "      <td>0</td>\n",
       "      <td>F</td>\n",
       "      <td>1</td>\n",
       "      <td></td>\n",
       "      <td>Rosa                                          ...</td>\n",
       "      <td>Johnston                                      ...</td>\n",
       "      <td>8817</td>\n",
       "      <td>Figueroa                                      ...</td>\n",
       "      <td>90024</td>\n",
       "      <td>Los Angeles</td>\n",
       "      <td>CA</td>\n",
       "    </tr>\n",
       "    <tr>\n",
       "      <th>3</th>\n",
       "      <td>1362752</td>\n",
       "      <td>47668</td>\n",
       "      <td>54</td>\n",
       "      <td>3</td>\n",
       "      <td>0</td>\n",
       "      <td>F</td>\n",
       "      <td>1</td>\n",
       "      <td></td>\n",
       "      <td>Lisa                                          ...</td>\n",
       "      <td>Martin                                        ...</td>\n",
       "      <td>676</td>\n",
       "      <td>Humble                                        ...</td>\n",
       "      <td>90172</td>\n",
       "      <td>Los Angeles</td>\n",
       "      <td>CA</td>\n",
       "    </tr>\n",
       "    <tr>\n",
       "      <th>4</th>\n",
       "      <td>1362548</td>\n",
       "      <td>44554</td>\n",
       "      <td>59</td>\n",
       "      <td>9</td>\n",
       "      <td>2</td>\n",
       "      <td>F</td>\n",
       "      <td>4</td>\n",
       "      <td></td>\n",
       "      <td>Barbara                                       ...</td>\n",
       "      <td>O'Malley                                      ...</td>\n",
       "      <td>6578</td>\n",
       "      <td>C                                             ...</td>\n",
       "      <td>10138</td>\n",
       "      <td>New York City</td>\n",
       "      <td>NY</td>\n",
       "    </tr>\n",
       "  </tbody>\n",
       "</table>\n",
       "</div>"
      ],
      "text/plain": [
       "   cust_id  income  age  years_with_bank  nbr_children gender  marital_status  \\\n",
       "0  1362691   26150   46                5             1     M                2   \n",
       "1  1362487    6605   71                1             0     M                2   \n",
       "2  1363160   18548   38                8             0     F                1   \n",
       "3  1362752   47668   54                3             0     F                1   \n",
       "4  1362548   44554   59                9             2     F                4   \n",
       "\n",
       "  name_prefix                                         first_name  \\\n",
       "0              Donald                                        ...   \n",
       "1              ChingDyi                                      ...   \n",
       "2              Rosa                                          ...   \n",
       "3              Lisa                                          ...   \n",
       "4              Barbara                                       ...   \n",
       "\n",
       "                                           last_name  street_nbr  \\\n",
       "0  Marek                                         ...        8298   \n",
       "1  Moussavi                                      ...       10603   \n",
       "2  Johnston                                      ...        8817   \n",
       "3  Martin                                        ...         676   \n",
       "4  O'Malley                                      ...        6578   \n",
       "\n",
       "                                         street_name  postal_code  \\\n",
       "0  Second                                        ...        89194   \n",
       "1  Daffodil                                      ...        90159   \n",
       "2  Figueroa                                      ...        90024   \n",
       "3  Humble                                        ...        90172   \n",
       "4  C                                             ...        10138   \n",
       "\n",
       "                                  city_name state_code  \n",
       "0  Las Vegas                                      NV    \n",
       "1  Los Angeles                                    CA    \n",
       "2  Los Angeles                                    CA    \n",
       "3  Los Angeles                                    CA    \n",
       "4  New York City                                  NY    "
      ]
     },
     "execution_count": 5,
     "metadata": {},
     "output_type": "execute_result"
    }
   ],
   "source": [
    "df_customers = pd.read_csv(\"C:\\\\Users\\\\bevli\\\\Downloads\\\\mini-project-III\\\\twm_customer.csv\", sep = ';')\n",
    "df_customers.head()"
   ]
  },
  {
   "cell_type": "code",
   "execution_count": 6,
   "metadata": {},
   "outputs": [
    {
     "data": {
      "text/html": [
       "<div>\n",
       "<style scoped>\n",
       "    .dataframe tbody tr th:only-of-type {\n",
       "        vertical-align: middle;\n",
       "    }\n",
       "\n",
       "    .dataframe tbody tr th {\n",
       "        vertical-align: top;\n",
       "    }\n",
       "\n",
       "    .dataframe thead th {\n",
       "        text-align: right;\n",
       "    }\n",
       "</style>\n",
       "<table border=\"1\" class=\"dataframe\">\n",
       "  <thead>\n",
       "    <tr style=\"text-align: right;\">\n",
       "      <th></th>\n",
       "      <th>cust_id</th>\n",
       "      <th>income</th>\n",
       "      <th>age</th>\n",
       "      <th>years_with_bank</th>\n",
       "      <th>nbr_children</th>\n",
       "      <th>marital_status</th>\n",
       "      <th>street_nbr</th>\n",
       "      <th>postal_code</th>\n",
       "    </tr>\n",
       "  </thead>\n",
       "  <tbody>\n",
       "    <tr>\n",
       "      <th>count</th>\n",
       "      <td>7.470000e+02</td>\n",
       "      <td>747.000000</td>\n",
       "      <td>747.000000</td>\n",
       "      <td>747.000000</td>\n",
       "      <td>747.000000</td>\n",
       "      <td>747.000000</td>\n",
       "      <td>747.000000</td>\n",
       "      <td>747.000000</td>\n",
       "    </tr>\n",
       "    <tr>\n",
       "      <th>mean</th>\n",
       "      <td>1.362991e+06</td>\n",
       "      <td>22728.281124</td>\n",
       "      <td>42.479250</td>\n",
       "      <td>3.907631</td>\n",
       "      <td>0.714859</td>\n",
       "      <td>1.882195</td>\n",
       "      <td>8523.109772</td>\n",
       "      <td>59502.690763</td>\n",
       "    </tr>\n",
       "    <tr>\n",
       "      <th>std</th>\n",
       "      <td>2.925255e+02</td>\n",
       "      <td>22207.221405</td>\n",
       "      <td>19.114879</td>\n",
       "      <td>2.675634</td>\n",
       "      <td>1.103410</td>\n",
       "      <td>0.892051</td>\n",
       "      <td>5219.488263</td>\n",
       "      <td>31205.926508</td>\n",
       "    </tr>\n",
       "    <tr>\n",
       "      <th>min</th>\n",
       "      <td>1.362480e+06</td>\n",
       "      <td>0.000000</td>\n",
       "      <td>13.000000</td>\n",
       "      <td>0.000000</td>\n",
       "      <td>0.000000</td>\n",
       "      <td>1.000000</td>\n",
       "      <td>196.000000</td>\n",
       "      <td>2149.000000</td>\n",
       "    </tr>\n",
       "    <tr>\n",
       "      <th>25%</th>\n",
       "      <td>1.362732e+06</td>\n",
       "      <td>7118.500000</td>\n",
       "      <td>28.000000</td>\n",
       "      <td>2.000000</td>\n",
       "      <td>0.000000</td>\n",
       "      <td>1.000000</td>\n",
       "      <td>4295.500000</td>\n",
       "      <td>33145.000000</td>\n",
       "    </tr>\n",
       "    <tr>\n",
       "      <th>50%</th>\n",
       "      <td>1.362993e+06</td>\n",
       "      <td>17242.000000</td>\n",
       "      <td>42.000000</td>\n",
       "      <td>4.000000</td>\n",
       "      <td>0.000000</td>\n",
       "      <td>2.000000</td>\n",
       "      <td>8001.000000</td>\n",
       "      <td>64132.000000</td>\n",
       "    </tr>\n",
       "    <tr>\n",
       "      <th>75%</th>\n",
       "      <td>1.363244e+06</td>\n",
       "      <td>31338.000000</td>\n",
       "      <td>56.000000</td>\n",
       "      <td>6.000000</td>\n",
       "      <td>1.000000</td>\n",
       "      <td>2.000000</td>\n",
       "      <td>12039.000000</td>\n",
       "      <td>90082.000000</td>\n",
       "    </tr>\n",
       "    <tr>\n",
       "      <th>max</th>\n",
       "      <td>1.363495e+06</td>\n",
       "      <td>144157.000000</td>\n",
       "      <td>89.000000</td>\n",
       "      <td>9.000000</td>\n",
       "      <td>5.000000</td>\n",
       "      <td>4.000000</td>\n",
       "      <td>19940.000000</td>\n",
       "      <td>98186.000000</td>\n",
       "    </tr>\n",
       "  </tbody>\n",
       "</table>\n",
       "</div>"
      ],
      "text/plain": [
       "            cust_id         income         age  years_with_bank  nbr_children  \\\n",
       "count  7.470000e+02     747.000000  747.000000       747.000000    747.000000   \n",
       "mean   1.362991e+06   22728.281124   42.479250         3.907631      0.714859   \n",
       "std    2.925255e+02   22207.221405   19.114879         2.675634      1.103410   \n",
       "min    1.362480e+06       0.000000   13.000000         0.000000      0.000000   \n",
       "25%    1.362732e+06    7118.500000   28.000000         2.000000      0.000000   \n",
       "50%    1.362993e+06   17242.000000   42.000000         4.000000      0.000000   \n",
       "75%    1.363244e+06   31338.000000   56.000000         6.000000      1.000000   \n",
       "max    1.363495e+06  144157.000000   89.000000         9.000000      5.000000   \n",
       "\n",
       "       marital_status    street_nbr   postal_code  \n",
       "count      747.000000    747.000000    747.000000  \n",
       "mean         1.882195   8523.109772  59502.690763  \n",
       "std          0.892051   5219.488263  31205.926508  \n",
       "min          1.000000    196.000000   2149.000000  \n",
       "25%          1.000000   4295.500000  33145.000000  \n",
       "50%          2.000000   8001.000000  64132.000000  \n",
       "75%          2.000000  12039.000000  90082.000000  \n",
       "max          4.000000  19940.000000  98186.000000  "
      ]
     },
     "execution_count": 6,
     "metadata": {},
     "output_type": "execute_result"
    }
   ],
   "source": [
    "df_customers.describe()"
   ]
  },
  {
   "cell_type": "code",
   "execution_count": 8,
   "metadata": {},
   "outputs": [
    {
     "data": {
      "text/plain": [
       "cust_id            0\n",
       "income             0\n",
       "age                0\n",
       "years_with_bank    0\n",
       "nbr_children       0\n",
       "gender             0\n",
       "marital_status     0\n",
       "name_prefix        0\n",
       "first_name         0\n",
       "last_name          0\n",
       "street_nbr         0\n",
       "street_name        0\n",
       "postal_code        0\n",
       "city_name          0\n",
       "state_code         0\n",
       "dtype: int64"
      ]
     },
     "execution_count": 8,
     "metadata": {},
     "output_type": "execute_result"
    }
   ],
   "source": [
    "#check for null values\n",
    "df_customers.isna().sum()"
   ]
  },
  {
   "cell_type": "code",
   "execution_count": 11,
   "metadata": {},
   "outputs": [
    {
     "data": {
      "text/html": [
       "<div>\n",
       "<style scoped>\n",
       "    .dataframe tbody tr th:only-of-type {\n",
       "        vertical-align: middle;\n",
       "    }\n",
       "\n",
       "    .dataframe tbody tr th {\n",
       "        vertical-align: top;\n",
       "    }\n",
       "\n",
       "    .dataframe thead th {\n",
       "        text-align: right;\n",
       "    }\n",
       "</style>\n",
       "<table border=\"1\" class=\"dataframe\">\n",
       "  <thead>\n",
       "    <tr style=\"text-align: right;\">\n",
       "      <th></th>\n",
       "      <th>cust_id</th>\n",
       "      <th>income</th>\n",
       "      <th>age</th>\n",
       "      <th>years_with_bank</th>\n",
       "      <th>nbr_children</th>\n",
       "      <th>gender</th>\n",
       "      <th>marital_status</th>\n",
       "      <th>name_prefix</th>\n",
       "      <th>first_name</th>\n",
       "      <th>last_name</th>\n",
       "      <th>street_nbr</th>\n",
       "      <th>street_name</th>\n",
       "      <th>postal_code</th>\n",
       "      <th>city_name</th>\n",
       "      <th>state_code</th>\n",
       "    </tr>\n",
       "  </thead>\n",
       "  <tbody>\n",
       "    <tr>\n",
       "      <th>0</th>\n",
       "      <td>1362691</td>\n",
       "      <td>26150</td>\n",
       "      <td>46</td>\n",
       "      <td>5</td>\n",
       "      <td>1</td>\n",
       "      <td>M</td>\n",
       "      <td>2</td>\n",
       "      <td></td>\n",
       "      <td>Donald                                        ...</td>\n",
       "      <td>Marek                                         ...</td>\n",
       "      <td>8298</td>\n",
       "      <td>Second                                        ...</td>\n",
       "      <td>89194</td>\n",
       "      <td>Las Vegas</td>\n",
       "      <td>NV</td>\n",
       "    </tr>\n",
       "    <tr>\n",
       "      <th>1</th>\n",
       "      <td>1362487</td>\n",
       "      <td>6605</td>\n",
       "      <td>71</td>\n",
       "      <td>1</td>\n",
       "      <td>0</td>\n",
       "      <td>M</td>\n",
       "      <td>2</td>\n",
       "      <td></td>\n",
       "      <td>ChingDyi                                      ...</td>\n",
       "      <td>Moussavi                                      ...</td>\n",
       "      <td>10603</td>\n",
       "      <td>Daffodil                                      ...</td>\n",
       "      <td>90159</td>\n",
       "      <td>Los Angeles</td>\n",
       "      <td>CA</td>\n",
       "    </tr>\n",
       "    <tr>\n",
       "      <th>2</th>\n",
       "      <td>1363160</td>\n",
       "      <td>18548</td>\n",
       "      <td>38</td>\n",
       "      <td>8</td>\n",
       "      <td>0</td>\n",
       "      <td>F</td>\n",
       "      <td>1</td>\n",
       "      <td></td>\n",
       "      <td>Rosa                                          ...</td>\n",
       "      <td>Johnston                                      ...</td>\n",
       "      <td>8817</td>\n",
       "      <td>Figueroa                                      ...</td>\n",
       "      <td>90024</td>\n",
       "      <td>Los Angeles</td>\n",
       "      <td>CA</td>\n",
       "    </tr>\n",
       "    <tr>\n",
       "      <th>3</th>\n",
       "      <td>1362752</td>\n",
       "      <td>47668</td>\n",
       "      <td>54</td>\n",
       "      <td>3</td>\n",
       "      <td>0</td>\n",
       "      <td>F</td>\n",
       "      <td>1</td>\n",
       "      <td></td>\n",
       "      <td>Lisa                                          ...</td>\n",
       "      <td>Martin                                        ...</td>\n",
       "      <td>676</td>\n",
       "      <td>Humble                                        ...</td>\n",
       "      <td>90172</td>\n",
       "      <td>Los Angeles</td>\n",
       "      <td>CA</td>\n",
       "    </tr>\n",
       "    <tr>\n",
       "      <th>4</th>\n",
       "      <td>1362548</td>\n",
       "      <td>44554</td>\n",
       "      <td>59</td>\n",
       "      <td>9</td>\n",
       "      <td>2</td>\n",
       "      <td>F</td>\n",
       "      <td>4</td>\n",
       "      <td></td>\n",
       "      <td>Barbara                                       ...</td>\n",
       "      <td>O'Malley                                      ...</td>\n",
       "      <td>6578</td>\n",
       "      <td>C                                             ...</td>\n",
       "      <td>10138</td>\n",
       "      <td>New York City</td>\n",
       "      <td>NY</td>\n",
       "    </tr>\n",
       "    <tr>\n",
       "      <th>...</th>\n",
       "      <td>...</td>\n",
       "      <td>...</td>\n",
       "      <td>...</td>\n",
       "      <td>...</td>\n",
       "      <td>...</td>\n",
       "      <td>...</td>\n",
       "      <td>...</td>\n",
       "      <td>...</td>\n",
       "      <td>...</td>\n",
       "      <td>...</td>\n",
       "      <td>...</td>\n",
       "      <td>...</td>\n",
       "      <td>...</td>\n",
       "      <td>...</td>\n",
       "      <td>...</td>\n",
       "    </tr>\n",
       "    <tr>\n",
       "      <th>742</th>\n",
       "      <td>1363324</td>\n",
       "      <td>14795</td>\n",
       "      <td>36</td>\n",
       "      <td>6</td>\n",
       "      <td>1</td>\n",
       "      <td>F</td>\n",
       "      <td>4</td>\n",
       "      <td></td>\n",
       "      <td>Lillian                                       ...</td>\n",
       "      <td>Kaufman                                       ...</td>\n",
       "      <td>9677</td>\n",
       "      <td>B                                             ...</td>\n",
       "      <td>90016</td>\n",
       "      <td>Los Angeles</td>\n",
       "      <td>CA</td>\n",
       "    </tr>\n",
       "    <tr>\n",
       "      <th>743</th>\n",
       "      <td>1362895</td>\n",
       "      <td>26387</td>\n",
       "      <td>56</td>\n",
       "      <td>6</td>\n",
       "      <td>1</td>\n",
       "      <td>M</td>\n",
       "      <td>2</td>\n",
       "      <td></td>\n",
       "      <td>Marty                                         ...</td>\n",
       "      <td>McSherry                                      ...</td>\n",
       "      <td>3227</td>\n",
       "      <td>Inspiration                                   ...</td>\n",
       "      <td>10126</td>\n",
       "      <td>New York City</td>\n",
       "      <td>NY</td>\n",
       "    </tr>\n",
       "    <tr>\n",
       "      <th>744</th>\n",
       "      <td>1362569</td>\n",
       "      <td>61300</td>\n",
       "      <td>50</td>\n",
       "      <td>0</td>\n",
       "      <td>2</td>\n",
       "      <td>M</td>\n",
       "      <td>2</td>\n",
       "      <td></td>\n",
       "      <td>Ken                                           ...</td>\n",
       "      <td>Lawrence                                      ...</td>\n",
       "      <td>6082</td>\n",
       "      <td>23rd                                          ...</td>\n",
       "      <td>87194</td>\n",
       "      <td>Albuquerque</td>\n",
       "      <td>NM</td>\n",
       "    </tr>\n",
       "    <tr>\n",
       "      <th>745</th>\n",
       "      <td>1363364</td>\n",
       "      <td>15100</td>\n",
       "      <td>37</td>\n",
       "      <td>7</td>\n",
       "      <td>0</td>\n",
       "      <td>F</td>\n",
       "      <td>2</td>\n",
       "      <td></td>\n",
       "      <td>Debbie                                        ...</td>\n",
       "      <td>Runner                                        ...</td>\n",
       "      <td>7851</td>\n",
       "      <td>H                                             ...</td>\n",
       "      <td>35241</td>\n",
       "      <td>Birmingham</td>\n",
       "      <td>AL</td>\n",
       "    </tr>\n",
       "    <tr>\n",
       "      <th>746</th>\n",
       "      <td>1363303</td>\n",
       "      <td>17875</td>\n",
       "      <td>18</td>\n",
       "      <td>3</td>\n",
       "      <td>0</td>\n",
       "      <td>F</td>\n",
       "      <td>1</td>\n",
       "      <td></td>\n",
       "      <td>Molly                                         ...</td>\n",
       "      <td>Potter                                        ...</td>\n",
       "      <td>7824</td>\n",
       "      <td>E                                             ...</td>\n",
       "      <td>90029</td>\n",
       "      <td>Los Angeles</td>\n",
       "      <td>CA</td>\n",
       "    </tr>\n",
       "  </tbody>\n",
       "</table>\n",
       "<p>747 rows × 15 columns</p>\n",
       "</div>"
      ],
      "text/plain": [
       "     cust_id  income  age  years_with_bank  nbr_children gender  \\\n",
       "0    1362691   26150   46                5             1     M    \n",
       "1    1362487    6605   71                1             0     M    \n",
       "2    1363160   18548   38                8             0     F    \n",
       "3    1362752   47668   54                3             0     F    \n",
       "4    1362548   44554   59                9             2     F    \n",
       "..       ...     ...  ...              ...           ...    ...   \n",
       "742  1363324   14795   36                6             1     F    \n",
       "743  1362895   26387   56                6             1     M    \n",
       "744  1362569   61300   50                0             2     M    \n",
       "745  1363364   15100   37                7             0     F    \n",
       "746  1363303   17875   18                3             0     F    \n",
       "\n",
       "    marital_status name_prefix  \\\n",
       "0                2               \n",
       "1                2               \n",
       "2                1               \n",
       "3                1               \n",
       "4                4               \n",
       "..             ...         ...   \n",
       "742              4               \n",
       "743              2               \n",
       "744              2               \n",
       "745              2               \n",
       "746              1               \n",
       "\n",
       "                                            first_name  \\\n",
       "0    Donald                                        ...   \n",
       "1    ChingDyi                                      ...   \n",
       "2    Rosa                                          ...   \n",
       "3    Lisa                                          ...   \n",
       "4    Barbara                                       ...   \n",
       "..                                                 ...   \n",
       "742  Lillian                                       ...   \n",
       "743  Marty                                         ...   \n",
       "744  Ken                                           ...   \n",
       "745  Debbie                                        ...   \n",
       "746  Molly                                         ...   \n",
       "\n",
       "                                             last_name  street_nbr  \\\n",
       "0    Marek                                         ...        8298   \n",
       "1    Moussavi                                      ...       10603   \n",
       "2    Johnston                                      ...        8817   \n",
       "3    Martin                                        ...         676   \n",
       "4    O'Malley                                      ...        6578   \n",
       "..                                                 ...         ...   \n",
       "742  Kaufman                                       ...        9677   \n",
       "743  McSherry                                      ...        3227   \n",
       "744  Lawrence                                      ...        6082   \n",
       "745  Runner                                        ...        7851   \n",
       "746  Potter                                        ...        7824   \n",
       "\n",
       "                                           street_name  postal_code  \\\n",
       "0    Second                                        ...        89194   \n",
       "1    Daffodil                                      ...        90159   \n",
       "2    Figueroa                                      ...        90024   \n",
       "3    Humble                                        ...        90172   \n",
       "4    C                                             ...        10138   \n",
       "..                                                 ...          ...   \n",
       "742  B                                             ...        90016   \n",
       "743  Inspiration                                   ...        10126   \n",
       "744  23rd                                          ...        87194   \n",
       "745  H                                             ...        35241   \n",
       "746  E                                             ...        90029   \n",
       "\n",
       "                                    city_name state_code  \n",
       "0    Las Vegas                                      NV    \n",
       "1    Los Angeles                                    CA    \n",
       "2    Los Angeles                                    CA    \n",
       "3    Los Angeles                                    CA    \n",
       "4    New York City                                  NY    \n",
       "..                                        ...        ...  \n",
       "742  Los Angeles                                    CA    \n",
       "743  New York City                                  NY    \n",
       "744  Albuquerque                                    NM    \n",
       "745  Birmingham                                     AL    \n",
       "746  Los Angeles                                    CA    \n",
       "\n",
       "[747 rows x 15 columns]"
      ]
     },
     "execution_count": 11,
     "metadata": {},
     "output_type": "execute_result"
    }
   ],
   "source": [
    "#Convert marital status to categorical variable\n",
    "df_customers['marital_status']=df_customers['marital_status'].astype('category')\n",
    "df_customers"
   ]
  },
  {
   "cell_type": "code",
   "execution_count": 17,
   "metadata": {},
   "outputs": [
    {
     "data": {
      "text/plain": [
       "income              int64\n",
       "age                 int64\n",
       "years_with_bank     int64\n",
       "nbr_children        int64\n",
       "gender_F            uint8\n",
       "gender_M            uint8\n",
       "marital_status_1    uint8\n",
       "marital_status_2    uint8\n",
       "marital_status_3    uint8\n",
       "marital_status_4    uint8\n",
       "dtype: object"
      ]
     },
     "execution_count": 17,
     "metadata": {},
     "output_type": "execute_result"
    }
   ],
   "source": [
    "#columns for creating dummy variable\n",
    "encode = pd.get_dummies(df_customers[['income','age','years_with_bank','nbr_children','gender','marital_status']])\n",
    "encode"
   ]
  },
  {
   "cell_type": "code",
   "execution_count": 22,
   "metadata": {},
   "outputs": [
    {
     "data": {
      "text/html": [
       "<div>\n",
       "<style scoped>\n",
       "    .dataframe tbody tr th:only-of-type {\n",
       "        vertical-align: middle;\n",
       "    }\n",
       "\n",
       "    .dataframe tbody tr th {\n",
       "        vertical-align: top;\n",
       "    }\n",
       "\n",
       "    .dataframe thead th {\n",
       "        text-align: right;\n",
       "    }\n",
       "</style>\n",
       "<table border=\"1\" class=\"dataframe\">\n",
       "  <thead>\n",
       "    <tr style=\"text-align: right;\">\n",
       "      <th></th>\n",
       "      <th>income</th>\n",
       "      <th>age</th>\n",
       "      <th>years_with_bank</th>\n",
       "      <th>nbr_children</th>\n",
       "      <th>gender_F</th>\n",
       "      <th>gender_M</th>\n",
       "      <th>marital_status_1</th>\n",
       "      <th>marital_status_2</th>\n",
       "      <th>marital_status_3</th>\n",
       "      <th>marital_status_4</th>\n",
       "    </tr>\n",
       "  </thead>\n",
       "  <tbody>\n",
       "    <tr>\n",
       "      <th>0</th>\n",
       "      <td>0.181399</td>\n",
       "      <td>0.434211</td>\n",
       "      <td>0.555556</td>\n",
       "      <td>0.2</td>\n",
       "      <td>0.0</td>\n",
       "      <td>1.0</td>\n",
       "      <td>0.0</td>\n",
       "      <td>1.0</td>\n",
       "      <td>0.0</td>\n",
       "      <td>0.0</td>\n",
       "    </tr>\n",
       "    <tr>\n",
       "      <th>1</th>\n",
       "      <td>0.045818</td>\n",
       "      <td>0.763158</td>\n",
       "      <td>0.111111</td>\n",
       "      <td>0.0</td>\n",
       "      <td>0.0</td>\n",
       "      <td>1.0</td>\n",
       "      <td>0.0</td>\n",
       "      <td>1.0</td>\n",
       "      <td>0.0</td>\n",
       "      <td>0.0</td>\n",
       "    </tr>\n",
       "    <tr>\n",
       "      <th>2</th>\n",
       "      <td>0.128665</td>\n",
       "      <td>0.328947</td>\n",
       "      <td>0.888889</td>\n",
       "      <td>0.0</td>\n",
       "      <td>1.0</td>\n",
       "      <td>0.0</td>\n",
       "      <td>1.0</td>\n",
       "      <td>0.0</td>\n",
       "      <td>0.0</td>\n",
       "      <td>0.0</td>\n",
       "    </tr>\n",
       "    <tr>\n",
       "      <th>3</th>\n",
       "      <td>0.330667</td>\n",
       "      <td>0.539474</td>\n",
       "      <td>0.333333</td>\n",
       "      <td>0.0</td>\n",
       "      <td>1.0</td>\n",
       "      <td>0.0</td>\n",
       "      <td>1.0</td>\n",
       "      <td>0.0</td>\n",
       "      <td>0.0</td>\n",
       "      <td>0.0</td>\n",
       "    </tr>\n",
       "    <tr>\n",
       "      <th>4</th>\n",
       "      <td>0.309066</td>\n",
       "      <td>0.605263</td>\n",
       "      <td>1.000000</td>\n",
       "      <td>0.4</td>\n",
       "      <td>1.0</td>\n",
       "      <td>0.0</td>\n",
       "      <td>0.0</td>\n",
       "      <td>0.0</td>\n",
       "      <td>0.0</td>\n",
       "      <td>1.0</td>\n",
       "    </tr>\n",
       "    <tr>\n",
       "      <th>...</th>\n",
       "      <td>...</td>\n",
       "      <td>...</td>\n",
       "      <td>...</td>\n",
       "      <td>...</td>\n",
       "      <td>...</td>\n",
       "      <td>...</td>\n",
       "      <td>...</td>\n",
       "      <td>...</td>\n",
       "      <td>...</td>\n",
       "      <td>...</td>\n",
       "    </tr>\n",
       "    <tr>\n",
       "      <th>742</th>\n",
       "      <td>0.102631</td>\n",
       "      <td>0.302632</td>\n",
       "      <td>0.666667</td>\n",
       "      <td>0.2</td>\n",
       "      <td>1.0</td>\n",
       "      <td>0.0</td>\n",
       "      <td>0.0</td>\n",
       "      <td>0.0</td>\n",
       "      <td>0.0</td>\n",
       "      <td>1.0</td>\n",
       "    </tr>\n",
       "    <tr>\n",
       "      <th>743</th>\n",
       "      <td>0.183043</td>\n",
       "      <td>0.565789</td>\n",
       "      <td>0.666667</td>\n",
       "      <td>0.2</td>\n",
       "      <td>0.0</td>\n",
       "      <td>1.0</td>\n",
       "      <td>0.0</td>\n",
       "      <td>1.0</td>\n",
       "      <td>0.0</td>\n",
       "      <td>0.0</td>\n",
       "    </tr>\n",
       "    <tr>\n",
       "      <th>744</th>\n",
       "      <td>0.425231</td>\n",
       "      <td>0.486842</td>\n",
       "      <td>0.000000</td>\n",
       "      <td>0.4</td>\n",
       "      <td>0.0</td>\n",
       "      <td>1.0</td>\n",
       "      <td>0.0</td>\n",
       "      <td>1.0</td>\n",
       "      <td>0.0</td>\n",
       "      <td>0.0</td>\n",
       "    </tr>\n",
       "    <tr>\n",
       "      <th>745</th>\n",
       "      <td>0.104747</td>\n",
       "      <td>0.315789</td>\n",
       "      <td>0.777778</td>\n",
       "      <td>0.0</td>\n",
       "      <td>1.0</td>\n",
       "      <td>0.0</td>\n",
       "      <td>0.0</td>\n",
       "      <td>1.0</td>\n",
       "      <td>0.0</td>\n",
       "      <td>0.0</td>\n",
       "    </tr>\n",
       "    <tr>\n",
       "      <th>746</th>\n",
       "      <td>0.123997</td>\n",
       "      <td>0.065789</td>\n",
       "      <td>0.333333</td>\n",
       "      <td>0.0</td>\n",
       "      <td>1.0</td>\n",
       "      <td>0.0</td>\n",
       "      <td>1.0</td>\n",
       "      <td>0.0</td>\n",
       "      <td>0.0</td>\n",
       "      <td>0.0</td>\n",
       "    </tr>\n",
       "  </tbody>\n",
       "</table>\n",
       "<p>747 rows × 10 columns</p>\n",
       "</div>"
      ],
      "text/plain": [
       "       income       age  years_with_bank  nbr_children  gender_F   gender_M   \\\n",
       "0    0.181399  0.434211         0.555556           0.2        0.0        1.0   \n",
       "1    0.045818  0.763158         0.111111           0.0        0.0        1.0   \n",
       "2    0.128665  0.328947         0.888889           0.0        1.0        0.0   \n",
       "3    0.330667  0.539474         0.333333           0.0        1.0        0.0   \n",
       "4    0.309066  0.605263         1.000000           0.4        1.0        0.0   \n",
       "..        ...       ...              ...           ...        ...        ...   \n",
       "742  0.102631  0.302632         0.666667           0.2        1.0        0.0   \n",
       "743  0.183043  0.565789         0.666667           0.2        0.0        1.0   \n",
       "744  0.425231  0.486842         0.000000           0.4        0.0        1.0   \n",
       "745  0.104747  0.315789         0.777778           0.0        1.0        0.0   \n",
       "746  0.123997  0.065789         0.333333           0.0        1.0        0.0   \n",
       "\n",
       "     marital_status_1  marital_status_2  marital_status_3  marital_status_4  \n",
       "0                 0.0               1.0               0.0               0.0  \n",
       "1                 0.0               1.0               0.0               0.0  \n",
       "2                 1.0               0.0               0.0               0.0  \n",
       "3                 1.0               0.0               0.0               0.0  \n",
       "4                 0.0               0.0               0.0               1.0  \n",
       "..                ...               ...               ...               ...  \n",
       "742               0.0               0.0               0.0               1.0  \n",
       "743               0.0               1.0               0.0               0.0  \n",
       "744               0.0               1.0               0.0               0.0  \n",
       "745               0.0               1.0               0.0               0.0  \n",
       "746               1.0               0.0               0.0               0.0  \n",
       "\n",
       "[747 rows x 10 columns]"
      ]
     },
     "execution_count": 22,
     "metadata": {},
     "output_type": "execute_result"
    }
   ],
   "source": [
    "from sklearn.preprocessing import MinMaxScaler\n",
    "\n",
    "#perform scaling on datafram\n",
    "encode_scaled = MinMaxScaler().fit_transform(encode)\n",
    "encode_scaled = pd.DataFrame(encode_scaled, columns = encode.columns)\n",
    "encode_scaled"
   ]
  },
  {
   "cell_type": "code",
   "execution_count": 29,
   "metadata": {},
   "outputs": [],
   "source": [
    "from sklearn.cluster import KMeans\n",
    "import matplotlib.pyplot as plt\n",
    "\n",
    "#elbow rule\n",
    "def plot_distortion(X,max_clusters = 10):\n",
    "    distortions = []\n",
    "    for i in range(1, max_clusters +1):\n",
    "        km = KMeans(n_clusters=i,\n",
    "                    n_init=10,\n",
    "                    random_state=0)\n",
    "        km.fit(X)\n",
    "        distortions.append(km.inertia_)\n",
    "\n",
    "    plt.plot(range(1,max_clusters +1), distortions, marker='o')\n",
    "    plt.xlabel('Number of clusters')\n",
    "    plt.ylabel('Distortion')\n",
    "    plt.show() "
   ]
  },
  {
   "cell_type": "code",
   "execution_count": 30,
   "metadata": {},
   "outputs": [
    {
     "name": "stderr",
     "output_type": "stream",
     "text": [
      "c:\\Users\\bevli\\anaconda3\\lib\\site-packages\\sklearn\\cluster\\_kmeans.py:881: UserWarning: KMeans is known to have a memory leak on Windows with MKL, when there are less chunks than available threads. You can avoid it by setting the environment variable OMP_NUM_THREADS=3.\n",
      "  warnings.warn(\n"
     ]
    },
    {
     "data": {
      "image/png": "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",
      "text/plain": [
       "<Figure size 432x288 with 1 Axes>"
      ]
     },
     "metadata": {
      "needs_background": "light"
     },
     "output_type": "display_data"
    }
   ],
   "source": [
    "plot_distortion(encode_scaled)"
   ]
  },
  {
   "cell_type": "code",
   "execution_count": 42,
   "metadata": {},
   "outputs": [
    {
     "data": {
      "text/html": [
       "<div>\n",
       "<style scoped>\n",
       "    .dataframe tbody tr th:only-of-type {\n",
       "        vertical-align: middle;\n",
       "    }\n",
       "\n",
       "    .dataframe tbody tr th {\n",
       "        vertical-align: top;\n",
       "    }\n",
       "\n",
       "    .dataframe thead th {\n",
       "        text-align: right;\n",
       "    }\n",
       "</style>\n",
       "<table border=\"1\" class=\"dataframe\">\n",
       "  <thead>\n",
       "    <tr style=\"text-align: right;\">\n",
       "      <th></th>\n",
       "      <th>income</th>\n",
       "      <th>age</th>\n",
       "      <th>years_with_bank</th>\n",
       "      <th>nbr_children</th>\n",
       "      <th>gender_F</th>\n",
       "      <th>gender_M</th>\n",
       "      <th>marital_status_1</th>\n",
       "      <th>marital_status_2</th>\n",
       "      <th>marital_status_3</th>\n",
       "      <th>marital_status_4</th>\n",
       "      <th>clusters</th>\n",
       "    </tr>\n",
       "  </thead>\n",
       "  <tbody>\n",
       "    <tr>\n",
       "      <th>0</th>\n",
       "      <td>0.181399</td>\n",
       "      <td>0.434211</td>\n",
       "      <td>0.555556</td>\n",
       "      <td>0.2</td>\n",
       "      <td>0.0</td>\n",
       "      <td>1.0</td>\n",
       "      <td>0.0</td>\n",
       "      <td>1.0</td>\n",
       "      <td>0.0</td>\n",
       "      <td>0.0</td>\n",
       "      <td>2</td>\n",
       "    </tr>\n",
       "    <tr>\n",
       "      <th>1</th>\n",
       "      <td>0.045818</td>\n",
       "      <td>0.763158</td>\n",
       "      <td>0.111111</td>\n",
       "      <td>0.0</td>\n",
       "      <td>0.0</td>\n",
       "      <td>1.0</td>\n",
       "      <td>0.0</td>\n",
       "      <td>1.0</td>\n",
       "      <td>0.0</td>\n",
       "      <td>0.0</td>\n",
       "      <td>2</td>\n",
       "    </tr>\n",
       "    <tr>\n",
       "      <th>2</th>\n",
       "      <td>0.128665</td>\n",
       "      <td>0.328947</td>\n",
       "      <td>0.888889</td>\n",
       "      <td>0.0</td>\n",
       "      <td>1.0</td>\n",
       "      <td>0.0</td>\n",
       "      <td>1.0</td>\n",
       "      <td>0.0</td>\n",
       "      <td>0.0</td>\n",
       "      <td>0.0</td>\n",
       "      <td>3</td>\n",
       "    </tr>\n",
       "    <tr>\n",
       "      <th>3</th>\n",
       "      <td>0.330667</td>\n",
       "      <td>0.539474</td>\n",
       "      <td>0.333333</td>\n",
       "      <td>0.0</td>\n",
       "      <td>1.0</td>\n",
       "      <td>0.0</td>\n",
       "      <td>1.0</td>\n",
       "      <td>0.0</td>\n",
       "      <td>0.0</td>\n",
       "      <td>0.0</td>\n",
       "      <td>3</td>\n",
       "    </tr>\n",
       "    <tr>\n",
       "      <th>4</th>\n",
       "      <td>0.309066</td>\n",
       "      <td>0.605263</td>\n",
       "      <td>1.000000</td>\n",
       "      <td>0.4</td>\n",
       "      <td>1.0</td>\n",
       "      <td>0.0</td>\n",
       "      <td>0.0</td>\n",
       "      <td>0.0</td>\n",
       "      <td>0.0</td>\n",
       "      <td>1.0</td>\n",
       "      <td>1</td>\n",
       "    </tr>\n",
       "    <tr>\n",
       "      <th>...</th>\n",
       "      <td>...</td>\n",
       "      <td>...</td>\n",
       "      <td>...</td>\n",
       "      <td>...</td>\n",
       "      <td>...</td>\n",
       "      <td>...</td>\n",
       "      <td>...</td>\n",
       "      <td>...</td>\n",
       "      <td>...</td>\n",
       "      <td>...</td>\n",
       "      <td>...</td>\n",
       "    </tr>\n",
       "    <tr>\n",
       "      <th>742</th>\n",
       "      <td>0.102631</td>\n",
       "      <td>0.302632</td>\n",
       "      <td>0.666667</td>\n",
       "      <td>0.2</td>\n",
       "      <td>1.0</td>\n",
       "      <td>0.0</td>\n",
       "      <td>0.0</td>\n",
       "      <td>0.0</td>\n",
       "      <td>0.0</td>\n",
       "      <td>1.0</td>\n",
       "      <td>1</td>\n",
       "    </tr>\n",
       "    <tr>\n",
       "      <th>743</th>\n",
       "      <td>0.183043</td>\n",
       "      <td>0.565789</td>\n",
       "      <td>0.666667</td>\n",
       "      <td>0.2</td>\n",
       "      <td>0.0</td>\n",
       "      <td>1.0</td>\n",
       "      <td>0.0</td>\n",
       "      <td>1.0</td>\n",
       "      <td>0.0</td>\n",
       "      <td>0.0</td>\n",
       "      <td>2</td>\n",
       "    </tr>\n",
       "    <tr>\n",
       "      <th>744</th>\n",
       "      <td>0.425231</td>\n",
       "      <td>0.486842</td>\n",
       "      <td>0.000000</td>\n",
       "      <td>0.4</td>\n",
       "      <td>0.0</td>\n",
       "      <td>1.0</td>\n",
       "      <td>0.0</td>\n",
       "      <td>1.0</td>\n",
       "      <td>0.0</td>\n",
       "      <td>0.0</td>\n",
       "      <td>2</td>\n",
       "    </tr>\n",
       "    <tr>\n",
       "      <th>745</th>\n",
       "      <td>0.104747</td>\n",
       "      <td>0.315789</td>\n",
       "      <td>0.777778</td>\n",
       "      <td>0.0</td>\n",
       "      <td>1.0</td>\n",
       "      <td>0.0</td>\n",
       "      <td>0.0</td>\n",
       "      <td>1.0</td>\n",
       "      <td>0.0</td>\n",
       "      <td>0.0</td>\n",
       "      <td>1</td>\n",
       "    </tr>\n",
       "    <tr>\n",
       "      <th>746</th>\n",
       "      <td>0.123997</td>\n",
       "      <td>0.065789</td>\n",
       "      <td>0.333333</td>\n",
       "      <td>0.0</td>\n",
       "      <td>1.0</td>\n",
       "      <td>0.0</td>\n",
       "      <td>1.0</td>\n",
       "      <td>0.0</td>\n",
       "      <td>0.0</td>\n",
       "      <td>0.0</td>\n",
       "      <td>3</td>\n",
       "    </tr>\n",
       "  </tbody>\n",
       "</table>\n",
       "<p>747 rows × 11 columns</p>\n",
       "</div>"
      ],
      "text/plain": [
       "       income       age  years_with_bank  nbr_children  gender_F   gender_M   \\\n",
       "0    0.181399  0.434211         0.555556           0.2        0.0        1.0   \n",
       "1    0.045818  0.763158         0.111111           0.0        0.0        1.0   \n",
       "2    0.128665  0.328947         0.888889           0.0        1.0        0.0   \n",
       "3    0.330667  0.539474         0.333333           0.0        1.0        0.0   \n",
       "4    0.309066  0.605263         1.000000           0.4        1.0        0.0   \n",
       "..        ...       ...              ...           ...        ...        ...   \n",
       "742  0.102631  0.302632         0.666667           0.2        1.0        0.0   \n",
       "743  0.183043  0.565789         0.666667           0.2        0.0        1.0   \n",
       "744  0.425231  0.486842         0.000000           0.4        0.0        1.0   \n",
       "745  0.104747  0.315789         0.777778           0.0        1.0        0.0   \n",
       "746  0.123997  0.065789         0.333333           0.0        1.0        0.0   \n",
       "\n",
       "     marital_status_1  marital_status_2  marital_status_3  marital_status_4  \\\n",
       "0                 0.0               1.0               0.0               0.0   \n",
       "1                 0.0               1.0               0.0               0.0   \n",
       "2                 1.0               0.0               0.0               0.0   \n",
       "3                 1.0               0.0               0.0               0.0   \n",
       "4                 0.0               0.0               0.0               1.0   \n",
       "..                ...               ...               ...               ...   \n",
       "742               0.0               0.0               0.0               1.0   \n",
       "743               0.0               1.0               0.0               0.0   \n",
       "744               0.0               1.0               0.0               0.0   \n",
       "745               0.0               1.0               0.0               0.0   \n",
       "746               1.0               0.0               0.0               0.0   \n",
       "\n",
       "     clusters  \n",
       "0           2  \n",
       "1           2  \n",
       "2           3  \n",
       "3           3  \n",
       "4           1  \n",
       "..        ...  \n",
       "742         1  \n",
       "743         2  \n",
       "744         2  \n",
       "745         1  \n",
       "746         3  \n",
       "\n",
       "[747 rows x 11 columns]"
      ]
     },
     "execution_count": 42,
     "metadata": {},
     "output_type": "execute_result"
    }
   ],
   "source": [
    "#number of clusters to be taken as 4\n",
    "\n",
    "encode_scaled['clusters']= KMeans(n_clusters=4, # how many clusters we expected \n",
    "            n_init=10, # how many initial runs\n",
    "            random_state=0).fit_predict(encode_scaled)\n",
    "\n",
    "encode_scaled"
   ]
  },
  {
   "cell_type": "code",
   "execution_count": 72,
   "metadata": {},
   "outputs": [
    {
     "data": {
      "text/html": [
       "<div>\n",
       "<style scoped>\n",
       "    .dataframe tbody tr th:only-of-type {\n",
       "        vertical-align: middle;\n",
       "    }\n",
       "\n",
       "    .dataframe tbody tr th {\n",
       "        vertical-align: top;\n",
       "    }\n",
       "\n",
       "    .dataframe thead th {\n",
       "        text-align: right;\n",
       "    }\n",
       "</style>\n",
       "<table border=\"1\" class=\"dataframe\">\n",
       "  <thead>\n",
       "    <tr style=\"text-align: right;\">\n",
       "      <th></th>\n",
       "      <th>income</th>\n",
       "      <th>age</th>\n",
       "      <th>years_with_bank</th>\n",
       "      <th>nbr_children</th>\n",
       "      <th>gender_F</th>\n",
       "      <th>gender_M</th>\n",
       "      <th>marital_status_1</th>\n",
       "      <th>marital_status_2</th>\n",
       "      <th>marital_status_3</th>\n",
       "      <th>marital_status_4</th>\n",
       "    </tr>\n",
       "    <tr>\n",
       "      <th>clusters</th>\n",
       "      <th></th>\n",
       "      <th></th>\n",
       "      <th></th>\n",
       "      <th></th>\n",
       "      <th></th>\n",
       "      <th></th>\n",
       "      <th></th>\n",
       "      <th></th>\n",
       "      <th></th>\n",
       "      <th></th>\n",
       "    </tr>\n",
       "  </thead>\n",
       "  <tbody>\n",
       "    <tr>\n",
       "      <th>0</th>\n",
       "      <td>68.718144</td>\n",
       "      <td>54.304458</td>\n",
       "      <td>96.895670</td>\n",
       "      <td>0.000000</td>\n",
       "      <td>0.000000</td>\n",
       "      <td>227.051672</td>\n",
       "      <td>270.652174</td>\n",
       "      <td>0.000000</td>\n",
       "      <td>0.000000</td>\n",
       "      <td>0.000000</td>\n",
       "    </tr>\n",
       "    <tr>\n",
       "      <th>1</th>\n",
       "      <td>105.455285</td>\n",
       "      <td>123.940328</td>\n",
       "      <td>100.782915</td>\n",
       "      <td>159.331482</td>\n",
       "      <td>178.708134</td>\n",
       "      <td>0.000000</td>\n",
       "      <td>0.000000</td>\n",
       "      <td>154.421560</td>\n",
       "      <td>180.260618</td>\n",
       "      <td>164.809708</td>\n",
       "    </tr>\n",
       "    <tr>\n",
       "      <th>2</th>\n",
       "      <td>142.373407</td>\n",
       "      <td>126.184054</td>\n",
       "      <td>102.243111</td>\n",
       "      <td>157.703519</td>\n",
       "      <td>0.000000</td>\n",
       "      <td>227.051672</td>\n",
       "      <td>0.000000</td>\n",
       "      <td>163.701962</td>\n",
       "      <td>132.134434</td>\n",
       "      <td>151.010782</td>\n",
       "    </tr>\n",
       "    <tr>\n",
       "      <th>3</th>\n",
       "      <td>57.634565</td>\n",
       "      <td>59.715812</td>\n",
       "      <td>98.018189</td>\n",
       "      <td>0.000000</td>\n",
       "      <td>178.708134</td>\n",
       "      <td>0.000000</td>\n",
       "      <td>270.652174</td>\n",
       "      <td>0.000000</td>\n",
       "      <td>0.000000</td>\n",
       "      <td>0.000000</td>\n",
       "    </tr>\n",
       "  </tbody>\n",
       "</table>\n",
       "</div>"
      ],
      "text/plain": [
       "              income         age  years_with_bank  nbr_children   gender_F   \\\n",
       "clusters                                                                      \n",
       "0          68.718144   54.304458        96.895670      0.000000    0.000000   \n",
       "1         105.455285  123.940328       100.782915    159.331482  178.708134   \n",
       "2         142.373407  126.184054       102.243111    157.703519    0.000000   \n",
       "3          57.634565   59.715812        98.018189      0.000000  178.708134   \n",
       "\n",
       "           gender_M   marital_status_1  marital_status_2  marital_status_3  \\\n",
       "clusters                                                                     \n",
       "0         227.051672        270.652174          0.000000          0.000000   \n",
       "1           0.000000          0.000000        154.421560        180.260618   \n",
       "2         227.051672          0.000000        163.701962        132.134434   \n",
       "3           0.000000        270.652174          0.000000          0.000000   \n",
       "\n",
       "          marital_status_4  \n",
       "clusters                    \n",
       "0                 0.000000  \n",
       "1               164.809708  \n",
       "2               151.010782  \n",
       "3                 0.000000  "
      ]
     },
     "execution_count": 72,
     "metadata": {},
     "output_type": "execute_result"
    }
   ],
   "source": [
    "#radar chart data\n",
    "df_radar = encode_scaled.groupby('clusters').mean().divide(encode_scaled.drop('clusters',axis=1).mean())*100\n",
    "df_radar"
   ]
  },
  {
   "cell_type": "code",
   "execution_count": 69,
   "metadata": {},
   "outputs": [],
   "source": [
    "#Radar Chart\n",
    "# function that plots radar chart\n",
    "def plot_radar_chart(df):\n",
    "    data = []\n",
    "    for i in range(0,len(df)):\n",
    "        data.append(go.Scatterpolar(r = df.iloc[i].values,\n",
    "                                    theta = df.iloc[i].index,\n",
    "                                    name = f'cluster_{df.index[i]}',\n",
    "                                    fill = 'toself'))\n",
    "    \n",
    "\n",
    "    layout = go.Layout(polar = dict(radialaxis = dict(visible = True)),\n",
    "                       showlegend = True)\n",
    "    fig = go.Figure(data = data, layout = layout)\n",
    "    fig.show()\n",
    "    "
   ]
  },
  {
   "cell_type": "code",
   "execution_count": 70,
   "metadata": {},
   "outputs": [
    {
     "data": {
      "application/vnd.plotly.v1+json": {
       "config": {
        "plotlyServerURL": "https://plot.ly"
       },
       "data": [
        {
         "fill": "toself",
         "name": "cluster_0",
         "r": [
          68.71814417421311,
          54.304457633098544,
          96.89567027696533,
          0,
          0,
          227.05167173252278,
          270.6521739130435,
          0,
          0,
          0
         ],
         "theta": [
          "income",
          "age",
          "years_with_bank",
          "nbr_children",
          "gender_F ",
          "gender_M ",
          "marital_status_1",
          "marital_status_2",
          "marital_status_3",
          "marital_status_4"
         ],
         "type": "scatterpolar"
        },
        {
         "fill": "toself",
         "name": "cluster_1",
         "r": [
          105.45528548280461,
          123.9403279319724,
          100.78291476030437,
          159.3314823651898,
          178.7081339712919,
          0,
          0,
          154.42156037056887,
          180.2606177606178,
          164.80970766685053
         ],
         "theta": [
          "income",
          "age",
          "years_with_bank",
          "nbr_children",
          "gender_F ",
          "gender_M ",
          "marital_status_1",
          "marital_status_2",
          "marital_status_3",
          "marital_status_4"
         ],
         "type": "scatterpolar"
        },
        {
         "fill": "toself",
         "name": "cluster_2",
         "r": [
          142.37340749454285,
          126.18405415756672,
          102.24311117144029,
          157.70351918592283,
          0,
          227.05167173252278,
          0,
          163.70196162274843,
          132.13443396226415,
          151.010781671159
         ],
         "theta": [
          "income",
          "age",
          "years_with_bank",
          "nbr_children",
          "gender_F ",
          "gender_M ",
          "marital_status_1",
          "marital_status_2",
          "marital_status_3",
          "marital_status_4"
         ],
         "type": "scatterpolar"
        },
        {
         "fill": "toself",
         "name": "cluster_3",
         "r": [
          57.63456479702892,
          59.71581157951293,
          98.01818922220721,
          0,
          178.7081339712919,
          0,
          270.6521739130435,
          0,
          0,
          0
         ],
         "theta": [
          "income",
          "age",
          "years_with_bank",
          "nbr_children",
          "gender_F ",
          "gender_M ",
          "marital_status_1",
          "marital_status_2",
          "marital_status_3",
          "marital_status_4"
         ],
         "type": "scatterpolar"
        }
       ],
       "layout": {
        "polar": {
         "radialaxis": {
          "visible": true
         }
        },
        "showlegend": true,
        "template": {
         "data": {
          "bar": [
           {
            "error_x": {
             "color": "#2a3f5f"
            },
            "error_y": {
             "color": "#2a3f5f"
            },
            "marker": {
             "line": {
              "color": "#E5ECF6",
              "width": 0.5
             },
             "pattern": {
              "fillmode": "overlay",
              "size": 10,
              "solidity": 0.2
             }
            },
            "type": "bar"
           }
          ],
          "barpolar": [
           {
            "marker": {
             "line": {
              "color": "#E5ECF6",
              "width": 0.5
             },
             "pattern": {
              "fillmode": "overlay",
              "size": 10,
              "solidity": 0.2
             }
            },
            "type": "barpolar"
           }
          ],
          "carpet": [
           {
            "aaxis": {
             "endlinecolor": "#2a3f5f",
             "gridcolor": "white",
             "linecolor": "white",
             "minorgridcolor": "white",
             "startlinecolor": "#2a3f5f"
            },
            "baxis": {
             "endlinecolor": "#2a3f5f",
             "gridcolor": "white",
             "linecolor": "white",
             "minorgridcolor": "white",
             "startlinecolor": "#2a3f5f"
            },
            "type": "carpet"
           }
          ],
          "choropleth": [
           {
            "colorbar": {
             "outlinewidth": 0,
             "ticks": ""
            },
            "type": "choropleth"
           }
          ],
          "contour": [
           {
            "colorbar": {
             "outlinewidth": 0,
             "ticks": ""
            },
            "colorscale": [
             [
              0,
              "#0d0887"
             ],
             [
              0.1111111111111111,
              "#46039f"
             ],
             [
              0.2222222222222222,
              "#7201a8"
             ],
             [
              0.3333333333333333,
              "#9c179e"
             ],
             [
              0.4444444444444444,
              "#bd3786"
             ],
             [
              0.5555555555555556,
              "#d8576b"
             ],
             [
              0.6666666666666666,
              "#ed7953"
             ],
             [
              0.7777777777777778,
              "#fb9f3a"
             ],
             [
              0.8888888888888888,
              "#fdca26"
             ],
             [
              1,
              "#f0f921"
             ]
            ],
            "type": "contour"
           }
          ],
          "contourcarpet": [
           {
            "colorbar": {
             "outlinewidth": 0,
             "ticks": ""
            },
            "type": "contourcarpet"
           }
          ],
          "heatmap": [
           {
            "colorbar": {
             "outlinewidth": 0,
             "ticks": ""
            },
            "colorscale": [
             [
              0,
              "#0d0887"
             ],
             [
              0.1111111111111111,
              "#46039f"
             ],
             [
              0.2222222222222222,
              "#7201a8"
             ],
             [
              0.3333333333333333,
              "#9c179e"
             ],
             [
              0.4444444444444444,
              "#bd3786"
             ],
             [
              0.5555555555555556,
              "#d8576b"
             ],
             [
              0.6666666666666666,
              "#ed7953"
             ],
             [
              0.7777777777777778,
              "#fb9f3a"
             ],
             [
              0.8888888888888888,
              "#fdca26"
             ],
             [
              1,
              "#f0f921"
             ]
            ],
            "type": "heatmap"
           }
          ],
          "heatmapgl": [
           {
            "colorbar": {
             "outlinewidth": 0,
             "ticks": ""
            },
            "colorscale": [
             [
              0,
              "#0d0887"
             ],
             [
              0.1111111111111111,
              "#46039f"
             ],
             [
              0.2222222222222222,
              "#7201a8"
             ],
             [
              0.3333333333333333,
              "#9c179e"
             ],
             [
              0.4444444444444444,
              "#bd3786"
             ],
             [
              0.5555555555555556,
              "#d8576b"
             ],
             [
              0.6666666666666666,
              "#ed7953"
             ],
             [
              0.7777777777777778,
              "#fb9f3a"
             ],
             [
              0.8888888888888888,
              "#fdca26"
             ],
             [
              1,
              "#f0f921"
             ]
            ],
            "type": "heatmapgl"
           }
          ],
          "histogram": [
           {
            "marker": {
             "pattern": {
              "fillmode": "overlay",
              "size": 10,
              "solidity": 0.2
             }
            },
            "type": "histogram"
           }
          ],
          "histogram2d": [
           {
            "colorbar": {
             "outlinewidth": 0,
             "ticks": ""
            },
            "colorscale": [
             [
              0,
              "#0d0887"
             ],
             [
              0.1111111111111111,
              "#46039f"
             ],
             [
              0.2222222222222222,
              "#7201a8"
             ],
             [
              0.3333333333333333,
              "#9c179e"
             ],
             [
              0.4444444444444444,
              "#bd3786"
             ],
             [
              0.5555555555555556,
              "#d8576b"
             ],
             [
              0.6666666666666666,
              "#ed7953"
             ],
             [
              0.7777777777777778,
              "#fb9f3a"
             ],
             [
              0.8888888888888888,
              "#fdca26"
             ],
             [
              1,
              "#f0f921"
             ]
            ],
            "type": "histogram2d"
           }
          ],
          "histogram2dcontour": [
           {
            "colorbar": {
             "outlinewidth": 0,
             "ticks": ""
            },
            "colorscale": [
             [
              0,
              "#0d0887"
             ],
             [
              0.1111111111111111,
              "#46039f"
             ],
             [
              0.2222222222222222,
              "#7201a8"
             ],
             [
              0.3333333333333333,
              "#9c179e"
             ],
             [
              0.4444444444444444,
              "#bd3786"
             ],
             [
              0.5555555555555556,
              "#d8576b"
             ],
             [
              0.6666666666666666,
              "#ed7953"
             ],
             [
              0.7777777777777778,
              "#fb9f3a"
             ],
             [
              0.8888888888888888,
              "#fdca26"
             ],
             [
              1,
              "#f0f921"
             ]
            ],
            "type": "histogram2dcontour"
           }
          ],
          "mesh3d": [
           {
            "colorbar": {
             "outlinewidth": 0,
             "ticks": ""
            },
            "type": "mesh3d"
           }
          ],
          "parcoords": [
           {
            "line": {
             "colorbar": {
              "outlinewidth": 0,
              "ticks": ""
             }
            },
            "type": "parcoords"
           }
          ],
          "pie": [
           {
            "automargin": true,
            "type": "pie"
           }
          ],
          "scatter": [
           {
            "fillpattern": {
             "fillmode": "overlay",
             "size": 10,
             "solidity": 0.2
            },
            "type": "scatter"
           }
          ],
          "scatter3d": [
           {
            "line": {
             "colorbar": {
              "outlinewidth": 0,
              "ticks": ""
             }
            },
            "marker": {
             "colorbar": {
              "outlinewidth": 0,
              "ticks": ""
             }
            },
            "type": "scatter3d"
           }
          ],
          "scattercarpet": [
           {
            "marker": {
             "colorbar": {
              "outlinewidth": 0,
              "ticks": ""
             }
            },
            "type": "scattercarpet"
           }
          ],
          "scattergeo": [
           {
            "marker": {
             "colorbar": {
              "outlinewidth": 0,
              "ticks": ""
             }
            },
            "type": "scattergeo"
           }
          ],
          "scattergl": [
           {
            "marker": {
             "colorbar": {
              "outlinewidth": 0,
              "ticks": ""
             }
            },
            "type": "scattergl"
           }
          ],
          "scattermapbox": [
           {
            "marker": {
             "colorbar": {
              "outlinewidth": 0,
              "ticks": ""
             }
            },
            "type": "scattermapbox"
           }
          ],
          "scatterpolar": [
           {
            "marker": {
             "colorbar": {
              "outlinewidth": 0,
              "ticks": ""
             }
            },
            "type": "scatterpolar"
           }
          ],
          "scatterpolargl": [
           {
            "marker": {
             "colorbar": {
              "outlinewidth": 0,
              "ticks": ""
             }
            },
            "type": "scatterpolargl"
           }
          ],
          "scatterternary": [
           {
            "marker": {
             "colorbar": {
              "outlinewidth": 0,
              "ticks": ""
             }
            },
            "type": "scatterternary"
           }
          ],
          "surface": [
           {
            "colorbar": {
             "outlinewidth": 0,
             "ticks": ""
            },
            "colorscale": [
             [
              0,
              "#0d0887"
             ],
             [
              0.1111111111111111,
              "#46039f"
             ],
             [
              0.2222222222222222,
              "#7201a8"
             ],
             [
              0.3333333333333333,
              "#9c179e"
             ],
             [
              0.4444444444444444,
              "#bd3786"
             ],
             [
              0.5555555555555556,
              "#d8576b"
             ],
             [
              0.6666666666666666,
              "#ed7953"
             ],
             [
              0.7777777777777778,
              "#fb9f3a"
             ],
             [
              0.8888888888888888,
              "#fdca26"
             ],
             [
              1,
              "#f0f921"
             ]
            ],
            "type": "surface"
           }
          ],
          "table": [
           {
            "cells": {
             "fill": {
              "color": "#EBF0F8"
             },
             "line": {
              "color": "white"
             }
            },
            "header": {
             "fill": {
              "color": "#C8D4E3"
             },
             "line": {
              "color": "white"
             }
            },
            "type": "table"
           }
          ]
         },
         "layout": {
          "annotationdefaults": {
           "arrowcolor": "#2a3f5f",
           "arrowhead": 0,
           "arrowwidth": 1
          },
          "autotypenumbers": "strict",
          "coloraxis": {
           "colorbar": {
            "outlinewidth": 0,
            "ticks": ""
           }
          },
          "colorscale": {
           "diverging": [
            [
             0,
             "#8e0152"
            ],
            [
             0.1,
             "#c51b7d"
            ],
            [
             0.2,
             "#de77ae"
            ],
            [
             0.3,
             "#f1b6da"
            ],
            [
             0.4,
             "#fde0ef"
            ],
            [
             0.5,
             "#f7f7f7"
            ],
            [
             0.6,
             "#e6f5d0"
            ],
            [
             0.7,
             "#b8e186"
            ],
            [
             0.8,
             "#7fbc41"
            ],
            [
             0.9,
             "#4d9221"
            ],
            [
             1,
             "#276419"
            ]
           ],
           "sequential": [
            [
             0,
             "#0d0887"
            ],
            [
             0.1111111111111111,
             "#46039f"
            ],
            [
             0.2222222222222222,
             "#7201a8"
            ],
            [
             0.3333333333333333,
             "#9c179e"
            ],
            [
             0.4444444444444444,
             "#bd3786"
            ],
            [
             0.5555555555555556,
             "#d8576b"
            ],
            [
             0.6666666666666666,
             "#ed7953"
            ],
            [
             0.7777777777777778,
             "#fb9f3a"
            ],
            [
             0.8888888888888888,
             "#fdca26"
            ],
            [
             1,
             "#f0f921"
            ]
           ],
           "sequentialminus": [
            [
             0,
             "#0d0887"
            ],
            [
             0.1111111111111111,
             "#46039f"
            ],
            [
             0.2222222222222222,
             "#7201a8"
            ],
            [
             0.3333333333333333,
             "#9c179e"
            ],
            [
             0.4444444444444444,
             "#bd3786"
            ],
            [
             0.5555555555555556,
             "#d8576b"
            ],
            [
             0.6666666666666666,
             "#ed7953"
            ],
            [
             0.7777777777777778,
             "#fb9f3a"
            ],
            [
             0.8888888888888888,
             "#fdca26"
            ],
            [
             1,
             "#f0f921"
            ]
           ]
          },
          "colorway": [
           "#636efa",
           "#EF553B",
           "#00cc96",
           "#ab63fa",
           "#FFA15A",
           "#19d3f3",
           "#FF6692",
           "#B6E880",
           "#FF97FF",
           "#FECB52"
          ],
          "font": {
           "color": "#2a3f5f"
          },
          "geo": {
           "bgcolor": "white",
           "lakecolor": "white",
           "landcolor": "#E5ECF6",
           "showlakes": true,
           "showland": true,
           "subunitcolor": "white"
          },
          "hoverlabel": {
           "align": "left"
          },
          "hovermode": "closest",
          "mapbox": {
           "style": "light"
          },
          "paper_bgcolor": "white",
          "plot_bgcolor": "#E5ECF6",
          "polar": {
           "angularaxis": {
            "gridcolor": "white",
            "linecolor": "white",
            "ticks": ""
           },
           "bgcolor": "#E5ECF6",
           "radialaxis": {
            "gridcolor": "white",
            "linecolor": "white",
            "ticks": ""
           }
          },
          "scene": {
           "xaxis": {
            "backgroundcolor": "#E5ECF6",
            "gridcolor": "white",
            "gridwidth": 2,
            "linecolor": "white",
            "showbackground": true,
            "ticks": "",
            "zerolinecolor": "white"
           },
           "yaxis": {
            "backgroundcolor": "#E5ECF6",
            "gridcolor": "white",
            "gridwidth": 2,
            "linecolor": "white",
            "showbackground": true,
            "ticks": "",
            "zerolinecolor": "white"
           },
           "zaxis": {
            "backgroundcolor": "#E5ECF6",
            "gridcolor": "white",
            "gridwidth": 2,
            "linecolor": "white",
            "showbackground": true,
            "ticks": "",
            "zerolinecolor": "white"
           }
          },
          "shapedefaults": {
           "line": {
            "color": "#2a3f5f"
           }
          },
          "ternary": {
           "aaxis": {
            "gridcolor": "white",
            "linecolor": "white",
            "ticks": ""
           },
           "baxis": {
            "gridcolor": "white",
            "linecolor": "white",
            "ticks": ""
           },
           "bgcolor": "#E5ECF6",
           "caxis": {
            "gridcolor": "white",
            "linecolor": "white",
            "ticks": ""
           }
          },
          "title": {
           "x": 0.05
          },
          "xaxis": {
           "automargin": true,
           "gridcolor": "white",
           "linecolor": "white",
           "ticks": "",
           "title": {
            "standoff": 15
           },
           "zerolinecolor": "white",
           "zerolinewidth": 2
          },
          "yaxis": {
           "automargin": true,
           "gridcolor": "white",
           "linecolor": "white",
           "ticks": "",
           "title": {
            "standoff": 15
           },
           "zerolinecolor": "white",
           "zerolinewidth": 2
          }
         }
        }
       }
      }
     },
     "metadata": {},
     "output_type": "display_data"
    }
   ],
   "source": [
    "plot_radar_chart(df_radar)"
   ]
  },
  {
   "cell_type": "code",
   "execution_count": 73,
   "metadata": {},
   "outputs": [
    {
     "data": {
      "text/html": [
       "<div>\n",
       "<style scoped>\n",
       "    .dataframe tbody tr th:only-of-type {\n",
       "        vertical-align: middle;\n",
       "    }\n",
       "\n",
       "    .dataframe tbody tr th {\n",
       "        vertical-align: top;\n",
       "    }\n",
       "\n",
       "    .dataframe thead th {\n",
       "        text-align: right;\n",
       "    }\n",
       "</style>\n",
       "<table border=\"1\" class=\"dataframe\">\n",
       "  <thead>\n",
       "    <tr style=\"text-align: right;\">\n",
       "      <th></th>\n",
       "      <th>principal components 1</th>\n",
       "      <th>principal component 2</th>\n",
       "      <th>clusters</th>\n",
       "    </tr>\n",
       "  </thead>\n",
       "  <tbody>\n",
       "    <tr>\n",
       "      <th>0</th>\n",
       "      <td>0.119091</td>\n",
       "      <td>-0.642953</td>\n",
       "      <td>2</td>\n",
       "    </tr>\n",
       "    <tr>\n",
       "      <th>1</th>\n",
       "      <td>0.118341</td>\n",
       "      <td>-0.632324</td>\n",
       "      <td>2</td>\n",
       "    </tr>\n",
       "    <tr>\n",
       "      <th>2</th>\n",
       "      <td>1.657724</td>\n",
       "      <td>-0.012223</td>\n",
       "      <td>3</td>\n",
       "    </tr>\n",
       "    <tr>\n",
       "      <th>3</th>\n",
       "      <td>1.651672</td>\n",
       "      <td>-0.004343</td>\n",
       "      <td>3</td>\n",
       "    </tr>\n",
       "    <tr>\n",
       "      <th>4</th>\n",
       "      <td>-0.367978</td>\n",
       "      <td>0.733630</td>\n",
       "      <td>1</td>\n",
       "    </tr>\n",
       "    <tr>\n",
       "      <th>...</th>\n",
       "      <td>...</td>\n",
       "      <td>...</td>\n",
       "      <td>...</td>\n",
       "    </tr>\n",
       "    <tr>\n",
       "      <th>742</th>\n",
       "      <td>-0.355170</td>\n",
       "      <td>0.704766</td>\n",
       "      <td>1</td>\n",
       "    </tr>\n",
       "    <tr>\n",
       "      <th>743</th>\n",
       "      <td>0.116344</td>\n",
       "      <td>-0.633787</td>\n",
       "      <td>2</td>\n",
       "    </tr>\n",
       "    <tr>\n",
       "      <th>744</th>\n",
       "      <td>0.111361</td>\n",
       "      <td>-0.635913</td>\n",
       "      <td>2</td>\n",
       "    </tr>\n",
       "    <tr>\n",
       "      <th>745</th>\n",
       "      <td>-0.418028</td>\n",
       "      <td>0.878310</td>\n",
       "      <td>1</td>\n",
       "    </tr>\n",
       "    <tr>\n",
       "      <th>746</th>\n",
       "      <td>1.663355</td>\n",
       "      <td>-0.032447</td>\n",
       "      <td>3</td>\n",
       "    </tr>\n",
       "  </tbody>\n",
       "</table>\n",
       "<p>747 rows × 3 columns</p>\n",
       "</div>"
      ],
      "text/plain": [
       "     principal components 1  principal component 2  clusters\n",
       "0                  0.119091              -0.642953         2\n",
       "1                  0.118341              -0.632324         2\n",
       "2                  1.657724              -0.012223         3\n",
       "3                  1.651672              -0.004343         3\n",
       "4                 -0.367978               0.733630         1\n",
       "..                      ...                    ...       ...\n",
       "742               -0.355170               0.704766         1\n",
       "743                0.116344              -0.633787         2\n",
       "744                0.111361              -0.635913         2\n",
       "745               -0.418028               0.878310         1\n",
       "746                1.663355              -0.032447         3\n",
       "\n",
       "[747 rows x 3 columns]"
      ]
     },
     "execution_count": 73,
     "metadata": {},
     "output_type": "execute_result"
    }
   ],
   "source": [
    "#Principal Component Analysis\n",
    "from sklearn.decomposition import PCA\n",
    "pca = PCA(n_components = 2)\n",
    "\n",
    "#fit pca model to dataframe\n",
    "principalcomponents = pca.fit_transform(encode_scaled)\n",
    "\n",
    "#transfrom data onto first two principal components\n",
    "principalDf = pd.DataFrame(data = principalcomponents, columns = ['principal components 1','principal component 2'])\n",
    "\n",
    "#assign clusters\n",
    "principalDf['clusters']=encode_scaled['clusters']\n",
    "\n",
    "principalDf\n"
   ]
  },
  {
   "cell_type": "code",
   "execution_count": 74,
   "metadata": {},
   "outputs": [
    {
     "data": {
      "application/vnd.plotly.v1+json": {
       "config": {
        "plotlyServerURL": "https://plot.ly"
       },
       "data": [
        {
         "hovertemplate": "0=%{x}<br>1=%{y}<br>color=%{marker.color}<extra></extra>",
         "legendgroup": "",
         "marker": {
          "color": [
           2,
           2,
           3,
           3,
           1,
           1,
           0,
           1,
           1,
           2,
           3,
           0,
           2,
           3,
           1,
           0,
           2,
           0,
           2,
           0,
           1,
           2,
           1,
           3,
           1,
           1,
           1,
           1,
           1,
           2,
           1,
           2,
           1,
           2,
           3,
           1,
           0,
           1,
           0,
           3,
           1,
           1,
           1,
           1,
           3,
           1,
           2,
           1,
           1,
           1,
           0,
           0,
           2,
           2,
           3,
           3,
           2,
           3,
           0,
           2,
           2,
           3,
           0,
           3,
           2,
           3,
           3,
           1,
           3,
           3,
           3,
           1,
           1,
           1,
           2,
           1,
           1,
           1,
           3,
           0,
           1,
           1,
           3,
           3,
           1,
           1,
           1,
           1,
           0,
           1,
           1,
           3,
           3,
           3,
           3,
           0,
           3,
           3,
           2,
           2,
           1,
           2,
           1,
           1,
           1,
           2,
           2,
           2,
           2,
           3,
           3,
           2,
           2,
           3,
           1,
           1,
           1,
           1,
           2,
           1,
           2,
           2,
           1,
           2,
           0,
           3,
           3,
           1,
           1,
           3,
           2,
           2,
           3,
           1,
           2,
           3,
           0,
           1,
           0,
           0,
           2,
           1,
           1,
           2,
           2,
           3,
           1,
           1,
           2,
           1,
           3,
           1,
           1,
           2,
           2,
           1,
           2,
           1,
           2,
           2,
           1,
           2,
           3,
           1,
           2,
           2,
           1,
           2,
           1,
           0,
           1,
           1,
           1,
           2,
           2,
           1,
           1,
           1,
           1,
           2,
           0,
           3,
           3,
           3,
           2,
           2,
           1,
           1,
           3,
           1,
           0,
           1,
           0,
           3,
           2,
           3,
           3,
           3,
           1,
           2,
           2,
           1,
           0,
           3,
           2,
           1,
           2,
           1,
           1,
           1,
           0,
           3,
           2,
           0,
           3,
           2,
           0,
           2,
           2,
           1,
           3,
           2,
           2,
           2,
           0,
           2,
           0,
           2,
           1,
           1,
           3,
           3,
           0,
           0,
           3,
           0,
           1,
           2,
           3,
           1,
           1,
           0,
           3,
           3,
           0,
           1,
           2,
           3,
           2,
           1,
           2,
           2,
           2,
           2,
           2,
           2,
           1,
           1,
           2,
           2,
           2,
           2,
           1,
           1,
           3,
           3,
           1,
           3,
           2,
           1,
           1,
           3,
           3,
           0,
           2,
           1,
           0,
           2,
           1,
           2,
           3,
           2,
           1,
           2,
           1,
           0,
           1,
           1,
           1,
           3,
           3,
           1,
           2,
           3,
           2,
           3,
           0,
           1,
           0,
           0,
           3,
           3,
           2,
           3,
           3,
           1,
           1,
           1,
           1,
           2,
           1,
           0,
           0,
           1,
           3,
           2,
           3,
           3,
           2,
           2,
           3,
           2,
           2,
           0,
           1,
           1,
           3,
           2,
           0,
           3,
           2,
           2,
           2,
           2,
           0,
           1,
           3,
           2,
           1,
           1,
           0,
           2,
           1,
           3,
           0,
           1,
           1,
           0,
           0,
           1,
           3,
           2,
           2,
           1,
           0,
           3,
           3,
           2,
           1,
           0,
           3,
           2,
           0,
           1,
           3,
           1,
           3,
           1,
           3,
           1,
           1,
           1,
           0,
           2,
           3,
           1,
           1,
           2,
           0,
           2,
           1,
           0,
           2,
           3,
           0,
           2,
           1,
           3,
           2,
           2,
           0,
           1,
           1,
           2,
           0,
           3,
           2,
           3,
           2,
           1,
           3,
           1,
           1,
           1,
           1,
           1,
           1,
           3,
           0,
           2,
           2,
           1,
           1,
           1,
           2,
           0,
           2,
           3,
           1,
           0,
           0,
           2,
           2,
           1,
           2,
           3,
           2,
           2,
           0,
           3,
           1,
           3,
           2,
           2,
           2,
           0,
           3,
           2,
           0,
           3,
           2,
           1,
           1,
           1,
           1,
           0,
           2,
           0,
           1,
           3,
           2,
           2,
           2,
           1,
           1,
           2,
           0,
           1,
           1,
           1,
           2,
           2,
           3,
           3,
           3,
           2,
           0,
           3,
           1,
           3,
           3,
           2,
           2,
           0,
           3,
           3,
           0,
           0,
           0,
           2,
           0,
           3,
           1,
           3,
           1,
           2,
           2,
           1,
           1,
           1,
           1,
           3,
           1,
           1,
           2,
           3,
           2,
           1,
           2,
           3,
           2,
           3,
           2,
           3,
           2,
           0,
           3,
           2,
           2,
           0,
           1,
           2,
           1,
           1,
           2,
           0,
           0,
           1,
           3,
           1,
           1,
           3,
           1,
           1,
           2,
           2,
           2,
           3,
           2,
           3,
           2,
           1,
           0,
           2,
           1,
           1,
           3,
           1,
           2,
           2,
           0,
           1,
           1,
           3,
           1,
           0,
           0,
           0,
           0,
           1,
           3,
           1,
           2,
           3,
           1,
           2,
           1,
           0,
           2,
           0,
           0,
           1,
           3,
           1,
           1,
           3,
           1,
           1,
           2,
           2,
           1,
           1,
           0,
           0,
           0,
           1,
           1,
           3,
           1,
           0,
           2,
           1,
           0,
           1,
           1,
           2,
           1,
           3,
           2,
           2,
           3,
           3,
           1,
           0,
           0,
           2,
           2,
           0,
           3,
           0,
           2,
           3,
           0,
           1,
           2,
           3,
           1,
           1,
           3,
           3,
           1,
           1,
           2,
           1,
           2,
           2,
           0,
           3,
           1,
           3,
           3,
           2,
           1,
           1,
           2,
           2,
           3,
           1,
           1,
           1,
           1,
           3,
           0,
           1,
           2,
           3,
           0,
           1,
           0,
           2,
           2,
           0,
           0,
           2,
           1,
           1,
           1,
           3,
           2,
           2,
           2,
           2,
           1,
           2,
           2,
           2,
           1,
           3,
           0,
           2,
           3,
           0,
           3,
           1,
           1,
           2,
           1,
           0,
           1,
           1,
           3,
           0,
           2,
           3,
           2,
           1,
           1,
           0,
           1,
           1,
           2,
           0,
           1,
           2,
           0,
           3,
           2,
           1,
           1,
           3,
           2,
           1,
           2,
           2,
           0,
           2,
           1,
           1,
           1,
           2,
           1,
           1,
           1,
           1,
           0,
           2,
           0,
           2,
           1,
           0,
           2,
           1,
           1,
           1,
           0,
           1,
           3,
           1,
           0,
           1,
           1,
           3,
           0,
           1,
           2,
           2,
           2,
           0,
           1,
           3,
           3,
           1,
           3,
           1,
           3,
           2,
           3,
           1,
           2,
           3,
           1,
           3,
           1,
           2,
           2,
           1,
           3
          ],
          "coloraxis": "coloraxis",
          "symbol": "circle"
         },
         "mode": "markers",
         "name": "",
         "orientation": "v",
         "showlegend": false,
         "type": "scatter",
         "x": [
          0.11909068411285961,
          0.11834078139754713,
          1.6577243327121483,
          1.6516724283578872,
          -0.36797766843376084,
          -0.4312128291424973,
          -1.58677565600737,
          -0.42848539510789424,
          -0.3760062014916136,
          0.12015756832295792,
          1.6596576827180027,
          -1.5864657209638189,
          0.12486643792140248,
          1.6617236860284739,
          -0.43110683537940947,
          -1.5864657209638189,
          0.18867709003450334,
          -1.5870855910509203,
          0.11949832364448468,
          -1.5888040445435558,
          -0.4265057872556102,
          0.1161913553278074,
          -0.42719222214764785,
          1.6555904033539683,
          -0.3614273726090049,
          -0.4272825150104291,
          -0.41744963062791157,
          -0.4196983177199053,
          -0.4286441521317014,
          0.1190862185443123,
          -0.4245476272089479,
          0.11425213525860722,
          -0.427954340998192,
          0.11836747977962425,
          1.656076213822225,
          -0.4261025370201707,
          -1.5867519902361806,
          -0.4274209951276258,
          -1.5965524243811282,
          1.6611078125858378,
          -0.4170676030210533,
          -0.43125682963134776,
          -0.42699428945500273,
          -0.4269194870741344,
          1.6547597251967059,
          -0.42945478234400275,
          0.11978360012488075,
          -0.3510247068380319,
          -0.3608570217755912,
          -0.42612442682620955,
          -1.586132120149079,
          -1.586132120149079,
          0.10958113844875786,
          0.11709339279839572,
          1.6552564876312303,
          1.6508127427363268,
          0.11704128999285503,
          1.6480936056764839,
          -1.596545246714987,
          0.12511266738759844,
          0.11284979240115083,
          1.665482573732851,
          -1.5914177099681208,
          1.6522201639730065,
          0.11245536684809285,
          1.658379161370394,
          1.6541245368121438,
          -0.4257886367812671,
          1.6651963044604887,
          1.6638199904816253,
          1.6573927606822643,
          -0.42942545403759097,
          -0.4247641194397519,
          -0.4237480257291677,
          0.1193123308442843,
          -0.4220161198706056,
          -0.4172222813436245,
          -0.42166819915566717,
          1.6655062395040399,
          -1.5903823452931782,
          -0.42781193985251253,
          -0.3592765973628758,
          1.6557572164126368,
          1.6651963044604887,
          -0.4272554068421137,
          -0.42743771600203,
          -0.42409073572021333,
          -0.42832024787089107,
          -1.5941917447401561,
          -0.4236273070878436,
          -0.360341093563753,
          1.6658161745475903,
          1.6651963044604887,
          1.6571122104754492,
          1.6651726386893,
          -1.596570196609577,
          1.6648627036457493,
          1.6560422431887807,
          0.1171776112605624,
          0.1792339016254493,
          -0.42971192479393966,
          0.11225875045966867,
          -0.42710842894936496,
          -0.42499762924878404,
          -0.4259911846162959,
          0.1879886907759883,
          0.18096306305581947,
          0.1139657775973785,
          0.18390547161607584,
          1.6562702321728624,
          1.6630196597015479,
          0.11623435904046141,
          0.11342119001562904,
          1.6539692491231655,
          -0.43028045990156816,
          -0.35707542972628775,
          -0.37509897907052503,
          -0.4237171274657831,
          0.17893917922426042,
          -0.42865300699643427,
          0.1837316208297157,
          0.11462692040752662,
          -0.35890600520790844,
          0.16784796091665904,
          -1.5864420551926297,
          1.6506567346789396,
          1.664126761309199,
          -0.3521524781880582,
          -0.42965116750478216,
          1.6651726386893,
          0.11563905445896233,
          0.12186154785198651,
          1.6643671779485933,
          -0.42171361358560666,
          0.11548616530041227,
          1.6605644917460267,
          -1.6036941600282386,
          -0.43172410246709936,
          -1.5864657209638189,
          -1.5969925283126245,
          0.1860467940079906,
          -0.36071145293784246,
          -0.431964533174143,
          0.1269767542182313,
          0.18227745106636942,
          1.665482573732851,
          -0.43132988931686495,
          -0.3580413390718215,
          0.11923620847042239,
          -0.42355663424877665,
          1.6639762424856732,
          -0.4268702530038295,
          -0.42157288306727564,
          0.11263535783008126,
          0.11979535110786053,
          -0.3593971277881753,
          0.19496465129421645,
          -0.4247754465688451,
          0.0999904636287049,
          0.11986279698376151,
          -0.3628124756615695,
          0.11649068880401972,
          1.6614696352939822,
          -0.3651514146250315,
          0.11653224254217537,
          0.17485253045686774,
          -0.4269649921383559,
          0.1254617587673811,
          -0.42357731449957836,
          -1.594617074348809,
          -0.42615008859230813,
          -0.4254876038234069,
          -0.42511123897569336,
          0.11482668161141595,
          0.1275346572497959,
          -0.41888602048708323,
          -0.4334456033086893,
          -0.4363649335585103,
          -0.3585929501513345,
          0.11613786123911807,
          -1.5915085568325533,
          1.6655062395040399,
          1.6536472276456542,
          1.6651726386893,
          0.10912829324745814,
          0.11904023978361399,
          -0.4278578527390487,
          -0.4254454435515447,
          1.6551144876802373,
          -0.42537636618311697,
          -1.5961040276138585,
          -0.36250420025736513,
          -1.5889519145093103,
          1.663112466504457,
          0.10722669729763917,
          1.661619597084794,
          1.6655062395040399,
          1.6640315195906097,
          -0.42422369194559273,
          0.18255589089237143,
          0.18672822598449226,
          -0.42879045240020963,
          -1.586009433318067,
          1.6648627036457493,
          0.11595004471159083,
          -0.36034869536373515,
          0.19327789794892425,
          -0.42219295825923037,
          -0.4193312491014717,
          -0.36054271043664204,
          -1.5885043602539484,
          1.6633639421752149,
          0.11666656091491195,
          -1.600804272849673,
          1.6643248855316828,
          0.17489196448161448,
          -1.5877823911188877,
          0.10460147025764856,
          0.18281977936242055,
          -0.3624067557678249,
          1.651082465282659,
          0.18285320927495557,
          0.18853448993048522,
          0.11520622664531342,
          -1.5867756560073698,
          0.10030079750503658,
          -1.599906707962924,
          0.1212919007721227,
          -0.36183942370429617,
          -0.41314638612537985,
          1.6651726386893,
          1.6637091039349643,
          -1.5867519902361806,
          -1.5885168589179224,
          1.6648627036457493,
          -1.5866701990155057,
          -0.4339994899050935,
          0.1118381332565682,
          1.6556001359643306,
          -0.4291167836082394,
          -0.4234454920497103,
          -1.5927813878256785,
          1.650488715756251,
          1.6551424160313375,
          -1.595930406198373,
          -0.3625751669675552,
          0.174260214182669,
          1.6563064308425137,
          0.11650857648949421,
          -0.4275335582370079,
          0.11188832048886481,
          0.12056283593178073,
          0.1864681775181917,
          0.11714268356276723,
          0.1173018103539141,
          0.12207398621581918,
          -0.4289688184827538,
          -0.4193378741425982,
          0.1863952756910099,
          0.11743176790861996,
          0.11459967723843806,
          0.11877027612332078,
          -0.3593216994260421,
          -0.4335484677607045,
          1.6651963044604887,
          1.6658161745475903,
          -0.4254763740163293,
          1.6651963044604887,
          0.1815144900815988,
          -0.3604307182495634,
          -0.37374681757762,
          1.6651726386893,
          1.6641837991012607,
          -1.5864657209638189,
          0.12582904099908865,
          -0.4259547340788489,
          -1.6013323497618261,
          0.12064542841332386,
          -0.4245579911745016,
          0.12564385339666095,
          1.6648627036457493,
          0.11805064213688839,
          -0.4263352284082577,
          0.11608261235135105,
          -0.430173944010669,
          -1.58644205519263,
          -0.3454446036452411,
          -0.4244984002729446,
          -0.4398940556675406,
          1.6651963044604887,
          1.6658161745475903,
          -0.430521332596249,
          0.1826736462129555,
          1.6567722344184868,
          0.11299302502341048,
          1.6648627036457493,
          -1.6050517897499508,
          -0.4275630838103426,
          -1.5879451934654412,
          -1.5912871739331353,
          1.6581787476106953,
          1.6579315171383855,
          0.12297808209968825,
          1.6626503269431492,
          1.6558530050805216,
          -0.42777859861033646,
          -0.4305020426754284,
          -0.363531811216884,
          -0.4277105094265541,
          0.11768111560323591,
          -0.4321084580422177,
          -1.5870855910509203,
          -1.605129524024007,
          -0.42420159803393465,
          1.6604614678478975,
          0.11943661222857295,
          1.6634440363720573,
          1.6564707217942318,
          0.18712401595216147,
          0.11690431782620848,
          1.6512659392897233,
          0.11606027819576929,
          0.18404941055179977,
          -1.5867756560073698,
          -0.359092964532788,
          -0.42398894826643874,
          1.6651726386893,
          0.11257506066231168,
          -1.58644205519263,
          1.6503306889501037,
          0.12506693215009232,
          0.09954316738765352,
          0.11557584182881868,
          0.11511402547152798,
          -1.5957174695763057,
          -0.4254435406359527,
          1.657303752235898,
          0.11404683827157516,
          -0.4306099691936032,
          -0.4270081275392283,
          -1.5908593581793133,
          0.11818910058133923,
          -0.3647383146524799,
          1.6651963044604887,
          -1.586132120149079,
          -0.4237717750374742,
          -0.42500278606398556,
          -1.5933517161506496,
          -1.5948532932704402,
          -0.42861809374243204,
          1.6648627036457493,
          0.11234223044144266,
          0.11592978133141041,
          -0.42825186455625885,
          -1.5867756560073698,
          1.6553821973313103,
          1.662327110308127,
          0.18751808305197692,
          -0.4259785103108187,
          -1.586132120149079,
          1.6611015793136152,
          0.11566042882492425,
          -1.5958177803302807,
          -0.42560268382210886,
          1.6582139991483789,
          -0.42565642977733537,
          1.6648627036457493,
          -0.42592390926790374,
          1.6651963044604887,
          -0.4238312498256287,
          -0.4262128384806903,
          -0.4288367219165788,
          -1.5864657209638189,
          0.18603860491071814,
          1.6547780586404615,
          -0.42929553445591534,
          -0.3523179854661568,
          0.11649792724436817,
          -1.5867519902361806,
          0.12658053390856255,
          -0.42618081175540923,
          -1.599333871305638,
          0.12489770596490667,
          1.6648627036457493,
          -1.5867756560073698,
          0.11970518249075868,
          -0.41545755405611706,
          1.654871700364221,
          0.11502361129822018,
          0.11819332000639393,
          -1.6020424151913306,
          -0.3591844311285394,
          -0.42582582222556603,
          0.1152920990110011,
          -1.595708738300875,
          1.6653598869018384,
          0.1258106132170542,
          1.6658161745475903,
          0.11596270468969185,
          -0.4260914033247329,
          1.6549458012512728,
          -0.36082370931882857,
          -0.36082104240917773,
          -0.4207868331459677,
          -0.4271079552528883,
          -0.4291383459304991,
          -0.3643638245863189,
          1.6642018467254835,
          -1.5867756560073698,
          0.16664697829323302,
          0.10965060058231725,
          -0.424131754672906,
          -0.41487401121143314,
          -0.4261775437881504,
          0.11585295755838323,
          -1.591392953754132,
          0.1207051462307771,
          1.6529831421757029,
          -0.4272481985009866,
          -1.6039419513191302,
          -1.593833555419016,
          0.11880514289587248,
          0.11016301352063354,
          -0.35980416942650906,
          0.12123005128857015,
          1.657462921195447,
          0.12251112599262148,
          0.11520987531034356,
          -1.5959599444293595,
          1.6546390484755784,
          -0.35690697030629187,
          1.6648627036457493,
          0.12075169791378461,
          0.11996065054025934,
          0.12952631183697488,
          -1.5886279043349338,
          1.6533041026392192,
          0.1252546783393731,
          -1.586132120149079,
          1.6651963044604887,
          0.11803346889715517,
          -0.35173606302854893,
          -0.4311310452671929,
          -0.4190803913413465,
          -0.3543058136291208,
          -1.5877833964853754,
          0.11711147437561434,
          -1.6013893680101394,
          -0.4272415988571095,
          1.6581770686860686,
          0.1809725686211295,
          0.11546489252218838,
          0.11699274928416398,
          -0.4289803715066292,
          -0.3503931215428914,
          0.11459728606490055,
          -1.5867756560073698,
          -0.42698107800215696,
          -0.4287394002782975,
          -0.35985255654132814,
          0.11215612841386183,
          0.11799964326603173,
          1.6655062395040399,
          1.6593278426168532,
          1.6636652980914046,
          0.11380790043415961,
          -1.5971490349698434,
          1.6560330219523933,
          -0.42528900183834495,
          1.6655062395040399,
          1.6568662308081572,
          0.11686655032808936,
          0.12900456888019984,
          -1.5894263336094163,
          1.6658161745475903,
          1.6545156243758086,
          -1.5870855910509203,
          -1.58644205519263,
          -1.5883433185945193,
          0.11840232409259704,
          -1.5870855910509203,
          1.6651963044604887,
          -0.35958514096099925,
          1.6640168941966749,
          -0.3605750529038753,
          0.11213259669153788,
          0.11267097121522866,
          -0.3613638723361244,
          -0.42860113987482246,
          -0.4360911387517291,
          -0.36894709139594584,
          1.6553412634076032,
          -0.4288883004320242,
          -0.4190672015957924,
          0.17830595911125785,
          1.6526387813953292,
          0.11712110966396103,
          -0.4299551478679483,
          0.16864111099981177,
          1.663753421152499,
          0.11259177315749273,
          1.6529194298773273,
          0.11650929536477414,
          1.6651963044604887,
          0.11501839962367774,
          -1.5867756560073698,
          1.6636835146693965,
          0.11935520165960271,
          0.19035081350536331,
          -1.5876920421838714,
          -0.3512779100282872,
          0.19320446835429558,
          -0.4290227428520778,
          -0.4317143028323045,
          0.12158186801088555,
          -1.5963771662439639,
          -1.595818249501308,
          -0.37493249984051247,
          1.655129892545878,
          -0.42471396802972183,
          -0.44358987180593185,
          1.6633502691909836,
          -0.36185284078917535,
          -0.4178877669339631,
          0.11594299307852841,
          0.11823690779317537,
          0.11774216353164761,
          1.649749530849691,
          0.11606132245139081,
          1.6638668405599462,
          0.11865467635871359,
          -0.42044584096868287,
          -1.58644205519263,
          0.12278622239891904,
          -0.35444851482698353,
          -0.4296533511757562,
          1.6651726386893,
          -0.4292525469731951,
          0.13108926125350415,
          0.18586159233637564,
          -1.5901690454136492,
          -0.42231072782678325,
          -0.35668809839808974,
          1.6648627036457493,
          -0.42507343719576074,
          -1.5885618182444843,
          -1.6002314625057406,
          -1.5870855910509203,
          -1.5881730095115245,
          -0.4194831941130499,
          1.6648627036457493,
          -0.42314512141504057,
          0.11864812942467304,
          1.6648627036457493,
          -0.42490111737979136,
          0.12446948686563465,
          -0.35584823614051453,
          -1.5867519902361806,
          0.1262452379034578,
          -1.598578774049041,
          -1.5970647732108434,
          -0.4270924866766289,
          1.6651726386893,
          -0.4237320879818808,
          -0.43845583132720684,
          1.6658161745475903,
          -0.4261672532750365,
          -0.42351975457970625,
          0.12204843985816131,
          0.11856689248588323,
          -0.42725521183345977,
          -0.43202445065489625,
          -1.5884909513832173,
          -1.58644205519263,
          -1.58644205519263,
          -0.434601658196644,
          -0.4299678014180425,
          1.6639622022597509,
          -0.41762084750843087,
          -1.5889659226157038,
          0.11228741209529605,
          -0.4263773608032892,
          -1.6009495074495408,
          -0.3579813381370806,
          -0.4283989020935248,
          0.17870139044310498,
          -0.3606731335542893,
          1.6578228564656465,
          0.18478999616729144,
          0.12080568619334808,
          1.6579461814214547,
          1.6542306337034234,
          -0.4316435844636954,
          -1.5892789267155005,
          -1.58644205519263,
          0.10885070949713638,
          0.11753168726983512,
          -1.595182134680056,
          1.6651726386893,
          -1.5988105834257758,
          0.18047576920002922,
          1.6655062395040399,
          -1.5928898762308357,
          -0.42664083447055534,
          0.11063515060667647,
          1.665482573732851,
          -0.35547885122648326,
          -0.43409678144541236,
          1.6570938317132933,
          1.6651963044604887,
          -0.4287843347833742,
          -0.44392722315619115,
          0.1163759623209577,
          -0.4257886181881685,
          0.12601794157595383,
          0.13005169490303378,
          -1.5879200593032519,
          1.665482573732851,
          -0.42115046023605335,
          1.6658161745475903,
          1.6651726386893,
          0.11624485272905175,
          -0.37211474770969466,
          -0.36734432443571874,
          0.11607223668005377,
          0.18472062587964908,
          1.6568253976622573,
          -0.4249638739559072,
          -0.43316943119765755,
          -0.41866754565860265,
          -0.43028704547779584,
          1.6466732465620455,
          -1.5867519902361806,
          -0.4262187506983999,
          0.11975463914203165,
          1.6597140903537282,
          -1.6020489112835472,
          -0.4289545131914233,
          -1.5891488913479812,
          0.18269861997866,
          0.18231142386335764,
          -1.586132120149079,
          -1.5890825760489353,
          0.116719249300414,
          -0.4290312711861988,
          -0.3580906043555343,
          -0.43218352993081316,
          1.6580100082249478,
          0.12067935041581339,
          0.11883823552396053,
          0.1264263746469345,
          0.10990095421918541,
          -0.42694234240561846,
          0.10523600462781921,
          0.1876286288368397,
          0.1883023584323762,
          -0.4275110628491712,
          1.6476075423296757,
          -1.5983132425928437,
          0.11595813296063227,
          1.6644311862816352,
          -1.5881982917902282,
          1.6517216081087385,
          -0.3627812792613393,
          -0.36510504994767234,
          0.11625590080695877,
          -0.3527025468383836,
          -1.58644205519263,
          -0.42255405037357124,
          -0.4277108023457687,
          1.662261455169987,
          -1.5969899458088694,
          0.11244800906358439,
          1.6651963044604887,
          0.11331885561130017,
          -0.35924664386955313,
          -0.42416448455020656,
          -1.593565161455969,
          -0.356317367080058,
          -0.4278213451787169,
          0.18726805996449628,
          -1.5864657209638189,
          -0.4177264525694833,
          0.18259367565274023,
          -1.5867756560073698,
          1.657618110891994,
          0.11778083662920276,
          -0.42660050684638867,
          -0.42715976635084957,
          1.6648627036457493,
          0.11230717334942872,
          -0.4228244040294072,
          0.11980878412966005,
          0.19107810441238365,
          -1.605735117906985,
          0.11494200583827166,
          -0.43083168385404375,
          -0.4265636326546757,
          -0.4212948568366823,
          0.11854335093860806,
          -0.4318112587911132,
          -0.42651572520499276,
          -0.36009801096661664,
          -0.42644586429875814,
          -1.599877324948134,
          0.11524889543542594,
          -1.5881148463717603,
          0.11958248698632462,
          -0.3561735929846016,
          -1.5870855910509203,
          0.13037585319392475,
          -0.43252473082103793,
          -0.35208220297139625,
          -0.3601465680687787,
          -1.5885654966198117,
          -0.3636883242202386,
          1.6513094188010324,
          -0.4309165887904695,
          -1.5864657209638189,
          -0.4261346848781969,
          -0.4269645523142621,
          1.6658161745475903,
          -1.5870855910509203,
          -0.4299460876654546,
          0.18757142225328777,
          0.11623780109598947,
          0.11983931913558361,
          -1.5993576477960758,
          -0.42582307638611816,
          1.6597885296767565,
          1.654488156263846,
          -0.43093255441332834,
          1.6548891689196201,
          -0.3564337818315847,
          1.6648627036457493,
          0.1898669445833641,
          1.654462061723492,
          -0.35746257335532305,
          0.11908234614678459,
          1.650452913379694,
          -0.4162391669676465,
          1.665482573732851,
          -0.3551699864115682,
          0.11634350937988455,
          0.11136058748878674,
          -0.4180276221031156,
          1.6633547068711787
         ],
         "xaxis": "x",
         "y": [
          -0.6429533709197465,
          -0.6323236330468266,
          -0.01222337351218662,
          -0.004343429906983172,
          0.733629755914366,
          0.9093269243485042,
          -0.6319787803966231,
          0.9160503325142108,
          0.7434588146262742,
          -0.640828843699796,
          -0.020575724024018475,
          -0.6334701122094449,
          -0.6564057798638403,
          -0.023523155192418252,
          0.9056538307878295,
          -0.6334701122094449,
          -0.830411362758121,
          -0.6304874485838,
          -0.6333962383472967,
          -0.6308885629800074,
          0.8939130544205373,
          -0.6249526875956517,
          0.8922379301951171,
          -0.006739359026644933,
          0.7169096813222272,
          0.9088188204444552,
          0.8727052477819056,
          0.8811304858516358,
          0.9024865183508461,
          -0.6377654351292797,
          0.8926957255098001,
          -0.6442276205186755,
          0.8855562216559729,
          -0.6432339568737561,
          -0.017533149092087686,
          0.8899520058875363,
          -0.6290170967399679,
          0.9003144142458996,
          -0.6013437949043723,
          -0.026258377535116204,
          0.8757846181867843,
          0.8952262026018856,
          0.8970722202859968,
          0.8964853821841068,
          -0.0033198363110634463,
          0.9142513250926606,
          -0.6451468008009347,
          0.6917549967164397,
          0.7331870300871348,
          0.887982088987737,
          -0.6319997603656133,
          -0.6319997603656133,
          -0.6268575695116,
          -0.634686930171578,
          -0.007187998903560808,
          0.005451466206681445,
          -0.640480189800495,
          0.02159572339968153,
          -0.6150484620799752,
          -0.6553801107591352,
          -0.6326919970628655,
          -0.03531154167859211,
          -0.6203258527803103,
          0.0016191824829673552,
          -0.6532833356217964,
          -0.019665662878066297,
          -0.002985600789215577,
          0.8960970092657977,
          -0.03085852620911491,
          -0.031822086540068385,
          -0.01385652143560452,
          0.8976867879083587,
          0.901943612151539,
          0.893770047816425,
          -0.6336461331000952,
          0.8889662971555233,
          0.873669044778863,
          0.8901210942505304,
          -0.03234985802193742,
          -0.618078152432565,
          0.8818992895927812,
          0.7295544341694445,
          -0.014146241305969863,
          -0.03085852620911491,
          0.9062273953599447,
          0.8975313342293118,
          0.8952173441214573,
          0.8971984513573162,
          -0.6256006731794651,
          0.8867687963779464,
          0.7164614237154096,
          -0.03384118983475988,
          -0.03085852620911491,
          -0.016141212805960037,
          -0.03382020986576956,
          -0.6089986808410689,
          -0.032328878052946985,
          -0.009947783425358712,
          -0.6300709322558373,
          -0.8232358450244817,
          0.911277988784144,
          -0.6213522525776118,
          0.8962315251361287,
          0.8920911152862728,
          0.8958248716286961,
          -0.8113223912709219,
          -0.8171625968904358,
          -0.6145886485143043,
          -0.8330396271550341,
          -0.005825959935605628,
          -0.0294129286788085,
          -0.6198917482040337,
          -0.6134125893247421,
          -0.008031879909660651,
          0.9022612815609247,
          0.7110867899752958,
          0.7324783725404581,
          0.8938115618636467,
          -0.8179740789942115,
          0.8941562730358628,
          -0.8170093175875826,
          -0.6360275530545302,
          0.7281445995642912,
          -0.7861807653103446,
          -0.6305084285527904,
          0.010965113868953599,
          -0.031409917789236685,
          0.7116648263037656,
          0.9031067813209331,
          -0.03382020986576956,
          -0.6309176829620833,
          -0.6499859356996134,
          -0.03108690067994385,
          0.8862445728532542,
          -0.620897000501507,
          -0.022647295097011376,
          -0.5846982674569422,
          0.9098604031471734,
          -0.6334701122094449,
          -0.6171971216346633,
          -0.8210659117223064,
          0.7094549595662492,
          0.9114451190532034,
          -0.6624143351258149,
          -0.8115811178878508,
          -0.03531154167859211,
          0.9250862469352269,
          0.7213935528992031,
          -0.6451949205015602,
          0.8811732491390775,
          -0.03177767259220114,
          0.8933906139300963,
          0.8907747276686778,
          -0.6444921257833532,
          -0.6387204162582582,
          0.7415263448401554,
          -0.8444217857694696,
          0.9019283933359629,
          -0.6095886014379291,
          -0.6483593322412633,
          0.7226469486044808,
          -0.6476960673893014,
          -0.020048986860188318,
          0.7233854280033658,
          -0.6418514722957637,
          -0.8138315144475244,
          0.905429931510747,
          -0.6587265851239897,
          0.8939994106760205,
          -0.6090023669647092,
          0.8943909612504839,
          0.8964359598763579,
          0.9014772319984781,
          -0.6191552175765114,
          -0.6686374229735568,
          0.8784063619864534,
          0.9139580387502585,
          0.9119434597465237,
          0.7206524235963093,
          -0.631467911463103,
          -0.6195912989303203,
          -0.03234985802193742,
          -0.008133495212565508,
          -0.03382020986576956,
          -0.6236504958953338,
          -0.6378272109132147,
          0.9080458126757988,
          0.8927426103105841,
          -0.0016555303391859906,
          0.8871121649926796,
          -0.6102801010615408,
          0.7154956400958479,
          -0.6291794850366386,
          -0.030864944159173863,
          -0.6158810638905202,
          -0.02366300620182241,
          -0.03234985802193742,
          -0.03153788191310209,
          0.8834341759823675,
          -0.8147079828968721,
          -0.803477157122728,
          0.9003822014633214,
          -0.6339081955668173,
          -0.032328878052946985,
          -0.6298125046089833,
          0.7338372488655011,
          -0.8454386455519802,
          0.8836927867669346,
          0.878859303950749,
          0.7282916344415645,
          -0.630651437402955,
          -0.03052706844295777,
          -0.6474597705131419,
          -0.596797605707537,
          -0.0311437235949045,
          -0.8027958317378074,
          -0.6295158978567982,
          -0.6175004940022626,
          -0.8075372733090548,
          0.7309720831529405,
          0.005093762968172095,
          -0.8241290541385228,
          -0.8338891399792621,
          -0.6371569652235702,
          -0.6319787803966225,
          -0.6015406378089926,
          -0.5912215856090856,
          -0.6405251975896318,
          0.7261438464334099,
          0.8624721026689696,
          -0.03382020986576956,
          -0.0281555667873059,
          -0.6290170967399679,
          -0.6285949564454979,
          -0.032328878052946985,
          -0.6302893868741042,
          0.903675092545037,
          -0.6257328859843171,
          -0.008634034478308421,
          0.9075747595943002,
          0.8888208169217072,
          -0.6162402710930563,
          0.013007167708843649,
          -0.005599032314437069,
          -0.6138623319895758,
          0.7172425342161348,
          -0.807996715626434,
          -0.014128427024057852,
          -0.6316571692645949,
          0.9058536788827866,
          -0.6237577038987789,
          -0.6429159350503114,
          -0.8276231859744816,
          -0.6336023201745292,
          -0.6383841811007971,
          -0.644010008123512,
          0.902050305672448,
          0.8829931995877578,
          -0.8194355411256855,
          -0.6297294544530947,
          -0.6315613118861424,
          -0.6305589189130091,
          0.707572198793183,
          0.913654311035308,
          -0.03085852620911491,
          -0.03384118983475988,
          0.8990788947982015,
          -0.03085852620911491,
          -0.8103839243100838,
          0.7299442958142527,
          0.7505589897589774,
          -0.03382020986576956,
          -0.03133328339837859,
          -0.6334701122094449,
          -0.6556670261950086,
          0.8882428378920041,
          -0.591063764459917,
          -0.6478043761175336,
          0.8984050565226418,
          -0.6661129355101117,
          -0.032328878052946985,
          -0.631000229746853,
          0.9074637215081137,
          -0.6398277360478809,
          0.9004966414328792,
          -0.6305084285527903,
          0.6892096850916126,
          0.8887883412636646,
          0.9137106890424195,
          -0.03085852620911491,
          -0.03384118983475988,
          0.9019048972593703,
          -0.8290714307540575,
          -0.01278249134691453,
          -0.6382883183425416,
          -0.032328878052946985,
          -0.5736356395916434,
          0.8994361673439895,
          -0.6297346345611397,
          -0.6216981726363048,
          -0.01924384195934411,
          -0.015040415163362646,
          -0.6523340496232839,
          -0.026093650067231862,
          -0.006386534651342488,
          0.9036494519860311,
          0.9019635691094828,
          0.7224333187595615,
          0.8954225865543674,
          -0.6354777410497057,
          0.8997397252083715,
          -0.6304874485838,
          -0.5756478331162449,
          0.8890215945977006,
          -0.02331128451392349,
          -0.6462713409091516,
          -0.030419456107968784,
          -0.01581544218745009,
          -0.8245852418609579,
          -0.6368159635120861,
          0.0015247697081232896,
          -0.6360749942146896,
          -0.8232419663255249,
          -0.6319787803966225,
          0.7233868111117967,
          0.8908185041313953,
          -0.03382020986576956,
          -0.6388498836320734,
          -0.6305084285527903,
          0.0067115440644819205,
          -0.6616941352452834,
          -0.6044663204767966,
          -0.6219641705794006,
          -0.6350457992142535,
          -0.6135762362671828,
          0.8926796581169142,
          -0.013976110708295152,
          -0.6182952414796778,
          0.9044136544580897,
          0.8772232592604334,
          -0.6187190536778503,
          -0.6415331158375103,
          0.7405443995167567,
          -0.03085852620911491,
          -0.6319997603656133,
          0.8892025401247451,
          0.8895218487655163,
          -0.6138821358054306,
          -0.6150429998858555,
          0.8961071826575839,
          -0.032328878052946985,
          -0.6352816951098795,
          -0.6440431049637085,
          0.9132396851066519,
          -0.6319787803966225,
          -0.0032035950148059725,
          -0.03225117069617356,
          -0.8198347203035752,
          0.9060352461051844,
          -0.6319997603656133,
          -0.026266752386291024,
          -0.6206628648772636,
          -0.6079877552573161,
          0.89440634412399,
          -0.00965771939273654,
          0.9026524807185722,
          -0.032328878052946985,
          0.8985103533318309,
          -0.03085852620911491,
          0.8820536983824081,
          0.8980894016292832,
          0.91126623005861,
          -0.6334701122094449,
          -0.814597058447239,
          -0.014274153485513467,
          0.8977958353463447,
          0.6957406392740334,
          -0.6233531291290939,
          -0.6290170967399679,
          -0.6667621895451261,
          0.8993528432626136,
          -0.6050808696237884,
          -0.6537611750311002,
          -0.032328878052946985,
          -0.6319787803966225,
          -0.6471271580200482,
          0.8727211451379481,
          -0.007704988372323091,
          -0.637467831022449,
          -0.640840106235242,
          -0.5984611393177872,
          0.7379966143232489,
          0.8960142934881187,
          -0.6389493414178723,
          -0.605407928130395,
          -0.03340310647738747,
          -0.6622716541690993,
          -0.03384118983475988,
          -0.6381138431795889,
          0.8982853129760675,
          -0.0037899246492098778,
          0.7138724882459754,
          0.7157838233478256,
          0.8753231628262028,
          0.9052378502467047,
          0.9127687283396657,
          0.7263513639881065,
          -0.031474557010969004,
          -0.6319787803966225,
          -0.7832877770527861,
          -0.6210409863724222,
          0.8951622321975964,
          0.8696896732398645,
          0.9000773289617167,
          -0.6344457925400526,
          -0.6175282259335277,
          -0.6458491434519447,
          -0.01787341028743729,
          0.9088649271519984,
          -0.6105520628029848,
          -0.6174884123060254,
          -0.6324198248034839,
          -0.6459061469109029,
          0.710739469353328,
          -0.6425160487515617,
          -0.011854503805441586,
          -0.6536487793600817,
          -0.6379049123769861,
          -0.624160873265422,
          -0.004367591044524855,
          0.7180055039841597,
          -0.032328878052946985,
          -0.6431587510401102,
          -0.6410934169551911,
          -0.6661560168459316,
          -0.6306519058951952,
          -0.007183322206125655,
          -0.6538108770227862,
          -0.6319997603656133,
          -0.03085852620911491,
          -0.6398672207721887,
          0.7039059619640997,
          0.9075290549722486,
          0.8781452107132585,
          0.7131492431280829,
          -0.6295172486392456,
          -0.6308798868839947,
          -0.601399227122663,
          0.9043709499173538,
          -0.009707338134643457,
          -0.7985726227819328,
          -0.6451932860095787,
          -0.636762658363103,
          0.8963115276022494,
          0.6906958252346729,
          -0.6406357221636888,
          -0.6319787803966225,
          0.9054083189915864,
          0.912584645671749,
          0.7196801464369526,
          -0.6298084808688711,
          -0.6335020717004677,
          -0.03234985802193742,
          -0.021515453704594182,
          -0.03202992693266625,
          -0.6455118225721584,
          -0.6221085203060679,
          -0.01377567665452302,
          0.9031461466770734,
          -0.03234985802193742,
          -0.016471704244796,
          -0.6377523237197056,
          -0.664258172982126,
          -0.622516937475233,
          -0.03384118983475988,
          -0.0024601464171151227,
          -0.6304874485838,
          -0.6305084285527903,
          -0.6302695444103729,
          -0.6584819108029395,
          -0.6304874485838,
          -0.03085852620911491,
          0.7231348474555419,
          -0.02964978026934997,
          0.7099200032269966,
          -0.6327699844211991,
          -0.6329322562342045,
          0.7131794946901029,
          0.905668720983646,
          0.9123113228330756,
          0.732576292107843,
          -0.011746213531045354,
          0.9085690837345373,
          0.8800706840047267,
          -0.816851595110122,
          -0.010705076188351197,
          -0.6301468462293901,
          0.9173945517252388,
          -0.78157615054128,
          -0.03000377532277335,
          -0.6273154087929388,
          0.002558696701326135,
          -0.6476055592337011,
          -0.03085852620911491,
          -0.6227131344204904,
          -0.6319787803966225,
          -0.03009769972896048,
          -0.6393117888137995,
          -0.8222230672389984,
          -0.6293945075408441,
          0.7012025854543371,
          -0.8376572699277829,
          0.9148318013364581,
          0.9079658177476729,
          -0.650394460203644,
          -0.6087393306111378,
          -0.6079883856224583,
          0.739310921999498,
          -0.009265840455113247,
          0.8910938028382198,
          0.9266677099254936,
          -0.030545439084244633,
          0.7369102435147825,
          0.8727749168507424,
          -0.6279142270707931,
          -0.6587041595416449,
          -0.6376635181420163,
          0.013561723871086355,
          -0.6322580873494321,
          -0.03175914007801225,
          -0.6421607470385818,
          0.8795968142630612,
          -0.6305084285527903,
          -0.6570946713130763,
          0.7226542937047284,
          0.899288343568902,
          -0.03382020986576956,
          0.9035768478810701,
          -0.6748115017104579,
          -0.826530425035852,
          -0.621607072480003,
          0.8752162066867992,
          0.7117652179295139,
          -0.032328878052946985,
          0.9015280214185066,
          -0.630563114462309,
          -0.6062868481929687,
          -0.6304874485838,
          -0.6300407218637564,
          0.8756962641972799,
          -0.032328878052946985,
          0.8843212387522569,
          -0.635229626923718,
          -0.032328878052946985,
          0.901759545530018,
          -0.654336518301597,
          0.718707894810495,
          -0.6290170967399679,
          -0.6608310913598526,
          -0.6040663419535086,
          -0.6001244206243251,
          0.9071663853117202,
          -0.03382020986576956,
          0.8956992132465829,
          0.9137352953444103,
          -0.03384118983475988,
          0.9045939993414804,
          0.8959844984995076,
          -0.653021016486608,
          -0.6467487808918508,
          0.8989932023983462,
          0.9037008534787532,
          -0.6288911915994811,
          -0.6305084285527903,
          -0.6305084285527903,
          0.9072071091838777,
          0.9154697988510765,
          -0.02972326283449715,
          0.8693180385338412,
          -0.629198305938741,
          -0.627036999349908,
          0.902403952794617,
          -0.5964671695030089,
          0.7195664165699177,
          0.9111343776453323,
          -0.8115684343192046,
          0.7178903014872662,
          -0.01327865670453887,
          -0.8170567512598667,
          -0.6552528203359689,
          -0.013112960724305029,
          -0.006989599586693166,
          0.9080570822092039,
          -0.6296188495407478,
          -0.6305084285527903,
          -0.6373777131146133,
          -0.627687453662484,
          -0.6052259675264828,
          -0.03382020986576956,
          -0.6081932984165624,
          -0.8177518024624473,
          -0.03234985802193742,
          -0.621943766946716,
          0.8990910662416322,
          -0.6235336761782561,
          -0.03531154167859211,
          0.705071580627993,
          0.9085802895862579,
          -0.014258154083345357,
          -0.03085852620911491,
          0.9163397767530711,
          0.9376609655323597,
          -0.6337758523379518,
          0.9031949709959076,
          -0.6598870652893236,
          -0.6723900431656918,
          -0.62970086499995,
          -0.03531154167859211,
          0.8850934581128898,
          -0.03384118983475988,
          -0.03382020986576956,
          -0.6434580126707741,
          0.7415200672649962,
          0.740485735410994,
          -0.639874430960292,
          -0.8171499552487482,
          -0.01221449699590683,
          0.8952646312911686,
          0.9009748325030946,
          0.8729766429402562,
          0.9048475257802456,
          0.024222967183688247,
          -0.6290170967399679,
          0.8999892100542474,
          -0.634959611890656,
          -0.019088750072918867,
          -0.5824877570075941,
          0.8963790245643525,
          -0.6259596776025167,
          -0.8305965896928612,
          -0.8024970298685705,
          -0.6319997603656133,
          -0.6296860820437877,
          -0.6351568645192771,
          0.9000586440410495,
          0.7132907936385231,
          0.9061149658539805,
          -0.02328605933685443,
          -0.6394404512935248,
          -0.650199715765983,
          -0.6579598742043714,
          -0.6321511296870833,
          0.8964546743964653,
          -0.6185557031888497,
          -0.8219995061091235,
          -0.8210943017649328,
          0.9001606473114789,
          0.019755005240152956,
          -0.6177839396377243,
          -0.6362122337113614,
          -0.03100090086411593,
          -0.6281669385139486,
          0.004764840523951304,
          0.7151233644533007,
          0.7241678172433874,
          -0.6422227573645161,
          0.7009472090598942,
          -0.6305084285527903,
          0.8882397979233027,
          0.8896989372475814,
          -0.024873897347107474,
          -0.6038393884408733,
          -0.6370473258117199,
          -0.03085852620911491,
          -0.6321272856792363,
          0.7398207789311501,
          0.8892369811405807,
          -0.6209433094753367,
          0.719488769750174,
          0.899809269502401,
          -0.8260519204735902,
          -0.6334701122094449,
          0.8778582969223782,
          -0.8206950069107917,
          -0.6319787803966225,
          -0.015461499078348432,
          -0.6376115580438666,
          0.8956935437293003,
          0.8866237900503602,
          -0.032328878052946985,
          -0.6257900372624378,
          0.8764010430964636,
          -0.6425178718562709,
          -0.8391357616017786,
          -0.5726459883798444,
          -0.624723526901828,
          0.9053034217745373,
          0.9033740945325011,
          0.8899026116562829,
          -0.6411226638093925,
          0.9244394922993355,
          0.9072212110326953,
          0.7205707721147564,
          0.8933062247384235,
          -0.5955521842908879,
          -0.6409478949055597,
          -0.6280548235708009,
          -0.6473575171850525,
          0.7298752862578239,
          -0.6304874485838,
          -0.6757700169352454,
          0.8935226858311877,
          0.6995926396835574,
          0.7181594656467221,
          -0.6270835965896034,
          0.723443443657893,
          -0.012491170792676472,
          0.9014065964802724,
          -0.6334701122094449,
          0.8975070661355514,
          0.8907015780323227,
          -0.03384118983475988,
          -0.6304874485838,
          0.898829522065934,
          -0.8327825240815374,
          -0.6415597351325839,
          -0.6386613420392182,
          -0.5922261136592318,
          0.8948303257545928,
          -0.02471199121776948,
          -0.005592460691554077,
          0.9237123431431786,
          -0.013404773855868796,
          0.7295257037603952,
          -0.032328878052946985,
          -0.8126143255330394,
          -0.007204228709384026,
          0.7024063067546329,
          -0.6415533873582708,
          0.010691265240751669,
          0.8749899299082491,
          -0.03531154167859211,
          0.7047664678527747,
          -0.6337867007578072,
          -0.6359132627756873,
          0.8783102670843385,
          -0.032447228656798645
         ],
         "yaxis": "y"
        }
       ],
       "layout": {
        "coloraxis": {
         "colorbar": {
          "title": {
           "text": "color"
          }
         },
         "colorscale": [
          [
           0,
           "#0d0887"
          ],
          [
           0.1111111111111111,
           "#46039f"
          ],
          [
           0.2222222222222222,
           "#7201a8"
          ],
          [
           0.3333333333333333,
           "#9c179e"
          ],
          [
           0.4444444444444444,
           "#bd3786"
          ],
          [
           0.5555555555555556,
           "#d8576b"
          ],
          [
           0.6666666666666666,
           "#ed7953"
          ],
          [
           0.7777777777777778,
           "#fb9f3a"
          ],
          [
           0.8888888888888888,
           "#fdca26"
          ],
          [
           1,
           "#f0f921"
          ]
         ]
        },
        "legend": {
         "tracegroupgap": 0
        },
        "template": {
         "data": {
          "bar": [
           {
            "error_x": {
             "color": "#2a3f5f"
            },
            "error_y": {
             "color": "#2a3f5f"
            },
            "marker": {
             "line": {
              "color": "#E5ECF6",
              "width": 0.5
             },
             "pattern": {
              "fillmode": "overlay",
              "size": 10,
              "solidity": 0.2
             }
            },
            "type": "bar"
           }
          ],
          "barpolar": [
           {
            "marker": {
             "line": {
              "color": "#E5ECF6",
              "width": 0.5
             },
             "pattern": {
              "fillmode": "overlay",
              "size": 10,
              "solidity": 0.2
             }
            },
            "type": "barpolar"
           }
          ],
          "carpet": [
           {
            "aaxis": {
             "endlinecolor": "#2a3f5f",
             "gridcolor": "white",
             "linecolor": "white",
             "minorgridcolor": "white",
             "startlinecolor": "#2a3f5f"
            },
            "baxis": {
             "endlinecolor": "#2a3f5f",
             "gridcolor": "white",
             "linecolor": "white",
             "minorgridcolor": "white",
             "startlinecolor": "#2a3f5f"
            },
            "type": "carpet"
           }
          ],
          "choropleth": [
           {
            "colorbar": {
             "outlinewidth": 0,
             "ticks": ""
            },
            "type": "choropleth"
           }
          ],
          "contour": [
           {
            "colorbar": {
             "outlinewidth": 0,
             "ticks": ""
            },
            "colorscale": [
             [
              0,
              "#0d0887"
             ],
             [
              0.1111111111111111,
              "#46039f"
             ],
             [
              0.2222222222222222,
              "#7201a8"
             ],
             [
              0.3333333333333333,
              "#9c179e"
             ],
             [
              0.4444444444444444,
              "#bd3786"
             ],
             [
              0.5555555555555556,
              "#d8576b"
             ],
             [
              0.6666666666666666,
              "#ed7953"
             ],
             [
              0.7777777777777778,
              "#fb9f3a"
             ],
             [
              0.8888888888888888,
              "#fdca26"
             ],
             [
              1,
              "#f0f921"
             ]
            ],
            "type": "contour"
           }
          ],
          "contourcarpet": [
           {
            "colorbar": {
             "outlinewidth": 0,
             "ticks": ""
            },
            "type": "contourcarpet"
           }
          ],
          "heatmap": [
           {
            "colorbar": {
             "outlinewidth": 0,
             "ticks": ""
            },
            "colorscale": [
             [
              0,
              "#0d0887"
             ],
             [
              0.1111111111111111,
              "#46039f"
             ],
             [
              0.2222222222222222,
              "#7201a8"
             ],
             [
              0.3333333333333333,
              "#9c179e"
             ],
             [
              0.4444444444444444,
              "#bd3786"
             ],
             [
              0.5555555555555556,
              "#d8576b"
             ],
             [
              0.6666666666666666,
              "#ed7953"
             ],
             [
              0.7777777777777778,
              "#fb9f3a"
             ],
             [
              0.8888888888888888,
              "#fdca26"
             ],
             [
              1,
              "#f0f921"
             ]
            ],
            "type": "heatmap"
           }
          ],
          "heatmapgl": [
           {
            "colorbar": {
             "outlinewidth": 0,
             "ticks": ""
            },
            "colorscale": [
             [
              0,
              "#0d0887"
             ],
             [
              0.1111111111111111,
              "#46039f"
             ],
             [
              0.2222222222222222,
              "#7201a8"
             ],
             [
              0.3333333333333333,
              "#9c179e"
             ],
             [
              0.4444444444444444,
              "#bd3786"
             ],
             [
              0.5555555555555556,
              "#d8576b"
             ],
             [
              0.6666666666666666,
              "#ed7953"
             ],
             [
              0.7777777777777778,
              "#fb9f3a"
             ],
             [
              0.8888888888888888,
              "#fdca26"
             ],
             [
              1,
              "#f0f921"
             ]
            ],
            "type": "heatmapgl"
           }
          ],
          "histogram": [
           {
            "marker": {
             "pattern": {
              "fillmode": "overlay",
              "size": 10,
              "solidity": 0.2
             }
            },
            "type": "histogram"
           }
          ],
          "histogram2d": [
           {
            "colorbar": {
             "outlinewidth": 0,
             "ticks": ""
            },
            "colorscale": [
             [
              0,
              "#0d0887"
             ],
             [
              0.1111111111111111,
              "#46039f"
             ],
             [
              0.2222222222222222,
              "#7201a8"
             ],
             [
              0.3333333333333333,
              "#9c179e"
             ],
             [
              0.4444444444444444,
              "#bd3786"
             ],
             [
              0.5555555555555556,
              "#d8576b"
             ],
             [
              0.6666666666666666,
              "#ed7953"
             ],
             [
              0.7777777777777778,
              "#fb9f3a"
             ],
             [
              0.8888888888888888,
              "#fdca26"
             ],
             [
              1,
              "#f0f921"
             ]
            ],
            "type": "histogram2d"
           }
          ],
          "histogram2dcontour": [
           {
            "colorbar": {
             "outlinewidth": 0,
             "ticks": ""
            },
            "colorscale": [
             [
              0,
              "#0d0887"
             ],
             [
              0.1111111111111111,
              "#46039f"
             ],
             [
              0.2222222222222222,
              "#7201a8"
             ],
             [
              0.3333333333333333,
              "#9c179e"
             ],
             [
              0.4444444444444444,
              "#bd3786"
             ],
             [
              0.5555555555555556,
              "#d8576b"
             ],
             [
              0.6666666666666666,
              "#ed7953"
             ],
             [
              0.7777777777777778,
              "#fb9f3a"
             ],
             [
              0.8888888888888888,
              "#fdca26"
             ],
             [
              1,
              "#f0f921"
             ]
            ],
            "type": "histogram2dcontour"
           }
          ],
          "mesh3d": [
           {
            "colorbar": {
             "outlinewidth": 0,
             "ticks": ""
            },
            "type": "mesh3d"
           }
          ],
          "parcoords": [
           {
            "line": {
             "colorbar": {
              "outlinewidth": 0,
              "ticks": ""
             }
            },
            "type": "parcoords"
           }
          ],
          "pie": [
           {
            "automargin": true,
            "type": "pie"
           }
          ],
          "scatter": [
           {
            "fillpattern": {
             "fillmode": "overlay",
             "size": 10,
             "solidity": 0.2
            },
            "type": "scatter"
           }
          ],
          "scatter3d": [
           {
            "line": {
             "colorbar": {
              "outlinewidth": 0,
              "ticks": ""
             }
            },
            "marker": {
             "colorbar": {
              "outlinewidth": 0,
              "ticks": ""
             }
            },
            "type": "scatter3d"
           }
          ],
          "scattercarpet": [
           {
            "marker": {
             "colorbar": {
              "outlinewidth": 0,
              "ticks": ""
             }
            },
            "type": "scattercarpet"
           }
          ],
          "scattergeo": [
           {
            "marker": {
             "colorbar": {
              "outlinewidth": 0,
              "ticks": ""
             }
            },
            "type": "scattergeo"
           }
          ],
          "scattergl": [
           {
            "marker": {
             "colorbar": {
              "outlinewidth": 0,
              "ticks": ""
             }
            },
            "type": "scattergl"
           }
          ],
          "scattermapbox": [
           {
            "marker": {
             "colorbar": {
              "outlinewidth": 0,
              "ticks": ""
             }
            },
            "type": "scattermapbox"
           }
          ],
          "scatterpolar": [
           {
            "marker": {
             "colorbar": {
              "outlinewidth": 0,
              "ticks": ""
             }
            },
            "type": "scatterpolar"
           }
          ],
          "scatterpolargl": [
           {
            "marker": {
             "colorbar": {
              "outlinewidth": 0,
              "ticks": ""
             }
            },
            "type": "scatterpolargl"
           }
          ],
          "scatterternary": [
           {
            "marker": {
             "colorbar": {
              "outlinewidth": 0,
              "ticks": ""
             }
            },
            "type": "scatterternary"
           }
          ],
          "surface": [
           {
            "colorbar": {
             "outlinewidth": 0,
             "ticks": ""
            },
            "colorscale": [
             [
              0,
              "#0d0887"
             ],
             [
              0.1111111111111111,
              "#46039f"
             ],
             [
              0.2222222222222222,
              "#7201a8"
             ],
             [
              0.3333333333333333,
              "#9c179e"
             ],
             [
              0.4444444444444444,
              "#bd3786"
             ],
             [
              0.5555555555555556,
              "#d8576b"
             ],
             [
              0.6666666666666666,
              "#ed7953"
             ],
             [
              0.7777777777777778,
              "#fb9f3a"
             ],
             [
              0.8888888888888888,
              "#fdca26"
             ],
             [
              1,
              "#f0f921"
             ]
            ],
            "type": "surface"
           }
          ],
          "table": [
           {
            "cells": {
             "fill": {
              "color": "#EBF0F8"
             },
             "line": {
              "color": "white"
             }
            },
            "header": {
             "fill": {
              "color": "#C8D4E3"
             },
             "line": {
              "color": "white"
             }
            },
            "type": "table"
           }
          ]
         },
         "layout": {
          "annotationdefaults": {
           "arrowcolor": "#2a3f5f",
           "arrowhead": 0,
           "arrowwidth": 1
          },
          "autotypenumbers": "strict",
          "coloraxis": {
           "colorbar": {
            "outlinewidth": 0,
            "ticks": ""
           }
          },
          "colorscale": {
           "diverging": [
            [
             0,
             "#8e0152"
            ],
            [
             0.1,
             "#c51b7d"
            ],
            [
             0.2,
             "#de77ae"
            ],
            [
             0.3,
             "#f1b6da"
            ],
            [
             0.4,
             "#fde0ef"
            ],
            [
             0.5,
             "#f7f7f7"
            ],
            [
             0.6,
             "#e6f5d0"
            ],
            [
             0.7,
             "#b8e186"
            ],
            [
             0.8,
             "#7fbc41"
            ],
            [
             0.9,
             "#4d9221"
            ],
            [
             1,
             "#276419"
            ]
           ],
           "sequential": [
            [
             0,
             "#0d0887"
            ],
            [
             0.1111111111111111,
             "#46039f"
            ],
            [
             0.2222222222222222,
             "#7201a8"
            ],
            [
             0.3333333333333333,
             "#9c179e"
            ],
            [
             0.4444444444444444,
             "#bd3786"
            ],
            [
             0.5555555555555556,
             "#d8576b"
            ],
            [
             0.6666666666666666,
             "#ed7953"
            ],
            [
             0.7777777777777778,
             "#fb9f3a"
            ],
            [
             0.8888888888888888,
             "#fdca26"
            ],
            [
             1,
             "#f0f921"
            ]
           ],
           "sequentialminus": [
            [
             0,
             "#0d0887"
            ],
            [
             0.1111111111111111,
             "#46039f"
            ],
            [
             0.2222222222222222,
             "#7201a8"
            ],
            [
             0.3333333333333333,
             "#9c179e"
            ],
            [
             0.4444444444444444,
             "#bd3786"
            ],
            [
             0.5555555555555556,
             "#d8576b"
            ],
            [
             0.6666666666666666,
             "#ed7953"
            ],
            [
             0.7777777777777778,
             "#fb9f3a"
            ],
            [
             0.8888888888888888,
             "#fdca26"
            ],
            [
             1,
             "#f0f921"
            ]
           ]
          },
          "colorway": [
           "#636efa",
           "#EF553B",
           "#00cc96",
           "#ab63fa",
           "#FFA15A",
           "#19d3f3",
           "#FF6692",
           "#B6E880",
           "#FF97FF",
           "#FECB52"
          ],
          "font": {
           "color": "#2a3f5f"
          },
          "geo": {
           "bgcolor": "white",
           "lakecolor": "white",
           "landcolor": "#E5ECF6",
           "showlakes": true,
           "showland": true,
           "subunitcolor": "white"
          },
          "hoverlabel": {
           "align": "left"
          },
          "hovermode": "closest",
          "mapbox": {
           "style": "light"
          },
          "paper_bgcolor": "white",
          "plot_bgcolor": "#E5ECF6",
          "polar": {
           "angularaxis": {
            "gridcolor": "white",
            "linecolor": "white",
            "ticks": ""
           },
           "bgcolor": "#E5ECF6",
           "radialaxis": {
            "gridcolor": "white",
            "linecolor": "white",
            "ticks": ""
           }
          },
          "scene": {
           "xaxis": {
            "backgroundcolor": "#E5ECF6",
            "gridcolor": "white",
            "gridwidth": 2,
            "linecolor": "white",
            "showbackground": true,
            "ticks": "",
            "zerolinecolor": "white"
           },
           "yaxis": {
            "backgroundcolor": "#E5ECF6",
            "gridcolor": "white",
            "gridwidth": 2,
            "linecolor": "white",
            "showbackground": true,
            "ticks": "",
            "zerolinecolor": "white"
           },
           "zaxis": {
            "backgroundcolor": "#E5ECF6",
            "gridcolor": "white",
            "gridwidth": 2,
            "linecolor": "white",
            "showbackground": true,
            "ticks": "",
            "zerolinecolor": "white"
           }
          },
          "shapedefaults": {
           "line": {
            "color": "#2a3f5f"
           }
          },
          "ternary": {
           "aaxis": {
            "gridcolor": "white",
            "linecolor": "white",
            "ticks": ""
           },
           "baxis": {
            "gridcolor": "white",
            "linecolor": "white",
            "ticks": ""
           },
           "bgcolor": "#E5ECF6",
           "caxis": {
            "gridcolor": "white",
            "linecolor": "white",
            "ticks": ""
           }
          },
          "title": {
           "x": 0.05
          },
          "xaxis": {
           "automargin": true,
           "gridcolor": "white",
           "linecolor": "white",
           "ticks": "",
           "title": {
            "standoff": 15
           },
           "zerolinecolor": "white",
           "zerolinewidth": 2
          },
          "yaxis": {
           "automargin": true,
           "gridcolor": "white",
           "linecolor": "white",
           "ticks": "",
           "title": {
            "standoff": 15
           },
           "zerolinecolor": "white",
           "zerolinewidth": 2
          }
         }
        },
        "title": {
         "text": "Total Explained Variance: 64.05%"
        },
        "xaxis": {
         "anchor": "y",
         "domain": [
          0,
          1
         ],
         "title": {
          "text": "0"
         }
        },
        "yaxis": {
         "anchor": "x",
         "domain": [
          0,
          1
         ],
         "title": {
          "text": "1"
         }
        }
       }
      }
     },
     "metadata": {},
     "output_type": "display_data"
    }
   ],
   "source": [
    "total_var = pca.explained_variance_ratio_.sum() * 100\n",
    "\n",
    "#plot principal components and clusters\n",
    "import plotly.express as px\n",
    "\n",
    "fig = px.scatter(principalcomponents,x=0, y=1,color = principalDf.clusters ,\n",
    "                        title = f'Total Explained Variance: {total_var:.2f}%')\n",
    "fig.show()"
   ]
  },
  {
   "cell_type": "markdown",
   "metadata": {},
   "source": []
  },
  {
   "cell_type": "markdown",
   "metadata": {},
   "source": [
    "### A.Banking Behavior Cluster"
   ]
  },
  {
   "cell_type": "code",
   "execution_count": 578,
   "metadata": {},
   "outputs": [],
   "source": [
    "from sklearn.preprocessing import StandardScaler, MinMaxScaler\n",
    "from sklearn.cluster import KMeans\n",
    "from sklearn.decomposition import PCA"
   ]
  },
  {
   "cell_type": "markdown",
   "metadata": {},
   "source": [
    "### Account- Saving Account"
   ]
  },
  {
   "cell_type": "code",
   "execution_count": 579,
   "metadata": {},
   "outputs": [
    {
     "data": {
      "text/html": [
       "<div>\n",
       "<style scoped>\n",
       "    .dataframe tbody tr th:only-of-type {\n",
       "        vertical-align: middle;\n",
       "    }\n",
       "\n",
       "    .dataframe tbody tr th {\n",
       "        vertical-align: top;\n",
       "    }\n",
       "\n",
       "    .dataframe thead th {\n",
       "        text-align: right;\n",
       "    }\n",
       "</style>\n",
       "<table border=\"1\" class=\"dataframe\">\n",
       "  <thead>\n",
       "    <tr style=\"text-align: right;\">\n",
       "      <th></th>\n",
       "      <th>cust_id</th>\n",
       "      <th>acct_nbr</th>\n",
       "      <th>minimum_balance</th>\n",
       "      <th>acct_type</th>\n",
       "      <th>account_active</th>\n",
       "      <th>acct_start_date</th>\n",
       "      <th>acct_end_date</th>\n",
       "      <th>starting_balance</th>\n",
       "      <th>ending_balance</th>\n",
       "    </tr>\n",
       "  </thead>\n",
       "  <tbody>\n",
       "    <tr>\n",
       "      <th>0</th>\n",
       "      <td>1363160</td>\n",
       "      <td>13631603</td>\n",
       "      <td>100</td>\n",
       "      <td>BS</td>\n",
       "      <td>Y</td>\n",
       "      <td>9.5.1988</td>\n",
       "      <td>NaN</td>\n",
       "      <td>113.04</td>\n",
       "      <td>122.54</td>\n",
       "    </tr>\n",
       "    <tr>\n",
       "      <th>1</th>\n",
       "      <td>1362487</td>\n",
       "      <td>13624873</td>\n",
       "      <td>500</td>\n",
       "      <td>MM</td>\n",
       "      <td>N</td>\n",
       "      <td>27.6.1994</td>\n",
       "      <td>25.8.1995</td>\n",
       "      <td>651.73</td>\n",
       "      <td>12.89</td>\n",
       "    </tr>\n",
       "    <tr>\n",
       "      <th>2</th>\n",
       "      <td>1362548</td>\n",
       "      <td>13625483</td>\n",
       "      <td>100</td>\n",
       "      <td>BS</td>\n",
       "      <td>Y</td>\n",
       "      <td>11.11.1986</td>\n",
       "      <td>NaN</td>\n",
       "      <td>250.24</td>\n",
       "      <td>254.02</td>\n",
       "    </tr>\n",
       "    <tr>\n",
       "      <th>3</th>\n",
       "      <td>1362752</td>\n",
       "      <td>13627523</td>\n",
       "      <td>100</td>\n",
       "      <td>BS</td>\n",
       "      <td>Y</td>\n",
       "      <td>20.2.1995</td>\n",
       "      <td>NaN</td>\n",
       "      <td>600.26</td>\n",
       "      <td>609.33</td>\n",
       "    </tr>\n",
       "    <tr>\n",
       "      <th>4</th>\n",
       "      <td>1363017</td>\n",
       "      <td>13630173</td>\n",
       "      <td>100</td>\n",
       "      <td>BS</td>\n",
       "      <td>N</td>\n",
       "      <td>27.4.1994</td>\n",
       "      <td>31.10.1995</td>\n",
       "      <td>2011.02</td>\n",
       "      <td>2901.35</td>\n",
       "    </tr>\n",
       "  </tbody>\n",
       "</table>\n",
       "</div>"
      ],
      "text/plain": [
       "   cust_id  acct_nbr  minimum_balance acct_type account_active  \\\n",
       "0  1363160  13631603              100      BS               Y    \n",
       "1  1362487  13624873              500      MM               N    \n",
       "2  1362548  13625483              100      BS               Y    \n",
       "3  1362752  13627523              100      BS               Y    \n",
       "4  1363017  13630173              100      BS               N    \n",
       "\n",
       "  acct_start_date acct_end_date  starting_balance  ending_balance  \n",
       "0        9.5.1988           NaN            113.04          122.54  \n",
       "1       27.6.1994     25.8.1995            651.73           12.89  \n",
       "2      11.11.1986           NaN            250.24          254.02  \n",
       "3       20.2.1995           NaN            600.26          609.33  \n",
       "4       27.4.1994    31.10.1995           2011.02         2901.35  "
      ]
     },
     "execution_count": 579,
     "metadata": {},
     "output_type": "execute_result"
    }
   ],
   "source": [
    "df_saving=pd.read_csv('data/twm_savings_acct.csv',sep=';')\n",
    "df_saving.head()"
   ]
  },
  {
   "cell_type": "code",
   "execution_count": 580,
   "metadata": {},
   "outputs": [],
   "source": [
    "#saving amount\n",
    "df_saving['saving_amount']=df_saving['ending_balance']-df_saving['starting_balance']"
   ]
  },
  {
   "cell_type": "code",
   "execution_count": 581,
   "metadata": {},
   "outputs": [
    {
     "data": {
      "text/html": [
       "<div>\n",
       "<style scoped>\n",
       "    .dataframe tbody tr th:only-of-type {\n",
       "        vertical-align: middle;\n",
       "    }\n",
       "\n",
       "    .dataframe tbody tr th {\n",
       "        vertical-align: top;\n",
       "    }\n",
       "\n",
       "    .dataframe thead th {\n",
       "        text-align: right;\n",
       "    }\n",
       "</style>\n",
       "<table border=\"1\" class=\"dataframe\">\n",
       "  <thead>\n",
       "    <tr style=\"text-align: right;\">\n",
       "      <th></th>\n",
       "      <th>cust_id</th>\n",
       "      <th>acct_nbr</th>\n",
       "      <th>minimum_balance</th>\n",
       "      <th>acct_type</th>\n",
       "      <th>account_active</th>\n",
       "      <th>acct_start_date</th>\n",
       "      <th>acct_end_date</th>\n",
       "      <th>starting_balance</th>\n",
       "      <th>ending_balance</th>\n",
       "      <th>saving_amount</th>\n",
       "    </tr>\n",
       "  </thead>\n",
       "  <tbody>\n",
       "    <tr>\n",
       "      <th>0</th>\n",
       "      <td>1363160</td>\n",
       "      <td>13631603</td>\n",
       "      <td>100</td>\n",
       "      <td>BS</td>\n",
       "      <td>Y</td>\n",
       "      <td>9.5.1988</td>\n",
       "      <td>NaN</td>\n",
       "      <td>113.04</td>\n",
       "      <td>122.54</td>\n",
       "      <td>9.50</td>\n",
       "    </tr>\n",
       "    <tr>\n",
       "      <th>1</th>\n",
       "      <td>1362487</td>\n",
       "      <td>13624873</td>\n",
       "      <td>500</td>\n",
       "      <td>MM</td>\n",
       "      <td>N</td>\n",
       "      <td>27.6.1994</td>\n",
       "      <td>25.8.1995</td>\n",
       "      <td>651.73</td>\n",
       "      <td>12.89</td>\n",
       "      <td>-638.84</td>\n",
       "    </tr>\n",
       "    <tr>\n",
       "      <th>2</th>\n",
       "      <td>1362548</td>\n",
       "      <td>13625483</td>\n",
       "      <td>100</td>\n",
       "      <td>BS</td>\n",
       "      <td>Y</td>\n",
       "      <td>11.11.1986</td>\n",
       "      <td>NaN</td>\n",
       "      <td>250.24</td>\n",
       "      <td>254.02</td>\n",
       "      <td>3.78</td>\n",
       "    </tr>\n",
       "    <tr>\n",
       "      <th>3</th>\n",
       "      <td>1362752</td>\n",
       "      <td>13627523</td>\n",
       "      <td>100</td>\n",
       "      <td>BS</td>\n",
       "      <td>Y</td>\n",
       "      <td>20.2.1995</td>\n",
       "      <td>NaN</td>\n",
       "      <td>600.26</td>\n",
       "      <td>609.33</td>\n",
       "      <td>9.07</td>\n",
       "    </tr>\n",
       "    <tr>\n",
       "      <th>4</th>\n",
       "      <td>1363017</td>\n",
       "      <td>13630173</td>\n",
       "      <td>100</td>\n",
       "      <td>BS</td>\n",
       "      <td>N</td>\n",
       "      <td>27.4.1994</td>\n",
       "      <td>31.10.1995</td>\n",
       "      <td>2011.02</td>\n",
       "      <td>2901.35</td>\n",
       "      <td>890.33</td>\n",
       "    </tr>\n",
       "  </tbody>\n",
       "</table>\n",
       "</div>"
      ],
      "text/plain": [
       "   cust_id  acct_nbr  minimum_balance acct_type account_active  \\\n",
       "0  1363160  13631603              100      BS               Y    \n",
       "1  1362487  13624873              500      MM               N    \n",
       "2  1362548  13625483              100      BS               Y    \n",
       "3  1362752  13627523              100      BS               Y    \n",
       "4  1363017  13630173              100      BS               N    \n",
       "\n",
       "  acct_start_date acct_end_date  starting_balance  ending_balance  \\\n",
       "0        9.5.1988           NaN            113.04          122.54   \n",
       "1       27.6.1994     25.8.1995            651.73           12.89   \n",
       "2      11.11.1986           NaN            250.24          254.02   \n",
       "3       20.2.1995           NaN            600.26          609.33   \n",
       "4       27.4.1994    31.10.1995           2011.02         2901.35   \n",
       "\n",
       "   saving_amount  \n",
       "0           9.50  \n",
       "1        -638.84  \n",
       "2           3.78  \n",
       "3           9.07  \n",
       "4         890.33  "
      ]
     },
     "execution_count": 581,
     "metadata": {},
     "output_type": "execute_result"
    }
   ],
   "source": [
    "df_saving.head()"
   ]
  },
  {
   "cell_type": "code",
   "execution_count": 584,
   "metadata": {},
   "outputs": [
    {
     "data": {
      "text/html": [
       "<div>\n",
       "<style scoped>\n",
       "    .dataframe tbody tr th:only-of-type {\n",
       "        vertical-align: middle;\n",
       "    }\n",
       "\n",
       "    .dataframe tbody tr th {\n",
       "        vertical-align: top;\n",
       "    }\n",
       "\n",
       "    .dataframe thead th {\n",
       "        text-align: right;\n",
       "    }\n",
       "</style>\n",
       "<table border=\"1\" class=\"dataframe\">\n",
       "  <thead>\n",
       "    <tr style=\"text-align: right;\">\n",
       "      <th></th>\n",
       "      <th>cust_id</th>\n",
       "      <th>account_active</th>\n",
       "      <th>saving_amount</th>\n",
       "    </tr>\n",
       "  </thead>\n",
       "  <tbody>\n",
       "    <tr>\n",
       "      <th>0</th>\n",
       "      <td>1363160</td>\n",
       "      <td>Y</td>\n",
       "      <td>9.50</td>\n",
       "    </tr>\n",
       "    <tr>\n",
       "      <th>1</th>\n",
       "      <td>1362487</td>\n",
       "      <td>N</td>\n",
       "      <td>-638.84</td>\n",
       "    </tr>\n",
       "    <tr>\n",
       "      <th>2</th>\n",
       "      <td>1362548</td>\n",
       "      <td>Y</td>\n",
       "      <td>3.78</td>\n",
       "    </tr>\n",
       "    <tr>\n",
       "      <th>3</th>\n",
       "      <td>1362752</td>\n",
       "      <td>Y</td>\n",
       "      <td>9.07</td>\n",
       "    </tr>\n",
       "    <tr>\n",
       "      <th>4</th>\n",
       "      <td>1363017</td>\n",
       "      <td>N</td>\n",
       "      <td>890.33</td>\n",
       "    </tr>\n",
       "    <tr>\n",
       "      <th>...</th>\n",
       "      <td>...</td>\n",
       "      <td>...</td>\n",
       "      <td>...</td>\n",
       "    </tr>\n",
       "    <tr>\n",
       "      <th>416</th>\n",
       "      <td>1363141</td>\n",
       "      <td>Y</td>\n",
       "      <td>351.24</td>\n",
       "    </tr>\n",
       "    <tr>\n",
       "      <th>417</th>\n",
       "      <td>1363038</td>\n",
       "      <td>Y</td>\n",
       "      <td>174.73</td>\n",
       "    </tr>\n",
       "    <tr>\n",
       "      <th>418</th>\n",
       "      <td>1362529</td>\n",
       "      <td>Y</td>\n",
       "      <td>211.08</td>\n",
       "    </tr>\n",
       "    <tr>\n",
       "      <th>419</th>\n",
       "      <td>1362895</td>\n",
       "      <td>Y</td>\n",
       "      <td>-73.71</td>\n",
       "    </tr>\n",
       "    <tr>\n",
       "      <th>420</th>\n",
       "      <td>1362855</td>\n",
       "      <td>Y</td>\n",
       "      <td>-6.67</td>\n",
       "    </tr>\n",
       "  </tbody>\n",
       "</table>\n",
       "<p>421 rows × 3 columns</p>\n",
       "</div>"
      ],
      "text/plain": [
       "     cust_id account_active  saving_amount\n",
       "0    1363160             Y            9.50\n",
       "1    1362487             N         -638.84\n",
       "2    1362548             Y            3.78\n",
       "3    1362752             Y            9.07\n",
       "4    1363017             N          890.33\n",
       "..       ...            ...            ...\n",
       "416  1363141             Y          351.24\n",
       "417  1363038             Y          174.73\n",
       "418  1362529             Y          211.08\n",
       "419  1362895             Y          -73.71\n",
       "420  1362855             Y           -6.67\n",
       "\n",
       "[421 rows x 3 columns]"
      ]
     },
     "execution_count": 584,
     "metadata": {},
     "output_type": "execute_result"
    }
   ],
   "source": [
    "#extracting useful features\n",
    "selected_cols=['cust_id', 'account_active','saving_amount']\n",
    "saving_account=pd.DataFrame(df_saving[selected_cols])\n",
    "saving_account.fillna(0)"
   ]
  },
  {
   "cell_type": "code",
   "execution_count": 587,
   "metadata": {
    "scrolled": true
   },
   "outputs": [
    {
     "data": {
      "text/html": [
       "<div>\n",
       "<style scoped>\n",
       "    .dataframe tbody tr th:only-of-type {\n",
       "        vertical-align: middle;\n",
       "    }\n",
       "\n",
       "    .dataframe tbody tr th {\n",
       "        vertical-align: top;\n",
       "    }\n",
       "\n",
       "    .dataframe thead th {\n",
       "        text-align: right;\n",
       "    }\n",
       "</style>\n",
       "<table border=\"1\" class=\"dataframe\">\n",
       "  <thead>\n",
       "    <tr style=\"text-align: right;\">\n",
       "      <th></th>\n",
       "      <th>cust_id</th>\n",
       "      <th>account_active</th>\n",
       "      <th>saving_amount</th>\n",
       "    </tr>\n",
       "  </thead>\n",
       "  <tbody>\n",
       "    <tr>\n",
       "      <th>0</th>\n",
       "      <td>1363160</td>\n",
       "      <td>Y</td>\n",
       "      <td>9.50</td>\n",
       "    </tr>\n",
       "    <tr>\n",
       "      <th>1</th>\n",
       "      <td>1362487</td>\n",
       "      <td>N</td>\n",
       "      <td>-638.84</td>\n",
       "    </tr>\n",
       "    <tr>\n",
       "      <th>2</th>\n",
       "      <td>1362548</td>\n",
       "      <td>Y</td>\n",
       "      <td>3.78</td>\n",
       "    </tr>\n",
       "    <tr>\n",
       "      <th>3</th>\n",
       "      <td>1362752</td>\n",
       "      <td>Y</td>\n",
       "      <td>9.07</td>\n",
       "    </tr>\n",
       "    <tr>\n",
       "      <th>4</th>\n",
       "      <td>1363017</td>\n",
       "      <td>N</td>\n",
       "      <td>890.33</td>\n",
       "    </tr>\n",
       "  </tbody>\n",
       "</table>\n",
       "</div>"
      ],
      "text/plain": [
       "   cust_id account_active  saving_amount\n",
       "0  1363160             Y            9.50\n",
       "1  1362487             N         -638.84\n",
       "2  1362548             Y            3.78\n",
       "3  1362752             Y            9.07\n",
       "4  1363017             N          890.33"
      ]
     },
     "execution_count": 587,
     "metadata": {},
     "output_type": "execute_result"
    }
   ],
   "source": [
    "saving_account.head()"
   ]
  },
  {
   "cell_type": "code",
   "execution_count": 588,
   "metadata": {},
   "outputs": [
    {
     "data": {
      "text/plain": [
       "cust_id           0\n",
       "account_active    0\n",
       "saving_amount     0\n",
       "dtype: int64"
      ]
     },
     "execution_count": 588,
     "metadata": {},
     "output_type": "execute_result"
    }
   ],
   "source": [
    "saving_account.isnull().sum()"
   ]
  },
  {
   "cell_type": "markdown",
   "metadata": {},
   "source": [
    "### Account- Credit Account"
   ]
  },
  {
   "cell_type": "code",
   "execution_count": 589,
   "metadata": {},
   "outputs": [
    {
     "data": {
      "text/html": [
       "<div>\n",
       "<style scoped>\n",
       "    .dataframe tbody tr th:only-of-type {\n",
       "        vertical-align: middle;\n",
       "    }\n",
       "\n",
       "    .dataframe tbody tr th {\n",
       "        vertical-align: top;\n",
       "    }\n",
       "\n",
       "    .dataframe thead th {\n",
       "        text-align: right;\n",
       "    }\n",
       "</style>\n",
       "<table border=\"1\" class=\"dataframe\">\n",
       "  <thead>\n",
       "    <tr style=\"text-align: right;\">\n",
       "      <th></th>\n",
       "      <th>cust_id</th>\n",
       "      <th>acct_nbr</th>\n",
       "      <th>credit_limit</th>\n",
       "      <th>credit_rating</th>\n",
       "      <th>account_active</th>\n",
       "      <th>acct_start_date</th>\n",
       "      <th>acct_end_date</th>\n",
       "      <th>starting_balance</th>\n",
       "      <th>ending_balance</th>\n",
       "    </tr>\n",
       "  </thead>\n",
       "  <tbody>\n",
       "    <tr>\n",
       "      <th>0</th>\n",
       "      <td>1363160</td>\n",
       "      <td>4561143213631600</td>\n",
       "      <td>1000</td>\n",
       "      <td>0</td>\n",
       "      <td>Y</td>\n",
       "      <td>12.10.1988</td>\n",
       "      <td>NaN</td>\n",
       "      <td>657.46</td>\n",
       "      <td>286.69</td>\n",
       "    </tr>\n",
       "    <tr>\n",
       "      <th>1</th>\n",
       "      <td>1362487</td>\n",
       "      <td>4561143213624870</td>\n",
       "      <td>3000</td>\n",
       "      <td>0</td>\n",
       "      <td>Y</td>\n",
       "      <td>8.8.1995</td>\n",
       "      <td>NaN</td>\n",
       "      <td>0.00</td>\n",
       "      <td>1548.23</td>\n",
       "    </tr>\n",
       "    <tr>\n",
       "      <th>2</th>\n",
       "      <td>1362548</td>\n",
       "      <td>4561143213625480</td>\n",
       "      <td>6700</td>\n",
       "      <td>0</td>\n",
       "      <td>Y</td>\n",
       "      <td>11.11.1986</td>\n",
       "      <td>NaN</td>\n",
       "      <td>6965.25</td>\n",
       "      <td>68.68</td>\n",
       "    </tr>\n",
       "    <tr>\n",
       "      <th>3</th>\n",
       "      <td>1362752</td>\n",
       "      <td>4561143213627520</td>\n",
       "      <td>2400</td>\n",
       "      <td>0</td>\n",
       "      <td>N</td>\n",
       "      <td>9.10.1994</td>\n",
       "      <td>2.4.1995</td>\n",
       "      <td>2302.14</td>\n",
       "      <td>0.00</td>\n",
       "    </tr>\n",
       "    <tr>\n",
       "      <th>4</th>\n",
       "      <td>1363017</td>\n",
       "      <td>4561143213630170</td>\n",
       "      <td>1000</td>\n",
       "      <td>0</td>\n",
       "      <td>Y</td>\n",
       "      <td>8.2.1995</td>\n",
       "      <td>NaN</td>\n",
       "      <td>0.00</td>\n",
       "      <td>1000.00</td>\n",
       "    </tr>\n",
       "  </tbody>\n",
       "</table>\n",
       "</div>"
      ],
      "text/plain": [
       "   cust_id          acct_nbr  credit_limit  credit_rating account_active  \\\n",
       "0  1363160  4561143213631600          1000              0             Y    \n",
       "1  1362487  4561143213624870          3000              0             Y    \n",
       "2  1362548  4561143213625480          6700              0             Y    \n",
       "3  1362752  4561143213627520          2400              0             N    \n",
       "4  1363017  4561143213630170          1000              0             Y    \n",
       "\n",
       "  acct_start_date acct_end_date  starting_balance  ending_balance  \n",
       "0      12.10.1988           NaN            657.46          286.69  \n",
       "1        8.8.1995           NaN              0.00         1548.23  \n",
       "2      11.11.1986           NaN           6965.25           68.68  \n",
       "3       9.10.1994      2.4.1995           2302.14            0.00  \n",
       "4        8.2.1995           NaN              0.00         1000.00  "
      ]
     },
     "execution_count": 589,
     "metadata": {},
     "output_type": "execute_result"
    }
   ],
   "source": [
    "df=pd.read_csv('data/twm_credit_acct.csv',sep=';')\n",
    "df.head()"
   ]
  },
  {
   "cell_type": "code",
   "execution_count": 590,
   "metadata": {
    "scrolled": false
   },
   "outputs": [
    {
     "data": {
      "text/html": [
       "<div>\n",
       "<style scoped>\n",
       "    .dataframe tbody tr th:only-of-type {\n",
       "        vertical-align: middle;\n",
       "    }\n",
       "\n",
       "    .dataframe tbody tr th {\n",
       "        vertical-align: top;\n",
       "    }\n",
       "\n",
       "    .dataframe thead th {\n",
       "        text-align: right;\n",
       "    }\n",
       "</style>\n",
       "<table border=\"1\" class=\"dataframe\">\n",
       "  <thead>\n",
       "    <tr style=\"text-align: right;\">\n",
       "      <th></th>\n",
       "      <th>cust_id</th>\n",
       "      <th>account_active</th>\n",
       "      <th>debt_owned</th>\n",
       "    </tr>\n",
       "  </thead>\n",
       "  <tbody>\n",
       "    <tr>\n",
       "      <th>0</th>\n",
       "      <td>1363160</td>\n",
       "      <td>Y</td>\n",
       "      <td>-370.77</td>\n",
       "    </tr>\n",
       "    <tr>\n",
       "      <th>1</th>\n",
       "      <td>1362487</td>\n",
       "      <td>Y</td>\n",
       "      <td>1548.23</td>\n",
       "    </tr>\n",
       "    <tr>\n",
       "      <th>2</th>\n",
       "      <td>1362548</td>\n",
       "      <td>Y</td>\n",
       "      <td>-6896.57</td>\n",
       "    </tr>\n",
       "    <tr>\n",
       "      <th>3</th>\n",
       "      <td>1362752</td>\n",
       "      <td>N</td>\n",
       "      <td>-2302.14</td>\n",
       "    </tr>\n",
       "    <tr>\n",
       "      <th>4</th>\n",
       "      <td>1363017</td>\n",
       "      <td>Y</td>\n",
       "      <td>1000.00</td>\n",
       "    </tr>\n",
       "  </tbody>\n",
       "</table>\n",
       "</div>"
      ],
      "text/plain": [
       "   cust_id account_active  debt_owned\n",
       "0  1363160             Y      -370.77\n",
       "1  1362487             Y      1548.23\n",
       "2  1362548             Y     -6896.57\n",
       "3  1362752             N     -2302.14\n",
       "4  1363017             Y      1000.00"
      ]
     },
     "execution_count": 590,
     "metadata": {},
     "output_type": "execute_result"
    }
   ],
   "source": [
    "df['debt_owned']=df['ending_balance'] - df['starting_balance']\n",
    "selected_cols=['cust_id', 'account_active','debt_owned']\n",
    "credit_account=pd.DataFrame(df[selected_cols])\n",
    "credit_account.head()"
   ]
  },
  {
   "cell_type": "markdown",
   "metadata": {},
   "source": [
    "### Account- Merge"
   ]
  },
  {
   "cell_type": "code",
   "execution_count": 591,
   "metadata": {},
   "outputs": [],
   "source": [
    "banking_account=pd.merge(saving_account,credit_account, on='cust_id', how='left').fillna(0)\n"
   ]
  },
  {
   "cell_type": "code",
   "execution_count": 328,
   "metadata": {},
   "outputs": [
    {
     "data": {
      "text/html": [
       "<div>\n",
       "<style scoped>\n",
       "    .dataframe tbody tr th:only-of-type {\n",
       "        vertical-align: middle;\n",
       "    }\n",
       "\n",
       "    .dataframe tbody tr th {\n",
       "        vertical-align: top;\n",
       "    }\n",
       "\n",
       "    .dataframe thead th {\n",
       "        text-align: right;\n",
       "    }\n",
       "</style>\n",
       "<table border=\"1\" class=\"dataframe\">\n",
       "  <thead>\n",
       "    <tr style=\"text-align: right;\">\n",
       "      <th></th>\n",
       "      <th>cust_id</th>\n",
       "      <th>saving active</th>\n",
       "      <th>saving_amount</th>\n",
       "      <th>creditcard Active</th>\n",
       "      <th>debt_owned</th>\n",
       "    </tr>\n",
       "  </thead>\n",
       "  <tbody>\n",
       "    <tr>\n",
       "      <th>0</th>\n",
       "      <td>1363160</td>\n",
       "      <td>Y</td>\n",
       "      <td>9.50</td>\n",
       "      <td>Y</td>\n",
       "      <td>-370.77</td>\n",
       "    </tr>\n",
       "    <tr>\n",
       "      <th>1</th>\n",
       "      <td>1362487</td>\n",
       "      <td>N</td>\n",
       "      <td>-638.84</td>\n",
       "      <td>Y</td>\n",
       "      <td>1548.23</td>\n",
       "    </tr>\n",
       "    <tr>\n",
       "      <th>2</th>\n",
       "      <td>1362548</td>\n",
       "      <td>Y</td>\n",
       "      <td>3.78</td>\n",
       "      <td>Y</td>\n",
       "      <td>-6896.57</td>\n",
       "    </tr>\n",
       "    <tr>\n",
       "      <th>3</th>\n",
       "      <td>1362752</td>\n",
       "      <td>Y</td>\n",
       "      <td>9.07</td>\n",
       "      <td>N</td>\n",
       "      <td>-2302.14</td>\n",
       "    </tr>\n",
       "    <tr>\n",
       "      <th>4</th>\n",
       "      <td>1363017</td>\n",
       "      <td>N</td>\n",
       "      <td>890.33</td>\n",
       "      <td>Y</td>\n",
       "      <td>1000.00</td>\n",
       "    </tr>\n",
       "    <tr>\n",
       "      <th>...</th>\n",
       "      <td>...</td>\n",
       "      <td>...</td>\n",
       "      <td>...</td>\n",
       "      <td>...</td>\n",
       "      <td>...</td>\n",
       "    </tr>\n",
       "    <tr>\n",
       "      <th>416</th>\n",
       "      <td>1363141</td>\n",
       "      <td>Y</td>\n",
       "      <td>351.24</td>\n",
       "      <td>0</td>\n",
       "      <td>0.00</td>\n",
       "    </tr>\n",
       "    <tr>\n",
       "      <th>417</th>\n",
       "      <td>1363038</td>\n",
       "      <td>Y</td>\n",
       "      <td>174.73</td>\n",
       "      <td>Y</td>\n",
       "      <td>1800.00</td>\n",
       "    </tr>\n",
       "    <tr>\n",
       "      <th>418</th>\n",
       "      <td>1362529</td>\n",
       "      <td>Y</td>\n",
       "      <td>211.08</td>\n",
       "      <td>N</td>\n",
       "      <td>-1048.21</td>\n",
       "    </tr>\n",
       "    <tr>\n",
       "      <th>419</th>\n",
       "      <td>1362895</td>\n",
       "      <td>Y</td>\n",
       "      <td>-73.71</td>\n",
       "      <td>Y</td>\n",
       "      <td>1300.00</td>\n",
       "    </tr>\n",
       "    <tr>\n",
       "      <th>420</th>\n",
       "      <td>1362855</td>\n",
       "      <td>Y</td>\n",
       "      <td>-6.67</td>\n",
       "      <td>0</td>\n",
       "      <td>0.00</td>\n",
       "    </tr>\n",
       "  </tbody>\n",
       "</table>\n",
       "<p>421 rows × 5 columns</p>\n",
       "</div>"
      ],
      "text/plain": [
       "     cust_id saving active  saving_amount creditcard Active  debt_owned\n",
       "0    1363160            Y            9.50                Y      -370.77\n",
       "1    1362487            N         -638.84                Y      1548.23\n",
       "2    1362548            Y            3.78                Y     -6896.57\n",
       "3    1362752            Y            9.07                N     -2302.14\n",
       "4    1363017            N          890.33                Y      1000.00\n",
       "..       ...           ...            ...               ...         ...\n",
       "416  1363141            Y          351.24                 0        0.00\n",
       "417  1363038            Y          174.73                Y      1800.00\n",
       "418  1362529            Y          211.08                N     -1048.21\n",
       "419  1362895            Y          -73.71                Y      1300.00\n",
       "420  1362855            Y           -6.67                 0        0.00\n",
       "\n",
       "[421 rows x 5 columns]"
      ]
     },
     "execution_count": 328,
     "metadata": {},
     "output_type": "execute_result"
    }
   ],
   "source": [
    "banking_account.rename(columns={'account_active_x':'saving active',\n",
    "                                'account_active_y':'creditcard Active'\n",
    "    \n",
    "    \n",
    "    \n",
    "})"
   ]
  },
  {
   "cell_type": "code",
   "execution_count": 593,
   "metadata": {},
   "outputs": [
    {
     "data": {
      "text/plain": [
       "cust_id             0\n",
       "account_active_x    0\n",
       "saving_amount       0\n",
       "account_active_y    0\n",
       "debt_owned          0\n",
       "dtype: int64"
      ]
     },
     "execution_count": 593,
     "metadata": {},
     "output_type": "execute_result"
    }
   ],
   "source": [
    "banking_account.isnull().sum()"
   ]
  },
  {
   "cell_type": "markdown",
   "metadata": {},
   "source": [
    "##  Account Transaction- saving account"
   ]
  },
  {
   "cell_type": "code",
   "execution_count": 594,
   "metadata": {
    "scrolled": true
   },
   "outputs": [
    {
     "data": {
      "text/html": [
       "<div>\n",
       "<style scoped>\n",
       "    .dataframe tbody tr th:only-of-type {\n",
       "        vertical-align: middle;\n",
       "    }\n",
       "\n",
       "    .dataframe tbody tr th {\n",
       "        vertical-align: top;\n",
       "    }\n",
       "\n",
       "    .dataframe thead th {\n",
       "        text-align: right;\n",
       "    }\n",
       "</style>\n",
       "<table border=\"1\" class=\"dataframe\">\n",
       "  <thead>\n",
       "    <tr style=\"text-align: right;\">\n",
       "      <th></th>\n",
       "      <th>cust_id</th>\n",
       "      <th>tran_id</th>\n",
       "      <th>tran_amt</th>\n",
       "      <th>principal_amt</th>\n",
       "      <th>interest_amt</th>\n",
       "      <th>new_balance</th>\n",
       "      <th>tran_date</th>\n",
       "      <th>tran_time</th>\n",
       "      <th>channel</th>\n",
       "      <th>tran_code</th>\n",
       "    </tr>\n",
       "  </thead>\n",
       "  <tbody>\n",
       "    <tr>\n",
       "      <th>0</th>\n",
       "      <td>1363481</td>\n",
       "      <td>26</td>\n",
       "      <td>136.03</td>\n",
       "      <td>136.03</td>\n",
       "      <td>0.00</td>\n",
       "      <td>1521.57</td>\n",
       "      <td>26.10.1995</td>\n",
       "      <td>84111</td>\n",
       "      <td>A</td>\n",
       "      <td>DP</td>\n",
       "    </tr>\n",
       "    <tr>\n",
       "      <th>1</th>\n",
       "      <td>1362746</td>\n",
       "      <td>1</td>\n",
       "      <td>2.83</td>\n",
       "      <td>0.00</td>\n",
       "      <td>2.83</td>\n",
       "      <td>2265.90</td>\n",
       "      <td>31.1.1995</td>\n",
       "      <td>235959</td>\n",
       "      <td></td>\n",
       "      <td>IN</td>\n",
       "    </tr>\n",
       "    <tr>\n",
       "      <th>2</th>\n",
       "      <td>1363251</td>\n",
       "      <td>11</td>\n",
       "      <td>13.56</td>\n",
       "      <td>0.00</td>\n",
       "      <td>13.56</td>\n",
       "      <td>5438.90</td>\n",
       "      <td>30.4.1995</td>\n",
       "      <td>235959</td>\n",
       "      <td></td>\n",
       "      <td>IN</td>\n",
       "    </tr>\n",
       "    <tr>\n",
       "      <th>3</th>\n",
       "      <td>1362542</td>\n",
       "      <td>4</td>\n",
       "      <td>0.76</td>\n",
       "      <td>0.00</td>\n",
       "      <td>0.76</td>\n",
       "      <td>610.92</td>\n",
       "      <td>30.4.1995</td>\n",
       "      <td>235959</td>\n",
       "      <td></td>\n",
       "      <td>IN</td>\n",
       "    </tr>\n",
       "    <tr>\n",
       "      <th>4</th>\n",
       "      <td>1363387</td>\n",
       "      <td>11</td>\n",
       "      <td>148.69</td>\n",
       "      <td>148.69</td>\n",
       "      <td>0.00</td>\n",
       "      <td>470.05</td>\n",
       "      <td>21.5.1995</td>\n",
       "      <td>144736</td>\n",
       "      <td>E</td>\n",
       "      <td>DP</td>\n",
       "    </tr>\n",
       "  </tbody>\n",
       "</table>\n",
       "</div>"
      ],
      "text/plain": [
       "   cust_id  tran_id  tran_amt  principal_amt  interest_amt  new_balance  \\\n",
       "0  1363481       26    136.03         136.03          0.00      1521.57   \n",
       "1  1362746        1      2.83           0.00          2.83      2265.90   \n",
       "2  1363251       11     13.56           0.00         13.56      5438.90   \n",
       "3  1362542        4      0.76           0.00          0.76       610.92   \n",
       "4  1363387       11    148.69         148.69          0.00       470.05   \n",
       "\n",
       "    tran_date tran_time channel tran_code  \n",
       "0  26.10.1995     84111      A       DP    \n",
       "1   31.1.1995    235959              IN    \n",
       "2   30.4.1995    235959              IN    \n",
       "3   30.4.1995    235959              IN    \n",
       "4   21.5.1995    144736      E       DP    "
      ]
     },
     "execution_count": 594,
     "metadata": {},
     "output_type": "execute_result"
    }
   ],
   "source": [
    "#saving account\n",
    "df=pd.read_csv('data/twm_savings_tran.csv',sep=';')\n",
    "df.head()"
   ]
  },
  {
   "cell_type": "code",
   "execution_count": 596,
   "metadata": {},
   "outputs": [
    {
     "data": {
      "text/html": [
       "<div>\n",
       "<style scoped>\n",
       "    .dataframe tbody tr th:only-of-type {\n",
       "        vertical-align: middle;\n",
       "    }\n",
       "\n",
       "    .dataframe tbody tr th {\n",
       "        vertical-align: top;\n",
       "    }\n",
       "\n",
       "    .dataframe thead th {\n",
       "        text-align: right;\n",
       "    }\n",
       "</style>\n",
       "<table border=\"1\" class=\"dataframe\">\n",
       "  <thead>\n",
       "    <tr style=\"text-align: right;\">\n",
       "      <th></th>\n",
       "      <th>cust_id</th>\n",
       "      <th>tran_id</th>\n",
       "      <th>tran_amt</th>\n",
       "      <th>principal_amt</th>\n",
       "      <th>interest_amt</th>\n",
       "      <th>new_balance</th>\n",
       "    </tr>\n",
       "  </thead>\n",
       "  <tbody>\n",
       "    <tr>\n",
       "      <th>count</th>\n",
       "      <td>1.118900e+04</td>\n",
       "      <td>11189.000000</td>\n",
       "      <td>11189.000000</td>\n",
       "      <td>11189.000000</td>\n",
       "      <td>11189.000000</td>\n",
       "      <td>11189.000000</td>\n",
       "    </tr>\n",
       "    <tr>\n",
       "      <th>mean</th>\n",
       "      <td>1.362988e+06</td>\n",
       "      <td>16.113504</td>\n",
       "      <td>14.458362</td>\n",
       "      <td>13.628621</td>\n",
       "      <td>0.829741</td>\n",
       "      <td>1229.467968</td>\n",
       "    </tr>\n",
       "    <tr>\n",
       "      <th>std</th>\n",
       "      <td>2.979129e+02</td>\n",
       "      <td>11.024730</td>\n",
       "      <td>221.971173</td>\n",
       "      <td>222.003741</td>\n",
       "      <td>2.856393</td>\n",
       "      <td>2256.670395</td>\n",
       "    </tr>\n",
       "    <tr>\n",
       "      <th>min</th>\n",
       "      <td>1.362480e+06</td>\n",
       "      <td>1.000000</td>\n",
       "      <td>-2495.880000</td>\n",
       "      <td>-2495.880000</td>\n",
       "      <td>0.000000</td>\n",
       "      <td>0.070000</td>\n",
       "    </tr>\n",
       "    <tr>\n",
       "      <th>25%</th>\n",
       "      <td>1.362720e+06</td>\n",
       "      <td>7.000000</td>\n",
       "      <td>-0.750000</td>\n",
       "      <td>-0.750000</td>\n",
       "      <td>0.000000</td>\n",
       "      <td>238.480000</td>\n",
       "    </tr>\n",
       "    <tr>\n",
       "      <th>50%</th>\n",
       "      <td>1.362978e+06</td>\n",
       "      <td>14.000000</td>\n",
       "      <td>0.390000</td>\n",
       "      <td>0.000000</td>\n",
       "      <td>0.000000</td>\n",
       "      <td>562.040000</td>\n",
       "    </tr>\n",
       "    <tr>\n",
       "      <th>75%</th>\n",
       "      <td>1.363262e+06</td>\n",
       "      <td>23.000000</td>\n",
       "      <td>7.340000</td>\n",
       "      <td>0.000000</td>\n",
       "      <td>0.480000</td>\n",
       "      <td>1247.300000</td>\n",
       "    </tr>\n",
       "    <tr>\n",
       "      <th>max</th>\n",
       "      <td>1.363495e+06</td>\n",
       "      <td>62.000000</td>\n",
       "      <td>4478.610000</td>\n",
       "      <td>4478.610000</td>\n",
       "      <td>44.680000</td>\n",
       "      <td>26016.690000</td>\n",
       "    </tr>\n",
       "  </tbody>\n",
       "</table>\n",
       "</div>"
      ],
      "text/plain": [
       "            cust_id       tran_id      tran_amt  principal_amt  interest_amt  \\\n",
       "count  1.118900e+04  11189.000000  11189.000000   11189.000000  11189.000000   \n",
       "mean   1.362988e+06     16.113504     14.458362      13.628621      0.829741   \n",
       "std    2.979129e+02     11.024730    221.971173     222.003741      2.856393   \n",
       "min    1.362480e+06      1.000000  -2495.880000   -2495.880000      0.000000   \n",
       "25%    1.362720e+06      7.000000     -0.750000      -0.750000      0.000000   \n",
       "50%    1.362978e+06     14.000000      0.390000       0.000000      0.000000   \n",
       "75%    1.363262e+06     23.000000      7.340000       0.000000      0.480000   \n",
       "max    1.363495e+06     62.000000   4478.610000    4478.610000     44.680000   \n",
       "\n",
       "        new_balance  \n",
       "count  11189.000000  \n",
       "mean    1229.467968  \n",
       "std     2256.670395  \n",
       "min        0.070000  \n",
       "25%      238.480000  \n",
       "50%      562.040000  \n",
       "75%     1247.300000  \n",
       "max    26016.690000  "
      ]
     },
     "execution_count": 596,
     "metadata": {},
     "output_type": "execute_result"
    }
   ],
   "source": [
    "df.describe()"
   ]
  },
  {
   "cell_type": "code",
   "execution_count": 595,
   "metadata": {
    "scrolled": true
   },
   "outputs": [
    {
     "data": {
      "text/plain": [
       "(11189, 6)"
      ]
     },
     "execution_count": 595,
     "metadata": {},
     "output_type": "execute_result"
    }
   ],
   "source": [
    "selected_cols=['cust_id','tran_amt','principal_amt','interest_amt','new_balance','tran_id']\n",
    "saving=pd.DataFrame(df[selected_cols])\n",
    "saving.shape"
   ]
  },
  {
   "cell_type": "markdown",
   "metadata": {},
   "source": []
  },
  {
   "cell_type": "code",
   "execution_count": 344,
   "metadata": {
    "scrolled": true
   },
   "outputs": [
    {
     "data": {
      "text/html": [
       "<div>\n",
       "<style scoped>\n",
       "    .dataframe tbody tr th:only-of-type {\n",
       "        vertical-align: middle;\n",
       "    }\n",
       "\n",
       "    .dataframe tbody tr th {\n",
       "        vertical-align: top;\n",
       "    }\n",
       "\n",
       "    .dataframe thead th {\n",
       "        text-align: right;\n",
       "    }\n",
       "</style>\n",
       "<table border=\"1\" class=\"dataframe\">\n",
       "  <thead>\n",
       "    <tr style=\"text-align: right;\">\n",
       "      <th></th>\n",
       "      <th>cust_id</th>\n",
       "      <th>tran_amt</th>\n",
       "      <th>tran_id</th>\n",
       "    </tr>\n",
       "  </thead>\n",
       "  <tbody>\n",
       "    <tr>\n",
       "      <th>0</th>\n",
       "      <td>1362480</td>\n",
       "      <td>482.32</td>\n",
       "      <td>26</td>\n",
       "    </tr>\n",
       "    <tr>\n",
       "      <th>1</th>\n",
       "      <td>1362484</td>\n",
       "      <td>1929.66</td>\n",
       "      <td>33</td>\n",
       "    </tr>\n",
       "    <tr>\n",
       "      <th>2</th>\n",
       "      <td>1362486</td>\n",
       "      <td>-168.24</td>\n",
       "      <td>25</td>\n",
       "    </tr>\n",
       "    <tr>\n",
       "      <th>3</th>\n",
       "      <td>1362487</td>\n",
       "      <td>-638.84</td>\n",
       "      <td>19</td>\n",
       "    </tr>\n",
       "    <tr>\n",
       "      <th>4</th>\n",
       "      <td>1362489</td>\n",
       "      <td>-386.59</td>\n",
       "      <td>22</td>\n",
       "    </tr>\n",
       "    <tr>\n",
       "      <th>...</th>\n",
       "      <td>...</td>\n",
       "      <td>...</td>\n",
       "      <td>...</td>\n",
       "    </tr>\n",
       "    <tr>\n",
       "      <th>415</th>\n",
       "      <td>1363490</td>\n",
       "      <td>34.24</td>\n",
       "      <td>12</td>\n",
       "    </tr>\n",
       "    <tr>\n",
       "      <th>416</th>\n",
       "      <td>1363491</td>\n",
       "      <td>-187.63</td>\n",
       "      <td>18</td>\n",
       "    </tr>\n",
       "    <tr>\n",
       "      <th>417</th>\n",
       "      <td>1363492</td>\n",
       "      <td>164.08</td>\n",
       "      <td>25</td>\n",
       "    </tr>\n",
       "    <tr>\n",
       "      <th>418</th>\n",
       "      <td>1363493</td>\n",
       "      <td>222.43</td>\n",
       "      <td>19</td>\n",
       "    </tr>\n",
       "    <tr>\n",
       "      <th>419</th>\n",
       "      <td>1363495</td>\n",
       "      <td>461.80</td>\n",
       "      <td>36</td>\n",
       "    </tr>\n",
       "  </tbody>\n",
       "</table>\n",
       "<p>420 rows × 3 columns</p>\n",
       "</div>"
      ],
      "text/plain": [
       "     cust_id  tran_amt  tran_id\n",
       "0    1362480    482.32       26\n",
       "1    1362484   1929.66       33\n",
       "2    1362486   -168.24       25\n",
       "3    1362487   -638.84       19\n",
       "4    1362489   -386.59       22\n",
       "..       ...       ...      ...\n",
       "415  1363490     34.24       12\n",
       "416  1363491   -187.63       18\n",
       "417  1363492    164.08       25\n",
       "418  1363493    222.43       19\n",
       "419  1363495    461.80       36\n",
       "\n",
       "[420 rows x 3 columns]"
      ]
     },
     "execution_count": 344,
     "metadata": {},
     "output_type": "execute_result"
    }
   ],
   "source": [
    "saving.groupby('cust_id').agg({'tran_amt':'sum','tran_id':'count'}).reset_index()"
   ]
  },
  {
   "cell_type": "markdown",
   "metadata": {},
   "source": [
    "##  Account Transaction- credit card\n"
   ]
  },
  {
   "cell_type": "code",
   "execution_count": 597,
   "metadata": {
    "scrolled": false
   },
   "outputs": [
    {
     "data": {
      "text/html": [
       "<div>\n",
       "<style scoped>\n",
       "    .dataframe tbody tr th:only-of-type {\n",
       "        vertical-align: middle;\n",
       "    }\n",
       "\n",
       "    .dataframe tbody tr th {\n",
       "        vertical-align: top;\n",
       "    }\n",
       "\n",
       "    .dataframe thead th {\n",
       "        text-align: right;\n",
       "    }\n",
       "</style>\n",
       "<table border=\"1\" class=\"dataframe\">\n",
       "  <thead>\n",
       "    <tr style=\"text-align: right;\">\n",
       "      <th></th>\n",
       "      <th>cust_id</th>\n",
       "      <th>tran_id</th>\n",
       "      <th>tran_amt</th>\n",
       "      <th>principal_amt</th>\n",
       "      <th>interest_amt</th>\n",
       "      <th>new_balance</th>\n",
       "      <th>tran_date</th>\n",
       "      <th>tran_time</th>\n",
       "      <th>channel</th>\n",
       "      <th>tran_code</th>\n",
       "    </tr>\n",
       "  </thead>\n",
       "  <tbody>\n",
       "    <tr>\n",
       "      <th>0</th>\n",
       "      <td>1363088</td>\n",
       "      <td>46</td>\n",
       "      <td>-121.49</td>\n",
       "      <td>-121.49</td>\n",
       "      <td>0.0</td>\n",
       "      <td>-141.00</td>\n",
       "      <td>20.10.1995</td>\n",
       "      <td>101144</td>\n",
       "      <td>E</td>\n",
       "      <td>CG</td>\n",
       "    </tr>\n",
       "    <tr>\n",
       "      <th>1</th>\n",
       "      <td>1363306</td>\n",
       "      <td>32</td>\n",
       "      <td>-220.64</td>\n",
       "      <td>-220.64</td>\n",
       "      <td>0.0</td>\n",
       "      <td>-520.13</td>\n",
       "      <td>13.10.1995</td>\n",
       "      <td>83115</td>\n",
       "      <td>E</td>\n",
       "      <td>CG</td>\n",
       "    </tr>\n",
       "    <tr>\n",
       "      <th>2</th>\n",
       "      <td>1362959</td>\n",
       "      <td>10</td>\n",
       "      <td>0.00</td>\n",
       "      <td>0.00</td>\n",
       "      <td>0.0</td>\n",
       "      <td>-3900.00</td>\n",
       "      <td>26.2.1995</td>\n",
       "      <td>84129</td>\n",
       "      <td>K</td>\n",
       "      <td>IQ</td>\n",
       "    </tr>\n",
       "    <tr>\n",
       "      <th>3</th>\n",
       "      <td>1363429</td>\n",
       "      <td>13</td>\n",
       "      <td>-195.27</td>\n",
       "      <td>-195.27</td>\n",
       "      <td>0.0</td>\n",
       "      <td>-1739.74</td>\n",
       "      <td>3.1.1995</td>\n",
       "      <td>191815</td>\n",
       "      <td>E</td>\n",
       "      <td>CG</td>\n",
       "    </tr>\n",
       "    <tr>\n",
       "      <th>4</th>\n",
       "      <td>1363393</td>\n",
       "      <td>14</td>\n",
       "      <td>-37.32</td>\n",
       "      <td>-37.32</td>\n",
       "      <td>0.0</td>\n",
       "      <td>-198.98</td>\n",
       "      <td>4.7.1995</td>\n",
       "      <td>100811</td>\n",
       "      <td>E</td>\n",
       "      <td>CG</td>\n",
       "    </tr>\n",
       "  </tbody>\n",
       "</table>\n",
       "</div>"
      ],
      "text/plain": [
       "   cust_id  tran_id  tran_amt  principal_amt  interest_amt  new_balance  \\\n",
       "0  1363088       46   -121.49        -121.49           0.0      -141.00   \n",
       "1  1363306       32   -220.64        -220.64           0.0      -520.13   \n",
       "2  1362959       10      0.00           0.00           0.0     -3900.00   \n",
       "3  1363429       13   -195.27        -195.27           0.0     -1739.74   \n",
       "4  1363393       14    -37.32         -37.32           0.0      -198.98   \n",
       "\n",
       "    tran_date tran_time channel tran_code  \n",
       "0  20.10.1995    101144      E       CG    \n",
       "1  13.10.1995     83115      E       CG    \n",
       "2   26.2.1995     84129      K       IQ    \n",
       "3    3.1.1995    191815      E       CG    \n",
       "4    4.7.1995    100811      E       CG    "
      ]
     },
     "execution_count": 597,
     "metadata": {},
     "output_type": "execute_result"
    }
   ],
   "source": [
    "#credit card\n",
    "df=pd.read_csv('data/twm_credit_tran.csv',sep=';')\n",
    "df.head()"
   ]
  },
  {
   "cell_type": "code",
   "execution_count": 598,
   "metadata": {},
   "outputs": [],
   "source": [
    "selected_cols=['cust_id','tran_amt','principal_amt','interest_amt','new_balance','tran_id']\n",
    "credit=pd.DataFrame(df[selected_cols])\n"
   ]
  },
  {
   "cell_type": "code",
   "execution_count": 599,
   "metadata": {
    "scrolled": true
   },
   "outputs": [],
   "source": [
    "credit_transaction=credit.groupby('cust_id').agg({'tran_amt':'sum','tran_id':'count'}).reset_index()"
   ]
  },
  {
   "cell_type": "code",
   "execution_count": 601,
   "metadata": {},
   "outputs": [
    {
     "data": {
      "text/plain": [
       "cust_id     0\n",
       "tran_amt    0\n",
       "tran_id     0\n",
       "dtype: int64"
      ]
     },
     "execution_count": 601,
     "metadata": {},
     "output_type": "execute_result"
    }
   ],
   "source": [
    "credit_transaction.isnull().sum()"
   ]
  },
  {
   "cell_type": "markdown",
   "metadata": {},
   "source": [
    "##  Account Transaction- Merge"
   ]
  },
  {
   "cell_type": "code",
   "execution_count": null,
   "metadata": {},
   "outputs": [],
   "source": []
  },
  {
   "cell_type": "code",
   "execution_count": 602,
   "metadata": {},
   "outputs": [],
   "source": [
    "#merge transaction\n",
    "merged_transaction=pd.merge(saving_transactions,credit_transaction,on='cust_id')"
   ]
  },
  {
   "cell_type": "code",
   "execution_count": 603,
   "metadata": {},
   "outputs": [],
   "source": [
    "transaction=merged_transaction.rename(columns={\n",
    "                    'tran_amt_x_x':'saving transaction',\n",
    "                    'tran_amt_x_y': 'credit transaction',\n",
    "                    'tran_amt_y_x':'saving transaction number',\n",
    "                    'tran_amt_y_y':'credit card transaction number'}\n",
    "                         )\n"
   ]
  },
  {
   "cell_type": "code",
   "execution_count": 604,
   "metadata": {},
   "outputs": [
    {
     "data": {
      "text/html": [
       "<div>\n",
       "<style scoped>\n",
       "    .dataframe tbody tr th:only-of-type {\n",
       "        vertical-align: middle;\n",
       "    }\n",
       "\n",
       "    .dataframe tbody tr th {\n",
       "        vertical-align: top;\n",
       "    }\n",
       "\n",
       "    .dataframe thead th {\n",
       "        text-align: right;\n",
       "    }\n",
       "</style>\n",
       "<table border=\"1\" class=\"dataframe\">\n",
       "  <thead>\n",
       "    <tr style=\"text-align: right;\">\n",
       "      <th></th>\n",
       "      <th>cust_id</th>\n",
       "      <th>tran_amt_x</th>\n",
       "      <th>tran_amt_y</th>\n",
       "      <th>tran_amt</th>\n",
       "      <th>tran_id</th>\n",
       "    </tr>\n",
       "  </thead>\n",
       "  <tbody>\n",
       "    <tr>\n",
       "      <th>0</th>\n",
       "      <td>1362480</td>\n",
       "      <td>482.32</td>\n",
       "      <td>17</td>\n",
       "      <td>1948.66</td>\n",
       "      <td>32</td>\n",
       "    </tr>\n",
       "    <tr>\n",
       "      <th>1</th>\n",
       "      <td>1362484</td>\n",
       "      <td>1929.66</td>\n",
       "      <td>31</td>\n",
       "      <td>923.87</td>\n",
       "      <td>55</td>\n",
       "    </tr>\n",
       "    <tr>\n",
       "      <th>2</th>\n",
       "      <td>1362487</td>\n",
       "      <td>-638.84</td>\n",
       "      <td>14</td>\n",
       "      <td>-1535.59</td>\n",
       "      <td>32</td>\n",
       "    </tr>\n",
       "    <tr>\n",
       "      <th>3</th>\n",
       "      <td>1362489</td>\n",
       "      <td>-386.59</td>\n",
       "      <td>14</td>\n",
       "      <td>1694.18</td>\n",
       "      <td>35</td>\n",
       "    </tr>\n",
       "    <tr>\n",
       "      <th>4</th>\n",
       "      <td>1362508</td>\n",
       "      <td>133.47</td>\n",
       "      <td>28</td>\n",
       "      <td>-179.90</td>\n",
       "      <td>87</td>\n",
       "    </tr>\n",
       "  </tbody>\n",
       "</table>\n",
       "</div>"
      ],
      "text/plain": [
       "   cust_id  tran_amt_x  tran_amt_y  tran_amt  tran_id\n",
       "0  1362480      482.32          17   1948.66       32\n",
       "1  1362484     1929.66          31    923.87       55\n",
       "2  1362487     -638.84          14  -1535.59       32\n",
       "3  1362489     -386.59          14   1694.18       35\n",
       "4  1362508      133.47          28   -179.90       87"
      ]
     },
     "execution_count": 604,
     "metadata": {},
     "output_type": "execute_result"
    }
   ],
   "source": [
    "transaction.head()"
   ]
  },
  {
   "cell_type": "code",
   "execution_count": 606,
   "metadata": {},
   "outputs": [
    {
     "data": {
      "text/plain": [
       "cust_id       0\n",
       "tran_amt_x    0\n",
       "tran_amt_y    0\n",
       "tran_amt      0\n",
       "tran_id       0\n",
       "dtype: int64"
      ]
     },
     "execution_count": 606,
     "metadata": {},
     "output_type": "execute_result"
    }
   ],
   "source": [
    "transaction.isnull().sum()"
   ]
  },
  {
   "cell_type": "code",
   "execution_count": 607,
   "metadata": {
    "scrolled": true
   },
   "outputs": [],
   "source": [
    "final=pd.merge(banking_account,transaction, on='cust_id',how='left')\n",
    "banking_beh=final.rename(columns={'account_active_x':'saving account_active',\n",
    "                     'account_active_y':'credit card activate'})\n"
   ]
  },
  {
   "cell_type": "code",
   "execution_count": 608,
   "metadata": {
    "scrolled": true
   },
   "outputs": [
    {
     "data": {
      "text/plain": [
       "cust_id                  0\n",
       "saving account_active    0\n",
       "saving_amount            0\n",
       "credit card activate     0\n",
       "debt_owned               0\n",
       "tran_amt_x               0\n",
       "tran_amt_y               0\n",
       "tran_amt                 0\n",
       "tran_id                  0\n",
       "dtype: int64"
      ]
     },
     "execution_count": 608,
     "metadata": {},
     "output_type": "execute_result"
    }
   ],
   "source": [
    "#delete nan value\n",
    "banking_beh.dropna(how='any',inplace= True)\n",
    "# banking_beh[banking_beh.isna().any(axis=1)]\n",
    "banking_beh.isnull().sum()"
   ]
  },
  {
   "cell_type": "code",
   "execution_count": 609,
   "metadata": {
    "scrolled": true
   },
   "outputs": [],
   "source": [
    "banking_beh['saving account_active']=banking_beh['saving account_active'].replace({'Y ':1, 'N ':0})\n",
    "banking_beh['credit card activate']=banking_beh['credit card activate'].replace({'Y ':1, 'N ':0})"
   ]
  },
  {
   "cell_type": "code",
   "execution_count": 610,
   "metadata": {
    "scrolled": false
   },
   "outputs": [
    {
     "data": {
      "text/html": [
       "<div>\n",
       "<style scoped>\n",
       "    .dataframe tbody tr th:only-of-type {\n",
       "        vertical-align: middle;\n",
       "    }\n",
       "\n",
       "    .dataframe tbody tr th {\n",
       "        vertical-align: top;\n",
       "    }\n",
       "\n",
       "    .dataframe thead th {\n",
       "        text-align: right;\n",
       "    }\n",
       "</style>\n",
       "<table border=\"1\" class=\"dataframe\">\n",
       "  <thead>\n",
       "    <tr style=\"text-align: right;\">\n",
       "      <th></th>\n",
       "      <th>cust_id</th>\n",
       "      <th>saving account_active</th>\n",
       "      <th>saving_amount</th>\n",
       "      <th>credit card activate</th>\n",
       "      <th>debt_owned</th>\n",
       "      <th>tran_amt_x</th>\n",
       "      <th>tran_amt_y</th>\n",
       "      <th>tran_amt</th>\n",
       "      <th>tran_id</th>\n",
       "    </tr>\n",
       "  </thead>\n",
       "  <tbody>\n",
       "    <tr>\n",
       "      <th>0</th>\n",
       "      <td>1363160</td>\n",
       "      <td>1</td>\n",
       "      <td>9.50</td>\n",
       "      <td>1</td>\n",
       "      <td>-370.77</td>\n",
       "      <td>9.50</td>\n",
       "      <td>33.0</td>\n",
       "      <td>380.03</td>\n",
       "      <td>68.0</td>\n",
       "    </tr>\n",
       "    <tr>\n",
       "      <th>1</th>\n",
       "      <td>1362487</td>\n",
       "      <td>0</td>\n",
       "      <td>-638.84</td>\n",
       "      <td>1</td>\n",
       "      <td>1548.23</td>\n",
       "      <td>-638.84</td>\n",
       "      <td>14.0</td>\n",
       "      <td>-1535.59</td>\n",
       "      <td>32.0</td>\n",
       "    </tr>\n",
       "    <tr>\n",
       "      <th>2</th>\n",
       "      <td>1362548</td>\n",
       "      <td>1</td>\n",
       "      <td>3.78</td>\n",
       "      <td>1</td>\n",
       "      <td>-6896.57</td>\n",
       "      <td>3.78</td>\n",
       "      <td>2.0</td>\n",
       "      <td>6977.25</td>\n",
       "      <td>22.0</td>\n",
       "    </tr>\n",
       "    <tr>\n",
       "      <th>3</th>\n",
       "      <td>1362752</td>\n",
       "      <td>1</td>\n",
       "      <td>9.07</td>\n",
       "      <td>0</td>\n",
       "      <td>-2302.14</td>\n",
       "      <td>9.07</td>\n",
       "      <td>2.0</td>\n",
       "      <td>2406.65</td>\n",
       "      <td>15.0</td>\n",
       "    </tr>\n",
       "    <tr>\n",
       "      <th>4</th>\n",
       "      <td>1363017</td>\n",
       "      <td>0</td>\n",
       "      <td>890.33</td>\n",
       "      <td>1</td>\n",
       "      <td>1000.00</td>\n",
       "      <td>890.33</td>\n",
       "      <td>16.0</td>\n",
       "      <td>-956.10</td>\n",
       "      <td>63.0</td>\n",
       "    </tr>\n",
       "    <tr>\n",
       "      <th>...</th>\n",
       "      <td>...</td>\n",
       "      <td>...</td>\n",
       "      <td>...</td>\n",
       "      <td>...</td>\n",
       "      <td>...</td>\n",
       "      <td>...</td>\n",
       "      <td>...</td>\n",
       "      <td>...</td>\n",
       "      <td>...</td>\n",
       "    </tr>\n",
       "    <tr>\n",
       "      <th>414</th>\n",
       "      <td>1363284</td>\n",
       "      <td>1</td>\n",
       "      <td>-593.23</td>\n",
       "      <td>1</td>\n",
       "      <td>132.98</td>\n",
       "      <td>-592.60</td>\n",
       "      <td>23.0</td>\n",
       "      <td>-121.25</td>\n",
       "      <td>37.0</td>\n",
       "    </tr>\n",
       "    <tr>\n",
       "      <th>415</th>\n",
       "      <td>1362508</td>\n",
       "      <td>1</td>\n",
       "      <td>133.47</td>\n",
       "      <td>1</td>\n",
       "      <td>260.21</td>\n",
       "      <td>133.47</td>\n",
       "      <td>28.0</td>\n",
       "      <td>-179.90</td>\n",
       "      <td>87.0</td>\n",
       "    </tr>\n",
       "    <tr>\n",
       "      <th>417</th>\n",
       "      <td>1363038</td>\n",
       "      <td>1</td>\n",
       "      <td>174.73</td>\n",
       "      <td>1</td>\n",
       "      <td>1800.00</td>\n",
       "      <td>174.91</td>\n",
       "      <td>27.0</td>\n",
       "      <td>-1741.27</td>\n",
       "      <td>24.0</td>\n",
       "    </tr>\n",
       "    <tr>\n",
       "      <th>418</th>\n",
       "      <td>1362529</td>\n",
       "      <td>1</td>\n",
       "      <td>211.08</td>\n",
       "      <td>0</td>\n",
       "      <td>-1048.21</td>\n",
       "      <td>212.70</td>\n",
       "      <td>15.0</td>\n",
       "      <td>1361.31</td>\n",
       "      <td>39.0</td>\n",
       "    </tr>\n",
       "    <tr>\n",
       "      <th>419</th>\n",
       "      <td>1362895</td>\n",
       "      <td>1</td>\n",
       "      <td>-73.71</td>\n",
       "      <td>1</td>\n",
       "      <td>1300.00</td>\n",
       "      <td>-73.71</td>\n",
       "      <td>18.0</td>\n",
       "      <td>-1287.37</td>\n",
       "      <td>27.0</td>\n",
       "    </tr>\n",
       "  </tbody>\n",
       "</table>\n",
       "<p>287 rows × 9 columns</p>\n",
       "</div>"
      ],
      "text/plain": [
       "     cust_id  saving account_active  saving_amount  credit card activate  \\\n",
       "0    1363160                      1           9.50                     1   \n",
       "1    1362487                      0        -638.84                     1   \n",
       "2    1362548                      1           3.78                     1   \n",
       "3    1362752                      1           9.07                     0   \n",
       "4    1363017                      0         890.33                     1   \n",
       "..       ...                    ...            ...                   ...   \n",
       "414  1363284                      1        -593.23                     1   \n",
       "415  1362508                      1         133.47                     1   \n",
       "417  1363038                      1         174.73                     1   \n",
       "418  1362529                      1         211.08                     0   \n",
       "419  1362895                      1         -73.71                     1   \n",
       "\n",
       "     debt_owned  tran_amt_x  tran_amt_y  tran_amt  tran_id  \n",
       "0       -370.77        9.50        33.0    380.03     68.0  \n",
       "1       1548.23     -638.84        14.0  -1535.59     32.0  \n",
       "2      -6896.57        3.78         2.0   6977.25     22.0  \n",
       "3      -2302.14        9.07         2.0   2406.65     15.0  \n",
       "4       1000.00      890.33        16.0   -956.10     63.0  \n",
       "..          ...         ...         ...       ...      ...  \n",
       "414      132.98     -592.60        23.0   -121.25     37.0  \n",
       "415      260.21      133.47        28.0   -179.90     87.0  \n",
       "417     1800.00      174.91        27.0  -1741.27     24.0  \n",
       "418    -1048.21      212.70        15.0   1361.31     39.0  \n",
       "419     1300.00      -73.71        18.0  -1287.37     27.0  \n",
       "\n",
       "[287 rows x 9 columns]"
      ]
     },
     "execution_count": 610,
     "metadata": {},
     "output_type": "execute_result"
    }
   ],
   "source": [
    "banking_beh"
   ]
  },
  {
   "cell_type": "code",
   "execution_count": 613,
   "metadata": {},
   "outputs": [],
   "source": [
    "# #get rid of non features\n",
    "banking_beh.drop(columns=['cust_id'], inplace=True)\n"
   ]
  },
  {
   "cell_type": "code",
   "execution_count": 611,
   "metadata": {},
   "outputs": [],
   "source": [
    "# new=banking_beh[(banking_beh['saving account_active']==1)&(banking_beh['credit card activate']==1)]\n",
    "banking_beh.drop(columns=['saving account_active','credit card activate'], inplace=True)\n",
    "\n"
   ]
  },
  {
   "cell_type": "code",
   "execution_count": 614,
   "metadata": {},
   "outputs": [
    {
     "data": {
      "text/html": [
       "<div>\n",
       "<style scoped>\n",
       "    .dataframe tbody tr th:only-of-type {\n",
       "        vertical-align: middle;\n",
       "    }\n",
       "\n",
       "    .dataframe tbody tr th {\n",
       "        vertical-align: top;\n",
       "    }\n",
       "\n",
       "    .dataframe thead th {\n",
       "        text-align: right;\n",
       "    }\n",
       "</style>\n",
       "<table border=\"1\" class=\"dataframe\">\n",
       "  <thead>\n",
       "    <tr style=\"text-align: right;\">\n",
       "      <th></th>\n",
       "      <th>saving_amount</th>\n",
       "      <th>debt_owned</th>\n",
       "      <th>tran_amt_x</th>\n",
       "      <th>tran_amt_y</th>\n",
       "      <th>tran_amt</th>\n",
       "      <th>tran_id</th>\n",
       "    </tr>\n",
       "  </thead>\n",
       "  <tbody>\n",
       "    <tr>\n",
       "      <th>0</th>\n",
       "      <td>9.50</td>\n",
       "      <td>-370.77</td>\n",
       "      <td>9.50</td>\n",
       "      <td>33.0</td>\n",
       "      <td>380.03</td>\n",
       "      <td>68.0</td>\n",
       "    </tr>\n",
       "    <tr>\n",
       "      <th>1</th>\n",
       "      <td>-638.84</td>\n",
       "      <td>1548.23</td>\n",
       "      <td>-638.84</td>\n",
       "      <td>14.0</td>\n",
       "      <td>-1535.59</td>\n",
       "      <td>32.0</td>\n",
       "    </tr>\n",
       "    <tr>\n",
       "      <th>2</th>\n",
       "      <td>3.78</td>\n",
       "      <td>-6896.57</td>\n",
       "      <td>3.78</td>\n",
       "      <td>2.0</td>\n",
       "      <td>6977.25</td>\n",
       "      <td>22.0</td>\n",
       "    </tr>\n",
       "    <tr>\n",
       "      <th>3</th>\n",
       "      <td>9.07</td>\n",
       "      <td>-2302.14</td>\n",
       "      <td>9.07</td>\n",
       "      <td>2.0</td>\n",
       "      <td>2406.65</td>\n",
       "      <td>15.0</td>\n",
       "    </tr>\n",
       "    <tr>\n",
       "      <th>4</th>\n",
       "      <td>890.33</td>\n",
       "      <td>1000.00</td>\n",
       "      <td>890.33</td>\n",
       "      <td>16.0</td>\n",
       "      <td>-956.10</td>\n",
       "      <td>63.0</td>\n",
       "    </tr>\n",
       "  </tbody>\n",
       "</table>\n",
       "</div>"
      ],
      "text/plain": [
       "   saving_amount  debt_owned  tran_amt_x  tran_amt_y  tran_amt  tran_id\n",
       "0           9.50     -370.77        9.50        33.0    380.03     68.0\n",
       "1        -638.84     1548.23     -638.84        14.0  -1535.59     32.0\n",
       "2           3.78    -6896.57        3.78         2.0   6977.25     22.0\n",
       "3           9.07    -2302.14        9.07         2.0   2406.65     15.0\n",
       "4         890.33     1000.00      890.33        16.0   -956.10     63.0"
      ]
     },
     "execution_count": 614,
     "metadata": {},
     "output_type": "execute_result"
    }
   ],
   "source": [
    "banking_beh.head()"
   ]
  },
  {
   "cell_type": "markdown",
   "metadata": {},
   "source": [
    "***Task II***:\n",
    "* visualize the created clusters using radar charts and compare them agains each other\n"
   ]
  },
  {
   "cell_type": "markdown",
   "metadata": {},
   "source": [
    "##  Account Behavioral Clustering"
   ]
  },
  {
   "cell_type": "code",
   "execution_count": null,
   "metadata": {},
   "outputs": [],
   "source": []
  },
  {
   "cell_type": "code",
   "execution_count": 615,
   "metadata": {},
   "outputs": [],
   "source": [
    "#SCALE:\n",
    "scaler = StandardScaler()\n",
    "banking=scaler.fit_transform(banking_beh)\n",
    "#Mean=0;std=1\n"
   ]
  },
  {
   "cell_type": "code",
   "execution_count": 616,
   "metadata": {},
   "outputs": [],
   "source": [
    "#elbow row"
   ]
  },
  {
   "cell_type": "code",
   "execution_count": 617,
   "metadata": {},
   "outputs": [
    {
     "data": {
      "image/png": "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\n",
      "text/plain": [
       "<Figure size 576x504 with 1 Axes>"
      ]
     },
     "metadata": {
      "needs_background": "light"
     },
     "output_type": "display_data"
    }
   ],
   "source": [
    "def plot_distortion(X, max_clusters=10):\n",
    "    distortion=[]\n",
    "    for i in range(1, max_clusters+1):\n",
    "        km=KMeans(n_clusters=i, init='k-means++', n_init=10, random_state=0)\n",
    "\n",
    "        km.fit(X)\n",
    "        distortion.append(km.inertia_)\n",
    "\n",
    "    plt.plot(range(1,max_clusters+1), distortion, marker='o')\n",
    "    plt.xlabel('Number of clusters')\n",
    "    plt.ylabel('Distortion')\n",
    "    plt.show()\n",
    "\n",
    "plot_distortion(banking,max_clusters=10)\n"
   ]
  },
  {
   "cell_type": "code",
   "execution_count": 635,
   "metadata": {
    "scrolled": false
   },
   "outputs": [
    {
     "data": {
      "text/plain": [
       "Index(['saving_amount', 'debt_owned', 'saving transaction',\n",
       "       'saving transaction number', 'credit transaction',\n",
       "       'credit card transaction number'],\n",
       "      dtype='object')"
      ]
     },
     "execution_count": 635,
     "metadata": {},
     "output_type": "execute_result"
    }
   ],
   "source": [
    "#instandtiate KMeans class\n",
    "km=KMeans(n_clusters=3, init = 'k-means++', n_init=10,random_state=0)\n",
    "y_km=km.fit_predict(banking)\n",
    "#reconstruct dataFrame\n",
    "banking_km=pd.DataFrame(banking, columns=list(new.columns))\n",
    "banking_km['cluster']\n",
    "banking_km.columns"
   ]
  },
  {
   "cell_type": "code",
   "execution_count": null,
   "metadata": {
    "scrolled": true
   },
   "outputs": [],
   "source": []
  },
  {
   "cell_type": "code",
   "execution_count": 619,
   "metadata": {},
   "outputs": [],
   "source": [
    "#Plot a Radar Chart:https://plotly.com/python/radar-chart/ \n",
    "def plot_radar(df):\n",
    "    fig = go.Figure()\n",
    "    \n",
    "    for i in range(len(df)):\n",
    "        fig.add_trace(go.Scatterpolar(r = df.iloc[i].values,\n",
    "                                    theta = df.iloc[i].index,\n",
    "                                    name = f'Cluster {df.index[i]}',\n",
    "                                    fill = 'toself'))    \n",
    "    layout = go.Layout(polar = dict(radialaxis = dict(visible = True)),showlegend = True)\n",
    "    \n",
    "    fig.show()\n",
    "\n",
    "\n"
   ]
  },
  {
   "cell_type": "code",
   "execution_count": 620,
   "metadata": {},
   "outputs": [],
   "source": [
    "data=banking_km.groupby('cluster').mean()"
   ]
  },
  {
   "cell_type": "code",
   "execution_count": 621,
   "metadata": {},
   "outputs": [
    {
     "data": {
      "application/vnd.plotly.v1+json": {
       "config": {
        "plotlyServerURL": "https://plot.ly"
       },
       "data": [
        {
         "fill": "toself",
         "name": "Cluster 0",
         "r": [
          0.19953432035320232,
          0.19688749876418704,
          0.19958523481275148,
          0.7438191832046265,
          -0.1978793747760201,
          0.7623989414697444
         ],
         "theta": [
          "saving_amount",
          "debt_owned",
          "saving transaction",
          "saving transaction number",
          "credit transaction",
          "credit card transaction number"
         ],
         "type": "scatterpolar"
        },
        {
         "fill": "toself",
         "name": "Cluster 1",
         "r": [
          -0.2939867102056045,
          -0.10595419470798025,
          -0.29402420961354936,
          -0.615294441730955,
          0.10259138026470167,
          -0.602107378527222
         ],
         "theta": [
          "saving_amount",
          "debt_owned",
          "saving transaction",
          "saving transaction number",
          "credit transaction",
          "credit card transaction number"
         ],
         "type": "scatterpolar"
        },
        {
         "fill": "toself",
         "name": "Cluster 2",
         "r": [
          5.50040779972351,
          -1.8918332220475842,
          5.500320052943292,
          1.3995593794620458,
          2.0562532525347326,
          0.29940111089500065
         ],
         "theta": [
          "saving_amount",
          "debt_owned",
          "saving transaction",
          "saving transaction number",
          "credit transaction",
          "credit card transaction number"
         ],
         "type": "scatterpolar"
        }
       ],
       "layout": {
        "template": {
         "data": {
          "bar": [
           {
            "error_x": {
             "color": "#2a3f5f"
            },
            "error_y": {
             "color": "#2a3f5f"
            },
            "marker": {
             "line": {
              "color": "#E5ECF6",
              "width": 0.5
             },
             "pattern": {
              "fillmode": "overlay",
              "size": 10,
              "solidity": 0.2
             }
            },
            "type": "bar"
           }
          ],
          "barpolar": [
           {
            "marker": {
             "line": {
              "color": "#E5ECF6",
              "width": 0.5
             },
             "pattern": {
              "fillmode": "overlay",
              "size": 10,
              "solidity": 0.2
             }
            },
            "type": "barpolar"
           }
          ],
          "carpet": [
           {
            "aaxis": {
             "endlinecolor": "#2a3f5f",
             "gridcolor": "white",
             "linecolor": "white",
             "minorgridcolor": "white",
             "startlinecolor": "#2a3f5f"
            },
            "baxis": {
             "endlinecolor": "#2a3f5f",
             "gridcolor": "white",
             "linecolor": "white",
             "minorgridcolor": "white",
             "startlinecolor": "#2a3f5f"
            },
            "type": "carpet"
           }
          ],
          "choropleth": [
           {
            "colorbar": {
             "outlinewidth": 0,
             "ticks": ""
            },
            "type": "choropleth"
           }
          ],
          "contour": [
           {
            "colorbar": {
             "outlinewidth": 0,
             "ticks": ""
            },
            "colorscale": [
             [
              0,
              "#0d0887"
             ],
             [
              0.1111111111111111,
              "#46039f"
             ],
             [
              0.2222222222222222,
              "#7201a8"
             ],
             [
              0.3333333333333333,
              "#9c179e"
             ],
             [
              0.4444444444444444,
              "#bd3786"
             ],
             [
              0.5555555555555556,
              "#d8576b"
             ],
             [
              0.6666666666666666,
              "#ed7953"
             ],
             [
              0.7777777777777778,
              "#fb9f3a"
             ],
             [
              0.8888888888888888,
              "#fdca26"
             ],
             [
              1,
              "#f0f921"
             ]
            ],
            "type": "contour"
           }
          ],
          "contourcarpet": [
           {
            "colorbar": {
             "outlinewidth": 0,
             "ticks": ""
            },
            "type": "contourcarpet"
           }
          ],
          "heatmap": [
           {
            "colorbar": {
             "outlinewidth": 0,
             "ticks": ""
            },
            "colorscale": [
             [
              0,
              "#0d0887"
             ],
             [
              0.1111111111111111,
              "#46039f"
             ],
             [
              0.2222222222222222,
              "#7201a8"
             ],
             [
              0.3333333333333333,
              "#9c179e"
             ],
             [
              0.4444444444444444,
              "#bd3786"
             ],
             [
              0.5555555555555556,
              "#d8576b"
             ],
             [
              0.6666666666666666,
              "#ed7953"
             ],
             [
              0.7777777777777778,
              "#fb9f3a"
             ],
             [
              0.8888888888888888,
              "#fdca26"
             ],
             [
              1,
              "#f0f921"
             ]
            ],
            "type": "heatmap"
           }
          ],
          "heatmapgl": [
           {
            "colorbar": {
             "outlinewidth": 0,
             "ticks": ""
            },
            "colorscale": [
             [
              0,
              "#0d0887"
             ],
             [
              0.1111111111111111,
              "#46039f"
             ],
             [
              0.2222222222222222,
              "#7201a8"
             ],
             [
              0.3333333333333333,
              "#9c179e"
             ],
             [
              0.4444444444444444,
              "#bd3786"
             ],
             [
              0.5555555555555556,
              "#d8576b"
             ],
             [
              0.6666666666666666,
              "#ed7953"
             ],
             [
              0.7777777777777778,
              "#fb9f3a"
             ],
             [
              0.8888888888888888,
              "#fdca26"
             ],
             [
              1,
              "#f0f921"
             ]
            ],
            "type": "heatmapgl"
           }
          ],
          "histogram": [
           {
            "marker": {
             "pattern": {
              "fillmode": "overlay",
              "size": 10,
              "solidity": 0.2
             }
            },
            "type": "histogram"
           }
          ],
          "histogram2d": [
           {
            "colorbar": {
             "outlinewidth": 0,
             "ticks": ""
            },
            "colorscale": [
             [
              0,
              "#0d0887"
             ],
             [
              0.1111111111111111,
              "#46039f"
             ],
             [
              0.2222222222222222,
              "#7201a8"
             ],
             [
              0.3333333333333333,
              "#9c179e"
             ],
             [
              0.4444444444444444,
              "#bd3786"
             ],
             [
              0.5555555555555556,
              "#d8576b"
             ],
             [
              0.6666666666666666,
              "#ed7953"
             ],
             [
              0.7777777777777778,
              "#fb9f3a"
             ],
             [
              0.8888888888888888,
              "#fdca26"
             ],
             [
              1,
              "#f0f921"
             ]
            ],
            "type": "histogram2d"
           }
          ],
          "histogram2dcontour": [
           {
            "colorbar": {
             "outlinewidth": 0,
             "ticks": ""
            },
            "colorscale": [
             [
              0,
              "#0d0887"
             ],
             [
              0.1111111111111111,
              "#46039f"
             ],
             [
              0.2222222222222222,
              "#7201a8"
             ],
             [
              0.3333333333333333,
              "#9c179e"
             ],
             [
              0.4444444444444444,
              "#bd3786"
             ],
             [
              0.5555555555555556,
              "#d8576b"
             ],
             [
              0.6666666666666666,
              "#ed7953"
             ],
             [
              0.7777777777777778,
              "#fb9f3a"
             ],
             [
              0.8888888888888888,
              "#fdca26"
             ],
             [
              1,
              "#f0f921"
             ]
            ],
            "type": "histogram2dcontour"
           }
          ],
          "mesh3d": [
           {
            "colorbar": {
             "outlinewidth": 0,
             "ticks": ""
            },
            "type": "mesh3d"
           }
          ],
          "parcoords": [
           {
            "line": {
             "colorbar": {
              "outlinewidth": 0,
              "ticks": ""
             }
            },
            "type": "parcoords"
           }
          ],
          "pie": [
           {
            "automargin": true,
            "type": "pie"
           }
          ],
          "scatter": [
           {
            "fillpattern": {
             "fillmode": "overlay",
             "size": 10,
             "solidity": 0.2
            },
            "type": "scatter"
           }
          ],
          "scatter3d": [
           {
            "line": {
             "colorbar": {
              "outlinewidth": 0,
              "ticks": ""
             }
            },
            "marker": {
             "colorbar": {
              "outlinewidth": 0,
              "ticks": ""
             }
            },
            "type": "scatter3d"
           }
          ],
          "scattercarpet": [
           {
            "marker": {
             "colorbar": {
              "outlinewidth": 0,
              "ticks": ""
             }
            },
            "type": "scattercarpet"
           }
          ],
          "scattergeo": [
           {
            "marker": {
             "colorbar": {
              "outlinewidth": 0,
              "ticks": ""
             }
            },
            "type": "scattergeo"
           }
          ],
          "scattergl": [
           {
            "marker": {
             "colorbar": {
              "outlinewidth": 0,
              "ticks": ""
             }
            },
            "type": "scattergl"
           }
          ],
          "scattermapbox": [
           {
            "marker": {
             "colorbar": {
              "outlinewidth": 0,
              "ticks": ""
             }
            },
            "type": "scattermapbox"
           }
          ],
          "scatterpolar": [
           {
            "marker": {
             "colorbar": {
              "outlinewidth": 0,
              "ticks": ""
             }
            },
            "type": "scatterpolar"
           }
          ],
          "scatterpolargl": [
           {
            "marker": {
             "colorbar": {
              "outlinewidth": 0,
              "ticks": ""
             }
            },
            "type": "scatterpolargl"
           }
          ],
          "scatterternary": [
           {
            "marker": {
             "colorbar": {
              "outlinewidth": 0,
              "ticks": ""
             }
            },
            "type": "scatterternary"
           }
          ],
          "surface": [
           {
            "colorbar": {
             "outlinewidth": 0,
             "ticks": ""
            },
            "colorscale": [
             [
              0,
              "#0d0887"
             ],
             [
              0.1111111111111111,
              "#46039f"
             ],
             [
              0.2222222222222222,
              "#7201a8"
             ],
             [
              0.3333333333333333,
              "#9c179e"
             ],
             [
              0.4444444444444444,
              "#bd3786"
             ],
             [
              0.5555555555555556,
              "#d8576b"
             ],
             [
              0.6666666666666666,
              "#ed7953"
             ],
             [
              0.7777777777777778,
              "#fb9f3a"
             ],
             [
              0.8888888888888888,
              "#fdca26"
             ],
             [
              1,
              "#f0f921"
             ]
            ],
            "type": "surface"
           }
          ],
          "table": [
           {
            "cells": {
             "fill": {
              "color": "#EBF0F8"
             },
             "line": {
              "color": "white"
             }
            },
            "header": {
             "fill": {
              "color": "#C8D4E3"
             },
             "line": {
              "color": "white"
             }
            },
            "type": "table"
           }
          ]
         },
         "layout": {
          "annotationdefaults": {
           "arrowcolor": "#2a3f5f",
           "arrowhead": 0,
           "arrowwidth": 1
          },
          "autotypenumbers": "strict",
          "coloraxis": {
           "colorbar": {
            "outlinewidth": 0,
            "ticks": ""
           }
          },
          "colorscale": {
           "diverging": [
            [
             0,
             "#8e0152"
            ],
            [
             0.1,
             "#c51b7d"
            ],
            [
             0.2,
             "#de77ae"
            ],
            [
             0.3,
             "#f1b6da"
            ],
            [
             0.4,
             "#fde0ef"
            ],
            [
             0.5,
             "#f7f7f7"
            ],
            [
             0.6,
             "#e6f5d0"
            ],
            [
             0.7,
             "#b8e186"
            ],
            [
             0.8,
             "#7fbc41"
            ],
            [
             0.9,
             "#4d9221"
            ],
            [
             1,
             "#276419"
            ]
           ],
           "sequential": [
            [
             0,
             "#0d0887"
            ],
            [
             0.1111111111111111,
             "#46039f"
            ],
            [
             0.2222222222222222,
             "#7201a8"
            ],
            [
             0.3333333333333333,
             "#9c179e"
            ],
            [
             0.4444444444444444,
             "#bd3786"
            ],
            [
             0.5555555555555556,
             "#d8576b"
            ],
            [
             0.6666666666666666,
             "#ed7953"
            ],
            [
             0.7777777777777778,
             "#fb9f3a"
            ],
            [
             0.8888888888888888,
             "#fdca26"
            ],
            [
             1,
             "#f0f921"
            ]
           ],
           "sequentialminus": [
            [
             0,
             "#0d0887"
            ],
            [
             0.1111111111111111,
             "#46039f"
            ],
            [
             0.2222222222222222,
             "#7201a8"
            ],
            [
             0.3333333333333333,
             "#9c179e"
            ],
            [
             0.4444444444444444,
             "#bd3786"
            ],
            [
             0.5555555555555556,
             "#d8576b"
            ],
            [
             0.6666666666666666,
             "#ed7953"
            ],
            [
             0.7777777777777778,
             "#fb9f3a"
            ],
            [
             0.8888888888888888,
             "#fdca26"
            ],
            [
             1,
             "#f0f921"
            ]
           ]
          },
          "colorway": [
           "#636efa",
           "#EF553B",
           "#00cc96",
           "#ab63fa",
           "#FFA15A",
           "#19d3f3",
           "#FF6692",
           "#B6E880",
           "#FF97FF",
           "#FECB52"
          ],
          "font": {
           "color": "#2a3f5f"
          },
          "geo": {
           "bgcolor": "white",
           "lakecolor": "white",
           "landcolor": "#E5ECF6",
           "showlakes": true,
           "showland": true,
           "subunitcolor": "white"
          },
          "hoverlabel": {
           "align": "left"
          },
          "hovermode": "closest",
          "mapbox": {
           "style": "light"
          },
          "paper_bgcolor": "white",
          "plot_bgcolor": "#E5ECF6",
          "polar": {
           "angularaxis": {
            "gridcolor": "white",
            "linecolor": "white",
            "ticks": ""
           },
           "bgcolor": "#E5ECF6",
           "radialaxis": {
            "gridcolor": "white",
            "linecolor": "white",
            "ticks": ""
           }
          },
          "scene": {
           "xaxis": {
            "backgroundcolor": "#E5ECF6",
            "gridcolor": "white",
            "gridwidth": 2,
            "linecolor": "white",
            "showbackground": true,
            "ticks": "",
            "zerolinecolor": "white"
           },
           "yaxis": {
            "backgroundcolor": "#E5ECF6",
            "gridcolor": "white",
            "gridwidth": 2,
            "linecolor": "white",
            "showbackground": true,
            "ticks": "",
            "zerolinecolor": "white"
           },
           "zaxis": {
            "backgroundcolor": "#E5ECF6",
            "gridcolor": "white",
            "gridwidth": 2,
            "linecolor": "white",
            "showbackground": true,
            "ticks": "",
            "zerolinecolor": "white"
           }
          },
          "shapedefaults": {
           "line": {
            "color": "#2a3f5f"
           }
          },
          "ternary": {
           "aaxis": {
            "gridcolor": "white",
            "linecolor": "white",
            "ticks": ""
           },
           "baxis": {
            "gridcolor": "white",
            "linecolor": "white",
            "ticks": ""
           },
           "bgcolor": "#E5ECF6",
           "caxis": {
            "gridcolor": "white",
            "linecolor": "white",
            "ticks": ""
           }
          },
          "title": {
           "x": 0.05
          },
          "xaxis": {
           "automargin": true,
           "gridcolor": "white",
           "linecolor": "white",
           "ticks": "",
           "title": {
            "standoff": 15
           },
           "zerolinecolor": "white",
           "zerolinewidth": 2
          },
          "yaxis": {
           "automargin": true,
           "gridcolor": "white",
           "linecolor": "white",
           "ticks": "",
           "title": {
            "standoff": 15
           },
           "zerolinecolor": "white",
           "zerolinewidth": 2
          }
         }
        }
       }
      },
      "text/html": [
       "<div>                            <div id=\"eb25d5be-e7f9-49fe-a77e-9edb14d95dc1\" class=\"plotly-graph-div\" style=\"height:525px; width:100%;\"></div>            <script type=\"text/javascript\">                require([\"plotly\"], function(Plotly) {                    window.PLOTLYENV=window.PLOTLYENV || {};                                    if (document.getElementById(\"eb25d5be-e7f9-49fe-a77e-9edb14d95dc1\")) {                    Plotly.newPlot(                        \"eb25d5be-e7f9-49fe-a77e-9edb14d95dc1\",                        [{\"fill\":\"toself\",\"name\":\"Cluster 0\",\"r\":[0.19953432035320232,0.19688749876418704,0.19958523481275148,0.7438191832046265,-0.1978793747760201,0.7623989414697444],\"theta\":[\"saving_amount\",\"debt_owned\",\"saving transaction\",\"saving transaction number\",\"credit transaction\",\"credit card transaction number\"],\"type\":\"scatterpolar\"},{\"fill\":\"toself\",\"name\":\"Cluster 1\",\"r\":[-0.2939867102056045,-0.10595419470798025,-0.29402420961354936,-0.615294441730955,0.10259138026470167,-0.602107378527222],\"theta\":[\"saving_amount\",\"debt_owned\",\"saving transaction\",\"saving transaction number\",\"credit transaction\",\"credit card transaction number\"],\"type\":\"scatterpolar\"},{\"fill\":\"toself\",\"name\":\"Cluster 2\",\"r\":[5.50040779972351,-1.8918332220475842,5.500320052943292,1.3995593794620458,2.0562532525347326,0.29940111089500065],\"theta\":[\"saving_amount\",\"debt_owned\",\"saving transaction\",\"saving transaction number\",\"credit transaction\",\"credit card transaction number\"],\"type\":\"scatterpolar\"}],                        {\"template\":{\"data\":{\"histogram2dcontour\":[{\"type\":\"histogram2dcontour\",\"colorbar\":{\"outlinewidth\":0,\"ticks\":\"\"},\"colorscale\":[[0.0,\"#0d0887\"],[0.1111111111111111,\"#46039f\"],[0.2222222222222222,\"#7201a8\"],[0.3333333333333333,\"#9c179e\"],[0.4444444444444444,\"#bd3786\"],[0.5555555555555556,\"#d8576b\"],[0.6666666666666666,\"#ed7953\"],[0.7777777777777778,\"#fb9f3a\"],[0.8888888888888888,\"#fdca26\"],[1.0,\"#f0f921\"]]}],\"choropleth\":[{\"type\":\"choropleth\",\"colorbar\":{\"outlinewidth\":0,\"ticks\":\"\"}}],\"histogram2d\":[{\"type\":\"histogram2d\",\"colorbar\":{\"outlinewidth\":0,\"ticks\":\"\"},\"colorscale\":[[0.0,\"#0d0887\"],[0.1111111111111111,\"#46039f\"],[0.2222222222222222,\"#7201a8\"],[0.3333333333333333,\"#9c179e\"],[0.4444444444444444,\"#bd3786\"],[0.5555555555555556,\"#d8576b\"],[0.6666666666666666,\"#ed7953\"],[0.7777777777777778,\"#fb9f3a\"],[0.8888888888888888,\"#fdca26\"],[1.0,\"#f0f921\"]]}],\"heatmap\":[{\"type\":\"heatmap\",\"colorbar\":{\"outlinewidth\":0,\"ticks\":\"\"},\"colorscale\":[[0.0,\"#0d0887\"],[0.1111111111111111,\"#46039f\"],[0.2222222222222222,\"#7201a8\"],[0.3333333333333333,\"#9c179e\"],[0.4444444444444444,\"#bd3786\"],[0.5555555555555556,\"#d8576b\"],[0.6666666666666666,\"#ed7953\"],[0.7777777777777778,\"#fb9f3a\"],[0.8888888888888888,\"#fdca26\"],[1.0,\"#f0f921\"]]}],\"heatmapgl\":[{\"type\":\"heatmapgl\",\"colorbar\":{\"outlinewidth\":0,\"ticks\":\"\"},\"colorscale\":[[0.0,\"#0d0887\"],[0.1111111111111111,\"#46039f\"],[0.2222222222222222,\"#7201a8\"],[0.3333333333333333,\"#9c179e\"],[0.4444444444444444,\"#bd3786\"],[0.5555555555555556,\"#d8576b\"],[0.6666666666666666,\"#ed7953\"],[0.7777777777777778,\"#fb9f3a\"],[0.8888888888888888,\"#fdca26\"],[1.0,\"#f0f921\"]]}],\"contourcarpet\":[{\"type\":\"contourcarpet\",\"colorbar\":{\"outlinewidth\":0,\"ticks\":\"\"}}],\"contour\":[{\"type\":\"contour\",\"colorbar\":{\"outlinewidth\":0,\"ticks\":\"\"},\"colorscale\":[[0.0,\"#0d0887\"],[0.1111111111111111,\"#46039f\"],[0.2222222222222222,\"#7201a8\"],[0.3333333333333333,\"#9c179e\"],[0.4444444444444444,\"#bd3786\"],[0.5555555555555556,\"#d8576b\"],[0.6666666666666666,\"#ed7953\"],[0.7777777777777778,\"#fb9f3a\"],[0.8888888888888888,\"#fdca26\"],[1.0,\"#f0f921\"]]}],\"surface\":[{\"type\":\"surface\",\"colorbar\":{\"outlinewidth\":0,\"ticks\":\"\"},\"colorscale\":[[0.0,\"#0d0887\"],[0.1111111111111111,\"#46039f\"],[0.2222222222222222,\"#7201a8\"],[0.3333333333333333,\"#9c179e\"],[0.4444444444444444,\"#bd3786\"],[0.5555555555555556,\"#d8576b\"],[0.6666666666666666,\"#ed7953\"],[0.7777777777777778,\"#fb9f3a\"],[0.8888888888888888,\"#fdca26\"],[1.0,\"#f0f921\"]]}],\"mesh3d\":[{\"type\":\"mesh3d\",\"colorbar\":{\"outlinewidth\":0,\"ticks\":\"\"}}],\"scatter\":[{\"fillpattern\":{\"fillmode\":\"overlay\",\"size\":10,\"solidity\":0.2},\"type\":\"scatter\"}],\"parcoords\":[{\"type\":\"parcoords\",\"line\":{\"colorbar\":{\"outlinewidth\":0,\"ticks\":\"\"}}}],\"scatterpolargl\":[{\"type\":\"scatterpolargl\",\"marker\":{\"colorbar\":{\"outlinewidth\":0,\"ticks\":\"\"}}}],\"bar\":[{\"error_x\":{\"color\":\"#2a3f5f\"},\"error_y\":{\"color\":\"#2a3f5f\"},\"marker\":{\"line\":{\"color\":\"#E5ECF6\",\"width\":0.5},\"pattern\":{\"fillmode\":\"overlay\",\"size\":10,\"solidity\":0.2}},\"type\":\"bar\"}],\"scattergeo\":[{\"type\":\"scattergeo\",\"marker\":{\"colorbar\":{\"outlinewidth\":0,\"ticks\":\"\"}}}],\"scatterpolar\":[{\"type\":\"scatterpolar\",\"marker\":{\"colorbar\":{\"outlinewidth\":0,\"ticks\":\"\"}}}],\"histogram\":[{\"marker\":{\"pattern\":{\"fillmode\":\"overlay\",\"size\":10,\"solidity\":0.2}},\"type\":\"histogram\"}],\"scattergl\":[{\"type\":\"scattergl\",\"marker\":{\"colorbar\":{\"outlinewidth\":0,\"ticks\":\"\"}}}],\"scatter3d\":[{\"type\":\"scatter3d\",\"line\":{\"colorbar\":{\"outlinewidth\":0,\"ticks\":\"\"}},\"marker\":{\"colorbar\":{\"outlinewidth\":0,\"ticks\":\"\"}}}],\"scattermapbox\":[{\"type\":\"scattermapbox\",\"marker\":{\"colorbar\":{\"outlinewidth\":0,\"ticks\":\"\"}}}],\"scatterternary\":[{\"type\":\"scatterternary\",\"marker\":{\"colorbar\":{\"outlinewidth\":0,\"ticks\":\"\"}}}],\"scattercarpet\":[{\"type\":\"scattercarpet\",\"marker\":{\"colorbar\":{\"outlinewidth\":0,\"ticks\":\"\"}}}],\"carpet\":[{\"aaxis\":{\"endlinecolor\":\"#2a3f5f\",\"gridcolor\":\"white\",\"linecolor\":\"white\",\"minorgridcolor\":\"white\",\"startlinecolor\":\"#2a3f5f\"},\"baxis\":{\"endlinecolor\":\"#2a3f5f\",\"gridcolor\":\"white\",\"linecolor\":\"white\",\"minorgridcolor\":\"white\",\"startlinecolor\":\"#2a3f5f\"},\"type\":\"carpet\"}],\"table\":[{\"cells\":{\"fill\":{\"color\":\"#EBF0F8\"},\"line\":{\"color\":\"white\"}},\"header\":{\"fill\":{\"color\":\"#C8D4E3\"},\"line\":{\"color\":\"white\"}},\"type\":\"table\"}],\"barpolar\":[{\"marker\":{\"line\":{\"color\":\"#E5ECF6\",\"width\":0.5},\"pattern\":{\"fillmode\":\"overlay\",\"size\":10,\"solidity\":0.2}},\"type\":\"barpolar\"}],\"pie\":[{\"automargin\":true,\"type\":\"pie\"}]},\"layout\":{\"autotypenumbers\":\"strict\",\"colorway\":[\"#636efa\",\"#EF553B\",\"#00cc96\",\"#ab63fa\",\"#FFA15A\",\"#19d3f3\",\"#FF6692\",\"#B6E880\",\"#FF97FF\",\"#FECB52\"],\"font\":{\"color\":\"#2a3f5f\"},\"hovermode\":\"closest\",\"hoverlabel\":{\"align\":\"left\"},\"paper_bgcolor\":\"white\",\"plot_bgcolor\":\"#E5ECF6\",\"polar\":{\"bgcolor\":\"#E5ECF6\",\"angularaxis\":{\"gridcolor\":\"white\",\"linecolor\":\"white\",\"ticks\":\"\"},\"radialaxis\":{\"gridcolor\":\"white\",\"linecolor\":\"white\",\"ticks\":\"\"}},\"ternary\":{\"bgcolor\":\"#E5ECF6\",\"aaxis\":{\"gridcolor\":\"white\",\"linecolor\":\"white\",\"ticks\":\"\"},\"baxis\":{\"gridcolor\":\"white\",\"linecolor\":\"white\",\"ticks\":\"\"},\"caxis\":{\"gridcolor\":\"white\",\"linecolor\":\"white\",\"ticks\":\"\"}},\"coloraxis\":{\"colorbar\":{\"outlinewidth\":0,\"ticks\":\"\"}},\"colorscale\":{\"sequential\":[[0.0,\"#0d0887\"],[0.1111111111111111,\"#46039f\"],[0.2222222222222222,\"#7201a8\"],[0.3333333333333333,\"#9c179e\"],[0.4444444444444444,\"#bd3786\"],[0.5555555555555556,\"#d8576b\"],[0.6666666666666666,\"#ed7953\"],[0.7777777777777778,\"#fb9f3a\"],[0.8888888888888888,\"#fdca26\"],[1.0,\"#f0f921\"]],\"sequentialminus\":[[0.0,\"#0d0887\"],[0.1111111111111111,\"#46039f\"],[0.2222222222222222,\"#7201a8\"],[0.3333333333333333,\"#9c179e\"],[0.4444444444444444,\"#bd3786\"],[0.5555555555555556,\"#d8576b\"],[0.6666666666666666,\"#ed7953\"],[0.7777777777777778,\"#fb9f3a\"],[0.8888888888888888,\"#fdca26\"],[1.0,\"#f0f921\"]],\"diverging\":[[0,\"#8e0152\"],[0.1,\"#c51b7d\"],[0.2,\"#de77ae\"],[0.3,\"#f1b6da\"],[0.4,\"#fde0ef\"],[0.5,\"#f7f7f7\"],[0.6,\"#e6f5d0\"],[0.7,\"#b8e186\"],[0.8,\"#7fbc41\"],[0.9,\"#4d9221\"],[1,\"#276419\"]]},\"xaxis\":{\"gridcolor\":\"white\",\"linecolor\":\"white\",\"ticks\":\"\",\"title\":{\"standoff\":15},\"zerolinecolor\":\"white\",\"automargin\":true,\"zerolinewidth\":2},\"yaxis\":{\"gridcolor\":\"white\",\"linecolor\":\"white\",\"ticks\":\"\",\"title\":{\"standoff\":15},\"zerolinecolor\":\"white\",\"automargin\":true,\"zerolinewidth\":2},\"scene\":{\"xaxis\":{\"backgroundcolor\":\"#E5ECF6\",\"gridcolor\":\"white\",\"linecolor\":\"white\",\"showbackground\":true,\"ticks\":\"\",\"zerolinecolor\":\"white\",\"gridwidth\":2},\"yaxis\":{\"backgroundcolor\":\"#E5ECF6\",\"gridcolor\":\"white\",\"linecolor\":\"white\",\"showbackground\":true,\"ticks\":\"\",\"zerolinecolor\":\"white\",\"gridwidth\":2},\"zaxis\":{\"backgroundcolor\":\"#E5ECF6\",\"gridcolor\":\"white\",\"linecolor\":\"white\",\"showbackground\":true,\"ticks\":\"\",\"zerolinecolor\":\"white\",\"gridwidth\":2}},\"shapedefaults\":{\"line\":{\"color\":\"#2a3f5f\"}},\"annotationdefaults\":{\"arrowcolor\":\"#2a3f5f\",\"arrowhead\":0,\"arrowwidth\":1},\"geo\":{\"bgcolor\":\"white\",\"landcolor\":\"#E5ECF6\",\"subunitcolor\":\"white\",\"showland\":true,\"showlakes\":true,\"lakecolor\":\"white\"},\"title\":{\"x\":0.05},\"mapbox\":{\"style\":\"light\"}}}},                        {\"responsive\": true}                    ).then(function(){\n",
       "                            \n",
       "var gd = document.getElementById('eb25d5be-e7f9-49fe-a77e-9edb14d95dc1');\n",
       "var x = new MutationObserver(function (mutations, observer) {{\n",
       "        var display = window.getComputedStyle(gd).display;\n",
       "        if (!display || display === 'none') {{\n",
       "            console.log([gd, 'removed!']);\n",
       "            Plotly.purge(gd);\n",
       "            observer.disconnect();\n",
       "        }}\n",
       "}});\n",
       "\n",
       "// Listen for the removal of the full notebook cells\n",
       "var notebookContainer = gd.closest('#notebook-container');\n",
       "if (notebookContainer) {{\n",
       "    x.observe(notebookContainer, {childList: true});\n",
       "}}\n",
       "\n",
       "// Listen for the clearing of the current output cell\n",
       "var outputEl = gd.closest('.output');\n",
       "if (outputEl) {{\n",
       "    x.observe(outputEl, {childList: true});\n",
       "}}\n",
       "\n",
       "                        })                };                });            </script>        </div>"
      ]
     },
     "metadata": {},
     "output_type": "display_data"
    }
   ],
   "source": [
    "plot_radar(data)\n"
   ]
  },
  {
   "cell_type": "code",
   "execution_count": null,
   "metadata": {},
   "outputs": [],
   "source": []
  },
  {
   "cell_type": "markdown",
   "metadata": {},
   "source": [
    "***Task III***:\n",
    "* visualize segmentations using scatter plot. We will have to use PCA to be able to plot our observations in 2D.\n"
   ]
  },
  {
   "cell_type": "code",
   "execution_count": 622,
   "metadata": {},
   "outputs": [
    {
     "name": "stdout",
     "output_type": "stream",
     "text": [
      "Low-dimensional dataset shape: (287, 2)\n"
     ]
    }
   ],
   "source": [
    "#implementing PCA\n",
    "pca=PCA(n_components=2)\n",
    "pca_banking=pca.fit_transform(banking)\n",
    "print('Low-dimensional dataset shape: {}'.format(pca_banking.shape))"
   ]
  },
  {
   "cell_type": "code",
   "execution_count": 628,
   "metadata": {},
   "outputs": [
    {
     "data": {
      "text/plain": [
       "array([[ 0.53253204, -0.44889437,  0.53253754,  0.13774546,  0.45662476,\n",
       "         0.06186483],\n",
       "       [ 0.31863271,  0.47521177,  0.3186515 ,  0.47202095, -0.46728925,\n",
       "         0.3604791 ]])"
      ]
     },
     "execution_count": 628,
     "metadata": {},
     "output_type": "execute_result"
    }
   ],
   "source": [
    "pca.components_"
   ]
  },
  {
   "cell_type": "code",
   "execution_count": 636,
   "metadata": {},
   "outputs": [
    {
     "data": {
      "image/png": "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\n",
      "text/plain": [
       "<Figure size 576x576 with 1 Axes>"
      ]
     },
     "metadata": {
      "needs_background": "light"
     },
     "output_type": "display_data"
    }
   ],
   "source": [
    "loading=pca.components_\n",
    "x=loading[0]\n",
    "y=loading[1]\n",
    "\n",
    "# separations of the various wine classes\n",
    "plt.figure(figsize=(8,8))\n",
    "plt.scatter(x, y)\n",
    "plt.xlabel(\"PC1\")\n",
    "plt.ylabel(\"PC2\")\n",
    "features=list(banking_km.columns)\n",
    "for i, label in enumerate(features):\n",
    "    plt.annotate(label, (x[i],y[i]))\n",
    "    plt.plot([0,x[i]], [0, y[i]], color='black', ls='--')\n",
    "\n",
    "plt.show()"
   ]
  },
  {
   "cell_type": "code",
   "execution_count": 623,
   "metadata": {
    "scrolled": false
   },
   "outputs": [
    {
     "data": {
      "image/png": "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\n",
      "text/plain": [
       "<Figure size 576x504 with 1 Axes>"
      ]
     },
     "metadata": {
      "needs_background": "light"
     },
     "output_type": "display_data"
    }
   ],
   "source": [
    "fig= sns.scatterplot(x=pca_banking[:,0], y=pca_banking[:,1])\n",
    "plt.xlabel(\"PC1\")\n",
    "plt.ylabel(\"PC2\")\n",
    "plt.show()"
   ]
  },
  {
   "cell_type": "code",
   "execution_count": 624,
   "metadata": {},
   "outputs": [
    {
     "data": {
      "text/html": [
       "<div>\n",
       "<style scoped>\n",
       "    .dataframe tbody tr th:only-of-type {\n",
       "        vertical-align: middle;\n",
       "    }\n",
       "\n",
       "    .dataframe tbody tr th {\n",
       "        vertical-align: top;\n",
       "    }\n",
       "\n",
       "    .dataframe thead th {\n",
       "        text-align: right;\n",
       "    }\n",
       "</style>\n",
       "<table border=\"1\" class=\"dataframe\">\n",
       "  <thead>\n",
       "    <tr style=\"text-align: right;\">\n",
       "      <th></th>\n",
       "      <th>PC1</th>\n",
       "      <th>PC2</th>\n",
       "      <th>cluster</th>\n",
       "    </tr>\n",
       "  </thead>\n",
       "  <tbody>\n",
       "    <tr>\n",
       "      <th>0</th>\n",
       "      <td>0.033265</td>\n",
       "      <td>0.663934</td>\n",
       "      <td>0</td>\n",
       "    </tr>\n",
       "    <tr>\n",
       "      <th>1</th>\n",
       "      <td>-1.836446</td>\n",
       "      <td>-0.305002</td>\n",
       "      <td>1</td>\n",
       "    </tr>\n",
       "    <tr>\n",
       "      <th>2</th>\n",
       "      <td>2.422969</td>\n",
       "      <td>-4.577249</td>\n",
       "      <td>1</td>\n",
       "    </tr>\n",
       "    <tr>\n",
       "      <th>3</th>\n",
       "      <td>0.356415</td>\n",
       "      <td>-2.558051</td>\n",
       "      <td>1</td>\n",
       "    </tr>\n",
       "    <tr>\n",
       "      <th>4</th>\n",
       "      <td>0.081346</td>\n",
       "      <td>0.978089</td>\n",
       "      <td>0</td>\n",
       "    </tr>\n",
       "  </tbody>\n",
       "</table>\n",
       "</div>"
      ],
      "text/plain": [
       "        PC1       PC2  cluster\n",
       "0  0.033265  0.663934        0\n",
       "1 -1.836446 -0.305002        1\n",
       "2  2.422969 -4.577249        1\n",
       "3  0.356415 -2.558051        1\n",
       "4  0.081346  0.978089        0"
      ]
     },
     "execution_count": 624,
     "metadata": {},
     "output_type": "execute_result"
    }
   ],
   "source": [
    "#reconstruct pca_banking\n",
    "df_banking_km=pd.DataFrame(pca_banking,columns=['PC1', 'PC2'])\n",
    "df_banking_km['cluster']=y_km\n",
    "df_banking_km.head()"
   ]
  },
  {
   "cell_type": "code",
   "execution_count": 625,
   "metadata": {},
   "outputs": [
    {
     "data": {
      "image/png": "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\n",
      "text/plain": [
       "<Figure size 576x504 with 1 Axes>"
      ]
     },
     "metadata": {
      "needs_background": "light"
     },
     "output_type": "display_data"
    }
   ],
   "source": [
    "#plot clusters\n",
    "def plot_clusters(X,y_res,plt_cluster_centers=False):\n",
    "    Y_centroids=[]\n",
    "    X_centroids=[]\n",
    "    \n",
    "    for cluster in set(y_res):\n",
    "        x = X[y_res == cluster, 0]\n",
    "        y = X[y_res == cluster, 1]\n",
    "        #calculating the mean value of each cluster\n",
    "        X_centroids.append(np.mean(x))\n",
    "        Y_centroids.append(np.mean(y))\n",
    "\n",
    "        plt.scatter(x,y, s=50,marker='*', label=f'cluster {cluster}')\n",
    "\n",
    "\n",
    "    if plt_cluster_centers:\n",
    "        plt.scatter(X_centroids,Y_centroids,marker='*',c='red',s=250,label='centroids')\n",
    "\n",
    "\n",
    "    plt.grid()\n",
    "    plt.legend()\n",
    "    plt.show()\n",
    "plt.rcParams[\"figure.figsize\"] = (8,7)\n",
    " # plot clustering result\n",
    "plot_clusters(pca_banking, y_km, plt_cluster_centers= True)"
   ]
  },
  {
   "cell_type": "markdown",
   "metadata": {},
   "source": [
    "***Task IV***:\n",
    "* (stretch) visualize in 2D how our clusters are evolving in each iteration of KMeans (for at least 20 iterations).we will need to create own implementation of kmeans so we can see what is happening with the clusters during the iterations.\n"
   ]
  },
  {
   "cell_type": "code",
   "execution_count": null,
   "metadata": {},
   "outputs": [],
   "source": []
  }
 ],
 "metadata": {
  "kernelspec": {
   "display_name": "Python 3.9.7 ('base')",
   "language": "python",
   "name": "python3"
  },
  "language_info": {
   "codemirror_mode": {
    "name": "ipython",
    "version": 3
   },
   "file_extension": ".py",
   "mimetype": "text/x-python",
   "name": "python",
   "nbconvert_exporter": "python",
   "pygments_lexer": "ipython3",
   "version": "3.9.7"
  },
  "vscode": {
   "interpreter": {
    "hash": "7175d24e610fc2de1090716cf470bf93585f23d21501c1bfbd9e00491f320807"
   }
  }
 },
 "nbformat": 4,
 "nbformat_minor": 4
}
