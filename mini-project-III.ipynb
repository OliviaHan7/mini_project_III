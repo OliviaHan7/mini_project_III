{
 "cells": [
  {
   "cell_type": "markdown",
   "metadata": {},
   "source": [
    "## Mini Project III"
   ]
  },
  {
   "cell_type": "markdown",
   "metadata": {},
   "source": [
    "***Task I***:\n",
    "* create two separate customer segmentations (using clustering) to split them into 3-5 clusters:\n",
    "    * based on demographics (only on the information from twm_customer)\n",
    "    * based on their banking behavior. \n",
    "        do they have savings account? How much do they save?\n",
    "        do they have credit account? How much do they live in debt?\n",
    "        are they making lot of small transactions or few huge ones?"
   ]
  },
  {
   "cell_type": "code",
   "execution_count": 1,
   "metadata": {},
   "outputs": [],
   "source": [
    "import numpy as np\n",
    "import pandas as pd\n",
    "import matplotlib.pyplot as plt\n",
    "import plotly.express as px\n",
    "from sklearn.cluster import KMeans\n",
    "import plotly.graph_objects as go\n",
    "from sklearn.decomposition import PCA"
   ]
  },
  {
   "cell_type": "markdown",
   "metadata": {},
   "source": [
    "### Demographics Cluster"
   ]
  },
  {
   "cell_type": "code",
   "execution_count": 5,
   "metadata": {},
   "outputs": [
    {
     "data": {
      "text/html": [
       "<div>\n",
       "<style scoped>\n",
       "    .dataframe tbody tr th:only-of-type {\n",
       "        vertical-align: middle;\n",
       "    }\n",
       "\n",
       "    .dataframe tbody tr th {\n",
       "        vertical-align: top;\n",
       "    }\n",
       "\n",
       "    .dataframe thead th {\n",
       "        text-align: right;\n",
       "    }\n",
       "</style>\n",
       "<table border=\"1\" class=\"dataframe\">\n",
       "  <thead>\n",
       "    <tr style=\"text-align: right;\">\n",
       "      <th></th>\n",
       "      <th>cust_id</th>\n",
       "      <th>income</th>\n",
       "      <th>age</th>\n",
       "      <th>years_with_bank</th>\n",
       "      <th>nbr_children</th>\n",
       "      <th>gender</th>\n",
       "      <th>marital_status</th>\n",
       "      <th>name_prefix</th>\n",
       "      <th>first_name</th>\n",
       "      <th>last_name</th>\n",
       "      <th>street_nbr</th>\n",
       "      <th>street_name</th>\n",
       "      <th>postal_code</th>\n",
       "      <th>city_name</th>\n",
       "      <th>state_code</th>\n",
       "    </tr>\n",
       "  </thead>\n",
       "  <tbody>\n",
       "    <tr>\n",
       "      <th>0</th>\n",
       "      <td>1362691</td>\n",
       "      <td>26150</td>\n",
       "      <td>46</td>\n",
       "      <td>5</td>\n",
       "      <td>1</td>\n",
       "      <td>M</td>\n",
       "      <td>2</td>\n",
       "      <td></td>\n",
       "      <td>Donald                                        ...</td>\n",
       "      <td>Marek                                         ...</td>\n",
       "      <td>8298</td>\n",
       "      <td>Second                                        ...</td>\n",
       "      <td>89194</td>\n",
       "      <td>Las Vegas</td>\n",
       "      <td>NV</td>\n",
       "    </tr>\n",
       "    <tr>\n",
       "      <th>1</th>\n",
       "      <td>1362487</td>\n",
       "      <td>6605</td>\n",
       "      <td>71</td>\n",
       "      <td>1</td>\n",
       "      <td>0</td>\n",
       "      <td>M</td>\n",
       "      <td>2</td>\n",
       "      <td></td>\n",
       "      <td>ChingDyi                                      ...</td>\n",
       "      <td>Moussavi                                      ...</td>\n",
       "      <td>10603</td>\n",
       "      <td>Daffodil                                      ...</td>\n",
       "      <td>90159</td>\n",
       "      <td>Los Angeles</td>\n",
       "      <td>CA</td>\n",
       "    </tr>\n",
       "    <tr>\n",
       "      <th>2</th>\n",
       "      <td>1363160</td>\n",
       "      <td>18548</td>\n",
       "      <td>38</td>\n",
       "      <td>8</td>\n",
       "      <td>0</td>\n",
       "      <td>F</td>\n",
       "      <td>1</td>\n",
       "      <td></td>\n",
       "      <td>Rosa                                          ...</td>\n",
       "      <td>Johnston                                      ...</td>\n",
       "      <td>8817</td>\n",
       "      <td>Figueroa                                      ...</td>\n",
       "      <td>90024</td>\n",
       "      <td>Los Angeles</td>\n",
       "      <td>CA</td>\n",
       "    </tr>\n",
       "    <tr>\n",
       "      <th>3</th>\n",
       "      <td>1362752</td>\n",
       "      <td>47668</td>\n",
       "      <td>54</td>\n",
       "      <td>3</td>\n",
       "      <td>0</td>\n",
       "      <td>F</td>\n",
       "      <td>1</td>\n",
       "      <td></td>\n",
       "      <td>Lisa                                          ...</td>\n",
       "      <td>Martin                                        ...</td>\n",
       "      <td>676</td>\n",
       "      <td>Humble                                        ...</td>\n",
       "      <td>90172</td>\n",
       "      <td>Los Angeles</td>\n",
       "      <td>CA</td>\n",
       "    </tr>\n",
       "    <tr>\n",
       "      <th>4</th>\n",
       "      <td>1362548</td>\n",
       "      <td>44554</td>\n",
       "      <td>59</td>\n",
       "      <td>9</td>\n",
       "      <td>2</td>\n",
       "      <td>F</td>\n",
       "      <td>4</td>\n",
       "      <td></td>\n",
       "      <td>Barbara                                       ...</td>\n",
       "      <td>O'Malley                                      ...</td>\n",
       "      <td>6578</td>\n",
       "      <td>C                                             ...</td>\n",
       "      <td>10138</td>\n",
       "      <td>New York City</td>\n",
       "      <td>NY</td>\n",
       "    </tr>\n",
       "  </tbody>\n",
       "</table>\n",
       "</div>"
      ],
      "text/plain": [
       "   cust_id  income  age  years_with_bank  nbr_children gender  marital_status  \\\n",
       "0  1362691   26150   46                5             1     M                2   \n",
       "1  1362487    6605   71                1             0     M                2   \n",
       "2  1363160   18548   38                8             0     F                1   \n",
       "3  1362752   47668   54                3             0     F                1   \n",
       "4  1362548   44554   59                9             2     F                4   \n",
       "\n",
       "  name_prefix                                         first_name  \\\n",
       "0              Donald                                        ...   \n",
       "1              ChingDyi                                      ...   \n",
       "2              Rosa                                          ...   \n",
       "3              Lisa                                          ...   \n",
       "4              Barbara                                       ...   \n",
       "\n",
       "                                           last_name  street_nbr  \\\n",
       "0  Marek                                         ...        8298   \n",
       "1  Moussavi                                      ...       10603   \n",
       "2  Johnston                                      ...        8817   \n",
       "3  Martin                                        ...         676   \n",
       "4  O'Malley                                      ...        6578   \n",
       "\n",
       "                                         street_name  postal_code  \\\n",
       "0  Second                                        ...        89194   \n",
       "1  Daffodil                                      ...        90159   \n",
       "2  Figueroa                                      ...        90024   \n",
       "3  Humble                                        ...        90172   \n",
       "4  C                                             ...        10138   \n",
       "\n",
       "                                  city_name state_code  \n",
       "0  Las Vegas                                      NV    \n",
       "1  Los Angeles                                    CA    \n",
       "2  Los Angeles                                    CA    \n",
       "3  Los Angeles                                    CA    \n",
       "4  New York City                                  NY    "
      ]
     },
     "execution_count": 5,
     "metadata": {},
     "output_type": "execute_result"
    }
   ],
   "source": [
    "df_customers = pd.read_csv(\"C:\\\\Users\\\\bevli\\\\Downloads\\\\mini-project-III\\\\twm_customer.csv\", sep = ';')\n",
    "df_customers.head()"
   ]
  },
  {
   "cell_type": "code",
   "execution_count": 6,
   "metadata": {},
   "outputs": [
    {
     "data": {
      "text/html": [
       "<div>\n",
       "<style scoped>\n",
       "    .dataframe tbody tr th:only-of-type {\n",
       "        vertical-align: middle;\n",
       "    }\n",
       "\n",
       "    .dataframe tbody tr th {\n",
       "        vertical-align: top;\n",
       "    }\n",
       "\n",
       "    .dataframe thead th {\n",
       "        text-align: right;\n",
       "    }\n",
       "</style>\n",
       "<table border=\"1\" class=\"dataframe\">\n",
       "  <thead>\n",
       "    <tr style=\"text-align: right;\">\n",
       "      <th></th>\n",
       "      <th>cust_id</th>\n",
       "      <th>income</th>\n",
       "      <th>age</th>\n",
       "      <th>years_with_bank</th>\n",
       "      <th>nbr_children</th>\n",
       "      <th>marital_status</th>\n",
       "      <th>street_nbr</th>\n",
       "      <th>postal_code</th>\n",
       "    </tr>\n",
       "  </thead>\n",
       "  <tbody>\n",
       "    <tr>\n",
       "      <th>count</th>\n",
       "      <td>7.470000e+02</td>\n",
       "      <td>747.000000</td>\n",
       "      <td>747.000000</td>\n",
       "      <td>747.000000</td>\n",
       "      <td>747.000000</td>\n",
       "      <td>747.000000</td>\n",
       "      <td>747.000000</td>\n",
       "      <td>747.000000</td>\n",
       "    </tr>\n",
       "    <tr>\n",
       "      <th>mean</th>\n",
       "      <td>1.362991e+06</td>\n",
       "      <td>22728.281124</td>\n",
       "      <td>42.479250</td>\n",
       "      <td>3.907631</td>\n",
       "      <td>0.714859</td>\n",
       "      <td>1.882195</td>\n",
       "      <td>8523.109772</td>\n",
       "      <td>59502.690763</td>\n",
       "    </tr>\n",
       "    <tr>\n",
       "      <th>std</th>\n",
       "      <td>2.925255e+02</td>\n",
       "      <td>22207.221405</td>\n",
       "      <td>19.114879</td>\n",
       "      <td>2.675634</td>\n",
       "      <td>1.103410</td>\n",
       "      <td>0.892051</td>\n",
       "      <td>5219.488263</td>\n",
       "      <td>31205.926508</td>\n",
       "    </tr>\n",
       "    <tr>\n",
       "      <th>min</th>\n",
       "      <td>1.362480e+06</td>\n",
       "      <td>0.000000</td>\n",
       "      <td>13.000000</td>\n",
       "      <td>0.000000</td>\n",
       "      <td>0.000000</td>\n",
       "      <td>1.000000</td>\n",
       "      <td>196.000000</td>\n",
       "      <td>2149.000000</td>\n",
       "    </tr>\n",
       "    <tr>\n",
       "      <th>25%</th>\n",
       "      <td>1.362732e+06</td>\n",
       "      <td>7118.500000</td>\n",
       "      <td>28.000000</td>\n",
       "      <td>2.000000</td>\n",
       "      <td>0.000000</td>\n",
       "      <td>1.000000</td>\n",
       "      <td>4295.500000</td>\n",
       "      <td>33145.000000</td>\n",
       "    </tr>\n",
       "    <tr>\n",
       "      <th>50%</th>\n",
       "      <td>1.362993e+06</td>\n",
       "      <td>17242.000000</td>\n",
       "      <td>42.000000</td>\n",
       "      <td>4.000000</td>\n",
       "      <td>0.000000</td>\n",
       "      <td>2.000000</td>\n",
       "      <td>8001.000000</td>\n",
       "      <td>64132.000000</td>\n",
       "    </tr>\n",
       "    <tr>\n",
       "      <th>75%</th>\n",
       "      <td>1.363244e+06</td>\n",
       "      <td>31338.000000</td>\n",
       "      <td>56.000000</td>\n",
       "      <td>6.000000</td>\n",
       "      <td>1.000000</td>\n",
       "      <td>2.000000</td>\n",
       "      <td>12039.000000</td>\n",
       "      <td>90082.000000</td>\n",
       "    </tr>\n",
       "    <tr>\n",
       "      <th>max</th>\n",
       "      <td>1.363495e+06</td>\n",
       "      <td>144157.000000</td>\n",
       "      <td>89.000000</td>\n",
       "      <td>9.000000</td>\n",
       "      <td>5.000000</td>\n",
       "      <td>4.000000</td>\n",
       "      <td>19940.000000</td>\n",
       "      <td>98186.000000</td>\n",
       "    </tr>\n",
       "  </tbody>\n",
       "</table>\n",
       "</div>"
      ],
      "text/plain": [
       "            cust_id         income         age  years_with_bank  nbr_children  \\\n",
       "count  7.470000e+02     747.000000  747.000000       747.000000    747.000000   \n",
       "mean   1.362991e+06   22728.281124   42.479250         3.907631      0.714859   \n",
       "std    2.925255e+02   22207.221405   19.114879         2.675634      1.103410   \n",
       "min    1.362480e+06       0.000000   13.000000         0.000000      0.000000   \n",
       "25%    1.362732e+06    7118.500000   28.000000         2.000000      0.000000   \n",
       "50%    1.362993e+06   17242.000000   42.000000         4.000000      0.000000   \n",
       "75%    1.363244e+06   31338.000000   56.000000         6.000000      1.000000   \n",
       "max    1.363495e+06  144157.000000   89.000000         9.000000      5.000000   \n",
       "\n",
       "       marital_status    street_nbr   postal_code  \n",
       "count      747.000000    747.000000    747.000000  \n",
       "mean         1.882195   8523.109772  59502.690763  \n",
       "std          0.892051   5219.488263  31205.926508  \n",
       "min          1.000000    196.000000   2149.000000  \n",
       "25%          1.000000   4295.500000  33145.000000  \n",
       "50%          2.000000   8001.000000  64132.000000  \n",
       "75%          2.000000  12039.000000  90082.000000  \n",
       "max          4.000000  19940.000000  98186.000000  "
      ]
     },
     "execution_count": 6,
     "metadata": {},
     "output_type": "execute_result"
    }
   ],
   "source": [
    "df_customers.describe()"
   ]
  },
  {
   "cell_type": "code",
   "execution_count": 8,
   "metadata": {},
   "outputs": [
    {
     "data": {
      "text/plain": [
       "cust_id            0\n",
       "income             0\n",
       "age                0\n",
       "years_with_bank    0\n",
       "nbr_children       0\n",
       "gender             0\n",
       "marital_status     0\n",
       "name_prefix        0\n",
       "first_name         0\n",
       "last_name          0\n",
       "street_nbr         0\n",
       "street_name        0\n",
       "postal_code        0\n",
       "city_name          0\n",
       "state_code         0\n",
       "dtype: int64"
      ]
     },
     "execution_count": 8,
     "metadata": {},
     "output_type": "execute_result"
    }
   ],
   "source": [
    "#check for null values\n",
    "df_customers.isna().sum()"
   ]
  },
  {
   "cell_type": "code",
   "execution_count": 11,
   "metadata": {},
   "outputs": [
    {
     "data": {
      "text/html": [
       "<div>\n",
       "<style scoped>\n",
       "    .dataframe tbody tr th:only-of-type {\n",
       "        vertical-align: middle;\n",
       "    }\n",
       "\n",
       "    .dataframe tbody tr th {\n",
       "        vertical-align: top;\n",
       "    }\n",
       "\n",
       "    .dataframe thead th {\n",
       "        text-align: right;\n",
       "    }\n",
       "</style>\n",
       "<table border=\"1\" class=\"dataframe\">\n",
       "  <thead>\n",
       "    <tr style=\"text-align: right;\">\n",
       "      <th></th>\n",
       "      <th>cust_id</th>\n",
       "      <th>income</th>\n",
       "      <th>age</th>\n",
       "      <th>years_with_bank</th>\n",
       "      <th>nbr_children</th>\n",
       "      <th>gender</th>\n",
       "      <th>marital_status</th>\n",
       "      <th>name_prefix</th>\n",
       "      <th>first_name</th>\n",
       "      <th>last_name</th>\n",
       "      <th>street_nbr</th>\n",
       "      <th>street_name</th>\n",
       "      <th>postal_code</th>\n",
       "      <th>city_name</th>\n",
       "      <th>state_code</th>\n",
       "    </tr>\n",
       "  </thead>\n",
       "  <tbody>\n",
       "    <tr>\n",
       "      <th>0</th>\n",
       "      <td>1362691</td>\n",
       "      <td>26150</td>\n",
       "      <td>46</td>\n",
       "      <td>5</td>\n",
       "      <td>1</td>\n",
       "      <td>M</td>\n",
       "      <td>2</td>\n",
       "      <td></td>\n",
       "      <td>Donald                                        ...</td>\n",
       "      <td>Marek                                         ...</td>\n",
       "      <td>8298</td>\n",
       "      <td>Second                                        ...</td>\n",
       "      <td>89194</td>\n",
       "      <td>Las Vegas</td>\n",
       "      <td>NV</td>\n",
       "    </tr>\n",
       "    <tr>\n",
       "      <th>1</th>\n",
       "      <td>1362487</td>\n",
       "      <td>6605</td>\n",
       "      <td>71</td>\n",
       "      <td>1</td>\n",
       "      <td>0</td>\n",
       "      <td>M</td>\n",
       "      <td>2</td>\n",
       "      <td></td>\n",
       "      <td>ChingDyi                                      ...</td>\n",
       "      <td>Moussavi                                      ...</td>\n",
       "      <td>10603</td>\n",
       "      <td>Daffodil                                      ...</td>\n",
       "      <td>90159</td>\n",
       "      <td>Los Angeles</td>\n",
       "      <td>CA</td>\n",
       "    </tr>\n",
       "    <tr>\n",
       "      <th>2</th>\n",
       "      <td>1363160</td>\n",
       "      <td>18548</td>\n",
       "      <td>38</td>\n",
       "      <td>8</td>\n",
       "      <td>0</td>\n",
       "      <td>F</td>\n",
       "      <td>1</td>\n",
       "      <td></td>\n",
       "      <td>Rosa                                          ...</td>\n",
       "      <td>Johnston                                      ...</td>\n",
       "      <td>8817</td>\n",
       "      <td>Figueroa                                      ...</td>\n",
       "      <td>90024</td>\n",
       "      <td>Los Angeles</td>\n",
       "      <td>CA</td>\n",
       "    </tr>\n",
       "    <tr>\n",
       "      <th>3</th>\n",
       "      <td>1362752</td>\n",
       "      <td>47668</td>\n",
       "      <td>54</td>\n",
       "      <td>3</td>\n",
       "      <td>0</td>\n",
       "      <td>F</td>\n",
       "      <td>1</td>\n",
       "      <td></td>\n",
       "      <td>Lisa                                          ...</td>\n",
       "      <td>Martin                                        ...</td>\n",
       "      <td>676</td>\n",
       "      <td>Humble                                        ...</td>\n",
       "      <td>90172</td>\n",
       "      <td>Los Angeles</td>\n",
       "      <td>CA</td>\n",
       "    </tr>\n",
       "    <tr>\n",
       "      <th>4</th>\n",
       "      <td>1362548</td>\n",
       "      <td>44554</td>\n",
       "      <td>59</td>\n",
       "      <td>9</td>\n",
       "      <td>2</td>\n",
       "      <td>F</td>\n",
       "      <td>4</td>\n",
       "      <td></td>\n",
       "      <td>Barbara                                       ...</td>\n",
       "      <td>O'Malley                                      ...</td>\n",
       "      <td>6578</td>\n",
       "      <td>C                                             ...</td>\n",
       "      <td>10138</td>\n",
       "      <td>New York City</td>\n",
       "      <td>NY</td>\n",
       "    </tr>\n",
       "    <tr>\n",
       "      <th>...</th>\n",
       "      <td>...</td>\n",
       "      <td>...</td>\n",
       "      <td>...</td>\n",
       "      <td>...</td>\n",
       "      <td>...</td>\n",
       "      <td>...</td>\n",
       "      <td>...</td>\n",
       "      <td>...</td>\n",
       "      <td>...</td>\n",
       "      <td>...</td>\n",
       "      <td>...</td>\n",
       "      <td>...</td>\n",
       "      <td>...</td>\n",
       "      <td>...</td>\n",
       "      <td>...</td>\n",
       "    </tr>\n",
       "    <tr>\n",
       "      <th>742</th>\n",
       "      <td>1363324</td>\n",
       "      <td>14795</td>\n",
       "      <td>36</td>\n",
       "      <td>6</td>\n",
       "      <td>1</td>\n",
       "      <td>F</td>\n",
       "      <td>4</td>\n",
       "      <td></td>\n",
       "      <td>Lillian                                       ...</td>\n",
       "      <td>Kaufman                                       ...</td>\n",
       "      <td>9677</td>\n",
       "      <td>B                                             ...</td>\n",
       "      <td>90016</td>\n",
       "      <td>Los Angeles</td>\n",
       "      <td>CA</td>\n",
       "    </tr>\n",
       "    <tr>\n",
       "      <th>743</th>\n",
       "      <td>1362895</td>\n",
       "      <td>26387</td>\n",
       "      <td>56</td>\n",
       "      <td>6</td>\n",
       "      <td>1</td>\n",
       "      <td>M</td>\n",
       "      <td>2</td>\n",
       "      <td></td>\n",
       "      <td>Marty                                         ...</td>\n",
       "      <td>McSherry                                      ...</td>\n",
       "      <td>3227</td>\n",
       "      <td>Inspiration                                   ...</td>\n",
       "      <td>10126</td>\n",
       "      <td>New York City</td>\n",
       "      <td>NY</td>\n",
       "    </tr>\n",
       "    <tr>\n",
       "      <th>744</th>\n",
       "      <td>1362569</td>\n",
       "      <td>61300</td>\n",
       "      <td>50</td>\n",
       "      <td>0</td>\n",
       "      <td>2</td>\n",
       "      <td>M</td>\n",
       "      <td>2</td>\n",
       "      <td></td>\n",
       "      <td>Ken                                           ...</td>\n",
       "      <td>Lawrence                                      ...</td>\n",
       "      <td>6082</td>\n",
       "      <td>23rd                                          ...</td>\n",
       "      <td>87194</td>\n",
       "      <td>Albuquerque</td>\n",
       "      <td>NM</td>\n",
       "    </tr>\n",
       "    <tr>\n",
       "      <th>745</th>\n",
       "      <td>1363364</td>\n",
       "      <td>15100</td>\n",
       "      <td>37</td>\n",
       "      <td>7</td>\n",
       "      <td>0</td>\n",
       "      <td>F</td>\n",
       "      <td>2</td>\n",
       "      <td></td>\n",
       "      <td>Debbie                                        ...</td>\n",
       "      <td>Runner                                        ...</td>\n",
       "      <td>7851</td>\n",
       "      <td>H                                             ...</td>\n",
       "      <td>35241</td>\n",
       "      <td>Birmingham</td>\n",
       "      <td>AL</td>\n",
       "    </tr>\n",
       "    <tr>\n",
       "      <th>746</th>\n",
       "      <td>1363303</td>\n",
       "      <td>17875</td>\n",
       "      <td>18</td>\n",
       "      <td>3</td>\n",
       "      <td>0</td>\n",
       "      <td>F</td>\n",
       "      <td>1</td>\n",
       "      <td></td>\n",
       "      <td>Molly                                         ...</td>\n",
       "      <td>Potter                                        ...</td>\n",
       "      <td>7824</td>\n",
       "      <td>E                                             ...</td>\n",
       "      <td>90029</td>\n",
       "      <td>Los Angeles</td>\n",
       "      <td>CA</td>\n",
       "    </tr>\n",
       "  </tbody>\n",
       "</table>\n",
       "<p>747 rows × 15 columns</p>\n",
       "</div>"
      ],
      "text/plain": [
       "     cust_id  income  age  years_with_bank  nbr_children gender  \\\n",
       "0    1362691   26150   46                5             1     M    \n",
       "1    1362487    6605   71                1             0     M    \n",
       "2    1363160   18548   38                8             0     F    \n",
       "3    1362752   47668   54                3             0     F    \n",
       "4    1362548   44554   59                9             2     F    \n",
       "..       ...     ...  ...              ...           ...    ...   \n",
       "742  1363324   14795   36                6             1     F    \n",
       "743  1362895   26387   56                6             1     M    \n",
       "744  1362569   61300   50                0             2     M    \n",
       "745  1363364   15100   37                7             0     F    \n",
       "746  1363303   17875   18                3             0     F    \n",
       "\n",
       "    marital_status name_prefix  \\\n",
       "0                2               \n",
       "1                2               \n",
       "2                1               \n",
       "3                1               \n",
       "4                4               \n",
       "..             ...         ...   \n",
       "742              4               \n",
       "743              2               \n",
       "744              2               \n",
       "745              2               \n",
       "746              1               \n",
       "\n",
       "                                            first_name  \\\n",
       "0    Donald                                        ...   \n",
       "1    ChingDyi                                      ...   \n",
       "2    Rosa                                          ...   \n",
       "3    Lisa                                          ...   \n",
       "4    Barbara                                       ...   \n",
       "..                                                 ...   \n",
       "742  Lillian                                       ...   \n",
       "743  Marty                                         ...   \n",
       "744  Ken                                           ...   \n",
       "745  Debbie                                        ...   \n",
       "746  Molly                                         ...   \n",
       "\n",
       "                                             last_name  street_nbr  \\\n",
       "0    Marek                                         ...        8298   \n",
       "1    Moussavi                                      ...       10603   \n",
       "2    Johnston                                      ...        8817   \n",
       "3    Martin                                        ...         676   \n",
       "4    O'Malley                                      ...        6578   \n",
       "..                                                 ...         ...   \n",
       "742  Kaufman                                       ...        9677   \n",
       "743  McSherry                                      ...        3227   \n",
       "744  Lawrence                                      ...        6082   \n",
       "745  Runner                                        ...        7851   \n",
       "746  Potter                                        ...        7824   \n",
       "\n",
       "                                           street_name  postal_code  \\\n",
       "0    Second                                        ...        89194   \n",
       "1    Daffodil                                      ...        90159   \n",
       "2    Figueroa                                      ...        90024   \n",
       "3    Humble                                        ...        90172   \n",
       "4    C                                             ...        10138   \n",
       "..                                                 ...          ...   \n",
       "742  B                                             ...        90016   \n",
       "743  Inspiration                                   ...        10126   \n",
       "744  23rd                                          ...        87194   \n",
       "745  H                                             ...        35241   \n",
       "746  E                                             ...        90029   \n",
       "\n",
       "                                    city_name state_code  \n",
       "0    Las Vegas                                      NV    \n",
       "1    Los Angeles                                    CA    \n",
       "2    Los Angeles                                    CA    \n",
       "3    Los Angeles                                    CA    \n",
       "4    New York City                                  NY    \n",
       "..                                        ...        ...  \n",
       "742  Los Angeles                                    CA    \n",
       "743  New York City                                  NY    \n",
       "744  Albuquerque                                    NM    \n",
       "745  Birmingham                                     AL    \n",
       "746  Los Angeles                                    CA    \n",
       "\n",
       "[747 rows x 15 columns]"
      ]
     },
     "execution_count": 11,
     "metadata": {},
     "output_type": "execute_result"
    }
   ],
   "source": [
    "#Convert marital status to categorical variable\n",
    "df_customers['marital_status']=df_customers['marital_status'].astype('category')\n",
    "df_customers"
   ]
  },
  {
   "cell_type": "code",
   "execution_count": 17,
   "metadata": {},
   "outputs": [
    {
     "data": {
      "text/plain": [
       "income              int64\n",
       "age                 int64\n",
       "years_with_bank     int64\n",
       "nbr_children        int64\n",
       "gender_F            uint8\n",
       "gender_M            uint8\n",
       "marital_status_1    uint8\n",
       "marital_status_2    uint8\n",
       "marital_status_3    uint8\n",
       "marital_status_4    uint8\n",
       "dtype: object"
      ]
     },
     "execution_count": 17,
     "metadata": {},
     "output_type": "execute_result"
    }
   ],
   "source": [
    "#columns for creating dummy variable\n",
    "encode = pd.get_dummies(df_customers[['income','age','years_with_bank','nbr_children','gender','marital_status']])\n",
    "encode"
   ]
  },
  {
   "cell_type": "code",
   "execution_count": 22,
   "metadata": {},
   "outputs": [
    {
     "data": {
      "text/html": [
       "<div>\n",
       "<style scoped>\n",
       "    .dataframe tbody tr th:only-of-type {\n",
       "        vertical-align: middle;\n",
       "    }\n",
       "\n",
       "    .dataframe tbody tr th {\n",
       "        vertical-align: top;\n",
       "    }\n",
       "\n",
       "    .dataframe thead th {\n",
       "        text-align: right;\n",
       "    }\n",
       "</style>\n",
       "<table border=\"1\" class=\"dataframe\">\n",
       "  <thead>\n",
       "    <tr style=\"text-align: right;\">\n",
       "      <th></th>\n",
       "      <th>income</th>\n",
       "      <th>age</th>\n",
       "      <th>years_with_bank</th>\n",
       "      <th>nbr_children</th>\n",
       "      <th>gender_F</th>\n",
       "      <th>gender_M</th>\n",
       "      <th>marital_status_1</th>\n",
       "      <th>marital_status_2</th>\n",
       "      <th>marital_status_3</th>\n",
       "      <th>marital_status_4</th>\n",
       "    </tr>\n",
       "  </thead>\n",
       "  <tbody>\n",
       "    <tr>\n",
       "      <th>0</th>\n",
       "      <td>0.181399</td>\n",
       "      <td>0.434211</td>\n",
       "      <td>0.555556</td>\n",
       "      <td>0.2</td>\n",
       "      <td>0.0</td>\n",
       "      <td>1.0</td>\n",
       "      <td>0.0</td>\n",
       "      <td>1.0</td>\n",
       "      <td>0.0</td>\n",
       "      <td>0.0</td>\n",
       "    </tr>\n",
       "    <tr>\n",
       "      <th>1</th>\n",
       "      <td>0.045818</td>\n",
       "      <td>0.763158</td>\n",
       "      <td>0.111111</td>\n",
       "      <td>0.0</td>\n",
       "      <td>0.0</td>\n",
       "      <td>1.0</td>\n",
       "      <td>0.0</td>\n",
       "      <td>1.0</td>\n",
       "      <td>0.0</td>\n",
       "      <td>0.0</td>\n",
       "    </tr>\n",
       "    <tr>\n",
       "      <th>2</th>\n",
       "      <td>0.128665</td>\n",
       "      <td>0.328947</td>\n",
       "      <td>0.888889</td>\n",
       "      <td>0.0</td>\n",
       "      <td>1.0</td>\n",
       "      <td>0.0</td>\n",
       "      <td>1.0</td>\n",
       "      <td>0.0</td>\n",
       "      <td>0.0</td>\n",
       "      <td>0.0</td>\n",
       "    </tr>\n",
       "    <tr>\n",
       "      <th>3</th>\n",
       "      <td>0.330667</td>\n",
       "      <td>0.539474</td>\n",
       "      <td>0.333333</td>\n",
       "      <td>0.0</td>\n",
       "      <td>1.0</td>\n",
       "      <td>0.0</td>\n",
       "      <td>1.0</td>\n",
       "      <td>0.0</td>\n",
       "      <td>0.0</td>\n",
       "      <td>0.0</td>\n",
       "    </tr>\n",
       "    <tr>\n",
       "      <th>4</th>\n",
       "      <td>0.309066</td>\n",
       "      <td>0.605263</td>\n",
       "      <td>1.000000</td>\n",
       "      <td>0.4</td>\n",
       "      <td>1.0</td>\n",
       "      <td>0.0</td>\n",
       "      <td>0.0</td>\n",
       "      <td>0.0</td>\n",
       "      <td>0.0</td>\n",
       "      <td>1.0</td>\n",
       "    </tr>\n",
       "    <tr>\n",
       "      <th>...</th>\n",
       "      <td>...</td>\n",
       "      <td>...</td>\n",
       "      <td>...</td>\n",
       "      <td>...</td>\n",
       "      <td>...</td>\n",
       "      <td>...</td>\n",
       "      <td>...</td>\n",
       "      <td>...</td>\n",
       "      <td>...</td>\n",
       "      <td>...</td>\n",
       "    </tr>\n",
       "    <tr>\n",
       "      <th>742</th>\n",
       "      <td>0.102631</td>\n",
       "      <td>0.302632</td>\n",
       "      <td>0.666667</td>\n",
       "      <td>0.2</td>\n",
       "      <td>1.0</td>\n",
       "      <td>0.0</td>\n",
       "      <td>0.0</td>\n",
       "      <td>0.0</td>\n",
       "      <td>0.0</td>\n",
       "      <td>1.0</td>\n",
       "    </tr>\n",
       "    <tr>\n",
       "      <th>743</th>\n",
       "      <td>0.183043</td>\n",
       "      <td>0.565789</td>\n",
       "      <td>0.666667</td>\n",
       "      <td>0.2</td>\n",
       "      <td>0.0</td>\n",
       "      <td>1.0</td>\n",
       "      <td>0.0</td>\n",
       "      <td>1.0</td>\n",
       "      <td>0.0</td>\n",
       "      <td>0.0</td>\n",
       "    </tr>\n",
       "    <tr>\n",
       "      <th>744</th>\n",
       "      <td>0.425231</td>\n",
       "      <td>0.486842</td>\n",
       "      <td>0.000000</td>\n",
       "      <td>0.4</td>\n",
       "      <td>0.0</td>\n",
       "      <td>1.0</td>\n",
       "      <td>0.0</td>\n",
       "      <td>1.0</td>\n",
       "      <td>0.0</td>\n",
       "      <td>0.0</td>\n",
       "    </tr>\n",
       "    <tr>\n",
       "      <th>745</th>\n",
       "      <td>0.104747</td>\n",
       "      <td>0.315789</td>\n",
       "      <td>0.777778</td>\n",
       "      <td>0.0</td>\n",
       "      <td>1.0</td>\n",
       "      <td>0.0</td>\n",
       "      <td>0.0</td>\n",
       "      <td>1.0</td>\n",
       "      <td>0.0</td>\n",
       "      <td>0.0</td>\n",
       "    </tr>\n",
       "    <tr>\n",
       "      <th>746</th>\n",
       "      <td>0.123997</td>\n",
       "      <td>0.065789</td>\n",
       "      <td>0.333333</td>\n",
       "      <td>0.0</td>\n",
       "      <td>1.0</td>\n",
       "      <td>0.0</td>\n",
       "      <td>1.0</td>\n",
       "      <td>0.0</td>\n",
       "      <td>0.0</td>\n",
       "      <td>0.0</td>\n",
       "    </tr>\n",
       "  </tbody>\n",
       "</table>\n",
       "<p>747 rows × 10 columns</p>\n",
       "</div>"
      ],
      "text/plain": [
       "       income       age  years_with_bank  nbr_children  gender_F   gender_M   \\\n",
       "0    0.181399  0.434211         0.555556           0.2        0.0        1.0   \n",
       "1    0.045818  0.763158         0.111111           0.0        0.0        1.0   \n",
       "2    0.128665  0.328947         0.888889           0.0        1.0        0.0   \n",
       "3    0.330667  0.539474         0.333333           0.0        1.0        0.0   \n",
       "4    0.309066  0.605263         1.000000           0.4        1.0        0.0   \n",
       "..        ...       ...              ...           ...        ...        ...   \n",
       "742  0.102631  0.302632         0.666667           0.2        1.0        0.0   \n",
       "743  0.183043  0.565789         0.666667           0.2        0.0        1.0   \n",
       "744  0.425231  0.486842         0.000000           0.4        0.0        1.0   \n",
       "745  0.104747  0.315789         0.777778           0.0        1.0        0.0   \n",
       "746  0.123997  0.065789         0.333333           0.0        1.0        0.0   \n",
       "\n",
       "     marital_status_1  marital_status_2  marital_status_3  marital_status_4  \n",
       "0                 0.0               1.0               0.0               0.0  \n",
       "1                 0.0               1.0               0.0               0.0  \n",
       "2                 1.0               0.0               0.0               0.0  \n",
       "3                 1.0               0.0               0.0               0.0  \n",
       "4                 0.0               0.0               0.0               1.0  \n",
       "..                ...               ...               ...               ...  \n",
       "742               0.0               0.0               0.0               1.0  \n",
       "743               0.0               1.0               0.0               0.0  \n",
       "744               0.0               1.0               0.0               0.0  \n",
       "745               0.0               1.0               0.0               0.0  \n",
       "746               1.0               0.0               0.0               0.0  \n",
       "\n",
       "[747 rows x 10 columns]"
      ]
     },
     "execution_count": 22,
     "metadata": {},
     "output_type": "execute_result"
    }
   ],
   "source": [
    "from sklearn.preprocessing import MinMaxScaler\n",
    "\n",
    "#perform scaling on datafram\n",
    "encode_scaled = MinMaxScaler().fit_transform(encode)\n",
    "encode_scaled = pd.DataFrame(encode_scaled, columns = encode.columns)\n",
    "encode_scaled"
   ]
  },
  {
   "cell_type": "code",
   "execution_count": 29,
   "metadata": {},
   "outputs": [],
   "source": [
    "from sklearn.cluster import KMeans\n",
    "import matplotlib.pyplot as plt\n",
    "\n",
    "#elbow rule\n",
    "def plot_distortion(X,max_clusters = 10):\n",
    "    distortions = []\n",
    "    for i in range(1, max_clusters +1):\n",
    "        km = KMeans(n_clusters=i,\n",
    "                    n_init=10,\n",
    "                    random_state=0)\n",
    "        km.fit(X)\n",
    "        distortions.append(km.inertia_)\n",
    "\n",
    "    plt.plot(range(1,max_clusters +1), distortions, marker='o')\n",
    "    plt.xlabel('Number of clusters')\n",
    "    plt.ylabel('Distortion')\n",
    "    plt.show() "
   ]
  },
  {
   "cell_type": "code",
   "execution_count": 30,
   "metadata": {},
   "outputs": [
    {
     "name": "stderr",
     "output_type": "stream",
     "text": [
      "c:\\Users\\bevli\\anaconda3\\lib\\site-packages\\sklearn\\cluster\\_kmeans.py:881: UserWarning: KMeans is known to have a memory leak on Windows with MKL, when there are less chunks than available threads. You can avoid it by setting the environment variable OMP_NUM_THREADS=3.\n",
      "  warnings.warn(\n"
     ]
    },
    {
     "data": {
      "image/png": "[encoded data removed]",
      "text/plain": [
       "<Figure size 432x288 with 1 Axes>"
      ]
     },
     "metadata": {
      "needs_background": "light"
     },
     "output_type": "display_data"
    }
   ],
   "source": [
    "plot_distortion(encode_scaled)"
   ]
  },
  {
   "cell_type": "code",
   "execution_count": 42,
   "metadata": {},
   "outputs": [
    {
     "data": {
      "text/html": [
       "<div>\n",
       "<style scoped>\n",
       "    .dataframe tbody tr th:only-of-type {\n",
       "        vertical-align: middle;\n",
       "    }\n",
       "\n",
       "    .dataframe tbody tr th {\n",
       "        vertical-align: top;\n",
       "    }\n",
       "\n",
       "    .dataframe thead th {\n",
       "        text-align: right;\n",
       "    }\n",
       "</style>\n",
       "<table border=\"1\" class=\"dataframe\">\n",
       "  <thead>\n",
       "    <tr style=\"text-align: right;\">\n",
       "      <th></th>\n",
       "      <th>income</th>\n",
       "      <th>age</th>\n",
       "      <th>years_with_bank</th>\n",
       "      <th>nbr_children</th>\n",
       "      <th>gender_F</th>\n",
       "      <th>gender_M</th>\n",
       "      <th>marital_status_1</th>\n",
       "      <th>marital_status_2</th>\n",
       "      <th>marital_status_3</th>\n",
       "      <th>marital_status_4</th>\n",
       "      <th>clusters</th>\n",
       "    </tr>\n",
       "  </thead>\n",
       "  <tbody>\n",
       "    <tr>\n",
       "      <th>0</th>\n",
       "      <td>0.181399</td>\n",
       "      <td>0.434211</td>\n",
       "      <td>0.555556</td>\n",
       "      <td>0.2</td>\n",
       "      <td>0.0</td>\n",
       "      <td>1.0</td>\n",
       "      <td>0.0</td>\n",
       "      <td>1.0</td>\n",
       "      <td>0.0</td>\n",
       "      <td>0.0</td>\n",
       "      <td>2</td>\n",
       "    </tr>\n",
       "    <tr>\n",
       "      <th>1</th>\n",
       "      <td>0.045818</td>\n",
       "      <td>0.763158</td>\n",
       "      <td>0.111111</td>\n",
       "      <td>0.0</td>\n",
       "      <td>0.0</td>\n",
       "      <td>1.0</td>\n",
       "      <td>0.0</td>\n",
       "      <td>1.0</td>\n",
       "      <td>0.0</td>\n",
       "      <td>0.0</td>\n",
       "      <td>2</td>\n",
       "    </tr>\n",
       "    <tr>\n",
       "      <th>2</th>\n",
       "      <td>0.128665</td>\n",
       "      <td>0.328947</td>\n",
       "      <td>0.888889</td>\n",
       "      <td>0.0</td>\n",
       "      <td>1.0</td>\n",
       "      <td>0.0</td>\n",
       "      <td>1.0</td>\n",
       "      <td>0.0</td>\n",
       "      <td>0.0</td>\n",
       "      <td>0.0</td>\n",
       "      <td>3</td>\n",
       "    </tr>\n",
       "    <tr>\n",
       "      <th>3</th>\n",
       "      <td>0.330667</td>\n",
       "      <td>0.539474</td>\n",
       "      <td>0.333333</td>\n",
       "      <td>0.0</td>\n",
       "      <td>1.0</td>\n",
       "      <td>0.0</td>\n",
       "      <td>1.0</td>\n",
       "      <td>0.0</td>\n",
       "      <td>0.0</td>\n",
       "      <td>0.0</td>\n",
       "      <td>3</td>\n",
       "    </tr>\n",
       "    <tr>\n",
       "      <th>4</th>\n",
       "      <td>0.309066</td>\n",
       "      <td>0.605263</td>\n",
       "      <td>1.000000</td>\n",
       "      <td>0.4</td>\n",
       "      <td>1.0</td>\n",
       "      <td>0.0</td>\n",
       "      <td>0.0</td>\n",
       "      <td>0.0</td>\n",
       "      <td>0.0</td>\n",
       "      <td>1.0</td>\n",
       "      <td>1</td>\n",
       "    </tr>\n",
       "    <tr>\n",
       "      <th>...</th>\n",
       "      <td>...</td>\n",
       "      <td>...</td>\n",
       "      <td>...</td>\n",
       "      <td>...</td>\n",
       "      <td>...</td>\n",
       "      <td>...</td>\n",
       "      <td>...</td>\n",
       "      <td>...</td>\n",
       "      <td>...</td>\n",
       "      <td>...</td>\n",
       "      <td>...</td>\n",
       "    </tr>\n",
       "    <tr>\n",
       "      <th>742</th>\n",
       "      <td>0.102631</td>\n",
       "      <td>0.302632</td>\n",
       "      <td>0.666667</td>\n",
       "      <td>0.2</td>\n",
       "      <td>1.0</td>\n",
       "      <td>0.0</td>\n",
       "      <td>0.0</td>\n",
       "      <td>0.0</td>\n",
       "      <td>0.0</td>\n",
       "      <td>1.0</td>\n",
       "      <td>1</td>\n",
       "    </tr>\n",
       "    <tr>\n",
       "      <th>743</th>\n",
       "      <td>0.183043</td>\n",
       "      <td>0.565789</td>\n",
       "      <td>0.666667</td>\n",
       "      <td>0.2</td>\n",
       "      <td>0.0</td>\n",
       "      <td>1.0</td>\n",
       "      <td>0.0</td>\n",
       "      <td>1.0</td>\n",
       "      <td>0.0</td>\n",
       "      <td>0.0</td>\n",
       "      <td>2</td>\n",
       "    </tr>\n",
       "    <tr>\n",
       "      <th>744</th>\n",
       "      <td>0.425231</td>\n",
       "      <td>0.486842</td>\n",
       "      <td>0.000000</td>\n",
       "      <td>0.4</td>\n",
       "      <td>0.0</td>\n",
       "      <td>1.0</td>\n",
       "      <td>0.0</td>\n",
       "      <td>1.0</td>\n",
       "      <td>0.0</td>\n",
       "      <td>0.0</td>\n",
       "      <td>2</td>\n",
       "    </tr>\n",
       "    <tr>\n",
       "      <th>745</th>\n",
       "      <td>0.104747</td>\n",
       "      <td>0.315789</td>\n",
       "      <td>0.777778</td>\n",
       "      <td>0.0</td>\n",
       "      <td>1.0</td>\n",
       "      <td>0.0</td>\n",
       "      <td>0.0</td>\n",
       "      <td>1.0</td>\n",
       "      <td>0.0</td>\n",
       "      <td>0.0</td>\n",
       "      <td>1</td>\n",
       "    </tr>\n",
       "    <tr>\n",
       "      <th>746</th>\n",
       "      <td>0.123997</td>\n",
       "      <td>0.065789</td>\n",
       "      <td>0.333333</td>\n",
       "      <td>0.0</td>\n",
       "      <td>1.0</td>\n",
       "      <td>0.0</td>\n",
       "      <td>1.0</td>\n",
       "      <td>0.0</td>\n",
       "      <td>0.0</td>\n",
       "      <td>0.0</td>\n",
       "      <td>3</td>\n",
       "    </tr>\n",
       "  </tbody>\n",
       "</table>\n",
       "<p>747 rows × 11 columns</p>\n",
       "</div>"
      ],
      "text/plain": [
       "       income       age  years_with_bank  nbr_children  gender_F   gender_M   \\\n",
       "0    0.181399  0.434211         0.555556           0.2        0.0        1.0   \n",
       "1    0.045818  0.763158         0.111111           0.0        0.0        1.0   \n",
       "2    0.128665  0.328947         0.888889           0.0        1.0        0.0   \n",
       "3    0.330667  0.539474         0.333333           0.0        1.0        0.0   \n",
       "4    0.309066  0.605263         1.000000           0.4        1.0        0.0   \n",
       "..        ...       ...              ...           ...        ...        ...   \n",
       "742  0.102631  0.302632         0.666667           0.2        1.0        0.0   \n",
       "743  0.183043  0.565789         0.666667           0.2        0.0        1.0   \n",
       "744  0.425231  0.486842         0.000000           0.4        0.0        1.0   \n",
       "745  0.104747  0.315789         0.777778           0.0        1.0        0.0   \n",
       "746  0.123997  0.065789         0.333333           0.0        1.0        0.0   \n",
       "\n",
       "     marital_status_1  marital_status_2  marital_status_3  marital_status_4  \\\n",
       "0                 0.0               1.0               0.0               0.0   \n",
       "1                 0.0               1.0               0.0               0.0   \n",
       "2                 1.0               0.0               0.0               0.0   \n",
       "3                 1.0               0.0               0.0               0.0   \n",
       "4                 0.0               0.0               0.0               1.0   \n",
       "..                ...               ...               ...               ...   \n",
       "742               0.0               0.0               0.0               1.0   \n",
       "743               0.0               1.0               0.0               0.0   \n",
       "744               0.0               1.0               0.0               0.0   \n",
       "745               0.0               1.0               0.0               0.0   \n",
       "746               1.0               0.0               0.0               0.0   \n",
       "\n",
       "     clusters  \n",
       "0           2  \n",
       "1           2  \n",
       "2           3  \n",
       "3           3  \n",
       "4           1  \n",
       "..        ...  \n",
       "742         1  \n",
       "743         2  \n",
       "744         2  \n",
       "745         1  \n",
       "746         3  \n",
       "\n",
       "[747 rows x 11 columns]"
      ]
     },
     "execution_count": 42,
     "metadata": {},
     "output_type": "execute_result"
    }
   ],
   "source": [
    "#number of clusters to be taken as 4\n",
    "\n",
    "encode_scaled['clusters']= KMeans(n_clusters=4, # how many clusters we expected \n",
    "            n_init=10, # how many initial runs\n",
    "            random_state=0).fit_predict(encode_scaled)\n",
    "\n",
    "encode_scaled"
   ]
  },
  {
   "cell_type": "code",
   "execution_count": 72,
   "metadata": {},
   "outputs": [
    {
     "data": {
      "text/html": [
       "<div>\n",
       "<style scoped>\n",
       "    .dataframe tbody tr th:only-of-type {\n",
       "        vertical-align: middle;\n",
       "    }\n",
       "\n",
       "    .dataframe tbody tr th {\n",
       "        vertical-align: top;\n",
       "    }\n",
       "\n",
       "    .dataframe thead th {\n",
       "        text-align: right;\n",
       "    }\n",
       "</style>\n",
       "<table border=\"1\" class=\"dataframe\">\n",
       "  <thead>\n",
       "    <tr style=\"text-align: right;\">\n",
       "      <th></th>\n",
       "      <th>income</th>\n",
       "      <th>age</th>\n",
       "      <th>years_with_bank</th>\n",
       "      <th>nbr_children</th>\n",
       "      <th>gender_F</th>\n",
       "      <th>gender_M</th>\n",
       "      <th>marital_status_1</th>\n",
       "      <th>marital_status_2</th>\n",
       "      <th>marital_status_3</th>\n",
       "      <th>marital_status_4</th>\n",
       "    </tr>\n",
       "    <tr>\n",
       "      <th>clusters</th>\n",
       "      <th></th>\n",
       "      <th></th>\n",
       "      <th></th>\n",
       "      <th></th>\n",
       "      <th></th>\n",
       "      <th></th>\n",
       "      <th></th>\n",
       "      <th></th>\n",
       "      <th></th>\n",
       "      <th></th>\n",
       "    </tr>\n",
       "  </thead>\n",
       "  <tbody>\n",
       "    <tr>\n",
       "      <th>0</th>\n",
       "      <td>68.718144</td>\n",
       "      <td>54.304458</td>\n",
       "      <td>96.895670</td>\n",
       "      <td>0.000000</td>\n",
       "      <td>0.000000</td>\n",
       "      <td>227.051672</td>\n",
       "      <td>270.652174</td>\n",
       "      <td>0.000000</td>\n",
       "      <td>0.000000</td>\n",
       "      <td>0.000000</td>\n",
       "    </tr>\n",
       "    <tr>\n",
       "      <th>1</th>\n",
       "      <td>105.455285</td>\n",
       "      <td>123.940328</td>\n",
       "      <td>100.782915</td>\n",
       "      <td>159.331482</td>\n",
       "      <td>178.708134</td>\n",
       "      <td>0.000000</td>\n",
       "      <td>0.000000</td>\n",
       "      <td>154.421560</td>\n",
       "      <td>180.260618</td>\n",
       "      <td>164.809708</td>\n",
       "    </tr>\n",
       "    <tr>\n",
       "      <th>2</th>\n",
       "      <td>142.373407</td>\n",
       "      <td>126.184054</td>\n",
       "      <td>102.243111</td>\n",
       "      <td>157.703519</td>\n",
       "      <td>0.000000</td>\n",
       "      <td>227.051672</td>\n",
       "      <td>0.000000</td>\n",
       "      <td>163.701962</td>\n",
       "      <td>132.134434</td>\n",
       "      <td>151.010782</td>\n",
       "    </tr>\n",
       "    <tr>\n",
       "      <th>3</th>\n",
       "      <td>57.634565</td>\n",
       "      <td>59.715812</td>\n",
       "      <td>98.018189</td>\n",
       "      <td>0.000000</td>\n",
       "      <td>178.708134</td>\n",
       "      <td>0.000000</td>\n",
       "      <td>270.652174</td>\n",
       "      <td>0.000000</td>\n",
       "      <td>0.000000</td>\n",
       "      <td>0.000000</td>\n",
       "    </tr>\n",
       "  </tbody>\n",
       "</table>\n",
       "</div>"
      ],
      "text/plain": [
       "              income         age  years_with_bank  nbr_children   gender_F   \\\n",
       "clusters                                                                      \n",
       "0          68.718144   54.304458        96.895670      0.000000    0.000000   \n",
       "1         105.455285  123.940328       100.782915    159.331482  178.708134   \n",
       "2         142.373407  126.184054       102.243111    157.703519    0.000000   \n",
       "3          57.634565   59.715812        98.018189      0.000000  178.708134   \n",
       "\n",
       "           gender_M   marital_status_1  marital_status_2  marital_status_3  \\\n",
       "clusters                                                                     \n",
       "0         227.051672        270.652174          0.000000          0.000000   \n",
       "1           0.000000          0.000000        154.421560        180.260618   \n",
       "2         227.051672          0.000000        163.701962        132.134434   \n",
       "3           0.000000        270.652174          0.000000          0.000000   \n",
       "\n",
       "          marital_status_4  \n",
       "clusters                    \n",
       "0                 0.000000  \n",
       "1               164.809708  \n",
       "2               151.010782  \n",
       "3                 0.000000  "
      ]
     },
     "execution_count": 72,
     "metadata": {},
     "output_type": "execute_result"
    }
   ],
   "source": [
    "#radar chart data\n",
    "df_radar = encode_scaled.groupby('clusters').mean().divide(encode_scaled.drop('clusters',axis=1).mean())*100\n",
    "df_radar"
   ]
  },
  {
   "cell_type": "code",
   "execution_count": 69,
   "metadata": {},
   "outputs": [],
   "source": [
    "#Radar Chart\n",
    "# function that plots radar chart\n",
    "def plot_radar_chart(df):\n",
    "    data = []\n",
    "    for i in range(0,len(df)):\n",
    "        data.append(go.Scatterpolar(r = df.iloc[i].values,\n",
    "                                    theta = df.iloc[i].index,\n",
    "                                    name = f'cluster_{df.index[i]}',\n",
    "                                    fill = 'toself'))\n",
    "    \n",
    "\n",
    "    layout = go.Layout(polar = dict(radialaxis = dict(visible = True)),\n",
    "                       showlegend = True)\n",
    "    fig = go.Figure(data = data, layout = layout)\n",
    "    fig.show()\n",
    "    "
   ]
  },
  {
   "cell_type": "code",
   "execution_count": 70,
   "metadata": {},
   "outputs": [
    {
     "data": {
      "application/vnd.plotly.v1+json": {
       "config": {
        "plotlyServerURL": "https://plot.ly"
       },
       "data": [
        {
         "fill": "toself",
         "name": "cluster_0",
         "r": [
          68.71814417421311,
          54.304457633098544,
          96.89567027696533,
          0,
          0,
          227.05167173252278,
          270.6521739130435,
          0,
          0,
          0
         ],
         "theta": [
          "income",
          "age",
          "years_with_bank",
          "nbr_children",
          "gender_F ",
          "gender_M ",
          "marital_status_1",
          "marital_status_2",
          "marital_status_3",
          "marital_status_4"
         ],
         "type": "scatterpolar"
        },
        {
         "fill": "toself",
         "name": "cluster_1",
         "r": [
          105.45528548280461,
          123.9403279319724,
          100.78291476030437,
          159.3314823651898,
          178.7081339712919,
          0,
          0,
          154.42156037056887,
          180.2606177606178,
          164.80970766685053
         ],
         "theta": [
          "income",
          "age",
          "years_with_bank",
          "nbr_children",
          "gender_F ",
          "gender_M ",
          "marital_status_1",
          "marital_status_2",
          "marital_status_3",
          "marital_status_4"
         ],
         "type": "scatterpolar"
        },
        {
         "fill": "toself",
         "name": "cluster_2",
         "r": [
          142.37340749454285,
          126.18405415756672,
          102.24311117144029,
          157.70351918592283,
          0,
          227.05167173252278,
          0,
          163.70196162274843,
          132.13443396226415,
          151.010781671159
         ],
         "theta": [
          "income",
          "age",
          "years_with_bank",
          "nbr_children",
          "gender_F ",
          "gender_M ",
          "marital_status_1",
          "marital_status_2",
          "marital_status_3",
          "marital_status_4"
         ],
         "type": "scatterpolar"
        },
        {
         "fill": "toself",
         "name": "cluster_3",
         "r": [
          57.63456479702892,
          59.71581157951293,
          98.01818922220721,
          0,
          178.7081339712919,
          0,
          270.6521739130435,
          0,
          0,
          0
         ],
         "theta": [
          "income",
          "age",
          "years_with_bank",
          "nbr_children",
          "gender_F ",
          "gender_M ",
          "marital_status_1",
          "marital_status_2",
          "marital_status_3",
          "marital_status_4"
         ],
         "type": "scatterpolar"
        }
       ],
       "layout": {
        "polar": {
         "radialaxis": {
          "visible": true
         }
        },
        "showlegend": true,
        "template": {
         "data": {
          "bar": [
           {
            "error_x": {
             "color": "#2a3f5f"
            },
            "error_y": {
             "color": "#2a3f5f"
            },
            "marker": {
             "line": {
              "color": "#E5ECF6",
              "width": 0.5
             },
             "pattern": {
              "fillmode": "overlay",
              "size": 10,
              "solidity": 0.2
             }
            },
            "type": "bar"
           }
          ],
          "barpolar": [
           {
            "marker": {
             "line": {
              "color": "#E5ECF6",
              "width": 0.5
             },
             "pattern": {
              "fillmode": "overlay",
              "size": 10,
              "solidity": 0.2
             }
            },
            "type": "barpolar"
           }
          ],
          "carpet": [
           {
            "aaxis": {
             "endlinecolor": "#2a3f5f",
             "gridcolor": "white",
             "linecolor": "white",
             "minorgridcolor": "white",
             "startlinecolor": "#2a3f5f"
            },
            "baxis": {
             "endlinecolor": "#2a3f5f",
             "gridcolor": "white",
             "linecolor": "white",
             "minorgridcolor": "white",
             "startlinecolor": "#2a3f5f"
            },
            "type": "carpet"
           }
          ],
          "choropleth": [
           {
            "colorbar": {
             "outlinewidth": 0,
             "ticks": ""
            },
            "type": "choropleth"
           }
          ],
          "contour": [
           {
            "colorbar": {
             "outlinewidth": 0,
             "ticks": ""
            },
            "colorscale": [
             [
              0,
              "#0d0887"
             ],
             [
              0.1111111111111111,
              "#46039f"
             ],
             [
              0.2222222222222222,
              "#7201a8"
             ],
             [
              0.3333333333333333,
              "#9c179e"
             ],
             [
              0.4444444444444444,
              "#bd3786"
             ],
             [
              0.5555555555555556,
              "#d8576b"
             ],
             [
              0.6666666666666666,
              "#ed7953"
             ],
             [
              0.7777777777777778,
              "#fb9f3a"
             ],
             [
              0.8888888888888888,
              "#fdca26"
             ],
             [
              1,
              "#f0f921"
             ]
            ],
            "type": "contour"
           }
          ],
          "contourcarpet": [
           {
            "colorbar": {
             "outlinewidth": 0,
             "ticks": ""
            },
            "type": "contourcarpet"
           }
          ],
          "heatmap": [
           {
            "colorbar": {
             "outlinewidth": 0,
             "ticks": ""
            },
            "colorscale": [
             [
              0,
              "#0d0887"
             ],
             [
              0.1111111111111111,
              "#46039f"
             ],
             [
              0.2222222222222222,
              "#7201a8"
             ],
             [
              0.3333333333333333,
              "#9c179e"
             ],
             [
              0.4444444444444444,
              "#bd3786"
             ],
             [
              0.5555555555555556,
              "#d8576b"
             ],
             [
              0.6666666666666666,
              "#ed7953"
             ],
             [
              0.7777777777777778,
              "#fb9f3a"
             ],
             [
              0.8888888888888888,
              "#fdca26"
             ],
             [
              1,
              "#f0f921"
             ]
            ],
            "type": "heatmap"
           }
          ],
          "heatmapgl": [
           {
            "colorbar": {
             "outlinewidth": 0,
             "ticks": ""
            },
            "colorscale": [
             [
              0,
              "#0d0887"
             ],
             [
              0.1111111111111111,
              "#46039f"
             ],
             [
              0.2222222222222222,
              "#7201a8"
             ],
             [
              0.3333333333333333,
              "#9c179e"
             ],
             [
              0.4444444444444444,
              "#bd3786"
             ],
             [
              0.5555555555555556,
              "#d8576b"
             ],
             [
              0.6666666666666666,
              "#ed7953"
             ],
             [
              0.7777777777777778,
              "#fb9f3a"
             ],
             [
              0.8888888888888888,
              "#fdca26"
             ],
             [
              1,
              "#f0f921"
             ]
            ],
            "type": "heatmapgl"
           }
          ],
          "histogram": [
           {
            "marker": {
             "pattern": {
              "fillmode": "overlay",
              "size": 10,
              "solidity": 0.2
             }
            },
            "type": "histogram"
           }
          ],
          "histogram2d": [
           {
            "colorbar": {
             "outlinewidth": 0,
             "ticks": ""
            },
            "colorscale": [
             [
              0,
              "#0d0887"
             ],
             [
              0.1111111111111111,
              "#46039f"
             ],
             [
              0.2222222222222222,
              "#7201a8"
             ],
             [
              0.3333333333333333,
              "#9c179e"
             ],
             [
              0.4444444444444444,
              "#bd3786"
             ],
             [
              0.5555555555555556,
              "#d8576b"
             ],
             [
              0.6666666666666666,
              "#ed7953"
             ],
             [
              0.7777777777777778,
              "#fb9f3a"
             ],
             [
              0.8888888888888888,
              "#fdca26"
             ],
             [
              1,
              "#f0f921"
             ]
            ],
            "type": "histogram2d"
           }
          ],
          "histogram2dcontour": [
           {
            "colorbar": {
             "outlinewidth": 0,
             "ticks": ""
            },
            "colorscale": [
             [
              0,
              "#0d0887"
             ],
             [
              0.1111111111111111,
              "#46039f"
             ],
             [
              0.2222222222222222,
              "#7201a8"
             ],
             [
              0.3333333333333333,
              "#9c179e"
             ],
             [
              0.4444444444444444,
              "#bd3786"
             ],
             [
              0.5555555555555556,
              "#d8576b"
             ],
             [
              0.6666666666666666,
              "#ed7953"
             ],
             [
              0.7777777777777778,
              "#fb9f3a"
             ],
             [
              0.8888888888888888,
              "#fdca26"
             ],
             [
              1,
              "#f0f921"
             ]
            ],
            "type": "histogram2dcontour"
           }
          ],
          "mesh3d": [
           {
            "colorbar": {
             "outlinewidth": 0,
             "ticks": ""
            },
            "type": "mesh3d"
           }
          ],
          "parcoords": [
           {
            "line": {
             "colorbar": {
              "outlinewidth": 0,
              "ticks": ""
             }
            },
            "type": "parcoords"
           }
          ],
          "pie": [
           {
            "automargin": true,
            "type": "pie"
           }
          ],
          "scatter": [
           {
            "fillpattern": {
             "fillmode": "overlay",
             "size": 10,
             "solidity": 0.2
            },
            "type": "scatter"
           }
          ],
          "scatter3d": [
           {
            "line": {
             "colorbar": {
              "outlinewidth": 0,
              "ticks": ""
             }
            },
            "marker": {
             "colorbar": {
              "outlinewidth": 0,
              "ticks": ""
             }
            },
            "type": "scatter3d"
           }
          ],
          "scattercarpet": [
           {
            "marker": {
             "colorbar": {
              "outlinewidth": 0,
              "ticks": ""
             }
            },
            "type": "scattercarpet"
           }
          ],
          "scattergeo": [
           {
            "marker": {
             "colorbar": {
              "outlinewidth": 0,
              "ticks": ""
             }
            },
            "type": "scattergeo"
           }
          ],
          "scattergl": [
           {
            "marker": {
             "colorbar": {
              "outlinewidth": 0,
              "ticks": ""
             }
            },
            "type": "scattergl"
           }
          ],
          "scattermapbox": [
           {
            "marker": {
             "colorbar": {
              "outlinewidth": 0,
              "ticks": ""
             }
            },
            "type": "scattermapbox"
           }
          ],
          "scatterpolar": [
           {
            "marker": {
             "colorbar": {
              "outlinewidth": 0,
              "ticks": ""
             }
            },
            "type": "scatterpolar"
           }
          ],
          "scatterpolargl": [
           {
            "marker": {
             "colorbar": {
              "outlinewidth": 0,
              "ticks": ""
             }
            },
            "type": "scatterpolargl"
           }
          ],
          "scatterternary": [
           {
            "marker": {
             "colorbar": {
              "outlinewidth": 0,
              "ticks": ""
             }
            },
            "type": "scatterternary"
           }
          ],
          "surface": [
           {
            "colorbar": {
             "outlinewidth": 0,
             "ticks": ""
            },
            "colorscale": [
             [
              0,
              "#0d0887"
             ],
             [
              0.1111111111111111,
              "#46039f"
             ],
             [
              0.2222222222222222,
              "#7201a8"
             ],
             [
              0.3333333333333333,
              "#9c179e"
             ],
             [
              0.4444444444444444,
              "#bd3786"
             ],
             [
              0.5555555555555556,
              "#d8576b"
             ],
             [
              0.6666666666666666,
              "#ed7953"
             ],
             [
              0.7777777777777778,
              "#fb9f3a"
             ],
             [
              0.8888888888888888,
              "#fdca26"
             ],
             [
              1,
              "#f0f921"
             ]
            ],
            "type": "surface"
           }
          ],
          "table": [
           {
            "cells": {
             "fill": {
              "color": "#EBF0F8"
             },
             "line": {
              "color": "white"
             }
            },
            "header": {
             "fill": {
              "color": "#C8D4E3"
             },
             "line": {
              "color": "white"
             }
            },
            "type": "table"
           }
          ]
         },
         "layout": {
          "annotationdefaults": {
           "arrowcolor": "#2a3f5f",
           "arrowhead": 0,
           "arrowwidth": 1
          },
          "autotypenumbers": "strict",
          "coloraxis": {
           "colorbar": {
            "outlinewidth": 0,
            "ticks": ""
           }
          },
          "colorscale": {
           "diverging": [
            [
             0,
             "#8e0152"
            ],
            [
             0.1,
             "#c51b7d"
            ],
            [
             0.2,
             "#de77ae"
            ],
            [
             0.3,
             "#f1b6da"
            ],
            [
             0.4,
             "#fde0ef"
            ],
            [
             0.5,
             "#f7f7f7"
            ],
            [
             0.6,
             "#e6f5d0"
            ],
            [
             0.7,
             "#b8e186"
            ],
            [
             0.8,
             "#7fbc41"
            ],
            [
             0.9,
             "#4d9221"
            ],
            [
             1,
             "#276419"
            ]
           ],
           "sequential": [
            [
             0,
             "#0d0887"
            ],
            [
             0.1111111111111111,
             "#46039f"
            ],
            [
             0.2222222222222222,
             "#7201a8"
            ],
            [
             0.3333333333333333,
             "#9c179e"
            ],
            [
             0.4444444444444444,
             "#bd3786"
            ],
            [
             0.5555555555555556,
             "#d8576b"
            ],
            [
             0.6666666666666666,
             "#ed7953"
            ],
            [
             0.7777777777777778,
             "#fb9f3a"
            ],
            [
             0.8888888888888888,
             "#fdca26"
            ],
            [
             1,
             "#f0f921"
            ]
           ],
           "sequentialminus": [
            [
             0,
             "#0d0887"
            ],
            [
             0.1111111111111111,
             "#46039f"
            ],
            [
             0.2222222222222222,
             "#7201a8"
            ],
            [
             0.3333333333333333,
             "#9c179e"
            ],
            [
             0.4444444444444444,
             "#bd3786"
            ],
            [
             0.5555555555555556,
             "#d8576b"
            ],
            [
             0.6666666666666666,
             "#ed7953"
            ],
            [
             0.7777777777777778,
             "#fb9f3a"
            ],
            [
             0.8888888888888888,
             "#fdca26"
            ],
            [
             1,
             "#f0f921"
            ]
           ]
          },
          "colorway": [
           "#636efa",
           "#EF553B",
           "#00cc96",
           "#ab63fa",
           "#FFA15A",
           "#19d3f3",
           "#FF6692",
           "#B6E880",
           "#FF97FF",
           "#FECB52"
          ],
          "font": {
           "color": "#2a3f5f"
          },
          "geo": {
           "bgcolor": "white",
           "lakecolor": "white",
           "landcolor": "#E5ECF6",
           "showlakes": true,
           "showland": true,
           "subunitcolor": "white"
          },
          "hoverlabel": {
           "align": "left"
          },
          "hovermode": "closest",
          "mapbox": {
           "style": "light"
          },
          "paper_bgcolor": "white",
          "plot_bgcolor": "#E5ECF6",
          "polar": {
           "angularaxis": {
            "gridcolor": "white",
            "linecolor": "white",
            "ticks": ""
           },
           "bgcolor": "#E5ECF6",
           "radialaxis": {
            "gridcolor": "white",
            "linecolor": "white",
            "ticks": ""
           }
          },
          "scene": {
           "xaxis": {
            "backgroundcolor": "#E5ECF6",
            "gridcolor": "white",
            "gridwidth": 2,
            "linecolor": "white",
            "showbackground": true,
            "ticks": "",
            "zerolinecolor": "white"
           },
           "yaxis": {
            "backgroundcolor": "#E5ECF6",
            "gridcolor": "white",
            "gridwidth": 2,
            "linecolor": "white",
            "showbackground": true,
            "ticks": "",
            "zerolinecolor": "white"
           },
           "zaxis": {
            "backgroundcolor": "#E5ECF6",
            "gridcolor": "white",
            "gridwidth": 2,
            "linecolor": "white",
            "showbackground": true,
            "ticks": "",
            "zerolinecolor": "white"
           }
          },
          "shapedefaults": {
           "line": {
            "color": "#2a3f5f"
           }
          },
          "ternary": {
           "aaxis": {
            "gridcolor": "white",
            "linecolor": "white",
            "ticks": ""
           },
           "baxis": {
            "gridcolor": "white",
            "linecolor": "white",
            "ticks": ""
           },
           "bgcolor": "#E5ECF6",
           "caxis": {
            "gridcolor": "white",
            "linecolor": "white",
            "ticks": ""
           }
          },
          "title": {
           "x": 0.05
          },
          "xaxis": {
           "automargin": true,
           "gridcolor": "white",
           "linecolor": "white",
           "ticks": "",
           "title": {
            "standoff": 15
           },
           "zerolinecolor": "white",
           "zerolinewidth": 2
          },
          "yaxis": {
           "automargin": true,
           "gridcolor": "white",
           "linecolor": "white",
           "ticks": "",
           "title": {
            "standoff": 15
           },
           "zerolinecolor": "white",
           "zerolinewidth": 2
          }
         }
        }
       }
      }
     },
     "metadata": {},
     "output_type": "display_data"
    }
   ],
   "source": [
    "plot_radar_chart(df_radar)"
   ]
  },
  {
   "cell_type": "code",
   "execution_count": 73,
   "metadata": {},
   "outputs": [
    {
     "data": {
      "text/html": [
       "<div>\n",
       "<style scoped>\n",
       "    .dataframe tbody tr th:only-of-type {\n",
       "        vertical-align: middle;\n",
       "    }\n",
       "\n",
       "    .dataframe tbody tr th {\n",
       "        vertical-align: top;\n",
       "    }\n",
       "\n",
       "    .dataframe thead th {\n",
       "        text-align: right;\n",
       "    }\n",
       "</style>\n",
       "<table border=\"1\" class=\"dataframe\">\n",
       "  <thead>\n",
       "    <tr style=\"text-align: right;\">\n",
       "      <th></th>\n",
       "      <th>principal components 1</th>\n",
       "      <th>principal component 2</th>\n",
       "      <th>clusters</th>\n",
       "    </tr>\n",
       "  </thead>\n",
       "  <tbody>\n",
       "    <tr>\n",
       "      <th>0</th>\n",
       "      <td>0.119091</td>\n",
       "      <td>-0.642953</td>\n",
       "      <td>2</td>\n",
       "    </tr>\n",
       "    <tr>\n",
       "      <th>1</th>\n",
       "      <td>0.118341</td>\n",
       "      <td>-0.632324</td>\n",
       "      <td>2</td>\n",
       "    </tr>\n",
       "    <tr>\n",
       "      <th>2</th>\n",
       "      <td>1.657724</td>\n",
       "      <td>-0.012223</td>\n",
       "      <td>3</td>\n",
       "    </tr>\n",
       "    <tr>\n",
       "      <th>3</th>\n",
       "      <td>1.651672</td>\n",
       "      <td>-0.004343</td>\n",
       "      <td>3</td>\n",
       "    </tr>\n",
       "    <tr>\n",
       "      <th>4</th>\n",
       "      <td>-0.367978</td>\n",
       "      <td>0.733630</td>\n",
       "      <td>1</td>\n",
       "    </tr>\n",
       "    <tr>\n",
       "      <th>...</th>\n",
       "      <td>...</td>\n",
       "      <td>...</td>\n",
       "      <td>...</td>\n",
       "    </tr>\n",
       "    <tr>\n",
       "      <th>742</th>\n",
       "      <td>-0.355170</td>\n",
       "      <td>0.704766</td>\n",
       "      <td>1</td>\n",
       "    </tr>\n",
       "    <tr>\n",
       "      <th>743</th>\n",
       "      <td>0.116344</td>\n",
       "      <td>-0.633787</td>\n",
       "      <td>2</td>\n",
       "    </tr>\n",
       "    <tr>\n",
       "      <th>744</th>\n",
       "      <td>0.111361</td>\n",
       "      <td>-0.635913</td>\n",
       "      <td>2</td>\n",
       "    </tr>\n",
       "    <tr>\n",
       "      <th>745</th>\n",
       "      <td>-0.418028</td>\n",
       "      <td>0.878310</td>\n",
       "      <td>1</td>\n",
       "    </tr>\n",
       "    <tr>\n",
       "      <th>746</th>\n",
       "      <td>1.663355</td>\n",
       "      <td>-0.032447</td>\n",
       "      <td>3</td>\n",
       "    </tr>\n",
       "  </tbody>\n",
       "</table>\n",
       "<p>747 rows × 3 columns</p>\n",
       "</div>"
      ],
      "text/plain": [
       "     principal components 1  principal component 2  clusters\n",
       "0                  0.119091              -0.642953         2\n",
       "1                  0.118341              -0.632324         2\n",
       "2                  1.657724              -0.012223         3\n",
       "3                  1.651672              -0.004343         3\n",
       "4                 -0.367978               0.733630         1\n",
       "..                      ...                    ...       ...\n",
       "742               -0.355170               0.704766         1\n",
       "743                0.116344              -0.633787         2\n",
       "744                0.111361              -0.635913         2\n",
       "745               -0.418028               0.878310         1\n",
       "746                1.663355              -0.032447         3\n",
       "\n",
       "[747 rows x 3 columns]"
      ]
     },
     "execution_count": 73,
     "metadata": {},
     "output_type": "execute_result"
    }
   ],
   "source": [
    "#Principal Component Analysis\n",
    "from sklearn.decomposition import PCA\n",
    "pca = PCA(n_components = 2)\n",
    "\n",
    "#fit pca model to dataframe\n",
    "principalcomponents = pca.fit_transform(encode_scaled)\n",
    "\n",
    "#transfrom data onto first two principal components\n",
    "principalDf = pd.DataFrame(data = principalcomponents, columns = ['principal components 1','principal component 2'])\n",
    "\n",
    "#assign clusters\n",
    "principalDf['clusters']=encode_scaled['clusters']\n",
    "\n",
    "principalDf\n"
   ]
  },
  {
   "cell_type": "code",
   "execution_count": 74,
   "metadata": {},
   "outputs": [
    {
     "data": {
      "application/vnd.plotly.v1+json": {
       "config": {
        "plotlyServerURL": "https://plot.ly"
       },
       "data": [
        {
         "hovertemplate": "0=%{x}<br>1=%{y}<br>color=%{marker.color}<extra></extra>",
         "legendgroup": "",
         "marker": {
          "color": [
           2,
           2,
           3,
           3,
           1,
           1,
           0,
           1,
           1,
           2,
           3,
           0,
           2,
           3,
           1,
           0,
           2,
           0,
           2,
           0,
           1,
           2,
           1,
           3,
           1,
           1,
           1,
           1,
           1,
           2,
           1,
           2,
           1,
           2,
           3,
           1,
           0,
           1,
           0,
           3,
           1,
           1,
           1,
           1,
           3,
           1,
           2,
           1,
           1,
           1,
           0,
           0,
           2,
           2,
           3,
           3,
           2,
           3,
           0,
           2,
           2,
           3,
           0,
           3,
           2,
           3,
           3,
           1,
           3,
           3,
           3,
           1,
           1,
           1,
           2,
           1,
           1,
           1,
           3,
           0,
           1,
           1,
           3,
           3,
           1,
           1,
           1,
           1,
           0,
           1,
           1,
           3,
           3,
           3,
           3,
           0,
           3,
           3,
           2,
           2,
           1,
           2,
           1,
           1,
           1,
           2,
           2,
           2,
           2,
           3,
           3,
           2,
           2,
           3,
           1,
           1,
           1,
           1,
           2,
           1,
           2,
           2,
           1,
           2,
           0,
           3,
           3,
           1,
           1,
           3,
           2,
           2,
           3,
           1,
           2,
           3,
           0,
           1,
           0,
           0,
           2,
           1,
           1,
           2,
           2,
           3,
           1,
           1,
           2,
           1,
           3,
           1,
           1,
           2,
           2,
           1,
           2,
           1,
           2,
           2,
           1,
           2,
           3,
           1,
           2,
           2,
           1,
           2,
           1,
           0,
           1,
           1,
           1,
           2,
           2,
           1,
           1,
           1,
           1,
           2,
           0,
           3,
           3,
           3,
           2,
           2,
           1,
           1,
           3,
           1,
           0,
           1,
           0,
           3,
           2,
           3,
           3,
           3,
           1,
           2,
           2,
           1,
           0,
           3,
           2,
           1,
           2,
           1,
           1,
           1,
           0,
           3,
           2,
           0,
           3,
           2,
           0,
           2,
           2,
           1,
           3,
           2,
           2,
           2,
           0,
           2,
           0,
           2,
           1,
           1,
           3,
           3,
           0,
           0,
           3,
           0,
           1,
           2,
           3,
           1,
           1,
           0,
           3,
           3,
           0,
           1,
           2,
           3,
           2,
           1,
           2,
           2,
           2,
           2,
           2,
           2,
           1,
           1,
           2,
           2,
           2,
           2,
           1,
           1,
           3,
           3,
           1,
           3,
           2,
           1,
           1,
           3,
           3,
           0,
           2,
           1,
           0,
           2,
           1,
           2,
           3,
           2,
           1,
           2,
           1,
           0,
           1,
           1,
           1,
           3,
           3,
           1,
           2,
           3,
           2,
           3,
           0,
           1,
           0,
           0,
           3,
           3,
           2,
           3,
           3,
           1,
           1,
           1,
           1,
           2,
           1,
           0,
           0,
           1,
           3,
           2,
           3,
           3,
           2,
           2,
           3,
           2,
           2,
           0,
           1,
           1,
           3,
           2,
           0,
           3,
           2,
           2,
           2,
           2,
           0,
           1,
           3,
           2,
           1,
           1,
           0,
           2,
           1,
           3,
           0,
           1,
           1,
           0,
           0,
           1,
           3,
           2,
           2,
           1,
           0,
           3,
           3,
           2,
           1,
           0,
           3,
           2,
           0,
           1,
           3,
           1,
           3,
           1,
           3,
           1,
           1,
           1,
           0,
           2,
           3,
           1,
           1,
           2,
           0,
           2,
           1,
           0,
           2,
           3,
           0,
           2,
           1,
           3,
           2,
           2,
           0,
           1,
           1,
           2,
           0,
           3,
           2,
           3,
           2,
           1,
           3,
           1,
           1,
           1,
           1,
           1,
           1,
           3,
           0,
           2,
           2,
           1,
           1,
           1,
           2,
           0,
           2,
           3,
           1,
           0,
           0,
           2,
           2,
           1,
           2,
           3,
           2,
           2,
           0,
           3,
           1,
           3,
           2,
           2,
           2,
           0,
           3,
           2,
           0,
           3,
           2,
           1,
           1,
           1,
           1,
           0,
           2,
           0,
           1,
           3,
           2,
           2,
           2,
           1,
           1,
           2,
           0,
           1,
           1,
           1,
           2,
           2,
           3,
           3,
           3,
           2,
           0,
           3,
           1,
           3,
           3,
           2,
           2,
           0,
           3,
           3,
           0,
           0,
           0,
           2,
           0,
           3,
           1,
           3,
           1,
           2,
           2,
           1,
           1,
           1,
           1,
           3,
           1,
           1,
           2,
           3,
           2,
           1,
           2,
           3,
           2,
           3,
           2,
           3,
           2,
           0,
           3,
           2,
           2,
           0,
           1,
           2,
           1,
           1,
           2,
           0,
           0,
           1,
           3,
           1,
           1,
           3,
           1,
           1,
           2,
           2,
           2,
           3,
           2,
           3,
           2,
           1,
           0,
           2,
           1,
           1,
           3,
           1,
           2,
           2,
           0,
           1,
           1,
           3,
           1,
           0,
           0,
           0,
           0,
           1,
           3,
           1,
           2,
           3,
           1,
           2,
           1,
           0,
           2,
           0,
           0,
           1,
           3,
           1,
           1,
           3,
           1,
           1,
           2,
           2,
           1,
           1,
           0,
           0,
           0,
           1,
           1,
           3,
           1,
           0,
           2,
           1,
           0,
           1,
           1,
           2,
           1,
           3,
           2,
           2,
           3,
           3,
           1,
           0,
           0,
           2,
           2,
           0,
           3,
           0,
           2,
           3,
           0,
           1,
           2,
           3,
           1,
           1,
           3,
           3,
           1,
           1,
           2,
           1,
           2,
           2,
           0,
           3,
           1,
           3,
           3,
           2,
           1,
           1,
           2,
           2,
           3,
           1,
           1,
           1,
           1,
           3,
           0,
           1,
           2,
           3,
           0,
           1,
           0,
           2,
           2,
           0,
           0,
           2,
           1,
           1,
           1,
           3,
           2,
           2,
           2,
           2,
           1,
           2,
           2,
           2,
           1,
           3,
           0,
           2,
           3,
           0,
           3,
           1,
           1,
           2,
           1,
           0,
           1,
           1,
           3,
           0,
           2,
           3,
           2,
           1,
           1,
           0,
           1,
           1,
           2,
           0,
           1,
           2,
           0,
           3,
           2,
           1,
           1,
           3,
           2,
           1,
           2,
           2,
           0,
           2,
           1,
           1,
           1,
           2,
           1,
           1,
           1,
           1,
           0,
           2,
           0,
           2,
           1,
           0,
           2,
           1,
           1,
           1,
           0,
           1,
           3,
           1,
           0,
           1,
           1,
           3,
           0,
           1,
           2,
           2,
           2,
           0,
           1,
           3,
           3,
           1,
           3,
           1,
           3,
           2,
           3,
           1,
           2,
           3,
           1,
           3,
           1,
           2,
           2,
           1,
           3
          ],
          "coloraxis": "coloraxis",
          "symbol": "circle"
         },
         "mode": "markers",
         "name": "",
         "orientation": "v",
         "showlegend": false,
         "type": "scatter",
         "x": [
          0.11909068411285961,
          0.11834078139754713,
          1.6577243327121483,
          1.6516724283578872,
          -0.36797766843376084,
          -0.4312128291424973,
          -1.58677565600737,
          -0.42848539510789424,
          -0.3760062014916136,
          0.12015756832295792,
          1.6596576827180027,
          -1.5864657209638189,
          0.12486643792140248,
          1.6617236860284739,
          -0.43110683537940947,
          -1.5864657209638189,
          0.18867709003450334,
          -1.5870855910509203,
          0.11949832364448468,
          -1.5888040445435558,
          -0.4265057872556102,
          0.1161913553278074,
          -0.42719222214764785,
          1.6555904033539683,
          -0.3614273726090049,
          -0.4272825150104291,
          -0.41744963062791157,
          -0.4196983177199053,
          -0.4286441521317014,
          0.1190862185443123,
          -0.4245476272089479,
          0.11425213525860722,
          -0.427954340998192,
          0.11836747977962425,
          1.656076213822225,
          -0.4261025370201707,
          -1.5867519902361806,
          -0.4274209951276258,
          -1.5965524243811282,
          1.6611078125858378,
          -0.4170676030210533,
          -0.43125682963134776,
          -0.42699428945500273,
          -0.4269194870741344,
          1.6547597251967059,
          -0.42945478234400275,
          0.11978360012488075,
          -0.3510247068380319,
          -0.3608570217755912,
          -0.42612442682620955,
          -1.586132120149079,
          -1.586132120149079,
          0.10958113844875786,
          0.11709339279839572,
          1.6552564876312303,
          1.6508127427363268,
          0.11704128999285503,
          1.6480936056764839,
          -1.596545246714987,
          0.12511266738759844,
          0.11284979240115083,
          1.665482573732851,
          -1.5914177099681208,
          1.6522201639730065,
          0.11245536684809285,
          1.658379161370394,
          1.6541245368121438,
          -0.4257886367812671,
          1.6651963044604887,
          1.6638199904816253,
          1.6573927606822643,
          -0.42942545403759097,
          -0.4247641194397519,
          -0.4237480257291677,
          0.1193123308442843,
          -0.4220161198706056,
          -0.4172222813436245,
          -0.42166819915566717,
          1.6655062395040399,
          -1.5903823452931782,
          -0.42781193985251253,
          -0.3592765973628758,
          1.6557572164126368,
          1.6651963044604887,
          -0.4272554068421137,
          -0.42743771600203,
          -0.42409073572021333,
          -0.42832024787089107,
          -1.5941917447401561,
          -0.4236273070878436,
          -0.360341093563753,
          1.6658161745475903,
          1.6651963044604887,
          1.6571122104754492,
          1.6651726386893,
          -1.596570196609577,
          1.6648627036457493,
          1.6560422431887807,
          0.1171776112605624,
          0.1792339016254493,
          -0.42971192479393966,
          0.11225875045966867,
          -0.42710842894936496,
          -0.42499762924878404,
          -0.4259911846162959,
          0.1879886907759883,
          0.18096306305581947,
          0.1139657775973785,
          0.18390547161607584,
          1.6562702321728624,
          1.6630196597015479,
          0.11623435904046141,
          0.11342119001562904,
          1.6539692491231655,
          -0.43028045990156816,
          -0.35707542972628775,
          -0.37509897907052503,
          -0.4237171274657831,
          0.17893917922426042,
          -0.42865300699643427,
          0.1837316208297157,
          0.11462692040752662,
          -0.35890600520790844,
          0.16784796091665904,
          -1.5864420551926297,
          1.6506567346789396,
          1.664126761309199,
          -0.3521524781880582,
          -0.42965116750478216,
          1.6651726386893,
          0.11563905445896233,
          0.12186154785198651,
          1.6643671779485933,
          -0.42171361358560666,
          0.11548616530041227,
          1.6605644917460267,
          -1.6036941600282386,
          -0.43172410246709936,
          -1.5864657209638189,
          -1.5969925283126245,
          0.1860467940079906,
          -0.36071145293784246,
          -0.431964533174143,
          0.1269767542182313,
          0.18227745106636942,
          1.665482573732851,
          -0.43132988931686495,
          -0.3580413390718215,
          0.11923620847042239,
          -0.42355663424877665,
          1.6639762424856732,
          -0.4268702530038295,
          -0.42157288306727564,
          0.11263535783008126,
          0.11979535110786053,
          -0.3593971277881753,
          0.19496465129421645,
          -0.4247754465688451,
          0.0999904636287049,
          0.11986279698376151,
          -0.3628124756615695,
          0.11649068880401972,
          1.6614696352939822,
          -0.3651514146250315,
          0.11653224254217537,
          0.17485253045686774,
          -0.4269649921383559,
          0.1254617587673811,
          -0.42357731449957836,
          -1.594617074348809,
          -0.42615008859230813,
          -0.4254876038234069,
          -0.42511123897569336,
          0.11482668161141595,
          0.1275346572497959,
          -0.41888602048708323,
          -0.4334456033086893,
          -0.4363649335585103,
          -0.3585929501513345,
          0.11613786123911807,
          -1.5915085568325533,
          1.6655062395040399,
          1.6536472276456542,
          1.6651726386893,
          0.10912829324745814,
          0.11904023978361399,
          -0.4278578527390487,
          -0.4254454435515447,
          1.6551144876802373,
          -0.42537636618311697,
          -1.5961040276138585,
          -0.36250420025736513,
          -1.5889519145093103,
          1.663112466504457,
          0.10722669729763917,
          1.661619597084794,
          1.6655062395040399,
          1.6640315195906097,
          -0.42422369194559273,
          0.18255589089237143,
          0.18672822598449226,
          -0.42879045240020963,
          -1.586009433318067,
          1.6648627036457493,
          0.11595004471159083,
          -0.36034869536373515,
          0.19327789794892425,
          -0.42219295825923037,
          -0.4193312491014717,
          -0.36054271043664204,
          -1.5885043602539484,
          1.6633639421752149,
          0.11666656091491195,
          -1.600804272849673,
          1.6643248855316828,
          0.17489196448161448,
          -1.5877823911188877,
          0.10460147025764856,
          0.18281977936242055,
          -0.3624067557678249,
          1.651082465282659,
          0.18285320927495557,
          0.18853448993048522,
          0.11520622664531342,
          -1.5867756560073698,
          0.10030079750503658,
          -1.599906707962924,
          0.1212919007721227,
          -0.36183942370429617,
          -0.41314638612537985,
          1.6651726386893,
          1.6637091039349643,
          -1.5867519902361806,
          -1.5885168589179224,
          1.6648627036457493,
          -1.5866701990155057,
          -0.4339994899050935,
          0.1118381332565682,
          1.6556001359643306,
          -0.4291167836082394,
          -0.4234454920497103,
          -1.5927813878256785,
          1.650488715756251,
          1.6551424160313375,
          -1.595930406198373,
          -0.3625751669675552,
          0.174260214182669,
          1.6563064308425137,
          0.11650857648949421,
          -0.4275335582370079,
          0.11188832048886481,
          0.12056283593178073,
          0.1864681775181917,
          0.11714268356276723,
          0.1173018103539141,
          0.12207398621581918,
          -0.4289688184827538,
          -0.4193378741425982,
          0.1863952756910099,
          0.11743176790861996,
          0.11459967723843806,
          0.11877027612332078,
          -0.3593216994260421,
          -0.4335484677607045,
          1.6651963044604887,
          1.6658161745475903,
          -0.4254763740163293,
          1.6651963044604887,
          0.1815144900815988,
          -0.3604307182495634,
          -0.37374681757762,
          1.6651726386893,
          1.6641837991012607,
          -1.5864657209638189,
          0.12582904099908865,
          -0.4259547340788489,
          -1.6013323497618261,
          0.12064542841332386,
          -0.4245579911745016,
          0.12564385339666095,
          1.6648627036457493,
          0.11805064213688839,
          -0.4263352284082577,
          0.11608261235135105,
          -0.430173944010669,
          -1.58644205519263,
          -0.3454446036452411,
          -0.4244984002729446,
          -0.4398940556675406,
          1.6651963044604887,
          1.6658161745475903,
          -0.430521332596249,
          0.1826736462129555,
          1.6567722344184868,
          0.11299302502341048,
          1.6648627036457493,
          -1.6050517897499508,
          -0.4275630838103426,
          -1.5879451934654412,
          -1.5912871739331353,
          1.6581787476106953,
          1.6579315171383855,
          0.12297808209968825,
          1.6626503269431492,
          1.6558530050805216,
          -0.42777859861033646,
          -0.4305020426754284,
          -0.363531811216884,
          -0.4277105094265541,
          0.11768111560323591,
          -0.4321084580422177,
          -1.5870855910509203,
          -1.605129524024007,
          -0.42420159803393465,
          1.6604614678478975,
          0.11943661222857295,
          1.6634440363720573,
          1.6564707217942318,
          0.18712401595216147,
          0.11690431782620848,
          1.6512659392897233,
          0.11606027819576929,
          0.18404941055179977,
          -1.5867756560073698,
          -0.359092964532788,
          -0.42398894826643874,
          1.6651726386893,
          0.11257506066231168,
          -1.58644205519263,
          1.6503306889501037,
          0.12506693215009232,
          0.09954316738765352,
          0.11557584182881868,
          0.11511402547152798,
          -1.5957174695763057,
          -0.4254435406359527,
          1.657303752235898,
          0.11404683827157516,
          -0.4306099691936032,
          -0.4270081275392283,
          -1.5908593581793133,
          0.11818910058133923,
          -0.3647383146524799,
          1.6651963044604887,
          -1.586132120149079,
          -0.4237717750374742,
          -0.42500278606398556,
          -1.5933517161506496,
          -1.5948532932704402,
          -0.42861809374243204,
          1.6648627036457493,
          0.11234223044144266,
          0.11592978133141041,
          -0.42825186455625885,
          -1.5867756560073698,
          1.6553821973313103,
          1.662327110308127,
          0.18751808305197692,
          -0.4259785103108187,
          -1.586132120149079,
          1.6611015793136152,
          0.11566042882492425,
          -1.5958177803302807,
          -0.42560268382210886,
          1.6582139991483789,
          -0.42565642977733537,
          1.6648627036457493,
          -0.42592390926790374,
          1.6651963044604887,
          -0.4238312498256287,
          -0.4262128384806903,
          -0.4288367219165788,
          -1.5864657209638189,
          0.18603860491071814,
          1.6547780586404615,
          -0.42929553445591534,
          -0.3523179854661568,
          0.11649792724436817,
          -1.5867519902361806,
          0.12658053390856255,
          -0.42618081175540923,
          -1.599333871305638,
          0.12489770596490667,
          1.6648627036457493,
          -1.5867756560073698,
          0.11970518249075868,
          -0.41545755405611706,
          1.654871700364221,
          0.11502361129822018,
          0.11819332000639393,
          -1.6020424151913306,
          -0.3591844311285394,
          -0.42582582222556603,
          0.1152920990110011,
          -1.595708738300875,
          1.6653598869018384,
          0.1258106132170542,
          1.6658161745475903,
          0.11596270468969185,
          -0.4260914033247329,
          1.6549458012512728,
          -0.36082370931882857,
          -0.36082104240917773,
          -0.4207868331459677,
          -0.4271079552528883,
          -0.4291383459304991,
          -0.3643638245863189,
          1.6642018467254835,
          -1.5867756560073698,
          0.16664697829323302,
          0.10965060058231725,
          -0.424131754672906,
          -0.41487401121143314,
          -0.4261775437881504,
          0.11585295755838323,
          -1.591392953754132,
          0.1207051462307771,
          1.6529831421757029,
          -0.4272481985009866,
          -1.6039419513191302,
          -1.593833555419016,
          0.11880514289587248,
          0.11016301352063354,
          -0.35980416942650906,
          0.12123005128857015,
          1.657462921195447,
          0.12251112599262148,
          0.11520987531034356,
          -1.5959599444293595,
          1.6546390484755784,
          -0.35690697030629187,
          1.6648627036457493,
          0.12075169791378461,
          0.11996065054025934,
          0.12952631183697488,
          -1.5886279043349338,
          1.6533041026392192,
          0.1252546783393731,
          -1.586132120149079,
          1.6651963044604887,
          0.11803346889715517,
          -0.35173606302854893,
          -0.4311310452671929,
          -0.4190803913413465,
          -0.3543058136291208,
          -1.5877833964853754,
          0.11711147437561434,
          -1.6013893680101394,
          -0.4272415988571095,
          1.6581770686860686,
          0.1809725686211295,
          0.11546489252218838,
          0.11699274928416398,
          -0.4289803715066292,
          -0.3503931215428914,
          0.11459728606490055,
          -1.5867756560073698,
          -0.42698107800215696,
          -0.4287394002782975,
          -0.35985255654132814,
          0.11215612841386183,
          0.11799964326603173,
          1.6655062395040399,
          1.6593278426168532,
          1.6636652980914046,
          0.11380790043415961,
          -1.5971490349698434,
          1.6560330219523933,
          -0.42528900183834495,
          1.6655062395040399,
          1.6568662308081572,
          0.11686655032808936,
          0.12900456888019984,
          -1.5894263336094163,
          1.6658161745475903,
          1.6545156243758086,
          -1.5870855910509203,
          -1.58644205519263,
          -1.5883433185945193,
          0.11840232409259704,
          -1.5870855910509203,
          1.6651963044604887,
          -0.35958514096099925,
          1.6640168941966749,
          -0.3605750529038753,
          0.11213259669153788,
          0.11267097121522866,
          -0.3613638723361244,
          -0.42860113987482246,
          -0.4360911387517291,
          -0.36894709139594584,
          1.6553412634076032,
          -0.4288883004320242,
          -0.4190672015957924,
          0.17830595911125785,
          1.6526387813953292,
          0.11712110966396103,
          -0.4299551478679483,
          0.16864111099981177,
          1.663753421152499,
          0.11259177315749273,
          1.6529194298773273,
          0.11650929536477414,
          1.6651963044604887,
          0.11501839962367774,
          -1.5867756560073698,
          1.6636835146693965,
          0.11935520165960271,
          0.19035081350536331,
          -1.5876920421838714,
          -0.3512779100282872,
          0.19320446835429558,
          -0.4290227428520778,
          -0.4317143028323045,
          0.12158186801088555,
          -1.5963771662439639,
          -1.595818249501308,
          -0.37493249984051247,
          1.655129892545878,
          -0.42471396802972183,
          -0.44358987180593185,
          1.6633502691909836,
          -0.36185284078917535,
          -0.4178877669339631,
          0.11594299307852841,
          0.11823690779317537,
          0.11774216353164761,
          1.649749530849691,
          0.11606132245139081,
          1.6638668405599462,
          0.11865467635871359,
          -0.42044584096868287,
          -1.58644205519263,
          0.12278622239891904,
          -0.35444851482698353,
          -0.4296533511757562,
          1.6651726386893,
          -0.4292525469731951,
          0.13108926125350415,
          0.18586159233637564,
          -1.5901690454136492,
          -0.42231072782678325,
          -0.35668809839808974,
          1.6648627036457493,
          -0.42507343719576074,
          -1.5885618182444843,
          -1.6002314625057406,
          -1.5870855910509203,
          -1.5881730095115245,
          -0.4194831941130499,
          1.6648627036457493,
          -0.42314512141504057,
          0.11864812942467304,
          1.6648627036457493,
          -0.42490111737979136,
          0.12446948686563465,
          -0.35584823614051453,
          -1.5867519902361806,
          0.1262452379034578,
          -1.598578774049041,
          -1.5970647732108434,
          -0.4270924866766289,
          1.6651726386893,
          -0.4237320879818808,
          -0.43845583132720684,
          1.6658161745475903,
          -0.4261672532750365,
          -0.42351975457970625,
          0.12204843985816131,
          0.11856689248588323,
          -0.42725521183345977,
          -0.43202445065489625,
          -1.5884909513832173,
          -1.58644205519263,
          -1.58644205519263,
          -0.434601658196644,
          -0.4299678014180425,
          1.6639622022597509,
          -0.41762084750843087,
          -1.5889659226157038,
          0.11228741209529605,
          -0.4263773608032892,
          -1.6009495074495408,
          -0.3579813381370806,
          -0.4283989020935248,
          0.17870139044310498,
          -0.3606731335542893,
          1.6578228564656465,
          0.18478999616729144,
          0.12080568619334808,
          1.6579461814214547,
          1.6542306337034234,
          -0.4316435844636954,
          -1.5892789267155005,
          -1.58644205519263,
          0.10885070949713638,
          0.11753168726983512,
          -1.595182134680056,
          1.6651726386893,
          -1.5988105834257758,
          0.18047576920002922,
          1.6655062395040399,
          -1.5928898762308357,
          -0.42664083447055534,
          0.11063515060667647,
          1.665482573732851,
          -0.35547885122648326,
          -0.43409678144541236,
          1.6570938317132933,
          1.6651963044604887,
          -0.4287843347833742,
          -0.44392722315619115,
          0.1163759623209577,
          -0.4257886181881685,
          0.12601794157595383,
          0.13005169490303378,
          -1.5879200593032519,
          1.665482573732851,
          -0.42115046023605335,
          1.6658161745475903,
          1.6651726386893,
          0.11624485272905175,
          -0.37211474770969466,
          -0.36734432443571874,
          0.11607223668005377,
          0.18472062587964908,
          1.6568253976622573,
          -0.4249638739559072,
          -0.43316943119765755,
          -0.41866754565860265,
          -0.43028704547779584,
          1.6466732465620455,
          -1.5867519902361806,
          -0.4262187506983999,
          0.11975463914203165,
          1.6597140903537282,
          -1.6020489112835472,
          -0.4289545131914233,
          -1.5891488913479812,
          0.18269861997866,
          0.18231142386335764,
          -1.586132120149079,
          -1.5890825760489353,
          0.116719249300414,
          -0.4290312711861988,
          -0.3580906043555343,
          -0.43218352993081316,
          1.6580100082249478,
          0.12067935041581339,
          0.11883823552396053,
          0.1264263746469345,
          0.10990095421918541,
          -0.42694234240561846,
          0.10523600462781921,
          0.1876286288368397,
          0.1883023584323762,
          -0.4275110628491712,
          1.6476075423296757,
          -1.5983132425928437,
          0.11595813296063227,
          1.6644311862816352,
          -1.5881982917902282,
          1.6517216081087385,
          -0.3627812792613393,
          -0.36510504994767234,
          0.11625590080695877,
          -0.3527025468383836,
          -1.58644205519263,
          -0.42255405037357124,
          -0.4277108023457687,
          1.662261455169987,
          -1.5969899458088694,
          0.11244800906358439,
          1.6651963044604887,
          0.11331885561130017,
          -0.35924664386955313,
          -0.42416448455020656,
          -1.593565161455969,
          -0.356317367080058,
          -0.4278213451787169,
          0.18726805996449628,
          -1.5864657209638189,
          -0.4177264525694833,
          0.18259367565274023,
          -1.5867756560073698,
          1.657618110891994,
          0.11778083662920276,
          -0.42660050684638867,
          -0.42715976635084957,
          1.6648627036457493,
          0.11230717334942872,
          -0.4228244040294072,
          0.11980878412966005,
          0.19107810441238365,
          -1.605735117906985,
          0.11494200583827166,
          -0.43083168385404375,
          -0.4265636326546757,
          -0.4212948568366823,
          0.11854335093860806,
          -0.4318112587911132,
          -0.42651572520499276,
          -0.36009801096661664,
          -0.42644586429875814,
          -1.599877324948134,
          0.11524889543542594,
          -1.5881148463717603,
          0.11958248698632462,
          -0.3561735929846016,
          -1.5870855910509203,
          0.13037585319392475,
          -0.43252473082103793,
          -0.35208220297139625,
          -0.3601465680687787,
          -1.5885654966198117,
          -0.3636883242202386,
          1.6513094188010324,
          -0.4309165887904695,
          -1.5864657209638189,
          -0.4261346848781969,
          -0.4269645523142621,
          1.6658161745475903,
          -1.5870855910509203,
          -0.4299460876654546,
          0.18757142225328777,
          0.11623780109598947,
          0.11983931913558361,
          -1.5993576477960758,
          -0.42582307638611816,
          1.6597885296767565,
          1.654488156263846,
          -0.43093255441332834,
          1.6548891689196201,
          -0.3564337818315847,
          1.6648627036457493,
          0.1898669445833641,
          1.654462061723492,
          -0.35746257335532305,
          0.11908234614678459,
          1.650452913379694,
          -0.4162391669676465,
          1.665482573732851,
          -0.3551699864115682,
          0.11634350937988455,
          0.11136058748878674,
          -0.4180276221031156,
          1.6633547068711787
         ],
         "xaxis": "x",
         "y": [
          -0.6429533709197465,
          -0.6323236330468266,
          -0.01222337351218662,
          -0.004343429906983172,
          0.733629755914366,
          0.9093269243485042,
          -0.6319787803966231,
          0.9160503325142108,
          0.7434588146262742,
          -0.640828843699796,
          -0.020575724024018475,
          -0.6334701122094449,
          -0.6564057798638403,
          -0.023523155192418252,
          0.9056538307878295,
          -0.6334701122094449,
          -0.830411362758121,
          -0.6304874485838,
          -0.6333962383472967,
          -0.6308885629800074,
          0.8939130544205373,
          -0.6249526875956517,
          0.8922379301951171,
          -0.006739359026644933,
          0.7169096813222272,
          0.9088188204444552,
          0.8727052477819056,
          0.8811304858516358,
          0.9024865183508461,
          -0.6377654351292797,
          0.8926957255098001,
          -0.6442276205186755,
          0.8855562216559729,
          -0.6432339568737561,
          -0.017533149092087686,
          0.8899520058875363,
          -0.6290170967399679,
          0.9003144142458996,
          -0.6013437949043723,
          -0.026258377535116204,
          0.8757846181867843,
          0.8952262026018856,
          0.8970722202859968,
          0.8964853821841068,
          -0.0033198363110634463,
          0.9142513250926606,
          -0.6451468008009347,
          0.6917549967164397,
          0.7331870300871348,
          0.887982088987737,
          -0.6319997603656133,
          -0.6319997603656133,
          -0.6268575695116,
          -0.634686930171578,
          -0.007187998903560808,
          0.005451466206681445,
          -0.640480189800495,
          0.02159572339968153,
          -0.6150484620799752,
          -0.6553801107591352,
          -0.6326919970628655,
          -0.03531154167859211,
          -0.6203258527803103,
          0.0016191824829673552,
          -0.6532833356217964,
          -0.019665662878066297,
          -0.002985600789215577,
          0.8960970092657977,
          -0.03085852620911491,
          -0.031822086540068385,
          -0.01385652143560452,
          0.8976867879083587,
          0.901943612151539,
          0.893770047816425,
          -0.6336461331000952,
          0.8889662971555233,
          0.873669044778863,
          0.8901210942505304,
          -0.03234985802193742,
          -0.618078152432565,
          0.8818992895927812,
          0.7295544341694445,
          -0.014146241305969863,
          -0.03085852620911491,
          0.9062273953599447,
          0.8975313342293118,
          0.8952173441214573,
          0.8971984513573162,
          -0.6256006731794651,
          0.8867687963779464,
          0.7164614237154096,
          -0.03384118983475988,
          -0.03085852620911491,
          -0.016141212805960037,
          -0.03382020986576956,
          -0.6089986808410689,
          -0.032328878052946985,
          -0.009947783425358712,
          -0.6300709322558373,
          -0.8232358450244817,
          0.911277988784144,
          -0.6213522525776118,
          0.8962315251361287,
          0.8920911152862728,
          0.8958248716286961,
          -0.8113223912709219,
          -0.8171625968904358,
          -0.6145886485143043,
          -0.8330396271550341,
          -0.005825959935605628,
          -0.0294129286788085,
          -0.6198917482040337,
          -0.6134125893247421,
          -0.008031879909660651,
          0.9022612815609247,
          0.7110867899752958,
          0.7324783725404581,
          0.8938115618636467,
          -0.8179740789942115,
          0.8941562730358628,
          -0.8170093175875826,
          -0.6360275530545302,
          0.7281445995642912,
          -0.7861807653103446,
          -0.6305084285527904,
          0.010965113868953599,
          -0.031409917789236685,
          0.7116648263037656,
          0.9031067813209331,
          -0.03382020986576956,
          -0.6309176829620833,
          -0.6499859356996134,
          -0.03108690067994385,
          0.8862445728532542,
          -0.620897000501507,
          -0.022647295097011376,
          -0.5846982674569422,
          0.9098604031471734,
          -0.6334701122094449,
          -0.6171971216346633,
          -0.8210659117223064,
          0.7094549595662492,
          0.9114451190532034,
          -0.6624143351258149,
          -0.8115811178878508,
          -0.03531154167859211,
          0.9250862469352269,
          0.7213935528992031,
          -0.6451949205015602,
          0.8811732491390775,
          -0.03177767259220114,
          0.8933906139300963,
          0.8907747276686778,
          -0.6444921257833532,
          -0.6387204162582582,
          0.7415263448401554,
          -0.8444217857694696,
          0.9019283933359629,
          -0.6095886014379291,
          -0.6483593322412633,
          0.7226469486044808,
          -0.6476960673893014,
          -0.020048986860188318,
          0.7233854280033658,
          -0.6418514722957637,
          -0.8138315144475244,
          0.905429931510747,
          -0.6587265851239897,
          0.8939994106760205,
          -0.6090023669647092,
          0.8943909612504839,
          0.8964359598763579,
          0.9014772319984781,
          -0.6191552175765114,
          -0.6686374229735568,
          0.8784063619864534,
          0.9139580387502585,
          0.9119434597465237,
          0.7206524235963093,
          -0.631467911463103,
          -0.6195912989303203,
          -0.03234985802193742,
          -0.008133495212565508,
          -0.03382020986576956,
          -0.6236504958953338,
          -0.6378272109132147,
          0.9080458126757988,
          0.8927426103105841,
          -0.0016555303391859906,
          0.8871121649926796,
          -0.6102801010615408,
          0.7154956400958479,
          -0.6291794850366386,
          -0.030864944159173863,
          -0.6158810638905202,
          -0.02366300620182241,
          -0.03234985802193742,
          -0.03153788191310209,
          0.8834341759823675,
          -0.8147079828968721,
          -0.803477157122728,
          0.9003822014633214,
          -0.6339081955668173,
          -0.032328878052946985,
          -0.6298125046089833,
          0.7338372488655011,
          -0.8454386455519802,
          0.8836927867669346,
          0.878859303950749,
          0.7282916344415645,
          -0.630651437402955,
          -0.03052706844295777,
          -0.6474597705131419,
          -0.596797605707537,
          -0.0311437235949045,
          -0.8027958317378074,
          -0.6295158978567982,
          -0.6175004940022626,
          -0.8075372733090548,
          0.7309720831529405,
          0.005093762968172095,
          -0.8241290541385228,
          -0.8338891399792621,
          -0.6371569652235702,
          -0.6319787803966225,
          -0.6015406378089926,
          -0.5912215856090856,
          -0.6405251975896318,
          0.7261438464334099,
          0.8624721026689696,
          -0.03382020986576956,
          -0.0281555667873059,
          -0.6290170967399679,
          -0.6285949564454979,
          -0.032328878052946985,
          -0.6302893868741042,
          0.903675092545037,
          -0.6257328859843171,
          -0.008634034478308421,
          0.9075747595943002,
          0.8888208169217072,
          -0.6162402710930563,
          0.013007167708843649,
          -0.005599032314437069,
          -0.6138623319895758,
          0.7172425342161348,
          -0.807996715626434,
          -0.014128427024057852,
          -0.6316571692645949,
          0.9058536788827866,
          -0.6237577038987789,
          -0.6429159350503114,
          -0.8276231859744816,
          -0.6336023201745292,
          -0.6383841811007971,
          -0.644010008123512,
          0.902050305672448,
          0.8829931995877578,
          -0.8194355411256855,
          -0.6297294544530947,
          -0.6315613118861424,
          -0.6305589189130091,
          0.707572198793183,
          0.913654311035308,
          -0.03085852620911491,
          -0.03384118983475988,
          0.8990788947982015,
          -0.03085852620911491,
          -0.8103839243100838,
          0.7299442958142527,
          0.7505589897589774,
          -0.03382020986576956,
          -0.03133328339837859,
          -0.6334701122094449,
          -0.6556670261950086,
          0.8882428378920041,
          -0.591063764459917,
          -0.6478043761175336,
          0.8984050565226418,
          -0.6661129355101117,
          -0.032328878052946985,
          -0.631000229746853,
          0.9074637215081137,
          -0.6398277360478809,
          0.9004966414328792,
          -0.6305084285527903,
          0.6892096850916126,
          0.8887883412636646,
          0.9137106890424195,
          -0.03085852620911491,
          -0.03384118983475988,
          0.9019048972593703,
          -0.8290714307540575,
          -0.01278249134691453,
          -0.6382883183425416,
          -0.032328878052946985,
          -0.5736356395916434,
          0.8994361673439895,
          -0.6297346345611397,
          -0.6216981726363048,
          -0.01924384195934411,
          -0.015040415163362646,
          -0.6523340496232839,
          -0.026093650067231862,
          -0.006386534651342488,
          0.9036494519860311,
          0.9019635691094828,
          0.7224333187595615,
          0.8954225865543674,
          -0.6354777410497057,
          0.8997397252083715,
          -0.6304874485838,
          -0.5756478331162449,
          0.8890215945977006,
          -0.02331128451392349,
          -0.6462713409091516,
          -0.030419456107968784,
          -0.01581544218745009,
          -0.8245852418609579,
          -0.6368159635120861,
          0.0015247697081232896,
          -0.6360749942146896,
          -0.8232419663255249,
          -0.6319787803966225,
          0.7233868111117967,
          0.8908185041313953,
          -0.03382020986576956,
          -0.6388498836320734,
          -0.6305084285527903,
          0.0067115440644819205,
          -0.6616941352452834,
          -0.6044663204767966,
          -0.6219641705794006,
          -0.6350457992142535,
          -0.6135762362671828,
          0.8926796581169142,
          -0.013976110708295152,
          -0.6182952414796778,
          0.9044136544580897,
          0.8772232592604334,
          -0.6187190536778503,
          -0.6415331158375103,
          0.7405443995167567,
          -0.03085852620911491,
          -0.6319997603656133,
          0.8892025401247451,
          0.8895218487655163,
          -0.6138821358054306,
          -0.6150429998858555,
          0.8961071826575839,
          -0.032328878052946985,
          -0.6352816951098795,
          -0.6440431049637085,
          0.9132396851066519,
          -0.6319787803966225,
          -0.0032035950148059725,
          -0.03225117069617356,
          -0.8198347203035752,
          0.9060352461051844,
          -0.6319997603656133,
          -0.026266752386291024,
          -0.6206628648772636,
          -0.6079877552573161,
          0.89440634412399,
          -0.00965771939273654,
          0.9026524807185722,
          -0.032328878052946985,
          0.8985103533318309,
          -0.03085852620911491,
          0.8820536983824081,
          0.8980894016292832,
          0.91126623005861,
          -0.6334701122094449,
          -0.814597058447239,
          -0.014274153485513467,
          0.8977958353463447,
          0.6957406392740334,
          -0.6233531291290939,
          -0.6290170967399679,
          -0.6667621895451261,
          0.8993528432626136,
          -0.6050808696237884,
          -0.6537611750311002,
          -0.032328878052946985,
          -0.6319787803966225,
          -0.6471271580200482,
          0.8727211451379481,
          -0.007704988372323091,
          -0.637467831022449,
          -0.640840106235242,
          -0.5984611393177872,
          0.7379966143232489,
          0.8960142934881187,
          -0.6389493414178723,
          -0.605407928130395,
          -0.03340310647738747,
          -0.6622716541690993,
          -0.03384118983475988,
          -0.6381138431795889,
          0.8982853129760675,
          -0.0037899246492098778,
          0.7138724882459754,
          0.7157838233478256,
          0.8753231628262028,
          0.9052378502467047,
          0.9127687283396657,
          0.7263513639881065,
          -0.031474557010969004,
          -0.6319787803966225,
          -0.7832877770527861,
          -0.6210409863724222,
          0.8951622321975964,
          0.8696896732398645,
          0.9000773289617167,
          -0.6344457925400526,
          -0.6175282259335277,
          -0.6458491434519447,
          -0.01787341028743729,
          0.9088649271519984,
          -0.6105520628029848,
          -0.6174884123060254,
          -0.6324198248034839,
          -0.6459061469109029,
          0.710739469353328,
          -0.6425160487515617,
          -0.011854503805441586,
          -0.6536487793600817,
          -0.6379049123769861,
          -0.624160873265422,
          -0.004367591044524855,
          0.7180055039841597,
          -0.032328878052946985,
          -0.6431587510401102,
          -0.6410934169551911,
          -0.6661560168459316,
          -0.6306519058951952,
          -0.007183322206125655,
          -0.6538108770227862,
          -0.6319997603656133,
          -0.03085852620911491,
          -0.6398672207721887,
          0.7039059619640997,
          0.9075290549722486,
          0.8781452107132585,
          0.7131492431280829,
          -0.6295172486392456,
          -0.6308798868839947,
          -0.601399227122663,
          0.9043709499173538,
          -0.009707338134643457,
          -0.7985726227819328,
          -0.6451932860095787,
          -0.636762658363103,
          0.8963115276022494,
          0.6906958252346729,
          -0.6406357221636888,
          -0.6319787803966225,
          0.9054083189915864,
          0.912584645671749,
          0.7196801464369526,
          -0.6298084808688711,
          -0.6335020717004677,
          -0.03234985802193742,
          -0.021515453704594182,
          -0.03202992693266625,
          -0.6455118225721584,
          -0.6221085203060679,
          -0.01377567665452302,
          0.9031461466770734,
          -0.03234985802193742,
          -0.016471704244796,
          -0.6377523237197056,
          -0.664258172982126,
          -0.622516937475233,
          -0.03384118983475988,
          -0.0024601464171151227,
          -0.6304874485838,
          -0.6305084285527903,
          -0.6302695444103729,
          -0.6584819108029395,
          -0.6304874485838,
          -0.03085852620911491,
          0.7231348474555419,
          -0.02964978026934997,
          0.7099200032269966,
          -0.6327699844211991,
          -0.6329322562342045,
          0.7131794946901029,
          0.905668720983646,
          0.9123113228330756,
          0.732576292107843,
          -0.011746213531045354,
          0.9085690837345373,
          0.8800706840047267,
          -0.816851595110122,
          -0.010705076188351197,
          -0.6301468462293901,
          0.9173945517252388,
          -0.78157615054128,
          -0.03000377532277335,
          -0.6273154087929388,
          0.002558696701326135,
          -0.6476055592337011,
          -0.03085852620911491,
          -0.6227131344204904,
          -0.6319787803966225,
          -0.03009769972896048,
          -0.6393117888137995,
          -0.8222230672389984,
          -0.6293945075408441,
          0.7012025854543371,
          -0.8376572699277829,
          0.9148318013364581,
          0.9079658177476729,
          -0.650394460203644,
          -0.6087393306111378,
          -0.6079883856224583,
          0.739310921999498,
          -0.009265840455113247,
          0.8910938028382198,
          0.9266677099254936,
          -0.030545439084244633,
          0.7369102435147825,
          0.8727749168507424,
          -0.6279142270707931,
          -0.6587041595416449,
          -0.6376635181420163,
          0.013561723871086355,
          -0.6322580873494321,
          -0.03175914007801225,
          -0.6421607470385818,
          0.8795968142630612,
          -0.6305084285527903,
          -0.6570946713130763,
          0.7226542937047284,
          0.899288343568902,
          -0.03382020986576956,
          0.9035768478810701,
          -0.6748115017104579,
          -0.826530425035852,
          -0.621607072480003,
          0.8752162066867992,
          0.7117652179295139,
          -0.032328878052946985,
          0.9015280214185066,
          -0.630563114462309,
          -0.6062868481929687,
          -0.6304874485838,
          -0.6300407218637564,
          0.8756962641972799,
          -0.032328878052946985,
          0.8843212387522569,
          -0.635229626923718,
          -0.032328878052946985,
          0.901759545530018,
          -0.654336518301597,
          0.718707894810495,
          -0.6290170967399679,
          -0.6608310913598526,
          -0.6040663419535086,
          -0.6001244206243251,
          0.9071663853117202,
          -0.03382020986576956,
          0.8956992132465829,
          0.9137352953444103,
          -0.03384118983475988,
          0.9045939993414804,
          0.8959844984995076,
          -0.653021016486608,
          -0.6467487808918508,
          0.8989932023983462,
          0.9037008534787532,
          -0.6288911915994811,
          -0.6305084285527903,
          -0.6305084285527903,
          0.9072071091838777,
          0.9154697988510765,
          -0.02972326283449715,
          0.8693180385338412,
          -0.629198305938741,
          -0.627036999349908,
          0.902403952794617,
          -0.5964671695030089,
          0.7195664165699177,
          0.9111343776453323,
          -0.8115684343192046,
          0.7178903014872662,
          -0.01327865670453887,
          -0.8170567512598667,
          -0.6552528203359689,
          -0.013112960724305029,
          -0.006989599586693166,
          0.9080570822092039,
          -0.6296188495407478,
          -0.6305084285527903,
          -0.6373777131146133,
          -0.627687453662484,
          -0.6052259675264828,
          -0.03382020986576956,
          -0.6081932984165624,
          -0.8177518024624473,
          -0.03234985802193742,
          -0.621943766946716,
          0.8990910662416322,
          -0.6235336761782561,
          -0.03531154167859211,
          0.705071580627993,
          0.9085802895862579,
          -0.014258154083345357,
          -0.03085852620911491,
          0.9163397767530711,
          0.9376609655323597,
          -0.6337758523379518,
          0.9031949709959076,
          -0.6598870652893236,
          -0.6723900431656918,
          -0.62970086499995,
          -0.03531154167859211,
          0.8850934581128898,
          -0.03384118983475988,
          -0.03382020986576956,
          -0.6434580126707741,
          0.7415200672649962,
          0.740485735410994,
          -0.639874430960292,
          -0.8171499552487482,
          -0.01221449699590683,
          0.8952646312911686,
          0.9009748325030946,
          0.8729766429402562,
          0.9048475257802456,
          0.024222967183688247,
          -0.6290170967399679,
          0.8999892100542474,
          -0.634959611890656,
          -0.019088750072918867,
          -0.5824877570075941,
          0.8963790245643525,
          -0.6259596776025167,
          -0.8305965896928612,
          -0.8024970298685705,
          -0.6319997603656133,
          -0.6296860820437877,
          -0.6351568645192771,
          0.9000586440410495,
          0.7132907936385231,
          0.9061149658539805,
          -0.02328605933685443,
          -0.6394404512935248,
          -0.650199715765983,
          -0.6579598742043714,
          -0.6321511296870833,
          0.8964546743964653,
          -0.6185557031888497,
          -0.8219995061091235,
          -0.8210943017649328,
          0.9001606473114789,
          0.019755005240152956,
          -0.6177839396377243,
          -0.6362122337113614,
          -0.03100090086411593,
          -0.6281669385139486,
          0.004764840523951304,
          0.7151233644533007,
          0.7241678172433874,
          -0.6422227573645161,
          0.7009472090598942,
          -0.6305084285527903,
          0.8882397979233027,
          0.8896989372475814,
          -0.024873897347107474,
          -0.6038393884408733,
          -0.6370473258117199,
          -0.03085852620911491,
          -0.6321272856792363,
          0.7398207789311501,
          0.8892369811405807,
          -0.6209433094753367,
          0.719488769750174,
          0.899809269502401,
          -0.8260519204735902,
          -0.6334701122094449,
          0.8778582969223782,
          -0.8206950069107917,
          -0.6319787803966225,
          -0.015461499078348432,
          -0.6376115580438666,
          0.8956935437293003,
          0.8866237900503602,
          -0.032328878052946985,
          -0.6257900372624378,
          0.8764010430964636,
          -0.6425178718562709,
          -0.8391357616017786,
          -0.5726459883798444,
          -0.624723526901828,
          0.9053034217745373,
          0.9033740945325011,
          0.8899026116562829,
          -0.6411226638093925,
          0.9244394922993355,
          0.9072212110326953,
          0.7205707721147564,
          0.8933062247384235,
          -0.5955521842908879,
          -0.6409478949055597,
          -0.6280548235708009,
          -0.6473575171850525,
          0.7298752862578239,
          -0.6304874485838,
          -0.6757700169352454,
          0.8935226858311877,
          0.6995926396835574,
          0.7181594656467221,
          -0.6270835965896034,
          0.723443443657893,
          -0.012491170792676472,
          0.9014065964802724,
          -0.6334701122094449,
          0.8975070661355514,
          0.8907015780323227,
          -0.03384118983475988,
          -0.6304874485838,
          0.898829522065934,
          -0.8327825240815374,
          -0.6415597351325839,
          -0.6386613420392182,
          -0.5922261136592318,
          0.8948303257545928,
          -0.02471199121776948,
          -0.005592460691554077,
          0.9237123431431786,
          -0.013404773855868796,
          0.7295257037603952,
          -0.032328878052946985,
          -0.8126143255330394,
          -0.007204228709384026,
          0.7024063067546329,
          -0.6415533873582708,
          0.010691265240751669,
          0.8749899299082491,
          -0.03531154167859211,
          0.7047664678527747,
          -0.6337867007578072,
          -0.6359132627756873,
          0.8783102670843385,
          -0.032447228656798645
         ],
         "yaxis": "y"
        }
       ],
       "layout": {
        "coloraxis": {
         "colorbar": {
          "title": {
           "text": "color"
          }
         },
         "colorscale": [
          [
           0,
           "#0d0887"
          ],
          [
           0.1111111111111111,
           "#46039f"
          ],
          [
           0.2222222222222222,
           "#7201a8"
          ],
          [
           0.3333333333333333,
           "#9c179e"
          ],
          [
           0.4444444444444444,
           "#bd3786"
          ],
          [
           0.5555555555555556,
           "#d8576b"
          ],
          [
           0.6666666666666666,
           "#ed7953"
          ],
          [
           0.7777777777777778,
           "#fb9f3a"
          ],
          [
           0.8888888888888888,
           "#fdca26"
          ],
          [
           1,
           "#f0f921"
          ]
         ]
        },
        "legend": {
         "tracegroupgap": 0
        },
        "template": {
         "data": {
          "bar": [
           {
            "error_x": {
             "color": "#2a3f5f"
            },
            "error_y": {
             "color": "#2a3f5f"
            },
            "marker": {
             "line": {
              "color": "#E5ECF6",
              "width": 0.5
             },
             "pattern": {
              "fillmode": "overlay",
              "size": 10,
              "solidity": 0.2
             }
            },
            "type": "bar"
           }
          ],
          "barpolar": [
           {
            "marker": {
             "line": {
              "color": "#E5ECF6",
              "width": 0.5
             },
             "pattern": {
              "fillmode": "overlay",
              "size": 10,
              "solidity": 0.2
             }
            },
            "type": "barpolar"
           }
          ],
          "carpet": [
           {
            "aaxis": {
             "endlinecolor": "#2a3f5f",
             "gridcolor": "white",
             "linecolor": "white",
             "minorgridcolor": "white",
             "startlinecolor": "#2a3f5f"
            },
            "baxis": {
             "endlinecolor": "#2a3f5f",
             "gridcolor": "white",
             "linecolor": "white",
             "minorgridcolor": "white",
             "startlinecolor": "#2a3f5f"
            },
            "type": "carpet"
           }
          ],
          "choropleth": [
           {
            "colorbar": {
             "outlinewidth": 0,
             "ticks": ""
            },
            "type": "choropleth"
           }
          ],
          "contour": [
           {
            "colorbar": {
             "outlinewidth": 0,
             "ticks": ""
            },
            "colorscale": [
             [
              0,
              "#0d0887"
             ],
             [
              0.1111111111111111,
              "#46039f"
             ],
             [
              0.2222222222222222,
              "#7201a8"
             ],
             [
              0.3333333333333333,
              "#9c179e"
             ],
             [
              0.4444444444444444,
              "#bd3786"
             ],
             [
              0.5555555555555556,
              "#d8576b"
             ],
             [
              0.6666666666666666,
              "#ed7953"
             ],
             [
              0.7777777777777778,
              "#fb9f3a"
             ],
             [
              0.8888888888888888,
              "#fdca26"
             ],
             [
              1,
              "#f0f921"
             ]
            ],
            "type": "contour"
           }
          ],
          "contourcarpet": [
           {
            "colorbar": {
             "outlinewidth": 0,
             "ticks": ""
            },
            "type": "contourcarpet"
           }
          ],
          "heatmap": [
           {
            "colorbar": {
             "outlinewidth": 0,
             "ticks": ""
            },
            "colorscale": [
             [
              0,
              "#0d0887"
             ],
             [
              0.1111111111111111,
              "#46039f"
             ],
             [
              0.2222222222222222,
              "#7201a8"
             ],
             [
              0.3333333333333333,
              "#9c179e"
             ],
             [
              0.4444444444444444,
              "#bd3786"
             ],
             [
              0.5555555555555556,
              "#d8576b"
             ],
             [
              0.6666666666666666,
              "#ed7953"
             ],
             [
              0.7777777777777778,
              "#fb9f3a"
             ],
             [
              0.8888888888888888,
              "#fdca26"
             ],
             [
              1,
              "#f0f921"
             ]
            ],
            "type": "heatmap"
           }
          ],
          "heatmapgl": [
           {
            "colorbar": {
             "outlinewidth": 0,
             "ticks": ""
            },
            "colorscale": [
             [
              0,
              "#0d0887"
             ],
             [
              0.1111111111111111,
              "#46039f"
             ],
             [
              0.2222222222222222,
              "#7201a8"
             ],
             [
              0.3333333333333333,
              "#9c179e"
             ],
             [
              0.4444444444444444,
              "#bd3786"
             ],
             [
              0.5555555555555556,
              "#d8576b"
             ],
             [
              0.6666666666666666,
              "#ed7953"
             ],
             [
              0.7777777777777778,
              "#fb9f3a"
             ],
             [
              0.8888888888888888,
              "#fdca26"
             ],
             [
              1,
              "#f0f921"
             ]
            ],
            "type": "heatmapgl"
           }
          ],
          "histogram": [
           {
            "marker": {
             "pattern": {
              "fillmode": "overlay",
              "size": 10,
              "solidity": 0.2
             }
            },
            "type": "histogram"
           }
          ],
          "histogram2d": [
           {
            "colorbar": {
             "outlinewidth": 0,
             "ticks": ""
            },
            "colorscale": [
             [
              0,
              "#0d0887"
             ],
             [
              0.1111111111111111,
              "#46039f"
             ],
             [
              0.2222222222222222,
              "#7201a8"
             ],
             [
              0.3333333333333333,
              "#9c179e"
             ],
             [
              0.4444444444444444,
              "#bd3786"
             ],
             [
              0.5555555555555556,
              "#d8576b"
             ],
             [
              0.6666666666666666,
              "#ed7953"
             ],
             [
              0.7777777777777778,
              "#fb9f3a"
             ],
             [
              0.8888888888888888,
              "#fdca26"
             ],
             [
              1,
              "#f0f921"
             ]
            ],
            "type": "histogram2d"
           }
          ],
          "histogram2dcontour": [
           {
            "colorbar": {
             "outlinewidth": 0,
             "ticks": ""
            },
            "colorscale": [
             [
              0,
              "#0d0887"
             ],
             [
              0.1111111111111111,
              "#46039f"
             ],
             [
              0.2222222222222222,
              "#7201a8"
             ],
             [
              0.3333333333333333,
              "#9c179e"
             ],
             [
              0.4444444444444444,
              "#bd3786"
             ],
             [
              0.5555555555555556,
              "#d8576b"
             ],
             [
              0.6666666666666666,
              "#ed7953"
             ],
             [
              0.7777777777777778,
              "#fb9f3a"
             ],
             [
              0.8888888888888888,
              "#fdca26"
             ],
             [
              1,
              "#f0f921"
             ]
            ],
            "type": "histogram2dcontour"
           }
          ],
          "mesh3d": [
           {
            "colorbar": {
             "outlinewidth": 0,
             "ticks": ""
            },
            "type": "mesh3d"
           }
          ],
          "parcoords": [
           {
            "line": {
             "colorbar": {
              "outlinewidth": 0,
              "ticks": ""
             }
            },
            "type": "parcoords"
           }
          ],
          "pie": [
           {
            "automargin": true,
            "type": "pie"
           }
          ],
          "scatter": [
           {
            "fillpattern": {
             "fillmode": "overlay",
             "size": 10,
             "solidity": 0.2
            },
            "type": "scatter"
           }
          ],
          "scatter3d": [
           {
            "line": {
             "colorbar": {
              "outlinewidth": 0,
              "ticks": ""
             }
            },
            "marker": {
             "colorbar": {
              "outlinewidth": 0,
              "ticks": ""
             }
            },
            "type": "scatter3d"
           }
          ],
          "scattercarpet": [
           {
            "marker": {
             "colorbar": {
              "outlinewidth": 0,
              "ticks": ""
             }
            },
            "type": "scattercarpet"
           }
          ],
          "scattergeo": [
           {
            "marker": {
             "colorbar": {
              "outlinewidth": 0,
              "ticks": ""
             }
            },
            "type": "scattergeo"
           }
          ],
          "scattergl": [
           {
            "marker": {
             "colorbar": {
              "outlinewidth": 0,
              "ticks": ""
             }
            },
            "type": "scattergl"
           }
          ],
          "scattermapbox": [
           {
            "marker": {
             "colorbar": {
              "outlinewidth": 0,
              "ticks": ""
             }
            },
            "type": "scattermapbox"
           }
          ],
          "scatterpolar": [
           {
            "marker": {
             "colorbar": {
              "outlinewidth": 0,
              "ticks": ""
             }
            },
            "type": "scatterpolar"
           }
          ],
          "scatterpolargl": [
           {
            "marker": {
             "colorbar": {
              "outlinewidth": 0,
              "ticks": ""
             }
            },
            "type": "scatterpolargl"
           }
          ],
          "scatterternary": [
           {
            "marker": {
             "colorbar": {
              "outlinewidth": 0,
              "ticks": ""
             }
            },
            "type": "scatterternary"
           }
          ],
          "surface": [
           {
            "colorbar": {
             "outlinewidth": 0,
             "ticks": ""
            },
            "colorscale": [
             [
              0,
              "#0d0887"
             ],
             [
              0.1111111111111111,
              "#46039f"
             ],
             [
              0.2222222222222222,
              "#7201a8"
             ],
             [
              0.3333333333333333,
              "#9c179e"
             ],
             [
              0.4444444444444444,
              "#bd3786"
             ],
             [
              0.5555555555555556,
              "#d8576b"
             ],
             [
              0.6666666666666666,
              "#ed7953"
             ],
             [
              0.7777777777777778,
              "#fb9f3a"
             ],
             [
              0.8888888888888888,
              "#fdca26"
             ],
             [
              1,
              "#f0f921"
             ]
            ],
            "type": "surface"
           }
          ],
          "table": [
           {
            "cells": {
             "fill": {
              "color": "#EBF0F8"
             },
             "line": {
              "color": "white"
             }
            },
            "header": {
             "fill": {
              "color": "#C8D4E3"
             },
             "line": {
              "color": "white"
             }
            },
            "type": "table"
           }
          ]
         },
         "layout": {
          "annotationdefaults": {
           "arrowcolor": "#2a3f5f",
           "arrowhead": 0,
           "arrowwidth": 1
          },
          "autotypenumbers": "strict",
          "coloraxis": {
           "colorbar": {
            "outlinewidth": 0,
            "ticks": ""
           }
          },
          "colorscale": {
           "diverging": [
            [
             0,
             "#8e0152"
            ],
            [
             0.1,
             "#c51b7d"
            ],
            [
             0.2,
             "#de77ae"
            ],
            [
             0.3,
             "#f1b6da"
            ],
            [
             0.4,
             "#fde0ef"
            ],
            [
             0.5,
             "#f7f7f7"
            ],
            [
             0.6,
             "#e6f5d0"
            ],
            [
             0.7,
             "#b8e186"
            ],
            [
             0.8,
             "#7fbc41"
            ],
            [
             0.9,
             "#4d9221"
            ],
            [
             1,
             "#276419"
            ]
           ],
           "sequential": [
            [
             0,
             "#0d0887"
            ],
            [
             0.1111111111111111,
             "#46039f"
            ],
            [
             0.2222222222222222,
             "#7201a8"
            ],
            [
             0.3333333333333333,
             "#9c179e"
            ],
            [
             0.4444444444444444,
             "#bd3786"
            ],
            [
             0.5555555555555556,
             "#d8576b"
            ],
            [
             0.6666666666666666,
             "#ed7953"
            ],
            [
             0.7777777777777778,
             "#fb9f3a"
            ],
            [
             0.8888888888888888,
             "#fdca26"
            ],
            [
             1,
             "#f0f921"
            ]
           ],
           "sequentialminus": [
            [
             0,
             "#0d0887"
            ],
            [
             0.1111111111111111,
             "#46039f"
            ],
            [
             0.2222222222222222,
             "#7201a8"
            ],
            [
             0.3333333333333333,
             "#9c179e"
            ],
            [
             0.4444444444444444,
             "#bd3786"
            ],
            [
             0.5555555555555556,
             "#d8576b"
            ],
            [
             0.6666666666666666,
             "#ed7953"
            ],
            [
             0.7777777777777778,
             "#fb9f3a"
            ],
            [
             0.8888888888888888,
             "#fdca26"
            ],
            [
             1,
             "#f0f921"
            ]
           ]
          },
          "colorway": [
           "#636efa",
           "#EF553B",
           "#00cc96",
           "#ab63fa",
           "#FFA15A",
           "#19d3f3",
           "#FF6692",
           "#B6E880",
           "#FF97FF",
           "#FECB52"
          ],
          "font": {
           "color": "#2a3f5f"
          },
          "geo": {
           "bgcolor": "white",
           "lakecolor": "white",
           "landcolor": "#E5ECF6",
           "showlakes": true,
           "showland": true,
           "subunitcolor": "white"
          },
          "hoverlabel": {
           "align": "left"
          },
          "hovermode": "closest",
          "mapbox": {
           "style": "light"
          },
          "paper_bgcolor": "white",
          "plot_bgcolor": "#E5ECF6",
          "polar": {
           "angularaxis": {
            "gridcolor": "white",
            "linecolor": "white",
            "ticks": ""
           },
           "bgcolor": "#E5ECF6",
           "radialaxis": {
            "gridcolor": "white",
            "linecolor": "white",
            "ticks": ""
           }
          },
          "scene": {
           "xaxis": {
            "backgroundcolor": "#E5ECF6",
            "gridcolor": "white",
            "gridwidth": 2,
            "linecolor": "white",
            "showbackground": true,
            "ticks": "",
            "zerolinecolor": "white"
           },
           "yaxis": {
            "backgroundcolor": "#E5ECF6",
            "gridcolor": "white",
            "gridwidth": 2,
            "linecolor": "white",
            "showbackground": true,
            "ticks": "",
            "zerolinecolor": "white"
           },
           "zaxis": {
            "backgroundcolor": "#E5ECF6",
            "gridcolor": "white",
            "gridwidth": 2,
            "linecolor": "white",
            "showbackground": true,
            "ticks": "",
            "zerolinecolor": "white"
           }
          },
          "shapedefaults": {
           "line": {
            "color": "#2a3f5f"
           }
          },
          "ternary": {
           "aaxis": {
            "gridcolor": "white",
            "linecolor": "white",
            "ticks": ""
           },
           "baxis": {
            "gridcolor": "white",
            "linecolor": "white",
            "ticks": ""
           },
           "bgcolor": "#E5ECF6",
           "caxis": {
            "gridcolor": "white",
            "linecolor": "white",
            "ticks": ""
           }
          },
          "title": {
           "x": 0.05
          },
          "xaxis": {
           "automargin": true,
           "gridcolor": "white",
           "linecolor": "white",
           "ticks": "",
           "title": {
            "standoff": 15
           },
           "zerolinecolor": "white",
           "zerolinewidth": 2
          },
          "yaxis": {
           "automargin": true,
           "gridcolor": "white",
           "linecolor": "white",
           "ticks": "",
           "title": {
            "standoff": 15
           },
           "zerolinecolor": "white",
           "zerolinewidth": 2
          }
         }
        },
        "title": {
         "text": "Total Explained Variance: 64.05%"
        },
        "xaxis": {
         "anchor": "y",
         "domain": [
          0,
          1
         ],
         "title": {
          "text": "0"
         }
        },
        "yaxis": {
         "anchor": "x",
         "domain": [
          0,
          1
         ],
         "title": {
          "text": "1"
         }
        }
       }
      }
     },
     "metadata": {},
     "output_type": "display_data"
    }
   ],
   "source": [
    "total_var = pca.explained_variance_ratio_.sum() * 100\n",
    "\n",
    "#plot principal components and clusters\n",
    "import plotly.express as px\n",
    "\n",
    "fig = px.scatter(principalcomponents,x=0, y=1,color = principalDf.clusters ,\n",
    "                        title = f'Total Explained Variance: {total_var:.2f}%')\n",
    "fig.show()"
   ]
  },
  {
   "cell_type": "markdown",
   "metadata": {},
   "source": []
  },
  {
   "cell_type": "markdown",
   "metadata": {},
   "source": [
    "### Banking Behavior Cluster"
   ]
  },
  {
   "cell_type": "markdown",
   "metadata": {},
   "source": [
    "#### Saving Account"
   ]
  },
  {
   "cell_type": "code",
   "execution_count": null,
   "metadata": {},
   "outputs": [],
   "source": []
  },
  {
   "cell_type": "code",
   "execution_count": 7,
   "metadata": {},
   "outputs": [],
   "source": [
    "df=pd.read_csv('data/twm_savings_acct.csv',sep=';')"
   ]
  },
  {
   "cell_type": "code",
   "execution_count": null,
   "metadata": {},
   "outputs": [],
   "source": []
  },
  {
   "cell_type": "markdown",
   "metadata": {},
   "source": [
    "#### Checking Account"
   ]
  },
  {
   "cell_type": "code",
   "execution_count": null,
   "metadata": {},
   "outputs": [],
   "source": [
    "df=pd.read_csv('data/twm_checking_acct.csv',sep=';')"
   ]
  },
  {
   "cell_type": "code",
   "execution_count": null,
   "metadata": {},
   "outputs": [],
   "source": []
  },
  {
   "cell_type": "markdown",
   "metadata": {},
   "source": [
    "#### Credit Account"
   ]
  },
  {
   "cell_type": "code",
   "execution_count": null,
   "metadata": {},
   "outputs": [],
   "source": [
    "df=pd.read_csv('data/twm_credit_acct.csv',sep=';')"
   ]
  },
  {
   "cell_type": "code",
   "execution_count": null,
   "metadata": {},
   "outputs": [],
   "source": []
  },
  {
   "cell_type": "markdown",
   "metadata": {},
   "source": [
    "####  Account Transaction"
   ]
  },
  {
   "cell_type": "code",
   "execution_count": null,
   "metadata": {},
   "outputs": [],
   "source": [
    "df=pd.read_csv('data/twm_checking_acct.csv',sep=';')"
   ]
  },
  {
   "cell_type": "code",
   "execution_count": null,
   "metadata": {},
   "outputs": [],
   "source": []
  },
  {
   "cell_type": "code",
   "execution_count": null,
   "metadata": {},
   "outputs": [],
   "source": []
  },
  {
   "cell_type": "code",
   "execution_count": null,
   "metadata": {},
   "outputs": [],
   "source": []
  },
  {
   "cell_type": "code",
   "execution_count": null,
   "metadata": {},
   "outputs": [],
   "source": []
  },
  {
   "cell_type": "code",
   "execution_count": null,
   "metadata": {},
   "outputs": [],
   "source": []
  },
  {
   "cell_type": "markdown",
   "metadata": {},
   "source": [
    "***Task II***:\n",
    "* visualize the created clusters using radar charts and compare them agains each other\n"
   ]
  },
  {
   "cell_type": "code",
   "execution_count": null,
   "metadata": {},
   "outputs": [],
   "source": []
  },
  {
   "cell_type": "code",
   "execution_count": null,
   "metadata": {},
   "outputs": [],
   "source": []
  },
  {
   "cell_type": "code",
   "execution_count": null,
   "metadata": {},
   "outputs": [],
   "source": []
  },
  {
   "cell_type": "markdown",
   "metadata": {},
   "source": [
    "***Task III***:\n",
    "* visualize segmentations using scatter plot. We will have to use PCA to be able to plot our observations in 2D.\n"
   ]
  },
  {
   "cell_type": "code",
   "execution_count": null,
   "metadata": {},
   "outputs": [],
   "source": []
  },
  {
   "cell_type": "code",
   "execution_count": null,
   "metadata": {},
   "outputs": [],
   "source": []
  },
  {
   "cell_type": "markdown",
   "metadata": {},
   "source": [
    "***Task IV***:\n",
    "* (stretch) visualize in 2D how our clusters are evolving in each iteration of KMeans (for at least 20 iterations).we will need to create own implementation of kmeans so we can see what is happening with the clusters during the iterations.\n"
   ]
  },
  {
   "cell_type": "code",
   "execution_count": null,
   "metadata": {},
   "outputs": [],
   "source": []
  },
  {
   "cell_type": "markdown",
   "metadata": {},
   "source": [
    "## Mini Project III"
   ]
  },
  {
   "cell_type": "code",
   "execution_count": 2,
   "metadata": {},
   "outputs": [],
   "source": [
    "import numpy as np\n",
    "import pandas as pd\n",
    "import matplotlib.pyplot as plt\n",
    "import plotly.express as px\n",
    "from sklearn.cluster import KMeans\n",
    "import plotly.graph_objects as go\n",
    "from sklearn.decomposition import PCA"
   ]
  },
  {
   "cell_type": "markdown",
   "metadata": {},
   "source": [
    "### Load data into DataFrame"
   ]
  },
  {
   "cell_type": "code",
   "execution_count": 7,
   "metadata": {},
   "outputs": [],
   "source": [
    "df=pd.read_csv('data/twm_savings_acct.csv',sep=';')"
   ]
  },
  {
   "cell_type": "code",
   "execution_count": 8,
   "metadata": {},
   "outputs": [
    {
     "data": {
      "text/html": [
       "<div>\n",
       "<style scoped>\n",
       "    .dataframe tbody tr th:only-of-type {\n",
       "        vertical-align: middle;\n",
       "    }\n",
       "\n",
       "    .dataframe tbody tr th {\n",
       "        vertical-align: top;\n",
       "    }\n",
       "\n",
       "    .dataframe thead th {\n",
       "        text-align: right;\n",
       "    }\n",
       "</style>\n",
       "<table border=\"1\" class=\"dataframe\">\n",
       "  <thead>\n",
       "    <tr style=\"text-align: right;\">\n",
       "      <th></th>\n",
       "      <th>cust_id</th>\n",
       "      <th>acct_nbr</th>\n",
       "      <th>minimum_balance</th>\n",
       "      <th>acct_type</th>\n",
       "      <th>account_active</th>\n",
       "      <th>acct_start_date</th>\n",
       "      <th>acct_end_date</th>\n",
       "      <th>starting_balance</th>\n",
       "      <th>ending_balance</th>\n",
       "    </tr>\n",
       "  </thead>\n",
       "  <tbody>\n",
       "    <tr>\n",
       "      <th>0</th>\n",
       "      <td>1363160</td>\n",
       "      <td>13631603</td>\n",
       "      <td>100</td>\n",
       "      <td>BS</td>\n",
       "      <td>Y</td>\n",
       "      <td>9.5.1988</td>\n",
       "      <td>NaN</td>\n",
       "      <td>113.04</td>\n",
       "      <td>122.54</td>\n",
       "    </tr>\n",
       "    <tr>\n",
       "      <th>1</th>\n",
       "      <td>1362487</td>\n",
       "      <td>13624873</td>\n",
       "      <td>500</td>\n",
       "      <td>MM</td>\n",
       "      <td>N</td>\n",
       "      <td>27.6.1994</td>\n",
       "      <td>25.8.1995</td>\n",
       "      <td>651.73</td>\n",
       "      <td>12.89</td>\n",
       "    </tr>\n",
       "    <tr>\n",
       "      <th>2</th>\n",
       "      <td>1362548</td>\n",
       "      <td>13625483</td>\n",
       "      <td>100</td>\n",
       "      <td>BS</td>\n",
       "      <td>Y</td>\n",
       "      <td>11.11.1986</td>\n",
       "      <td>NaN</td>\n",
       "      <td>250.24</td>\n",
       "      <td>254.02</td>\n",
       "    </tr>\n",
       "    <tr>\n",
       "      <th>3</th>\n",
       "      <td>1362752</td>\n",
       "      <td>13627523</td>\n",
       "      <td>100</td>\n",
       "      <td>BS</td>\n",
       "      <td>Y</td>\n",
       "      <td>20.2.1995</td>\n",
       "      <td>NaN</td>\n",
       "      <td>600.26</td>\n",
       "      <td>609.33</td>\n",
       "    </tr>\n",
       "    <tr>\n",
       "      <th>4</th>\n",
       "      <td>1363017</td>\n",
       "      <td>13630173</td>\n",
       "      <td>100</td>\n",
       "      <td>BS</td>\n",
       "      <td>N</td>\n",
       "      <td>27.4.1994</td>\n",
       "      <td>31.10.1995</td>\n",
       "      <td>2011.02</td>\n",
       "      <td>2901.35</td>\n",
       "    </tr>\n",
       "  </tbody>\n",
       "</table>\n",
       "</div>"
      ],
      "text/plain": [
       "   cust_id  acct_nbr  minimum_balance acct_type account_active  \\\n",
       "0  1363160  13631603              100      BS               Y    \n",
       "1  1362487  13624873              500      MM               N    \n",
       "2  1362548  13625483              100      BS               Y    \n",
       "3  1362752  13627523              100      BS               Y    \n",
       "4  1363017  13630173              100      BS               N    \n",
       "\n",
       "  acct_start_date acct_end_date  starting_balance  ending_balance  \n",
       "0        9.5.1988           NaN            113.04          122.54  \n",
       "1       27.6.1994     25.8.1995            651.73           12.89  \n",
       "2      11.11.1986           NaN            250.24          254.02  \n",
       "3       20.2.1995           NaN            600.26          609.33  \n",
       "4       27.4.1994    31.10.1995           2011.02         2901.35  "
      ]
     },
     "execution_count": 8,
     "metadata": {},
     "output_type": "execute_result"
    }
   ],
   "source": [
    "df.head()"
   ]
  },
  {
   "cell_type": "code",
   "execution_count": null,
   "metadata": {},
   "outputs": [],
   "source": [
    "df=pd.read_csv('data/twm_savings_acct.csv',sep=';')"
   ]
  }
 ],
 "metadata": {
  "kernelspec": {
   "display_name": "Python 3.9.7 ('base')",
   "language": "python",
   "name": "python3"
  },
  "language_info": {
   "codemirror_mode": {
    "name": "ipython",
    "version": 3
   },
   "file_extension": ".py",
   "mimetype": "text/x-python",
   "name": "python",
   "nbconvert_exporter": "python",
   "pygments_lexer": "ipython3",
   "version": "3.9.7"
  },
  "vscode": {
   "interpreter": {
    "hash": "7175d24e610fc2de1090716cf470bf93585f23d21501c1bfbd9e00491f320807"
   }
  }
 },
 "nbformat": 4,
 "nbformat_minor": 4
}
